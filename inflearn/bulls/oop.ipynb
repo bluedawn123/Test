{
 "cells": [
  {
   "cell_type": "code",
   "execution_count": 1,
   "source": [
    "class Bike:      #속성과 기능\r\n",
    "    def __init__(self):           #속성 : __init__ 매서드\r\n",
    "        self.color = 'black'\r\n",
    "        self.weight = 3\r\n",
    "    \r\n",
    "    def drive(self):              #기능 : 함수의 기능과 동일\r\n",
    "        print('drive')\r\n",
    "\r\n",
    "    def drive(self):              #기능 \r\n",
    "        print('brake')\r\n",
    "    \r\n",
    "    def drive(self):              #기능 \r\n",
    "        print('gear')\r\n",
    "\r\n",
    "mybike = Bike()       #변수에 저장\r\n",
    "print(mybike.color)   #black"
   ],
   "outputs": [
    {
     "output_type": "stream",
     "name": "stdout",
     "text": [
      "black\n"
     ]
    }
   ],
   "metadata": {}
  },
  {
   "cell_type": "code",
   "execution_count": 8,
   "source": [
    "class PayGildong:\r\n",
    "    def __init__(self):             #__init__매서드 => 객체 생성 매소드\r\n",
    "        self.day = 25               #외부에서 접근 가능(public)\r\n",
    "        self.__money = 10000        #외부에서 접근 불가능(private)\r\n",
    "\r\n",
    "    def changeMoney(self, money):   #money를 변경할 수 있는 매소드\r\n",
    "        self.__money =  money\r\n",
    "    \r\n",
    "    def getMoney(self): \r\n",
    "        return self.__money         #돈을 return(흔적을 남겨주는) getMoney매소드\r\n",
    "\r\n",
    "gildong = PayGildong()\r\n",
    "print(gildong.day)         #25\r\n",
    "\r\n",
    "#print(gildong.__money)    #접근 불가\r\n",
    "\r\n",
    "print(gildong.getMoney())   #10000\r\n",
    "\r\n",
    "#액수를 바꾸고 싶음\r\n",
    "gildong.changeMoney(3000)\r\n",
    "print(gildong.getMoney())   #3000\r\n"
   ],
   "outputs": [
    {
     "output_type": "stream",
     "name": "stdout",
     "text": [
      "25\n",
      "10000\n",
      "3000\n"
     ]
    }
   ],
   "metadata": {}
  },
  {
   "cell_type": "code",
   "execution_count": 9,
   "source": [
    "#self ??  =? 객체 그 자신\r\n",
    "\r\n",
    "class Student:\r\n",
    "    \r\n",
    "    doubleMajor = []\r\n",
    "\r\n",
    "    def __init__(self, name, age, gender, major):\r\n",
    "        self.name = name           #내가 만든 객체의 이름\r\n",
    "        self.age = age             #내가 만든 객체의 나이\r\n",
    "        self.gender = gender       #내가 만든 객체의 성\r\n",
    "        self.major = major         #내가 만든 객체의 이름 전공\r\n",
    "\r\n",
    "    def printStudentInfo(self):\r\n",
    "        print(\"name : {0}\".format(self.name))\r\n",
    "        print(\"age : {0}\".format(self.age))\r\n",
    "        print(\"gender : {0}\".format(self.gender))\r\n",
    "        print(\"major : {0}\".format(self.major))\r\n",
    "\r\n",
    "gildong = Student('hong gildong', 20, 'm', '컴공')   #객체 생성\r\n",
    "                                                    #매개변수는 4개\r\n",
    "\r\n",
    "suzi = Student('lee suzi', 25, 'w', '연극')\r\n",
    "\r\n",
    "gildong.printStudentInfo()\r\n",
    "suzi.printStudentInfo()"
   ],
   "outputs": [
    {
     "output_type": "stream",
     "name": "stdout",
     "text": [
      "name : hong gildong\n",
      "age : 20\n",
      "gender : m\n",
      "major : 컴공\n",
      "name : lee suzi\n",
      "age : 25\n",
      "gender : w\n",
      "major : 연극\n"
     ]
    }
   ],
   "metadata": {}
  },
  {
   "cell_type": "code",
   "execution_count": 22,
   "source": [
    "#객체 생성 매소드 => __name__() : 메모리에 객체를 탑제해주는 매소드\r\n",
    "#초기화 매소드 => __init__()    : 생성된 매소드 안에 속성, 기능을 초기화시켜주는 매소드\r\n",
    "\r\n",
    "class Student:\r\n",
    "\r\n",
    "    #doubleMajor = []  #모든 객체에 공유되는 속성\r\n",
    "    \r\n",
    "    def __init__(self, name, age, gender, major):\r\n",
    "        self.name = name           #내가 만든 객체의 이름\r\n",
    "        self.age = age             #내가 만든 객체의 나이\r\n",
    "        self.gender = gender       #내가 만든 객체의 성\r\n",
    "        self.major = major         #내가 만든 객체의 이름 전공\r\n",
    "        self.doubleMajor = []\r\n",
    "\r\n",
    "\r\n",
    "    def printStudentInfo(self):\r\n",
    "        print(\"name : {0}\".format(self.name))\r\n",
    "        print(\"age : {0}\".format(self.age))\r\n",
    "        print(\"gender : {0}\".format(self.gender))\r\n",
    "        print(\"major : {0}\".format(self.major))\r\n",
    "        print(\"관심항목 : {0}\".format(self.doubleMajor))\r\n",
    "\r\n",
    "    def setDoubleMajor(self, doubleMajor):\r\n",
    "        self.doubleMajor.append(doubleMajor)\r\n",
    "\r\n",
    "gildong = Student('hong gildong', 20, 'm', '컴공')  #객체 생성\r\n",
    "                                                    #매개변수는 4개\r\n",
    "\r\n",
    "gildong.setDoubleMajor('국문학')\r\n",
    "gildong.setDoubleMajor('준호학')\r\n",
    "gildong.printStudentInfo()\r\n",
    "\r\n",
    "suzi = Student('lee suzi', 25, 'w', '연극')\r\n",
    "suzi.setDoubleMajor('심리학')\r\n",
    "suzi.printStudentInfo()      #관심항목 : ['국문학', '심리학']. \r\n",
    "\r\n"
   ],
   "outputs": [
    {
     "output_type": "stream",
     "name": "stdout",
     "text": [
      "name : hong gildong\n",
      "age : 20\n",
      "gender : m\n",
      "major : 컴공\n",
      "관심항목 : ['국문학', '준호학']\n",
      "name : lee suzi\n",
      "age : 25\n",
      "gender : w\n",
      "major : 연극\n",
      "관심항목 : ['심리학']\n"
     ]
    }
   ],
   "metadata": {}
  },
  {
   "cell_type": "code",
   "execution_count": null,
   "source": [
    "#정적 메소드와 클래스 매소드\r\n",
    "\r\n"
   ],
   "outputs": [],
   "metadata": {}
  }
 ],
 "metadata": {
  "orig_nbformat": 4,
  "language_info": {
   "name": "python",
   "version": "3.8.8",
   "mimetype": "text/x-python",
   "codemirror_mode": {
    "name": "ipython",
    "version": 3
   },
   "pygments_lexer": "ipython3",
   "nbconvert_exporter": "python",
   "file_extension": ".py"
  },
  "kernelspec": {
   "name": "python3",
   "display_name": "Python 3.8.8 64-bit ('base': conda)"
  },
  "interpreter": {
   "hash": "fa422f78b08b4ed23ea77d9d51ba71e035ebabb7673f323e99ba8b680a1634b6"
  }
 },
 "nbformat": 4,
 "nbformat_minor": 2
}