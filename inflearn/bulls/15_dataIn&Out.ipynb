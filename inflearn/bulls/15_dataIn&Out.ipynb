{
 "cells": [
  {
   "cell_type": "code",
   "execution_count": null,
   "source": [
    "'''\r\n",
    "열기         =>파일객체 = open(파일이름, 파일 열기 모드)\r\n",
    " \r\n",
    "읽기or쓰기   =>파일객체.write()\r\n",
    "              파일객체.read()\r\n",
    " \r\n",
    "닫기         =>파일객체.close()\r\n",
    "'''"
   ],
   "outputs": [],
   "metadata": {}
  }
 ],
 "metadata": {
  "orig_nbformat": 4,
  "language_info": {
   "name": "python"
  }
 },
 "nbformat": 4,
 "nbformat_minor": 2
}