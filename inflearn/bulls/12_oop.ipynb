{
 "cells": [
  {
   "cell_type": "code",
   "execution_count": 1,
   "source": [
    "class Bike:      #속성과 기능\r\n",
    "    def __init__(self):           #속성 : __init__ 매서드\r\n",
    "        self.color = 'black'\r\n",
    "        self.weight = 3\r\n",
    "    \r\n",
    "    def drive(self):              #기능 : 함수의 기능과 동일\r\n",
    "        print('drive')\r\n",
    "\r\n",
    "    def drive(self):              #기능 \r\n",
    "        print('brake')\r\n",
    "    \r\n",
    "    def drive(self):              #기능 \r\n",
    "        print('gear')\r\n",
    "\r\n",
    "mybike = Bike()       #변수에 저장\r\n",
    "print(mybike.color)   #black"
   ],
   "outputs": [
    {
     "output_type": "stream",
     "name": "stdout",
     "text": [
      "black\n"
     ]
    }
   ],
   "metadata": {}
  },
  {
   "cell_type": "code",
   "execution_count": 8,
   "source": [
    "class PayGildong:\r\n",
    "    def __init__(self):             #__init__매서드 => 객체 생성 매소드\r\n",
    "        self.day = 25               #외부에서 접근 가능(public)\r\n",
    "        self.__money = 10000        #외부에서 접근 불가능(private)\r\n",
    "\r\n",
    "    def changeMoney(self, money):   #money를 변경할 수 있는 매소드\r\n",
    "        self.__money =  money\r\n",
    "    \r\n",
    "    def getMoney(self): \r\n",
    "        return self.__money         #돈을 return(흔적을 남겨주는) getMoney매소드\r\n",
    "\r\n",
    "gildong = PayGildong()\r\n",
    "print(gildong.day)         #25\r\n",
    "\r\n",
    "#print(gildong.__money)    #접근 불가\r\n",
    "\r\n",
    "print(gildong.getMoney())   #10000\r\n",
    "\r\n",
    "#액수를 바꾸고 싶음\r\n",
    "gildong.changeMoney(3000)\r\n",
    "print(gildong.getMoney())   #3000\r\n"
   ],
   "outputs": [
    {
     "output_type": "stream",
     "name": "stdout",
     "text": [
      "25\n",
      "10000\n",
      "3000\n"
     ]
    }
   ],
   "metadata": {}
  },
  {
   "cell_type": "code",
   "execution_count": 9,
   "source": [
    "#self ??  =? 객체 그 자신\r\n",
    "\r\n",
    "class Student:\r\n",
    "    \r\n",
    "    doubleMajor = []\r\n",
    "\r\n",
    "    def __init__(self, name, age, gender, major):\r\n",
    "        self.name = name           #내가 만든 객체의 이름\r\n",
    "        self.age = age             #내가 만든 객체의 나이\r\n",
    "        self.gender = gender       #내가 만든 객체의 성\r\n",
    "        self.major = major         #내가 만든 객체의 이름 전공\r\n",
    "\r\n",
    "    def printStudentInfo(self):\r\n",
    "        print(\"name : {0}\".format(self.name))\r\n",
    "        print(\"age : {0}\".format(self.age))\r\n",
    "        print(\"gender : {0}\".format(self.gender))\r\n",
    "        print(\"major : {0}\".format(self.major))\r\n",
    "\r\n",
    "gildong = Student('hong gildong', 20, 'm', '컴공')   #객체 생성\r\n",
    "                                                    #매개변수는 4개\r\n",
    "\r\n",
    "suzi = Student('lee suzi', 25, 'w', '연극')\r\n",
    "\r\n",
    "gildong.printStudentInfo()\r\n",
    "suzi.printStudentInfo()"
   ],
   "outputs": [
    {
     "output_type": "stream",
     "name": "stdout",
     "text": [
      "name : hong gildong\n",
      "age : 20\n",
      "gender : m\n",
      "major : 컴공\n",
      "name : lee suzi\n",
      "age : 25\n",
      "gender : w\n",
      "major : 연극\n"
     ]
    }
   ],
   "metadata": {}
  },
  {
   "cell_type": "code",
   "execution_count": 22,
   "source": [
    "#객체 생성 매소드 => __name__() : 메모리에 객체를 탑제해주는 매소드\r\n",
    "#초기화 매소드 => __init__()    : 생성된 매소드 안에 속성, 기능을 초기화시켜주는 매소드\r\n",
    "\r\n",
    "class Student:\r\n",
    "\r\n",
    "    #doubleMajor = []  #모든 객체에 공유되는 속성\r\n",
    "    \r\n",
    "    def __init__(self, name, age, gender, major):\r\n",
    "        self.name = name           #내가 만든 객체의 이름\r\n",
    "        self.age = age             #내가 만든 객체의 나이\r\n",
    "        self.gender = gender       #내가 만든 객체의 성\r\n",
    "        self.major = major         #내가 만든 객체의 이름 전공\r\n",
    "        self.doubleMajor = []\r\n",
    "\r\n",
    "\r\n",
    "    def printStudentInfo(self):\r\n",
    "        print(\"name : {0}\".format(self.name))\r\n",
    "        print(\"age : {0}\".format(self.age))\r\n",
    "        print(\"gender : {0}\".format(self.gender))\r\n",
    "        print(\"major : {0}\".format(self.major))\r\n",
    "        print(\"관심항목 : {0}\".format(self.doubleMajor))\r\n",
    "\r\n",
    "    def setDoubleMajor(self, doubleMajor):\r\n",
    "        self.doubleMajor.append(doubleMajor)\r\n",
    "\r\n",
    "gildong = Student('hong gildong', 20, 'm', '컴공')  #객체 생성\r\n",
    "                                                    #매개변수는 4개\r\n",
    "\r\n",
    "gildong.setDoubleMajor('국문학')\r\n",
    "gildong.setDoubleMajor('준호학')\r\n",
    "gildong.printStudentInfo()\r\n",
    "\r\n",
    "suzi = Student('lee suzi', 25, 'w', '연극')\r\n",
    "suzi.setDoubleMajor('심리학')\r\n",
    "suzi.printStudentInfo()      #관심항목 : ['국문학', '심리학']. \r\n",
    "\r\n"
   ],
   "outputs": [
    {
     "output_type": "stream",
     "name": "stdout",
     "text": [
      "name : hong gildong\n",
      "age : 20\n",
      "gender : m\n",
      "major : 컴공\n",
      "관심항목 : ['국문학', '준호학']\n",
      "name : lee suzi\n",
      "age : 25\n",
      "gender : w\n",
      "major : 연극\n",
      "관심항목 : ['심리학']\n"
     ]
    }
   ],
   "metadata": {}
  },
  {
   "cell_type": "code",
   "execution_count": 23,
   "source": [
    "#정적 메소드와 클래스 매소드 => 생략\r\n",
    "\r\n"
   ],
   "outputs": [],
   "metadata": {}
  },
  {
   "cell_type": "code",
   "execution_count": 24,
   "source": [
    "#상속 : 부모 클래스의 속성, 기능을 자식 클래스가 사용\r\n",
    "#1. 기능만 가져오는 경우\r\n",
    "class ParentClass:\r\n",
    "    def __init__(self):\r\n",
    "        pass\r\n",
    "\r\n",
    "    def printMethod(self):\r\n",
    "        print(\"hello world\")\r\n",
    "\r\n",
    "class childClass(ParentClass):\r\n",
    "    def __init__(self):\r\n",
    "        pass\r\n",
    "\r\n",
    "childCls = childClass()\r\n",
    "childCls.printMethod()   #hello world"
   ],
   "outputs": [
    {
     "output_type": "stream",
     "name": "stdout",
     "text": [
      "hello world\n"
     ]
    }
   ],
   "metadata": {}
  },
  {
   "cell_type": "code",
   "execution_count": 29,
   "source": [
    "#2. 속성, 기능 다 갖고 오는 경우\r\n",
    "class ParentClass:\r\n",
    "    def __init__(self):\r\n",
    "        self.at1 = 'python'\r\n",
    "        self.at2 = 'java'\r\n",
    "        self.at3 = 'c'\r\n",
    "\r\n",
    "\r\n",
    "    def printAt(self):\r\n",
    "        print(self.at1)\r\n",
    "        print(self.at2)\r\n",
    "        print(self.at3)\r\n",
    "\r\n",
    "\r\n",
    "class ChildClass(ParentClass):  #부모클래스의 __init__은 매소드가 호출되지 않는다. (접근 불가) 그럴때는 강제적으로 호출을 하면 된다.\r\n",
    "    def __init__(self):              #1. 인터프리터에서 자동 호출\r\n",
    "        ParentClass.__init__(self)   #2. 강제적으로 호출돼서 메모리에 탑제..    클래스이름.__init__(self,  etc...)\r\n",
    "        pass\r\n",
    "\r\n",
    "childClass = ChildClass()\r\n",
    "childClass.printAt()   \r\n",
    "#python\r\n",
    "#java\r\n",
    "#c"
   ],
   "outputs": [
    {
     "output_type": "stream",
     "name": "stdout",
     "text": [
      "python\n",
      "java\n",
      "c\n"
     ]
    }
   ],
   "metadata": {}
  },
  {
   "cell_type": "code",
   "execution_count": 30,
   "source": [
    "#오버라이딩 \": 부모클래스의 기능을 자식 클래스에서 재정의\r\n",
    "class ParentCls:\r\n",
    "    def __init__(self):\r\n",
    "        pass\r\n",
    "\r\n",
    "    def cooking(self):\r\n",
    "        print(\"make pizza\")\r\n",
    "\r\n",
    "class ChildCls(ParentCls):\r\n",
    "    def __init__(self):\r\n",
    "        pass\r\n",
    "\r\n",
    "    def cooking(self):\r\n",
    "        print(\"make pasta\")\r\n",
    "\r\n",
    "childCls = ChildCls()\r\n",
    "childCls.cooking()        #make pasta\r\n",
    "\r\n"
   ],
   "outputs": [
    {
     "output_type": "stream",
     "name": "stdout",
     "text": [
      "make pasta\n"
     ]
    }
   ],
   "metadata": {}
  },
  {
   "cell_type": "code",
   "execution_count": 33,
   "source": [
    "#다중 상속 : 자식 클래스에서 부모 클래스를 상속가능\r\n",
    "class P1:\r\n",
    "    def __call__(self):\r\n",
    "        pass\r\n",
    "\r\n",
    "    def method1(self):\r\n",
    "        print(\"1\")\r\n",
    "\r\n",
    "class P2:\r\n",
    "    def __call__(self):\r\n",
    "        pass\r\n",
    "\r\n",
    "    def method2(self):\r\n",
    "        print(\"2\")\r\n",
    "\r\n",
    "class P3:\r\n",
    "    def __call__(self):\r\n",
    "        pass\r\n",
    "\r\n",
    "    def method3(self):\r\n",
    "        print(\"3\")\r\n",
    "\r\n",
    "class C(P1, P2, P3):\r\n",
    "    def __init__(self):\r\n",
    "        pass\r\n",
    "\r\n",
    "childCls = C()\r\n",
    "childCls.method1()  #1\r\n",
    "childCls.method2()  #2\r\n",
    "childCls.method3()  #3\r\n",
    "    \r\n",
    "\r\n"
   ],
   "outputs": [
    {
     "output_type": "stream",
     "name": "stdout",
     "text": [
      "1\n",
      "2\n",
      "3\n"
     ]
    }
   ],
   "metadata": {}
  },
  {
   "cell_type": "code",
   "execution_count": 34,
   "source": [
    "#추상 클래스 : 자식 클래스에서 반듯이 구현해야하는 기능을 가진 부모클래스 \\\r\n",
    "#@abstractmethod가 붙어있으면 반드시 구현해야한다.\r\n",
    "\r\n",
    "from abc import ABCMeta\r\n",
    "from abc import abstractmethod\r\n",
    "\r\n",
    "class Calculator(methclass=ABCMeta):  #필수\r\n",
    "    def __init__(self): \r\n",
    "        pass\r\n",
    "\r\n",
    "    @abstractmethod\r\n",
    "    def add(self):\r\n",
    "        pass\r\n",
    "\r\n",
    "    @abstractmethod\r\n",
    "    def sub(self):\r\n",
    "        pass\r\n",
    "\r\n",
    "\r\n",
    "class smartCal(Calculator):\r\n",
    "    def __init__(self):\r\n",
    "        pass\r\n",
    "\r\n",
    "    def add(self):              #구현필수\r\n",
    "        print(\"add methond\")   \r\n",
    "\r\n",
    "    def sub(self):              #구현필수\r\n",
    "        print(\"sub method\")\r\n",
    "\r\n",
    "smartCal = smartCal()\r\n",
    "smartCal.add()\r\n",
    "smartCal.sub()\r\n"
   ],
   "outputs": [
    {
     "output_type": "error",
     "ename": "TypeError",
     "evalue": "__init_subclass__() takes no keyword arguments",
     "traceback": [
      "\u001b[1;31m---------------------------------------------------------------------------\u001b[0m",
      "\u001b[1;31mTypeError\u001b[0m                                 Traceback (most recent call last)",
      "\u001b[1;32m<ipython-input-34-734879cfc39c>\u001b[0m in \u001b[0;36m<module>\u001b[1;34m\u001b[0m\n\u001b[0;32m      5\u001b[0m \u001b[1;32mfrom\u001b[0m \u001b[0mabc\u001b[0m \u001b[1;32mimport\u001b[0m \u001b[0mabstractmethod\u001b[0m\u001b[1;33m\u001b[0m\u001b[1;33m\u001b[0m\u001b[0m\n\u001b[0;32m      6\u001b[0m \u001b[1;33m\u001b[0m\u001b[0m\n\u001b[1;32m----> 7\u001b[1;33m \u001b[1;32mclass\u001b[0m \u001b[0mCalculator\u001b[0m\u001b[1;33m(\u001b[0m\u001b[0mmethclass\u001b[0m\u001b[1;33m=\u001b[0m\u001b[0mABCMeta\u001b[0m\u001b[1;33m)\u001b[0m\u001b[1;33m:\u001b[0m\u001b[1;33m\u001b[0m\u001b[1;33m\u001b[0m\u001b[0m\n\u001b[0m\u001b[0;32m      8\u001b[0m     \u001b[1;32mdef\u001b[0m \u001b[0m__init__\u001b[0m\u001b[1;33m(\u001b[0m\u001b[0mself\u001b[0m\u001b[1;33m)\u001b[0m\u001b[1;33m:\u001b[0m\u001b[1;33m\u001b[0m\u001b[1;33m\u001b[0m\u001b[0m\n\u001b[0;32m      9\u001b[0m         \u001b[1;32mpass\u001b[0m\u001b[1;33m\u001b[0m\u001b[1;33m\u001b[0m\u001b[0m\n",
      "\u001b[1;31mTypeError\u001b[0m: __init_subclass__() takes no keyword arguments"
     ]
    }
   ],
   "metadata": {}
  },
  {
   "cell_type": "code",
   "execution_count": 35,
   "source": [
    "#super() : 부모 클래스의 객체를 가르킨다.\r\n",
    "\r\n",
    "#2. 속성, 기능 다 갖고 오는 경우\r\n",
    "class ParentClass:\r\n",
    "    def __init__(self):\r\n",
    "        self.at1 = 'python'\r\n",
    "        self.at2 = 'java'\r\n",
    "        self.at3 = 'c'\r\n",
    "\r\n",
    "\r\n",
    "    def printAt(self):\r\n",
    "        print(self.at1)\r\n",
    "        print(self.at2)\r\n",
    "        print(self.at3)\r\n",
    "\r\n",
    "\r\n",
    "class ChildClass(ParentClass):       #부모클래스의 __init__은 매소드가 호출되지 않는다. (접근 불가) 그럴때는 강제적으로 호출을 하면 된다.\r\n",
    "    def __init__(self):              #1. 인터프리터에서 자동 호출\r\n",
    "        super().__init__()           #ParentClass.__init__(self)  이거 대신 쓴다고 생각, 그리고 __init__(self)에서 self가 없다\r\n",
    "        pass\r\n",
    "\r\n",
    "childClass = ChildClass()\r\n",
    "childClass.printAt()   \r\n",
    "#python\r\n",
    "#java\r\n",
    "#c"
   ],
   "outputs": [
    {
     "output_type": "stream",
     "name": "stdout",
     "text": [
      "python\n",
      "java\n",
      "c\n"
     ]
    }
   ],
   "metadata": {}
  },
  {
   "cell_type": "code",
   "execution_count": null,
   "source": [],
   "outputs": [],
   "metadata": {}
  }
 ],
 "metadata": {
  "orig_nbformat": 4,
  "language_info": {
   "name": "python",
   "version": "3.8.8",
   "mimetype": "text/x-python",
   "codemirror_mode": {
    "name": "ipython",
    "version": 3
   },
   "pygments_lexer": "ipython3",
   "nbconvert_exporter": "python",
   "file_extension": ".py"
  },
  "kernelspec": {
   "name": "python3",
   "display_name": "Python 3.8.8 64-bit ('base': conda)"
  },
  "interpreter": {
   "hash": "fa422f78b08b4ed23ea77d9d51ba71e035ebabb7673f323e99ba8b680a1634b6"
  }
 },
 "nbformat": 4,
 "nbformat_minor": 2
}