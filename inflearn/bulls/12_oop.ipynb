{
 "cells": [
  {
   "cell_type": "code",
   "execution_count": 3,
   "metadata": {},
   "outputs": [
    {
     "name": "stdout",
     "output_type": "stream",
     "text": [
      "black\n",
      "drive\n"
     ]
    }
   ],
   "source": [
    "class Bike:      #속성과 기능\n",
    "    def __init__(self):           #속성 : __init__ 매서드\n",
    "        self.color = 'black'\n",
    "        self.weight = 3\n",
    "    \n",
    "    def drive(self):              #기능 : 함수의 기능과 동일\n",
    "        print('drive')\n",
    "\n",
    "    def brake(self):              #기능 \n",
    "        print('brake')\n",
    "    \n",
    "    def gear(self):              #기능 \n",
    "        print('gear')\n",
    "\n",
    "mybike = Bike()       #변수에 저장\n",
    "print(mybike.color)   #black\n",
    "mybike.drive()"
   ]
  },
  {
   "cell_type": "code",
   "execution_count": 8,
   "metadata": {},
   "outputs": [
    {
     "name": "stdout",
     "output_type": "stream",
     "text": [
      "25\n",
      "10000\n",
      "3000\n"
     ]
    }
   ],
   "source": [
    "class PayGildong:\n",
    "    def __init__(self):             #__init__매서드 => 객체 생성 매소드\n",
    "        self.day = 25               #외부에서 접근 가능(public)\n",
    "        self.__money = 10000        #외부에서 접근 불가능(private)\n",
    "\n",
    "    def changeMoney(self, money):   #money를 변경할 수 있는 매소드\n",
    "        self.__money =  money\n",
    "    \n",
    "    def getMoney(self): \n",
    "        return self.__money         #돈을 return(흔적을 남겨주는) getMoney매소드\n",
    "\n",
    "gildong = PayGildong()\n",
    "print(gildong.day)         #25\n",
    "\n",
    "#print(gildong.__money)    #접근 불가\n",
    "\n",
    "print(gildong.getMoney())   #10000\n",
    "\n",
    "#액수를 바꾸고 싶음\n",
    "gildong.changeMoney(3000)\n",
    "print(gildong.getMoney())   #3000\n"
   ]
  },
  {
   "cell_type": "code",
   "execution_count": 9,
   "metadata": {},
   "outputs": [
    {
     "name": "stdout",
     "output_type": "stream",
     "text": [
      "name : hong gildong\n",
      "age : 20\n",
      "gender : m\n",
      "major : 컴공\n",
      "name : lee suzi\n",
      "age : 25\n",
      "gender : w\n",
      "major : 연극\n"
     ]
    }
   ],
   "source": [
    "#self ??  =? 객체 그 자신\n",
    "\n",
    "class Student:\n",
    "    \n",
    "    doubleMajor = []\n",
    "\n",
    "    def __init__(self, name, age, gender, major):\n",
    "        self.name = name           #내가 만든 객체의 이름\n",
    "        self.age = age             #내가 만든 객체의 나이\n",
    "        self.gender = gender       #내가 만든 객체의 성\n",
    "        self.major = major         #내가 만든 객체의 이름 전공\n",
    "\n",
    "    def printStudentInfo(self):\n",
    "        print(\"name : {0}\".format(self.name))\n",
    "        print(\"age : {0}\".format(self.age))\n",
    "        print(\"gender : {0}\".format(self.gender))\n",
    "        print(\"major : {0}\".format(self.major))\n",
    "\n",
    "gildong = Student('hong gildong', 20, 'm', '컴공')   #객체 생성\n",
    "                                                    #매개변수는 4개\n",
    "\n",
    "suzi = Student('lee suzi', 25, 'w', '연극')\n",
    "\n",
    "gildong.printStudentInfo()\n",
    "suzi.printStudentInfo()"
   ]
  },
  {
   "cell_type": "code",
   "execution_count": 12,
   "metadata": {},
   "outputs": [
    {
     "name": "stdout",
     "output_type": "stream",
     "text": [
      "name : hong gildong\n",
      "age : 20\n",
      "gender : m\n",
      "major : 컴공\n",
      "관심항목 : ['국문학', '준호학']\n",
      "name : lee suzi\n",
      "age : 25\n",
      "gender : w\n",
      "major : 연극\n",
      "관심항목 : ['심리학']\n"
     ]
    }
   ],
   "source": [
    "#객체 생성 매소드 => __name__() : 메모리에 객체를 탑제해주는 매소드\n",
    "#초기화 매소드 => __init__()    : 생성된 매소드 안에 속성, 기능을 초기화시켜주는 매소드\n",
    "\n",
    "class Student:\n",
    "\n",
    "    #doubleMajor = []  #모든 객체에 공유되는 속성  ==> 클래스 메소도. 객체 생성 전 클래스에 존재이며 모든 객체에 공유된다.\n",
    "    \n",
    "    def __init__(self, name, age, gender, major):\n",
    "        self.name = name           #내가 만든 객체의 이름\n",
    "        self.age = age             #내가 만든 객체의 나이\n",
    "        self.gender = gender       #내가 만든 객체의 성\n",
    "        self.major = major         #내가 만든 객체의 이름 전공\n",
    "                                   #여기까지는 속성은 인스턴스 메소드(속성)\n",
    "\n",
    "        self.doubleMajor = []      #초기화함수에서 지정을 안해주고 다른 곳에서 지정한 것을 리스트형으로 담는다.\n",
    "\n",
    "\n",
    "    def printStudentInfo(self):\n",
    "        print(\"name : {0}\".format(self.name))\n",
    "        print(\"age : {0}\".format(self.age))\n",
    "        print(\"gender : {0}\".format(self.gender))\n",
    "        print(\"major : {0}\".format(self.major))\n",
    "        print(\"관심항목 : {0}\".format(self.doubleMajor))\n",
    "\n",
    "    def setDoubleMajor(self, doubleMajor):\n",
    "        self.doubleMajor.append(doubleMajor)  #여기서 doubleMajor를 담음\n",
    "\n",
    "gildong = Student('hong gildong', 20, 'm', '컴공')  #객체 생성\n",
    "                                                    #매개변수는 4개\n",
    "\n",
    "gildong.setDoubleMajor('국문학')\n",
    "gildong.setDoubleMajor('준호학')\n",
    "gildong.printStudentInfo()\n",
    "\n",
    "suzi = Student('lee suzi', 25, 'w', '연극')\n",
    "suzi.setDoubleMajor('심리학')\n",
    "suzi.printStudentInfo()      #관심항목 : ['국문학', '심리학']. \n",
    "\n"
   ]
  },
  {
   "cell_type": "code",
   "execution_count": 23,
   "metadata": {},
   "outputs": [],
   "source": [
    "#정적 메소드와 클래스 매소드 => 생략\n",
    "\n"
   ]
  },
  {
   "cell_type": "code",
   "execution_count": 24,
   "metadata": {},
   "outputs": [
    {
     "name": "stdout",
     "output_type": "stream",
     "text": [
      "hello world\n"
     ]
    }
   ],
   "source": [
    "#상속 : 부모 클래스의 속성, 기능을 자식 클래스가 사용\n",
    "#1. 기능만 가져오는 경우\n",
    "class ParentClass:\n",
    "    def __init__(self):\n",
    "        pass\n",
    "\n",
    "    def printMethod(self):\n",
    "        print(\"hello world\")\n",
    "\n",
    "class childClass(ParentClass):\n",
    "    def __init__(self):\n",
    "        pass\n",
    "\n",
    "childCls = childClass()\n",
    "childCls.printMethod()   #hello world"
   ]
  },
  {
   "cell_type": "code",
   "execution_count": 29,
   "metadata": {},
   "outputs": [
    {
     "name": "stdout",
     "output_type": "stream",
     "text": [
      "python\n",
      "java\n",
      "c\n"
     ]
    }
   ],
   "source": [
    "#2. 속성, 기능 다 갖고 오는 경우\n",
    "class ParentClass:\n",
    "    def __init__(self):\n",
    "        self.at1 = 'python'\n",
    "        self.at2 = 'java'\n",
    "        self.at3 = 'c'\n",
    "\n",
    "\n",
    "    def printAt(self):\n",
    "        print(self.at1)\n",
    "        print(self.at2)\n",
    "        print(self.at3)\n",
    "\n",
    "\n",
    "class ChildClass(ParentClass):  #부모클래스의 __init__은 매소드가 호출되지 않는다. 3번처럼(접근 불가) 그럴때는 강제적으로 호출을 하면 된다.\n",
    "    def __init__(self):              #1. 인터프리터에서 자동 호출(필수)\n",
    "                                     \n",
    "        ParentClass.__init__(self)   #2. 강제적으로 호출돼서 메모리에 탑제..    클래스이름.__init__(self,  etc...)\n",
    "                                     #3. 여기서 Parentclass의 init메소드 호출\n",
    "        pass\n",
    "\n",
    "childClass = ChildClass()\n",
    "childClass.printAt()   \n",
    "#python\n",
    "#java\n",
    "#c"
   ]
  },
  {
   "cell_type": "code",
   "execution_count": 30,
   "metadata": {},
   "outputs": [
    {
     "name": "stdout",
     "output_type": "stream",
     "text": [
      "make pasta\n"
     ]
    }
   ],
   "source": [
    "#오버라이딩 \": 부모클래스의 기능을 자식 클래스에서 재정의\n",
    "class ParentCls:\n",
    "    def __init__(self):\n",
    "        pass\n",
    "\n",
    "    def cooking(self):\n",
    "        print(\"make pizza\")\n",
    "\n",
    "class ChildCls(ParentCls):\n",
    "    def __init__(self):\n",
    "        pass\n",
    "\n",
    "    def cooking(self):\n",
    "        print(\"make pasta\")\n",
    "\n",
    "childCls = ChildCls()\n",
    "childCls.cooking()        #make pasta\n",
    "\n"
   ]
  },
  {
   "cell_type": "code",
   "execution_count": 33,
   "metadata": {},
   "outputs": [
    {
     "name": "stdout",
     "output_type": "stream",
     "text": [
      "1\n",
      "2\n",
      "3\n"
     ]
    }
   ],
   "source": [
    "#다중 상속 : 자식 클래스에서 부모 클래스를 상속가능\n",
    "class P1:\n",
    "    def __call__(self):\n",
    "        pass\n",
    "\n",
    "    def method1(self):\n",
    "        print(\"1\")\n",
    "\n",
    "class P2:\n",
    "    def __call__(self):\n",
    "        pass\n",
    "\n",
    "    def method2(self):\n",
    "        print(\"2\")\n",
    "\n",
    "class P3:\n",
    "    def __call__(self):\n",
    "        pass\n",
    "\n",
    "    def method3(self):\n",
    "        print(\"3\")\n",
    "\n",
    "class C(P1, P2, P3):\n",
    "    def __init__(self):\n",
    "        pass\n",
    "\n",
    "childCls = C()\n",
    "childCls.method1()  #1\n",
    "childCls.method2()  #2\n",
    "childCls.method3()  #3\n",
    "    \n",
    "\n"
   ]
  },
  {
   "cell_type": "code",
   "execution_count": 34,
   "metadata": {},
   "outputs": [
    {
     "ename": "TypeError",
     "evalue": "__init_subclass__() takes no keyword arguments",
     "output_type": "error",
     "traceback": [
      "\u001b[1;31m---------------------------------------------------------------------------\u001b[0m",
      "\u001b[1;31mTypeError\u001b[0m                                 Traceback (most recent call last)",
      "\u001b[1;32m<ipython-input-34-734879cfc39c>\u001b[0m in \u001b[0;36m<module>\u001b[1;34m\u001b[0m\n\u001b[0;32m      5\u001b[0m \u001b[1;32mfrom\u001b[0m \u001b[0mabc\u001b[0m \u001b[1;32mimport\u001b[0m \u001b[0mabstractmethod\u001b[0m\u001b[1;33m\u001b[0m\u001b[1;33m\u001b[0m\u001b[0m\n\u001b[0;32m      6\u001b[0m \u001b[1;33m\u001b[0m\u001b[0m\n\u001b[1;32m----> 7\u001b[1;33m \u001b[1;32mclass\u001b[0m \u001b[0mCalculator\u001b[0m\u001b[1;33m(\u001b[0m\u001b[0mmethclass\u001b[0m\u001b[1;33m=\u001b[0m\u001b[0mABCMeta\u001b[0m\u001b[1;33m)\u001b[0m\u001b[1;33m:\u001b[0m\u001b[1;33m\u001b[0m\u001b[1;33m\u001b[0m\u001b[0m\n\u001b[0m\u001b[0;32m      8\u001b[0m     \u001b[1;32mdef\u001b[0m \u001b[0m__init__\u001b[0m\u001b[1;33m(\u001b[0m\u001b[0mself\u001b[0m\u001b[1;33m)\u001b[0m\u001b[1;33m:\u001b[0m\u001b[1;33m\u001b[0m\u001b[1;33m\u001b[0m\u001b[0m\n\u001b[0;32m      9\u001b[0m         \u001b[1;32mpass\u001b[0m\u001b[1;33m\u001b[0m\u001b[1;33m\u001b[0m\u001b[0m\n",
      "\u001b[1;31mTypeError\u001b[0m: __init_subclass__() takes no keyword arguments"
     ]
    }
   ],
   "source": [
    "#추상 클래스 : 자식 클래스에서 반듯이 구현해야하는 기능을 가진 부모클래스 \\\n",
    "#@abstractmethod가 붙어있으면 반드시 구현해야한다.\n",
    "\n",
    "from abc import ABCMeta\n",
    "from abc import abstractmethod\n",
    "\n",
    "class Calculator(methclass=ABCMeta):  #필수\n",
    "    def __init__(self): \n",
    "        pass\n",
    "\n",
    "    @abstractmethod\n",
    "    def add(self):\n",
    "        pass\n",
    "\n",
    "    @abstractmethod\n",
    "    def sub(self):\n",
    "        pass\n",
    "\n",
    "\n",
    "class smartCal(Calculator):\n",
    "    def __init__(self):\n",
    "        pass\n",
    "\n",
    "    def add(self):              #구현필수\n",
    "        print(\"add methond\")   \n",
    "\n",
    "    def sub(self):              #구현필수\n",
    "        print(\"sub method\")\n",
    "\n",
    "smartCal = smartCal()\n",
    "smartCal.add()\n",
    "smartCal.sub()\n"
   ]
  },
  {
   "cell_type": "code",
   "execution_count": 35,
   "metadata": {},
   "outputs": [
    {
     "name": "stdout",
     "output_type": "stream",
     "text": [
      "python\n",
      "java\n",
      "c\n"
     ]
    }
   ],
   "source": [
    "#super() : 부모 클래스의 객체를 가르킨다.\n",
    "\n",
    "#2. 속성, 기능 다 갖고 오는 경우\n",
    "class ParentClass:\n",
    "    def __init__(self):\n",
    "        self.at1 = 'python'\n",
    "        self.at2 = 'java'\n",
    "        self.at3 = 'c'\n",
    "\n",
    "\n",
    "    def printAt(self):\n",
    "        print(self.at1)\n",
    "        print(self.at2)\n",
    "        print(self.at3)\n",
    "\n",
    "\n",
    "class ChildClass(ParentClass):       #부모클래스의 __init__은 매소드가 호출되지 않는다. (접근 불가) 그럴때는 강제적으로 호출을 하면 된다.\n",
    "    def __init__(self):              #1. 인터프리터에서 자동 호출\n",
    "        super().__init__()           #ParentClass.__init__(self)  이거 대신 쓴다고 생각, 그리고 __init__(self)에서 self가 없다\n",
    "        pass\n",
    "\n",
    "childClass = ChildClass()\n",
    "childClass.printAt()   \n",
    "#python\n",
    "#java\n",
    "#c"
   ]
  },
  {
   "cell_type": "code",
   "execution_count": null,
   "metadata": {},
   "outputs": [],
   "source": []
  }
 ],
 "metadata": {
  "interpreter": {
   "hash": "fa422f78b08b4ed23ea77d9d51ba71e035ebabb7673f323e99ba8b680a1634b6"
  },
  "kernelspec": {
   "display_name": "Python 3.8.8 64-bit ('base': conda)",
   "name": "python3"
  },
  "language_info": {
   "codemirror_mode": {
    "name": "ipython",
    "version": 3
   },
   "file_extension": ".py",
   "mimetype": "text/x-python",
   "name": "python",
   "nbconvert_exporter": "python",
   "pygments_lexer": "ipython3",
   "version": "3.8.8"
  },
  "orig_nbformat": 4
 },
 "nbformat": 4,
 "nbformat_minor": 2
}
