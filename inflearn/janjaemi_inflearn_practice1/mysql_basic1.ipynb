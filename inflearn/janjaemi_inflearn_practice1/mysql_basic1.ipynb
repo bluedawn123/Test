{
 "metadata": {
  "language_info": {
   "codemirror_mode": {
    "name": "ipython",
    "version": 3
   },
   "file_extension": ".py",
   "mimetype": "text/x-python",
   "name": "python",
   "nbconvert_exporter": "python",
   "pygments_lexer": "ipython3",
   "version": 3
  },
  "orig_nbformat": 2
 },
 "nbformat": 4,
 "nbformat_minor": 2,
 "cells": [
  {
   "cell_type": "code",
   "execution_count": null,
   "source": [
    "# 1. 라이브러리 가져오기\r\n",
    "import pymysql\r\n",
    "\r\n",
    "# 2. 접속하기\r\n",
    "db = pymysql.connect(host='localhost', port=3306, user='root', passwd='123123', db='ecommerce', charset='utf8')\r\n",
    "\r\n",
    "# 3. 커서 가져오기\r\n",
    "cursor = db.cursor()\r\n",
    "\r\n",
    "# 4. SQL 구문 만들기 (CRUD SQL 구문 등)\r\n",
    "sql = '''\r\n",
    "    CREATE TABLE product (\r\n",
    "        PRODUCT_CODE VARCHAR(20) NOT NULL,\r\n",
    "        TITLE VARCHAR(200) NOT NULL,\r\n",
    "        ORI_PRICE INT,\r\n",
    "        DISCOUNT_PRICE INT,\r\n",
    "        DISCOUNT_PERCENT INT,\r\n",
    "        DELIVERY VARCHAR(2),\r\n",
    "        PRIMARY KEY(PRODUCT_CODE)\r\n",
    "    );\r\n",
    "'''\r\n",
    "\r\n",
    "# 5. SQL 구문 실행하기\r\n",
    "cursor.execute(sql)\r\n",
    "\r\n",
    "# 6. DB에 Complete 하기\r\n",
    "db.commit()\r\n",
    "\r\n",
    "# 7. DB 연결 닫기\r\n",
    "db.close()"
   ],
   "outputs": [],
   "metadata": {}
  }
 ]
}