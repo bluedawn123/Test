{
 "metadata": {
  "language_info": {
   "codemirror_mode": {
    "name": "ipython",
    "version": 3
   },
   "file_extension": ".py",
   "mimetype": "text/x-python",
   "name": "python",
   "nbconvert_exporter": "python",
   "pygments_lexer": "ipython3",
   "version": 3
  },
  "orig_nbformat": 2
 },
 "nbformat": 4,
 "nbformat_minor": 2,
 "cells": [
  {
   "cell_type": "code",
   "execution_count": null,
   "metadata": {},
   "outputs": [],
   "source": [
    "# 1. 라이브러리 가져오기\n",
    "import pymysql\n",
    "\n",
    "# 2. 접속하기\n",
    "db = pymysql.connect(host='localhost', port=3306, user='root', passwd='funcoding', db='ecommerce', charset='utf8')\n",
    "\n",
    "# 3. 커서 가져오기\n",
    "cursor = db.cursor()\n",
    "\n",
    "# 4. SQL 구문 만들기 (CRUD SQL 구문 등)\n",
    "sql = '''\n",
    "    CREATE TABLE product (\n",
    "        PRODUCT_CODE VARCHAR(20) NOT NULL,\n",
    "        TITLE VARCHAR(200) NOT NULL,\n",
    "        ORI_PRICE INT,\n",
    "        DISCOUNT_PRICE INT,\n",
    "        DISCOUNT_PERCENT INT,\n",
    "        DELIVERY VARCHAR(2),\n",
    "        PRIMARY KEY(PRODUCT_CODE)\n",
    "    );\n",
    "'''\n",
    "\n",
    "# 5. SQL 구문 실행하기\n",
    "cursor.execute(sql)\n",
    "\n",
    "# 6. DB에 Complete 하기\n",
    "db.commit()\n",
    "\n",
    "# 7. DB 연결 닫기\n",
    "db.close()"
   ]
  }
 ]
}