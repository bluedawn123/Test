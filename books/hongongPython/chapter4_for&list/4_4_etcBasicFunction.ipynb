{
 "cells": [
  {
   "cell_type": "code",
   "execution_count": 3,
   "metadata": {},
   "outputs": [
    {
     "name": "stdout",
     "output_type": "stream",
     "text": [
      "list_reversed :  <list_reverseiterator object at 0x00000214AA0E4C40>\n",
      "list_a: [1, 2, 3, 4, 5]\n",
      "list(list_reversed) :  [5, 4, 3, 2, 1]\n",
      "\n",
      "5\n",
      "4\n",
      "3\n",
      "2\n",
      "1\n"
     ]
    }
   ],
   "source": [
    "#reversed()함수\n",
    "list_a = [1,2,3,4,5]\n",
    "list_reversed = reversed(list_a)\n",
    "\n",
    "print(\"list_reversed : \", reversed(list_a))  #list_reversed :  <list_reverseiterator object at 0x00000214AA0F5F40>???\n",
    "print(\"list_a:\", list_a)\n",
    "print(\"list(list_reversed) : \", list(list_reversed))\n",
    "print()\n",
    "\n",
    "for i in reversed(list_a):\n",
    "    print(i)\n",
    "  "
   ]
  },
  {
   "cell_type": "code",
   "execution_count": 8,
   "metadata": {},
   "outputs": [
    {
     "name": "stdout",
     "output_type": "stream",
     "text": [
      "[6, 5, 4, 3, 2, 1]\n"
     ]
    }
   ],
   "source": [
    "temp = reversed([1,2,3,4,5,6])\n",
    "print(list(temp))\n",
    "\n",
    "for i in temp:\n",
    "    print(\"첫번째 반복문 : {}\".format(i))"
   ]
  },
  {
   "cell_type": "code",
   "execution_count": 10,
   "metadata": {},
   "outputs": [
    {
     "name": "stdout",
     "output_type": "stream",
     "text": [
      "[(0, '요소a'), (1, '요소b')]\n",
      "\n",
      "0번째는 요소a이다\n",
      "1번째는 요소b이다\n"
     ]
    }
   ],
   "source": [
    "###enumerate()함수 => 0부터 시작하는 i값과 해당 value값을 출력. 주로for문과 리스트 조합에 사용\n",
    "ex_list = [\"요소a\", \"요소b\"]\n",
    "\n",
    "print(list(enumerate(ex_list)))\n",
    "print()\n",
    "\n",
    "for i, value in enumerate(ex_list):\n",
    "    print(\"{}번째는 {}이다\".format(i, value))"
   ]
  },
  {
   "cell_type": "code",
   "execution_count": 15,
   "metadata": {},
   "outputs": [
    {
     "name": "stdout",
     "output_type": "stream",
     "text": [
      "items함수 사용 =>  dict_items([('a', '123'), ('b', '1234'), ('c', '125')])\n",
      "딕셔너리의 items() 함수와 반복문 조합하기\n",
      "a 123\n",
      "b 1234\n",
      "c 125\n",
      "dictionary[a] = 123\n",
      "dictionary[b] = 1234\n",
      "dictionary[c] = 125\n"
     ]
    }
   ],
   "source": [
    "#itmes() => 주로 딕셔너리와의 조합에 사용\n",
    "ex_dic = {\n",
    "    \"a\" : \"123\",\n",
    "    \"b\" : '1234',\n",
    "    \"c\" : '125'\n",
    "\n",
    "}\n",
    "\n",
    "print(\"items함수 사용 => \", ex_dic.items())\n",
    "print(\"딕셔너리의 items() 함수와 반복문 조합하기\")\n",
    "\n",
    "for key, element in ex_dic.items():\n",
    "    print(key, element)\n",
    "\n",
    "for key, element in ex_dic.items():\n",
    "    print(\"dictionary[{}] = {}\".format(key, element))\n",
    "\n",
    "\n",
    "\n"
   ]
  },
  {
   "cell_type": "code",
   "execution_count": 23,
   "metadata": {},
   "outputs": [
    {
     "name": "stdout",
     "output_type": "stream",
     "text": [
      "[0, 4, 16, 36, 64, 100, 144, 196, 256, 324]\n",
      "['사과', '귤', '자두']\n"
     ]
    }
   ],
   "source": [
    "#리스트 내포\n",
    "array = [i * i for i in range(0, 20, 2)]\n",
    "print(array)\n",
    "\n",
    "array2 = ['사과', '귤', '자두', '똥']\n",
    "output = [fruit for fruit in array2 if fruit != '똥']\n",
    "print(output)"
   ]
  },
  {
   "cell_type": "code",
   "execution_count": 22,
   "metadata": {},
   "outputs": [
    {
     "data": {
      "text/plain": [
       "range(0, 20, 2)"
      ]
     },
     "execution_count": 22,
     "metadata": {},
     "output_type": "execute_result"
    }
   ],
   "source": []
  },
  {
   "cell_type": "code",
   "execution_count": null,
   "metadata": {},
   "outputs": [],
   "source": []
  }
 ],
 "metadata": {
  "interpreter": {
   "hash": "fa422f78b08b4ed23ea77d9d51ba71e035ebabb7673f323e99ba8b680a1634b6"
  },
  "kernelspec": {
   "display_name": "Python 3.8.8 64-bit ('base': conda)",
   "name": "python3"
  },
  "language_info": {
   "codemirror_mode": {
    "name": "ipython",
    "version": 3
   },
   "file_extension": ".py",
   "mimetype": "text/x-python",
   "name": "python",
   "nbconvert_exporter": "python",
   "pygments_lexer": "ipython3",
   "version": "3.8.8"
  },
  "orig_nbformat": 4
 },
 "nbformat": 4,
 "nbformat_minor": 2
}
