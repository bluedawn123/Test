{
 "cells": [
  {
   "cell_type": "code",
   "execution_count": 5,
   "metadata": {},
   "outputs": [
    {
     "name": "stdout",
     "output_type": "stream",
     "text": [
      " - 100이상의 수 : 273\n",
      " - 100이상의 수 : 103\n",
      " - 100이상의 수 : 800\n"
     ]
    }
   ],
   "source": [
    "#page 157 -159\n",
    "#문제2 => for와 if를 사용해서 100이상의 숫자만 출력하게 하시오\n",
    "numbers = [273, 103, 5, 32, 65, 9, 72, 800, 99]\n",
    "\n",
    "for number in numbers:\n",
    "    if number >= 100:\n",
    "        print(\" - 100이상의 수 : {}\".format(number))"
   ]
  },
  {
   "cell_type": "code",
   "execution_count": 10,
   "metadata": {},
   "outputs": [
    {
     "name": "stdout",
     "output_type": "stream",
     "text": [
      "273는 홀수입니다.\n",
      "103는 홀수입니다.\n",
      "5는 홀수입니다.\n",
      "32는 짝수입니다.\n",
      "65는 홀수입니다.\n",
      "9는 홀수입니다.\n",
      "72는 짝수입니다.\n",
      "800는 짝수입니다.\n",
      "99는 홀수입니다.\n",
      "-----자릿수 문제-----\n",
      "273는 3자리수입니다.\n",
      "103는 3자리수입니다.\n",
      "5는 1자리수입니다.\n",
      "32는 2자리수입니다.\n",
      "65는 2자리수입니다.\n",
      "9는 1자리수입니다.\n",
      "72는 2자리수입니다.\n",
      "800는 3자리수입니다.\n",
      "99는 2자리수입니다.\n"
     ]
    }
   ],
   "source": [
    "#문제3 => 홀수와 n의 자릿수 출력하게 하시오\n",
    "numbers = [273, 103, 5, 32, 65, 9, 72, 800, 99]\n",
    "\n",
    "for number in numbers:\n",
    "    if  number % 2 == 0:\n",
    "        print(\"{}는 짝수입니다.\".format(number))\n",
    "    else:\n",
    "        number % 2 == 1\n",
    "        print(\"{}는 홀수입니다.\".format(number))\n",
    "\n",
    "print(\"-----자릿수 문제-----\")\n",
    "\n",
    "for numberz in numbers:\n",
    "    print(\"{}는 {}자리수입니다.\".format(numberz, len(str(numberz))))"
   ]
  },
  {
   "cell_type": "code",
   "execution_count": 11,
   "metadata": {},
   "outputs": [
    {
     "name": "stdout",
     "output_type": "stream",
     "text": [
      "1\n",
      "2\n",
      "3\n",
      "4\n",
      "5\n",
      "6\n",
      "7\n",
      "8\n",
      "9\n"
     ]
    }
   ],
   "source": [
    "#문제4 => 해당 이중리스트의 요소들을 하나씩 뽑아서 정렬하라  => for문 중첩\n",
    "list_of_list = [\n",
    "    [1, 2, 3],  \n",
    "    [4, 5, 6, 7],\n",
    "    [8, 9],\n",
    "]\n",
    "\n",
    "for a in list_of_list:\n",
    "    for b in a:\n",
    "        print(b)"
   ]
  },
  {
   "cell_type": "code",
   "execution_count": 35,
   "metadata": {},
   "outputs": [
    {
     "name": "stdout",
     "output_type": "stream",
     "text": [
      "[[1, 4, 7], [2, 5, 8], [3, 6, 9]]\n"
     ]
    }
   ],
   "source": [
    "#문제5 => 두 리스트를 이용하여, [[1,4,7],[2,5,8],[3,6,9]]를 만드시오\n",
    "numbers = [1,2,3,4,5,6,7,8,9]\n",
    "output = [[],[],[]]\n",
    "for number in numbers:\n",
    "    output[(number - 1) % 3].append(number)\n",
    "\n",
    "print(output)\n"
   ]
  },
  {
   "cell_type": "code",
   "execution_count": 29,
   "metadata": {},
   "outputs": [
    {
     "data": {
      "text/plain": [
       "'\\nnumbers = [1, 2, 3, 4, 5, 6, 7, 8, 9]\\noutput = [[], [], []]\\noutput[1].append(1)\\noutput[2].append(2)\\noutput[0].append(3)\\noutput[1].append(4)\\noutput[2].append(5)\\noutput[0].append(6)\\noutput[1].append(7)\\noutput[2].append(8)\\noutput[0].append(9)\\nprint(output)\\n이렇게 하면 1, 2, 0이 되어서 [[3, 6, 9], [1, 4, 7], [2, 5, 8]]이 출력되고\\n\\nnumbers = [1, 2, 3, 4, 5, 6, 7, 8, 9]\\noutput = [[], [], []]\\noutput[1-1].append(1)\\noutput[2-1].append(2)\\noutput[0-1].append(3)\\noutput[1-1].append(4)\\noutput[2-1].append(5)\\noutput[0-1].append(6)\\noutput[1-1].append(7)\\noutput[2-1].append(8)\\noutput[0-1].append(9)\\nprint(output) 요렇게 -1을 해줘야 0, 1, -1이 되어서 원하는 순서대로 나오네요.\\n'"
      ]
     },
     "execution_count": 29,
     "metadata": {},
     "output_type": "execute_result"
    }
   ],
   "source": [
    "#해설\n",
    "'''\n",
    "numbers = [1, 2, 3, 4, 5, 6, 7, 8, 9]\n",
    "output = [[], [], []]\n",
    "output[1].append(1)\n",
    "output[2].append(2)\n",
    "output[0].append(3)\n",
    "output[1].append(4)\n",
    "output[2].append(5)\n",
    "output[0].append(6)\n",
    "output[1].append(7)\n",
    "output[2].append(8)\n",
    "output[0].append(9)\n",
    "print(output)\n",
    "이렇게 하면 1, 2, 0이 되어서 [[3, 6, 9], [1, 4, 7], [2, 5, 8]]이 출력되고\n",
    "\n",
    "numbers = [1, 2, 3, 4, 5, 6, 7, 8, 9]\n",
    "output = [[], [], []]\n",
    "output[1-1].append(1)\n",
    "output[2-1].append(2)\n",
    "output[0-1].append(3)\n",
    "output[1-1].append(4)\n",
    "output[2-1].append(5)\n",
    "output[0-1].append(6)\n",
    "output[1-1].append(7)\n",
    "output[2-1].append(8)\n",
    "output[0-1].append(9)\n",
    "print(output) 요렇게 -1을 해줘야 0, 1, -1이 되어서 원하는 순서대로 나오네요.\n",
    "'''"
   ]
  },
  {
   "cell_type": "code",
   "execution_count": null,
   "metadata": {},
   "outputs": [],
   "source": []
  }
 ],
 "metadata": {
  "interpreter": {
   "hash": "fa422f78b08b4ed23ea77d9d51ba71e035ebabb7673f323e99ba8b680a1634b6"
  },
  "kernelspec": {
   "display_name": "Python 3.8.8 64-bit ('base': conda)",
   "name": "python3"
  },
  "language_info": {
   "codemirror_mode": {
    "name": "ipython",
    "version": 3
   },
   "file_extension": ".py",
   "mimetype": "text/x-python",
   "name": "python",
   "nbconvert_exporter": "python",
   "pygments_lexer": "ipython3",
   "version": "3.8.8"
  },
  "orig_nbformat": 4
 },
 "nbformat": 4,
 "nbformat_minor": 2
}
