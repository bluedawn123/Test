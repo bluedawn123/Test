{
 "cells": [
  {
   "cell_type": "code",
   "execution_count": 5,
   "metadata": {},
   "outputs": [
    {
     "name": "stdout",
     "output_type": "stream",
     "text": [
      "array의 len은 : 5\n",
      "0번째 반복값 : 273\n",
      "1번째 반복값 : 32\n",
      "2번째 반복값 : 103\n",
      "3번째 반복값 : 57\n",
      "4번째 반복값 : 52\n"
     ]
    }
   ],
   "source": [
    "#page178\n",
    "array = [273, 32, 103, 57, 52]\n",
    "print(\"array의 len은 :\", len(array), end=\"\\n\")\n",
    "for i in range(len(array)):\n",
    "    print(\"{0}번째 반복값 : {1}\".format(i, array[i]))"
   ]
  },
  {
   "cell_type": "code",
   "execution_count": 1,
   "metadata": {},
   "outputs": [
    {
     "name": "stdout",
     "output_type": "stream",
     "text": [
      "[1, 1]\n"
     ]
    }
   ],
   "source": [
    "#page183 => while\n",
    "list_test = [1,2,1,2]\n",
    "value = 2\n",
    "\n",
    "while value in list_test:\n",
    "    list_test.remove(value)\n",
    "\n",
    "print(list_test)\n"
   ]
  },
  {
   "cell_type": "code",
   "execution_count": 3,
   "metadata": {},
   "outputs": [
    {
     "name": "stdout",
     "output_type": "stream",
     "text": [
      "{'name': '기사', 'hp': 200, 'mp': 30, 'level': 5}\n"
     ]
    }
   ],
   "source": [
    "#문제풀이 2번\n",
    "key_list = [\"name\", \"hp\", \"mp\", \"level\"]\n",
    "value_list = [\"기사\", 200, 30, 5]\n",
    "character = {}\n",
    "#일때 print(character) => {'name':기사, 'hp':200, 'mp':30, 'level':5} 를 나오게 하시오\n",
    "for i in range(len(value_list)):\n",
    "    character[key_list[i]] = value_list[i]\n",
    "\n",
    "\n",
    "print(character)\n",
    "\n",
    "#리스트 2개가 반복을 도는 경우, range를 사용해서 2개를 돌려야한다."
   ]
  },
  {
   "cell_type": "code",
   "execution_count": 13,
   "metadata": {},
   "outputs": [
    {
     "name": "stdout",
     "output_type": "stream",
     "text": [
      "46를 더할때 1000을 넘으며 그때 값은 1035이고 총 45번 시행하였다.\n"
     ]
    }
   ],
   "source": [
    "#3번. 1부터 숫자를 하니씩 증가시키면서 더할때 (1, 1+2, 1+2+3...) 몇번을 더할때 1000을 넘는지 구하고 그때의 정확한 값을 구하여라\n",
    "limit = 1000\n",
    "i = 1\n",
    "sum_value = 0\n",
    "count = 0\n",
    "\n",
    "while sum_value < limit:\n",
    "    sum_value += i \n",
    "    i += 1\n",
    "    count += 1\n",
    "\n",
    "\n",
    "print(\"{}를 더할때 {}을 넘으며 그때 값은 {}이고 총 {}번 시행하였다.\".format(i, limit, sum_value,count))\n",
    "\n"
   ]
  },
  {
   "cell_type": "code",
   "execution_count": 16,
   "metadata": {},
   "outputs": [
    {
     "name": "stdout",
     "output_type": "stream",
     "text": [
      "1 99\n",
      "2 98\n",
      "3 97\n",
      "4 96\n",
      "5 95\n",
      "6 94\n",
      "7 93\n",
      "8 92\n",
      "9 91\n",
      "10 90\n",
      "11 89\n",
      "12 88\n",
      "13 87\n",
      "14 86\n",
      "15 85\n",
      "16 84\n",
      "17 83\n",
      "18 82\n",
      "19 81\n",
      "20 80\n",
      "21 79\n",
      "22 78\n",
      "23 77\n",
      "24 76\n",
      "25 75\n",
      "26 74\n",
      "27 73\n",
      "28 72\n",
      "29 71\n",
      "30 70\n",
      "31 69\n",
      "32 68\n",
      "33 67\n",
      "34 66\n",
      "35 65\n",
      "36 64\n",
      "37 63\n",
      "38 62\n",
      "39 61\n",
      "40 60\n",
      "41 59\n",
      "42 58\n",
      "43 57\n",
      "44 56\n",
      "45 55\n",
      "46 54\n",
      "47 53\n",
      "48 52\n",
      "49 51\n",
      "50 50\n",
      "51 49\n",
      "52 48\n",
      "53 47\n",
      "54 46\n",
      "55 45\n",
      "56 44\n",
      "57 43\n",
      "58 42\n",
      "59 41\n",
      "60 40\n",
      "61 39\n",
      "62 38\n",
      "63 37\n",
      "64 36\n",
      "65 35\n",
      "66 34\n",
      "67 33\n",
      "68 32\n",
      "69 31\n",
      "70 30\n",
      "71 29\n",
      "72 28\n",
      "73 27\n",
      "74 26\n",
      "75 25\n",
      "76 24\n",
      "77 23\n",
      "78 22\n",
      "79 21\n",
      "80 20\n",
      "81 19\n",
      "82 18\n",
      "83 17\n",
      "84 16\n",
      "85 15\n",
      "86 14\n",
      "87 13\n",
      "88 12\n",
      "89 11\n",
      "90 10\n",
      "91 9\n",
      "92 8\n",
      "93 7\n",
      "94 6\n",
      "95 5\n",
      "96 4\n",
      "97 3\n",
      "98 2\n",
      "99 1\n",
      "최대가 되는 경우: 50 * 50 = 2500\n"
     ]
    }
   ],
   "source": [
    "#4번. 다음과 같은 경우 어떤 두 수(더해서100인 친구들)를 곱해야 최대가 되는 경우인가?\n",
    "#ex)1*99, 2*98, 3*97.... 99*1\n",
    "\n",
    "max_value = 0\n",
    "a = 0\n",
    "b = 0\n",
    "\n",
    "for i in range(1, 99+1):  #1,2,3,...99\n",
    "    j = 100 - i\n",
    "    print(i, j)\n",
    "\n",
    "    if max_value < i * j:\n",
    "        max_value = i * j \n",
    "        a = i\n",
    "        b = j\n",
    "\n",
    "print(\"최대가 되는 경우: {} * {} = {}\".format(a, b, max_value))"
   ]
  },
  {
   "cell_type": "code",
   "execution_count": 14,
   "metadata": {},
   "outputs": [
    {
     "name": "stdout",
     "output_type": "stream",
     "text": [
      "5번째 i\n",
      "6번째 i\n",
      "7번째 i\n",
      "8번째 i\n",
      "9번째 i\n",
      "총 시행횟수는 5이다.\n"
     ]
    }
   ],
   "source": [
    "#별거아닌것\n",
    "\n",
    "i = 5\n",
    "count = 0\n",
    "while i < 10:\n",
    "    print(\"{}번째 i\".format(i))\n",
    "    i += 1\n",
    "    count += 1\n",
    "\n",
    "print(\"총 시행횟수는 {}이다.\".format(count))"
   ]
  },
  {
   "cell_type": "code",
   "execution_count": null,
   "metadata": {},
   "outputs": [],
   "source": []
  }
 ],
 "metadata": {
  "interpreter": {
   "hash": "fa422f78b08b4ed23ea77d9d51ba71e035ebabb7673f323e99ba8b680a1634b6"
  },
  "kernelspec": {
   "display_name": "Python 3.8.8 64-bit ('base': conda)",
   "name": "python3"
  },
  "language_info": {
   "codemirror_mode": {
    "name": "ipython",
    "version": 3
   },
   "file_extension": ".py",
   "mimetype": "text/x-python",
   "name": "python",
   "nbconvert_exporter": "python",
   "pygments_lexer": "ipython3",
   "version": "3.8.8"
  },
  "orig_nbformat": 4
 },
 "nbformat": 4,
 "nbformat_minor": 2
}
