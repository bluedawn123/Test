{
 "cells": [
  {
   "cell_type": "code",
   "execution_count": 31,
   "metadata": {},
   "outputs": [
    {
     "name": "stdout",
     "output_type": "stream",
     "text": [
      "{'tod': 32, 'jame': 18, 'yoon': 31}\n",
      "tod\n",
      "jame\n",
      "yoon\n",
      "32\n",
      "18\n",
      "31\n",
      "--------둘다 가져오기--------\n",
      "tod은 key값이고, 32는 벨류이다. \n",
      "jame은 key값이고, 18는 벨류이다. \n",
      "yoon은 key값이고, 31는 벨류이다. \n"
     ]
    }
   ],
   "source": [
    "#딕셔너리 요소에 접근할 때에는 []를 사용해야 한다.\n",
    "dict_a = {'name':'게임', 'type':'히어로무비'}\n",
    "\n",
    "dict_a['name']\n",
    "\n",
    "\n",
    "\n",
    "#2. keys와 values의 개념\n",
    "ages = {\n",
    "    'tod' : 32,\n",
    "    'jame' : 18,\n",
    "    'yoon' : 31\n",
    "}\n",
    "\n",
    "print(ages)\n",
    "#키 가져오기. 즉 tod, jame, yoon\n",
    "for key in ages.keys():\n",
    "    print(key)\n",
    "\n",
    "#벨류 가져오기. 즉, 32, 18, 31\n",
    "for values in ages.values():\n",
    "    print(values)\n",
    "\n",
    "print(\"--------둘다 가져오기--------\")\n",
    "for key in ages.keys():\n",
    "    print(\"{}은 key값이고, {}는 벨류이다. \".format(key, ages[key]))"
   ]
  },
  {
   "cell_type": "code",
   "execution_count": 16,
   "metadata": {},
   "outputs": [
    {
     "name": "stdout",
     "output_type": "stream",
     "text": [
      "문자열:값\n",
      "273:[1, 2, 3, 4]\n",
      "True:False\n",
      "------2-------\n",
      "문자열:값\n",
      "273:[1, 2, 3, 4]\n",
      "True:False\n"
     ]
    }
   ],
   "source": [
    "#for문과 딕셔너리 ==> []로 접근. 중요한 것은, 처음 뽑아내는 것이 key값에 의존한다는 것이다.\n",
    "dictionary = {\n",
    "    \"문자열\" : \"값\",\n",
    "    273 : [1,2,3,4],\n",
    "    True : False\n",
    "}\n",
    "\n",
    "for ke in dictionary:\n",
    "    print(\"{}:{}\".format(ke, dictionary[ke]))\n",
    "print(\"------2-------\")\n",
    "\n",
    "for ke in dictionary:\n",
    "    print(\"{}:{}\".format(ke, dictionary[ke]))\n"
   ]
  },
  {
   "cell_type": "code",
   "execution_count": 14,
   "metadata": {},
   "outputs": [
    {
     "name": "stdout",
     "output_type": "stream",
     "text": [
      "해당 키는 딕셔너리에 존재하지 않습니다.\n"
     ]
    }
   ],
   "source": [
    "#p168 내부에 키가 있는지 확인하기\n",
    "dictionary = {\n",
    "    \"name\" : \"7d 건조망고\",\n",
    "    \"type\" : \"당절임\",\n",
    "    \"ingredient\" : [\"먕고\", \"설탕\"],\n",
    "    \"origin\" : \"필리핀\",\n",
    "}\n",
    "\n",
    "key = input(\"> 접근하고자 하는 키는? : \")\n",
    "\n",
    "#출력\n",
    "if key in dictionary:\n",
    "    print(dictionary[key])            #dictionary[key]와 dictionary.get(\"key\")는 똑같은 것\n",
    "else:\n",
    "    print(\"해당 키는 딕셔너리에 존재하지 않습니다.\")\n"
   ]
  },
  {
   "cell_type": "code",
   "execution_count": 13,
   "metadata": {},
   "outputs": [
    {
     "name": "stdout",
     "output_type": "stream",
     "text": [
      "name : 7d 건조망고\n",
      "type : 당절임\n",
      "ingredient : ['먕고', '설탕']\n",
      "origin : 필리핀\n"
     ]
    }
   ],
   "source": [
    "#for문 응용\n",
    "dictionary = {\n",
    "    \"name\" : \"7d 건조망고\",\n",
    "    \"type\" : \"당절임\",\n",
    "    \"ingredient\" : [\"먕고\", \"설탕\"],\n",
    "    \"origin\" : \"필리핀\",\n",
    "}\n",
    "\n",
    "for keys in dictionary:\n",
    "    print(keys, \":\", dictionary[keys])"
   ]
  },
  {
   "cell_type": "code",
   "execution_count": 33,
   "metadata": {},
   "outputs": [
    {
     "name": "stdout",
     "output_type": "stream",
     "text": [
      "name : 7d 건조망고\n",
      "type : 당절임\n",
      "ingredient : ['먕고', '설탕']\n",
      "origin : 필리핀\n"
     ]
    }
   ],
   "source": [
    "#for문 응용 => 위와 동일\n",
    "dictionary = {\n",
    "    \"name\" : \"7d 건조망고\",\n",
    "    \"type\" : \"당절임\",\n",
    "    \"ingredient\" : [\"먕고\", \"설탕\"],\n",
    "    \"origin\" : \"필리핀\",\n",
    "}\n",
    "\n",
    "for keys in dictionary:\n",
    "    print(keys, \":\", dictionary[keys])"
   ]
  },
  {
   "cell_type": "code",
   "execution_count": 39,
   "metadata": {},
   "outputs": [
    {
     "name": "stdout",
     "output_type": "stream",
     "text": [
      "# 우리 동네 애완 동물들\n",
      "{'name': '구름', 'age': 5}\n",
      "아래는 정답\n",
      "구름 5살\n",
      "{'name': '초코', 'age': 3}\n",
      "아래는 정답\n",
      "초코 3살\n",
      "{'name': '아지', 'age': 1}\n",
      "아래는 정답\n",
      "아지 1살\n",
      "{'name': '호랑이', 'age': 1}\n",
      "아래는 정답\n",
      "호랑이 1살\n"
     ]
    }
   ],
   "source": [
    "###문제풀이\n",
    "#2. \n",
    "pets = [\n",
    "    {\"name\": \"구름\", \"age\": 5},\n",
    "    {\"name\": \"초코\", \"age\": 3},\n",
    "    {\"name\": \"아지\", \"age\": 1},\n",
    "    {\"name\": \"호랑이\", \"age\": 1},\n",
    "]\n",
    "print(\"# 우리 동네 애완 동물들\")\n",
    "\n",
    "#정답\n",
    "for pet in pets:  #pet에는 4번의 딕셔너리가 반복된다. \n",
    "    print(\"{} {}살\".format(pet[\"name\"], pet[\"age\"]))"
   ]
  },
  {
   "cell_type": "code",
   "execution_count": 42,
   "metadata": {},
   "outputs": [
    {
     "name": "stdout",
     "output_type": "stream",
     "text": [
      "{1: 5, 2: 5, 3: 5, 5: 3, 4: 2, 8: 1, 7: 1, 6: 2, 9: 1}\n"
     ]
    }
   ],
   "source": [
    "#3번 내부에 들어있는 숫자가 몇번 등장하는지 출력하는 코드\n",
    "#결과는 {1:3, 2:4, 3:2, 6:1 ...} 이런식으로 출력되게 하시오\n",
    "\n",
    "numbers = [1,2,3,5,1,2,3,3,2,1,2,3,5,1,2,4,8,7,6,9,3,4,5,6,1]\n",
    "counter = {}\n",
    "\n",
    "for number in numbers:\n",
    "    if number in counter:\n",
    "        counter[number] += 1   #다시한번 말하지만, 딕셔너리형에서 접근자의 방식은 ★★딕셔너리명[키값] 이다!!\n",
    "    else:\n",
    "        counter[number] = 1\n",
    "\n",
    "print(counter)\n",
    "\n"
   ]
  },
  {
   "cell_type": "code",
   "execution_count": 41,
   "metadata": {},
   "outputs": [],
   "source": [
    "#4번\n"
   ]
  },
  {
   "cell_type": "code",
   "execution_count": null,
   "metadata": {},
   "outputs": [],
   "source": []
  }
 ],
 "metadata": {
  "interpreter": {
   "hash": "fa422f78b08b4ed23ea77d9d51ba71e035ebabb7673f323e99ba8b680a1634b6"
  },
  "kernelspec": {
   "display_name": "Python 3.8.8 64-bit ('base': conda)",
   "name": "python3"
  },
  "language_info": {
   "codemirror_mode": {
    "name": "ipython",
    "version": 3
   },
   "file_extension": ".py",
   "mimetype": "text/x-python",
   "name": "python",
   "nbconvert_exporter": "python",
   "pygments_lexer": "ipython3",
   "version": "3.8.8"
  },
  "orig_nbformat": 4
 },
 "nbformat": 4,
 "nbformat_minor": 2
}
