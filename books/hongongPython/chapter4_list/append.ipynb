{
 "metadata": {
  "language_info": {
   "codemirror_mode": {
    "name": "ipython",
    "version": 3
   },
   "file_extension": ".py",
   "mimetype": "text/x-python",
   "name": "python",
   "nbconvert_exporter": "python",
   "pygments_lexer": "ipython3",
   "version": "3.7.6"
  },
  "orig_nbformat": 4,
  "kernelspec": {
   "name": "python3",
   "display_name": "Python 3.7.6 64-bit ('cpv': conda)"
  },
  "interpreter": {
   "hash": "e25e0584590c458883016a89e0cf53be7d76548718d22946ce414c44a74f5c84"
  }
 },
 "nbformat": 4,
 "nbformat_minor": 2,
 "cells": [
  {
   "cell_type": "code",
   "execution_count": 3,
   "metadata": {},
   "outputs": [
    {
     "output_type": "stream",
     "name": "stdout",
     "text": [
      "[1, 2, 3, 4, 5]\n[1, 50, 2, 3, 4, 5]\n"
     ]
    }
   ],
   "source": [
    "#p146\n",
    "list_a = [1,2,3]\n",
    "\n",
    "list_a.append(4)\n",
    "list_a.append(5)\n",
    "print(list_a)      #[1, 2, 3, 4, 5]\n",
    "\n",
    "list_a.insert(1, 50)    #(삽입할 위치, 삽입할 값) 여기선 2번째에 5를 넣겠다\n",
    "print(list_a)     #[1, 50, 2, 3, 4, 5]"
   ]
  },
  {
   "cell_type": "code",
   "execution_count": 4,
   "metadata": {},
   "outputs": [
    {
     "output_type": "stream",
     "name": "stdout",
     "text": [
      "23\n245\n231\n2\n156\n"
     ]
    }
   ],
   "source": [
    "#page 155-156\n",
    "#for 반복자 in 반복할 수 있는 것\n",
    "\n",
    "arra = [23, 245, 231, 2, 156]\n",
    "\n",
    "for e in arra:\n",
    "    print(e)\n",
    "\n",
    "'''\n",
    "23\n",
    "245\n",
    "231\n",
    "2\n",
    "156'''"
   ]
  },
  {
   "cell_type": "code",
   "execution_count": null,
   "metadata": {},
   "outputs": [],
   "source": []
  }
 ]
}