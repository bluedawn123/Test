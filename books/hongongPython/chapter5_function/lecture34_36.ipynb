{
 "cells": [
  {
   "cell_type": "code",
   "execution_count": 7,
   "metadata": {},
   "outputs": [
    {
     "name": "stdout",
     "output_type": "stream",
     "text": [
      "0\n",
      "1\n",
      "3\n",
      "6\n",
      "10\n",
      "15\n",
      "21\n",
      "28\n",
      "36\n",
      "45\n",
      "55\n",
      "0 to 10: 55\n"
     ]
    }
   ],
   "source": [
    "#리턴? => 너가 왔던 곳으로 돌아가라. 그리고 그 뒤에 나오는 변수(자료)를 가지고 간다!\n",
    "def sum_all(start, end):\n",
    "    output = 0\n",
    "    for i in range(start, end + 1):\n",
    "        output += i\n",
    "        print(output)      #output변화를 알아보기 위해서\n",
    "    return output          #output변수 return(반환)\n",
    "\n",
    "print(\"0 to 10:\", sum_all(0, 10))"
   ]
  },
  {
   "cell_type": "code",
   "execution_count": 13,
   "metadata": {},
   "outputs": [
    {
     "name": "stdout",
     "output_type": "stream",
     "text": [
      "A. 550\n",
      "B. 5050\n",
      "C. 2550\n"
     ]
    }
   ],
   "source": [
    "#기본 매개변수 사용\n",
    "def sum_all(start=0, end=100, step=1):\n",
    "    output = 0\n",
    "    for i in range(start, end + 1, step):\n",
    "        output += i\n",
    "    return output\n",
    "\n",
    "print(\"A.\", sum_all(0, 100, 10))\n",
    "print(\"B.\", sum_all(end=100))\n",
    "print(\"C.\", sum_all(end=100, step=2))\n"
   ]
  },
  {
   "cell_type": "code",
   "execution_count": 16,
   "metadata": {},
   "outputs": [
    {
     "name": "stdout",
     "output_type": "stream",
     "text": [
      "1!: 1\n",
      "2!: 2\n",
      "3!: 6\n",
      "4!: 24\n",
      "5!: 120\n"
     ]
    }
   ],
   "source": [
    "#5_2 반복문 팩토리얼\n",
    "def f(n):\n",
    "    output = 1\n",
    "    for i in range(1, n + 1):\n",
    "        output *= i\n",
    "    return output\n",
    "\n",
    "print(\"1!:\", f(1))\n",
    "print(\"2!:\", f(2))\n",
    "print(\"3!:\", f(3))\n",
    "print(\"4!:\", f(4))\n",
    "print(\"5!:\", f(5))"
   ]
  },
  {
   "cell_type": "code",
   "execution_count": 1,
   "metadata": {},
   "outputs": [
    {
     "name": "stdout",
     "output_type": "stream",
     "text": [
      "5! :  120\n",
      "3! :  6\n"
     ]
    }
   ],
   "source": [
    "#5_2 재귀함수와 팩토리얼\n",
    "def f(n):\n",
    "    if n == 0:\n",
    "        return 1\n",
    "    else:\n",
    "        return n * f(n-1)\n",
    "\n",
    "print(\"5! : \", f(5))\n",
    "print(\"3! : \", f(3))\n"
   ]
  },
  {
   "cell_type": "code",
   "execution_count": 3,
   "metadata": {},
   "outputs": [
    {
     "name": "stdout",
     "output_type": "stream",
     "text": [
      "f(1)  1\n",
      "f(2)  1\n",
      "f(3)  2\n",
      "f(4)  3\n",
      "f(5)  5\n",
      "f(35) :  9227465\n"
     ]
    }
   ],
   "source": [
    "#피보나치 수열 1\n",
    "def f(n):\n",
    "    if n == 1:\n",
    "        return 1\n",
    "    if n == 2:\n",
    "        return 1\n",
    "    else:\n",
    "        return f(n -1) + f(n-2)\n",
    "\n",
    "print(\"f(1) \", f(1))\n",
    "print(\"f(2) \", f(2))\n",
    "print(\"f(3) \", f(3))\n",
    "print(\"f(4) \", f(4))\n",
    "print(\"f(5) \", f(5))\n",
    "print(\"f(35) : \", f(35))\n",
    "\n",
    "\n"
   ]
  },
  {
   "cell_type": "code",
   "execution_count": null,
   "metadata": {},
   "outputs": [],
   "source": [
    "#피보나치 수열 2\n",
    "counter = 0\n"
   ]
  }
 ],
 "metadata": {
  "interpreter": {
   "hash": "fa422f78b08b4ed23ea77d9d51ba71e035ebabb7673f323e99ba8b680a1634b6"
  },
  "kernelspec": {
   "display_name": "Python 3.8.8 64-bit ('base': conda)",
   "name": "python3"
  },
  "language_info": {
   "codemirror_mode": {
    "name": "ipython",
    "version": 3
   },
   "file_extension": ".py",
   "mimetype": "text/x-python",
   "name": "python",
   "nbconvert_exporter": "python",
   "pygments_lexer": "ipython3",
   "version": "3.8.8"
  },
  "orig_nbformat": 4
 },
 "nbformat": 4,
 "nbformat_minor": 2
}
