{
 "cells": [
  {
   "cell_type": "code",
   "execution_count": 8,
   "source": [
    "def name(a, b, c, d):\r\n",
    "    print(\"hi \" + str(a))\r\n",
    "    print(\"hi \" + str(b))\r\n",
    "    return a + b + c + d\r\n",
    "    \r\n",
    "    print(\"hi \" + str(c))\r\n",
    "    print(\"hi \" + str(d))\r\n",
    "\r\n",
    "print(name(1, 2, 3, 4))\r\n"
   ],
   "outputs": [
    {
     "output_type": "stream",
     "name": "stdout",
     "text": [
      "hi 1\n",
      "hi 2\n",
      "10\n"
     ]
    }
   ],
   "metadata": {}
  },
  {
   "cell_type": "code",
   "execution_count": 12,
   "source": [
    "def print_n_times(value, n):\r\n",
    "    for i in range(n):\r\n",
    "        print(value, i)\r\n",
    "\r\n",
    "\r\n",
    "print_n_times(\"hi\", 5)"
   ],
   "outputs": [
    {
     "output_type": "stream",
     "name": "stdout",
     "text": [
      "hi 0\n",
      "hi 1\n",
      "hi 2\n",
      "hi 3\n",
      "hi 4\n"
     ]
    }
   ],
   "metadata": {}
  },
  {
   "cell_type": "code",
   "execution_count": 14,
   "source": [
    "#가변 매개변수1. => 매개변수의 수가 가변적으로 변한다. ex)print()\r\n",
    "def func(a, b, *c):\r\n",
    "    print(a)\r\n",
    "    print(b)\r\n",
    "    print(c)\r\n",
    "\r\n",
    "func(0, 1, 3, 4, 5)\r\n",
    "#가변매개변수는 1함수에는 1개만 쓸 수 있고, 뒤에 매개변수가 올 수 없다(앞에 올 수 없다.)\r\n"
   ],
   "outputs": [
    {
     "output_type": "stream",
     "name": "stdout",
     "text": [
      "0\n",
      "1\n",
      "(3, 4, 5)\n"
     ]
    }
   ],
   "metadata": {}
  },
  {
   "cell_type": "code",
   "execution_count": 21,
   "source": [
    "##가변 매개변수2. \r\n",
    "def p(n, *values):\r\n",
    "    for i in range(n):\r\n",
    "        for value in values:\r\n",
    "            print(\"i : \", i)\r\n",
    "            print(values)\r\n",
    "        print(\"-----------\")\r\n",
    "\r\n",
    "p(2, \"hi\", \"hello\")"
   ],
   "outputs": [
    {
     "output_type": "stream",
     "name": "stdout",
     "text": [
      "i :  0\n",
      "('hi', 'hello')\n",
      "i :  0\n",
      "('hi', 'hello')\n",
      "-----------\n",
      "i :  1\n",
      "('hi', 'hello')\n",
      "i :  1\n",
      "('hi', 'hello')\n",
      "-----------\n"
     ]
    }
   ],
   "metadata": {}
  },
  {
   "cell_type": "code",
   "execution_count": 25,
   "source": [
    "##기본 매개변수\r\n",
    "##################함수는, def fucn(일반매개변수, 가변매개변수, 기본매개변수): 의 형태로 정의되어야한다.  =>\r\n",
    "\r\n",
    "def fucn(a, b, *c, d=30, e=40):\r\n",
    "    print(a, b)\r\n",
    "    print(c)\r\n",
    "    print(d, e)\r\n",
    "\r\n",
    "fucn(0,1,2,3,4,5,6,7,8,9,10, d=34, e=43)  #=> 강제로 기본매개변수에 지정을 해 줘서 변경할 수 있다. => 키워드 매개변수\r\n",
    "\r\n",
    "'''\r\n",
    "0 1\r\n",
    "(2, 3, 4, 5, 6, 7, 8, 9, 10)\r\n",
    "34, 43\r\n",
    "'''"
   ],
   "outputs": [
    {
     "output_type": "stream",
     "name": "stdout",
     "text": [
      "0 1\n",
      "(2, 3, 4, 5, 6, 7, 8, 9, 10)\n",
      "34 43\n"
     ]
    },
    {
     "output_type": "execute_result",
     "data": {
      "text/plain": [
       "'\\n0 1\\n(2, 3, 4, 5, 6, 7, 8, 9, 10)\\n30 40\\n'"
      ]
     },
     "metadata": {},
     "execution_count": 25
    }
   ],
   "metadata": {}
  },
  {
   "cell_type": "code",
   "execution_count": null,
   "source": [],
   "outputs": [],
   "metadata": {}
  }
 ],
 "metadata": {
  "orig_nbformat": 4,
  "language_info": {
   "name": "python",
   "version": "3.8.8",
   "mimetype": "text/x-python",
   "codemirror_mode": {
    "name": "ipython",
    "version": 3
   },
   "pygments_lexer": "ipython3",
   "nbconvert_exporter": "python",
   "file_extension": ".py"
  },
  "kernelspec": {
   "name": "python3",
   "display_name": "Python 3.8.8 64-bit ('base': conda)"
  },
  "interpreter": {
   "hash": "fa422f78b08b4ed23ea77d9d51ba71e035ebabb7673f323e99ba8b680a1634b6"
  }
 },
 "nbformat": 4,
 "nbformat_minor": 2
}