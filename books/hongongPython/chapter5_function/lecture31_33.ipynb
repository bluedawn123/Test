{
 "cells": [
  {
   "cell_type": "code",
   "execution_count": 8,
   "metadata": {},
   "outputs": [
    {
     "name": "stdout",
     "output_type": "stream",
     "text": [
      "hi 1\n",
      "hi 2\n",
      "10\n"
     ]
    }
   ],
   "source": [
    "def name(a, b, c, d):\n",
    "    print(\"hi \" + str(a))\n",
    "    print(\"hi \" + str(b))\n",
    "    return a + b + c + d\n",
    "    \n",
    "    print(\"hi \" + str(c))\n",
    "    print(\"hi \" + str(d))\n",
    "\n",
    "print(name(1, 2, 3, 4))\n"
   ]
  },
  {
   "cell_type": "code",
   "execution_count": 12,
   "metadata": {},
   "outputs": [
    {
     "name": "stdout",
     "output_type": "stream",
     "text": [
      "hi 0\n",
      "hi 1\n",
      "hi 2\n",
      "hi 3\n",
      "hi 4\n"
     ]
    }
   ],
   "source": [
    "def print_n_times(value, n):\n",
    "    for i in range(n):\n",
    "        print(value, i)\n",
    "\n",
    "\n",
    "print_n_times(\"hi\", 5)"
   ]
  },
  {
   "cell_type": "code",
   "execution_count": 14,
   "metadata": {},
   "outputs": [
    {
     "name": "stdout",
     "output_type": "stream",
     "text": [
      "0\n",
      "1\n",
      "(3, 4, 5)\n"
     ]
    }
   ],
   "source": [
    "#가변 매개변수1. => 매개변수의 수가 가변적으로 변한다. ex)print()\n",
    "def func(a, b, *c):\n",
    "    print(a)\n",
    "    print(b)\n",
    "    print(c)\n",
    "\n",
    "func(0, 1, 3, 4, 5)\n",
    "#가변매개변수는 1함수에는 1개만 쓸 수 있고, 뒤에 매개변수가 올 수 없다(앞에 올 수 없다.)\n"
   ]
  },
  {
   "cell_type": "code",
   "execution_count": 21,
   "metadata": {},
   "outputs": [
    {
     "name": "stdout",
     "output_type": "stream",
     "text": [
      "i :  0\n",
      "('hi', 'hello')\n",
      "i :  0\n",
      "('hi', 'hello')\n",
      "-----------\n",
      "i :  1\n",
      "('hi', 'hello')\n",
      "i :  1\n",
      "('hi', 'hello')\n",
      "-----------\n"
     ]
    }
   ],
   "source": [
    "##가변 매개변수2. \n",
    "def p(n, *values):\n",
    "    for i in range(n):\n",
    "        for value in values:\n",
    "            print(\"i : \", i)\n",
    "            print(values)\n",
    "        print(\"-----------\")\n",
    "\n",
    "p(2, \"hi\", \"hello\")"
   ]
  },
  {
   "cell_type": "code",
   "execution_count": 28,
   "metadata": {},
   "outputs": [
    {
     "name": "stdout",
     "output_type": "stream",
     "text": [
      "0 1\n",
      "(2, 3, 4, 5, 6, 7, 8, 9, 10)\n",
      "34 43\n"
     ]
    },
    {
     "data": {
      "text/plain": [
       "'\\n0 1\\n(2, 3, 4, 5, 6, 7, 8, 9, 10)\\n34, 43\\n'"
      ]
     },
     "execution_count": 28,
     "metadata": {},
     "output_type": "execute_result"
    }
   ],
   "source": [
    "##기본 매개변수\n",
    "##################함수는, def fucn(일반매개변수, 가변매개변수, 기본매개변수): 의 형태로 정의되어야한다.  =>\n",
    "\n",
    "def fucn(a, b, *c, d=30, e=40):\n",
    "    print(a, b)\n",
    "    print(c)\n",
    "    print(d, e)\n",
    "\n",
    "fucn(0,1,2,3,4,5,6,7,8,9,10, d=34, e=43)  #=> 강제로 기본매개변수에 지정을 해 줘서 변경할 수 있다. => 키워드 매개변수\n",
    "\n",
    "'''\n",
    "0 1\n",
    "(2, 3, 4, 5, 6, 7, 8, 9, 10)\n",
    "34, 43\n",
    "'''"
   ]
  },
  {
   "cell_type": "code",
   "execution_count": 26,
   "metadata": {},
   "outputs": [
    {
     "name": "stdout",
     "output_type": "stream",
     "text": [
      "60\n",
      "310\n",
      "310\n",
      "220\n"
     ]
    }
   ],
   "source": [
    "#기본 매개변수 + 키워드 매개변수 사용 예시\n",
    "def test(a, b=10, c=100):\n",
    "    print(a+b+c)\n",
    "\n",
    "test(10, 20, 30)\n",
    "test(a=10, b=100, c=200)\n",
    "test(c=10, a=100, b=200)\n",
    "test(10, c=200)\n"
   ]
  },
  {
   "cell_type": "code",
   "execution_count": null,
   "metadata": {},
   "outputs": [],
   "source": []
  }
 ],
 "metadata": {
  "interpreter": {
   "hash": "fa422f78b08b4ed23ea77d9d51ba71e035ebabb7673f323e99ba8b680a1634b6"
  },
  "kernelspec": {
   "display_name": "Python 3.8.8 64-bit ('base': conda)",
   "name": "python3"
  },
  "language_info": {
   "codemirror_mode": {
    "name": "ipython",
    "version": 3
   },
   "file_extension": ".py",
   "mimetype": "text/x-python",
   "name": "python",
   "nbconvert_exporter": "python",
   "pygments_lexer": "ipython3",
   "version": "3.8.8"
  },
  "orig_nbformat": 4
 },
 "nbformat": 4,
 "nbformat_minor": 2
}
