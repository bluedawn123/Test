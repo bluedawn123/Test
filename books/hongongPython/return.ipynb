{
 "metadata": {
  "language_info": {
   "codemirror_mode": {
    "name": "ipython",
    "version": 3
   },
   "file_extension": ".py",
   "mimetype": "text/x-python",
   "name": "python",
   "nbconvert_exporter": "python",
   "pygments_lexer": "ipython3",
   "version": "3.7.6-final"
  },
  "orig_nbformat": 2,
  "kernelspec": {
   "name": "python3",
   "display_name": "Python 3.7.6 64-bit ('cpv': conda)",
   "metadata": {
    "interpreter": {
     "hash": "e25e0584590c458883016a89e0cf53be7d76548718d22946ce414c44a74f5c84"
    }
   }
  }
 },
 "nbformat": 4,
 "nbformat_minor": 2,
 "cells": [
  {
   "cell_type": "code",
   "execution_count": 1,
   "metadata": {},
   "outputs": [
    {
     "output_type": "stream",
     "name": "stdout",
     "text": [
      "a의 위치\n"
     ]
    }
   ],
   "source": [
    "#리턴? 함수를 실행했던 위치로 돌아가라는 뜻, 함수가 끝나는 위치도 의미\n",
    "\n",
    "def return_test():\n",
    "    print(\"a의 위치\")\n",
    "    return \n",
    "    print(\"B의 위치\")\n",
    "\n",
    "return_test()  # =>a의 위치"
   ]
  },
  {
   "cell_type": "code",
   "execution_count": 2,
   "metadata": {},
   "outputs": [
    {
     "output_type": "stream",
     "name": "stdout",
     "text": [
      "100\n"
     ]
    }
   ],
   "source": [
    "#리턴 뒤에 자료를 입력하면 자료를 가지고 리턴한다.\n",
    "def return_test():\n",
    "    return 100\n",
    "\n",
    "value = return_test()\n",
    "print(value)"
   ]
  },
  {
   "cell_type": "code",
   "execution_count": 11,
   "metadata": {},
   "outputs": [
    {
     "output_type": "stream",
     "name": "stdout",
     "text": [
      "0 에서 5 :  15\n0 에서 100 :  5050\n0 에서 1000 :  500500\n50 에서 100 :  3825\n"
     ]
    }
   ],
   "source": [
    "def sum_all(start, end):\n",
    "    output = 0\n",
    "    for i in range(start, end + 1):\n",
    "        output = output + i     #output =+ i\n",
    "    return output\n",
    "\n",
    "print(\"0 에서 5 : \", sum_all(0, 5))  #1 2 3 4 5\n",
    "print(\"0 에서 100 : \", sum_all(0,100))\n",
    "print(\"0 에서 1000 : \", sum_all(0,1000))\n",
    "print(\"50 에서 100 : \", sum_all(50,100))\n"
   ]
  },
  {
   "cell_type": "code",
   "execution_count": null,
   "metadata": {},
   "outputs": [],
   "source": []
  }
 ]
}