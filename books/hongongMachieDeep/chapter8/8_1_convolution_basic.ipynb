{
 "cells": [
  {
   "cell_type": "code",
   "execution_count": null,
   "source": [
    "#합성곱은 마치 입력 데이터에 마법의 도장을 찍어서 유용한 특성만 드러나게 하는 것. \r\n",
    "\r\n",
    "from tensorflow import keras\r\n",
    "keras.layers.Conv2D(10, kernal_size=(3,3), activation='relu')   #필터의 갯수, 커널의 크기\r\n",
    "\r\n"
   ],
   "outputs": [],
   "metadata": {}
  },
  {
   "cell_type": "code",
   "execution_count": null,
   "source": [
    "#패드와 스트라이드과 풀링\r\n",
    "#패드 => 입력 배열 주의를 가상의 원소로 채우는 것. 적절한 패딩은 주변에 있는 정보를 잃어버리지 않게 도와준다.\r\n",
    "#세임 패딩 = 입력 주위에 0으로 패딩 하는 것. 입력과 특성 맵의 크기를 동일하게 많으는 경우가 많다. => 맵의 크기 안 준다.\r\n",
    "#밸리드 패딩 = 순수한 입력 배열에서만 합성곱을 하여 특성 맵을 만드는 경우 => 맵의 크기가 줄어든다.\r\n",
    "\r\n",
    "#세임패딩 사용\r\n",
    "keras.layers.Conv2D(10, kernal_size=(3,3), activation='relu', padding='same')   #필터의 갯수, 커널의 크기\r\n",
    "#---------------------------------------------------------------------------------------------------------------------------------------------\r\n",
    "#스트라이드? => 이동하는 칸수. 기본적으로 1\r\n",
    "keras.layers.Conv2D(10, kernal_size=(3,3), activation='relu', padding='same', strides=1)   #필터의 갯수, 커널의 크기\r\n",
    "\r\n",
    "\r\n",
    "\r\n",
    "#---------------------------------------------------------------------------------------------------------------------------------------------\r\n",
    "#풀링 => 합성곱 층에서 만든 특성맵의 가로세로 크기를 줄이는 역할. (특성맵의 갯수는 그대로).  가중치가 없다.\r\n",
    "#도장을 찍은 영역에서 가장 큰 값을 고르는 것 => 맥스풀링\r\n",
    "#도장을 찍은 영역에서 평균값을 고르는 것 => 평균 풀링\r\n",
    "#패딩도 없고, 가중치도 없고, 풀링크기=스트라이드 크기 keras.layers.MaxPooling2D(2)\r\n",
    "\r\n",
    "keras.layers.MaxPooling2D(2, strides=2, padding='valid')  #풀링의 크기, 스트라이드 기본값은 자동으로 풀링의 크기. padding=valid로 패딩하지 않는다. \r\n",
    "##풀링은 가로세로 방향으로만 진행하고 특성 맵의 갯수는 변하지 않는다."
   ],
   "outputs": [],
   "metadata": {}
  }
 ],
 "metadata": {
  "orig_nbformat": 4,
  "language_info": {
   "name": "python"
  }
 },
 "nbformat": 4,
 "nbformat_minor": 2
}