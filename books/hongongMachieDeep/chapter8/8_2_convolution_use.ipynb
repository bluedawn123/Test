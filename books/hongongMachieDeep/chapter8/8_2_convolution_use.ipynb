{
 "cells": [
  {
   "cell_type": "code",
   "execution_count": 1,
   "source": [
    "from tensorflow import keras\r\n",
    "from sklearn.model_selection import train_test_split\r\n",
    "\r\n",
    "(train_input, train_target), (test_input, test_target) = \\\r\n",
    "    keras.datasets.fashion_mnist.load_data()\r\n",
    "#(48000, 28, 28) -> (48000, 28, 28, 1)\r\n",
    "train_scaled = train_input.reshape(-1, 28, 28, 1) / 255.0\r\n",
    "\r\n",
    "train_scaled, val_scaled, train_target, val_target = train_test_split(\r\n",
    "    train_scaled, train_target, test_size=0.2, random_state=42)\r\n",
    "\r\n",
    "model = keras.Sequential()\r\n",
    "model.add(keras.layers.Conv2D(32, kernel_size=3, activation='relu', \r\n",
    "                              padding='same', input_shape=(28,28,1)))\r\n",
    "\r\n",
    "model.add(keras.layers.MaxPooling2D(2))\r\n",
    "model.add(keras.layers.Conv2D(64, kernel_size=(3,3), activation='relu', \r\n",
    "                              padding='same'))\r\n",
    "model.add(keras.layers.MaxPooling2D(2))\r\n",
    "#3차원 특성맵을 일렬로\r\n",
    "model.add(keras.layers.Flatten())\r\n",
    "model.add(keras.layers.Dense(100, activation='relu'))\r\n",
    "model.add(keras.layers.Dropout(0.4))\r\n",
    "model.add(keras.layers.Dense(10, activation='softmax'))\r\n",
    "model.summary()                         \r\n",
    "\r\n",
    "#모델 컴파일과 훈련\r\n",
    "model.compile(optimizer='adam', loss='sparse_categorical_crossentropy', \r\n",
    "              metrics='accuracy')\r\n",
    "\r\n",
    "checkpoint_cb = keras.callbacks.ModelCheckpoint('best-cnn-model.h5', \r\n",
    "                                                save_best_only=True)\r\n",
    "early_stopping_cb = keras.callbacks.EarlyStopping(patience=2,\r\n",
    "                                                  restore_best_weights=True)\r\n",
    "\r\n",
    "history = model.fit(train_scaled, train_target, epochs=20,\r\n",
    "                    validation_data=(val_scaled, val_target),\r\n",
    "                    callbacks=[checkpoint_cb, early_stopping_cb])\r\n",
    "\r\n",
    "import matplotlib.pyplot as plt\r\n",
    "plt.plot(history.history['loss'])\r\n",
    "plt.plot(history.history['val_loss'])\r\n",
    "plt.xlabel('epoch')\r\n",
    "plt.ylabel('loss')\r\n",
    "plt.legend(['train', 'val'])\r\n",
    "plt.show()"
   ],
   "outputs": [
    {
     "output_type": "stream",
     "name": "stdout",
     "text": [
      "Model: \"sequential\"\n",
      "_________________________________________________________________\n",
      "Layer (type)                 Output Shape              Param #   \n",
      "=================================================================\n",
      "conv2d (Conv2D)              (None, 28, 28, 32)        320       \n",
      "_________________________________________________________________\n",
      "max_pooling2d (MaxPooling2D) (None, 14, 14, 32)        0         \n",
      "_________________________________________________________________\n",
      "conv2d_1 (Conv2D)            (None, 14, 14, 64)        18496     \n",
      "_________________________________________________________________\n",
      "max_pooling2d_1 (MaxPooling2 (None, 7, 7, 64)          0         \n",
      "_________________________________________________________________\n",
      "flatten (Flatten)            (None, 3136)              0         \n",
      "_________________________________________________________________\n",
      "dense (Dense)                (None, 100)               313700    \n",
      "_________________________________________________________________\n",
      "dropout (Dropout)            (None, 100)               0         \n",
      "_________________________________________________________________\n",
      "dense_1 (Dense)              (None, 10)                1010      \n",
      "=================================================================\n",
      "Total params: 333,526\n",
      "Trainable params: 333,526\n",
      "Non-trainable params: 0\n",
      "_________________________________________________________________\n",
      "Epoch 1/20\n",
      "1500/1500 [==============================] - 14s 9ms/step - loss: 0.7362 - accuracy: 0.7389 - val_loss: 0.3409 - val_accuracy: 0.8726\n",
      "Epoch 2/20\n",
      " 633/1500 [===========>..................] - ETA: 7s - loss: 0.3878 - accuracy: 0.8624"
     ]
    }
   ],
   "metadata": {}
  },
  {
   "cell_type": "code",
   "execution_count": null,
   "source": [],
   "outputs": [],
   "metadata": {}
  }
 ],
 "metadata": {
  "orig_nbformat": 4,
  "language_info": {
   "name": "python",
   "version": "3.8.8",
   "mimetype": "text/x-python",
   "codemirror_mode": {
    "name": "ipython",
    "version": 3
   },
   "pygments_lexer": "ipython3",
   "nbconvert_exporter": "python",
   "file_extension": ".py"
  },
  "kernelspec": {
   "name": "python3",
   "display_name": "Python 3.8.8 64-bit ('base': conda)"
  },
  "interpreter": {
   "hash": "fa422f78b08b4ed23ea77d9d51ba71e035ebabb7673f323e99ba8b680a1634b6"
  }
 },
 "nbformat": 4,
 "nbformat_minor": 2
}