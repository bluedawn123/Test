{
 "metadata": {
  "language_info": {
   "codemirror_mode": {
    "name": "ipython",
    "version": 3
   },
   "file_extension": ".py",
   "mimetype": "text/x-python",
   "name": "python",
   "nbconvert_exporter": "python",
   "pygments_lexer": "ipython3",
   "version": "3.7.6"
  },
  "orig_nbformat": 4,
  "kernelspec": {
   "name": "python3",
   "display_name": "Python 3.7.6 64-bit ('cpv': conda)"
  },
  "interpreter": {
   "hash": "e25e0584590c458883016a89e0cf53be7d76548718d22946ce414c44a74f5c84"
  }
 },
 "nbformat": 4,
 "nbformat_minor": 2,
 "cells": [
  {
   "cell_type": "code",
   "execution_count": 3,
   "metadata": {},
   "outputs": [],
   "source": [
    "#page207 \n",
    "#SGD classifier\n",
    "\n",
    "import pandas as pd\n",
    "fish = pd.read_csv('https://bit.ly/fish_csv_data')\n",
    "\n",
    "fish_input = fish[['Weight', 'Length', 'Diagonal', 'Height', 'Width']].to_numpy()\n",
    "fish_target = fish[['Species']].to_numpy()\n",
    "\n",
    "from sklearn.model_selection import train_test_split\n",
    "train_input, test_input, train_target, test_target = train_test_split(fish_input, fish_target, random_state=42)\n",
    "\n",
    "from sklearn.preprocessing import StandardScaler\n",
    "ss = StandardScaler()\n",
    "ss.fit(train_input)\n",
    "train_scaled = ss.transform(train_input)\n",
    "test_scaled = ss.transform(test_input)            #특성값의 스케일까지 맞춤\n"
   ]
  },
  {
   "cell_type": "code",
   "execution_count": 13,
   "metadata": {},
   "outputs": [
    {
     "output_type": "stream",
     "name": "stdout",
     "text": [
      "훈련 점수 :  0.773109243697479\n",
      "테스트 점수 :  0.775\n",
      "C:\\Users\\YOONJUNHO\\.conda\\envs\\cpv\\lib\\site-packages\\sklearn\\utils\\validation.py:760: DataConversionWarning: A column-vector y was passed when a 1d array was expected. Please change the shape of y to (n_samples, ), for example using ravel().\n",
      "  y = column_or_1d(y, warn=True)\n",
      "C:\\Users\\YOONJUNHO\\.conda\\envs\\cpv\\lib\\site-packages\\sklearn\\linear_model\\_stochastic_gradient.py:557: ConvergenceWarning: Maximum number of iteration reached before convergence. Consider increasing max_iter to improve the fit.\n",
      "  ConvergenceWarning)\n"
     ]
    }
   ],
   "source": [
    "#사이킷런에서 확률적 경사 하강법을 제공하는 대표적인 분류용 클래스 => SGDclassifier\n",
    "from sklearn.linear_model import SGDClassifier\n",
    "\n",
    "#####SGDclassifier의 객체를 만들 때 2개의 매개변수를 지정해야 한다. \n",
    "#손실함수, 즉 loss = log\n",
    "#max_iter, 수행할 에포크 횟수 지정. 10이면 전체 훈련 세트를 10회 반복\n",
    "\n",
    "sc = SGDClassifier(loss='log', max_iter=10, random_state=42)\n",
    "sc.fit(train_scaled, train_target)\n",
    "print(\"훈련 점수 : \", sc.score(train_scaled, train_target))  #훈련 점수 :  0.773109243697479\n",
    "print(\"테스트 점수 : \", sc.score(test_scaled, test_target))  #테스트 점수 :  0.775"
   ]
  },
  {
   "cell_type": "code",
   "execution_count": 16,
   "metadata": {},
   "outputs": [
    {
     "output_type": "stream",
     "name": "stdout",
     "text": [
      "0.8151260504201681\n",
      "0.825\n",
      "C:\\Users\\YOONJUNHO\\.conda\\envs\\cpv\\lib\\site-packages\\sklearn\\utils\\validation.py:760: DataConversionWarning: A column-vector y was passed when a 1d array was expected. Please change the shape of y to (n_samples, ), for example using ravel().\n",
      "  y = column_or_1d(y, warn=True)\n"
     ]
    }
   ],
   "source": [
    "##중요한 것은, 호가률적 경사하강법은 점진적 학습이 가능하다는 것이다. SGDClassifier 객체를 다시 만들지 않고 훈련한 sc모델로 추가 훈련을 해보자\n",
    "#모델을 이어서 훈련할 때는 partial_fit() 을 사용한다. \n",
    "\n",
    "sc.partial_fit(train_scaled, train_target)\n",
    "print(sc.score(train_scaled, train_target))   #0.8151260504201681\n",
    "print(sc.score(test_scaled, test_target))     #0.825"
   ]
  },
  {
   "cell_type": "code",
   "execution_count": null,
   "metadata": {},
   "outputs": [],
   "source": []
  }
 ]
}