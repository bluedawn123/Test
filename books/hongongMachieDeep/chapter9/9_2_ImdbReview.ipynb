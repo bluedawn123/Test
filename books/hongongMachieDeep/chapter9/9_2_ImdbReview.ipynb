{
 "cells": [
  {
   "cell_type": "code",
   "execution_count": 18,
   "source": [
    "from tensorflow import keras\r\n",
    "from tensorflow.keras.datasets import imdb\r\n",
    "import warnings\r\n",
    "import numpy as np\r\n",
    "warnings.filterwarnings(\"ignore\", category=np.VisibleDeprecationWarning) \r\n",
    "\r\n",
    "(train_input, train_target), (test_input, test_target) = imdb.load_data(num_words=500)\r\n",
    "print(\"훈련세트, 테스트 세트 크기 확인 : \", train_input.shape, test_input.shape)  \r\n",
    "#(25000, ) (25000, )  => 2차원을 1차원으로 하는 것보다 1차원으로 해서 메모리 효율 높이기\r\n",
    "print(\"첫번째 리뷰의 길이 출력 : \", len(train_input[1]))  #첫번째 리뷰의 길이 출력 :  189\r\n",
    "\r\n",
    "'''\r\n",
    "#1~10번째까지의 리뷰의 길이\r\n",
    "for i in range(10):\r\n",
    "    print(len(train_input[i]))\r\n",
    "'''\r\n",
    "\r\n",
    "#첫번째 리뷰의 내용 출력\r\n",
    "print(train_input[0])  #이미 데이터는 정수화 되어있다. 어휘사전에는 500개의 단어가 있고 사전에 없으면 2로 표시\r\n",
    "\r\n",
    "#타깃데이터 출력\r\n",
    "print(train_target[:20])  #0 or 1. 긍정이냐 부정이냐?\r\n",
    "\r\n",
    "#검증세트20프로로 분리\r\n",
    "from sklearn.model_selection import train_test_split\r\n",
    "train_input, val_input, train_target, val_target = train_test_split(train_input, train_target, test_size=0.2, random_state=42)\r\n",
    "\r\n",
    "#리뷰 길이 계산를 계산해 넘파이 배열로.\r\n",
    "#리뷰 길이를 알아야 어느 정도 토큰(단어)를 사용할 지 정할수 있기 때문\r\n",
    "lengths = np.array([len(x) for x in train_input])\r\n",
    "print(np.mean(lengths), np.median(lengths))      #239.00925 178.0\r\n",
    "print(\"lengths : \", lengths)\r\n",
    "\r\n",
    "\r\n",
    "#히스토그램으로 리뷰 길이(lengths 배열) 표현\r\n",
    "import matplotlib.pyplot as plt\r\n",
    "plt.hist(lengths)\r\n",
    "plt.xlabel('lengths')\r\n",
    "plt.ylabel('frequedddncy')\r\n",
    "plt.show()\r\n",
    "\r\n",
    "\r\n",
    "##100개의 단어보다 작은 리뷰들이 많으므로 토큰의 길이를 100으로 맞춘다. 보통 패딩을 나타내는 토큰으로는 0사용\r\n",
    "from tensorflow.keras.preprocessing.sequence import pad_sequences\r\n",
    "train_seq = pad_sequences(train_input, maxlen=100)  #=>maxlen을 사용하면 이보다 긴 경우는 자르고 짧으면 0으로 패딩\r\n",
    "\r\n",
    "print(\"토큰 100으로 자른 train_seq의 형태 : \", train_seq.shape)  #(20000, 100)\r\n",
    "\r\n",
    "#기본적으로 100자를 기준으로 하는 경우, 기준이 100이 넘어가면 뒤를 자르나 중요정보가 뒤에 많으므로 뒤를 살려준다. => pad_sequences() 사용\r\n",
    "val_seq = pad_sequences(val_input, maxlen=100)\r\n",
    "\r\n",
    "model = keras.Sequential()\r\n",
    "model.add(keras.layers.SimpleRNN(8, input_shape=(100, 500)))\r\n",
    "model.add(keras.layers.Dense(1, activation='sigmoid'))\r\n",
    "\r\n",
    "#train_seq => 원핫인코딩\r\n",
    "train_oh = keras.utils.to_categorical(train_seq)\r\n",
    "print(\"원핫인코딩 된 train_seq, 즉 train_oh의 형태 : \", train_oh.shape)  # (20000, 100, 500)\r\n",
    "\r\n",
    "#토큰 100으로 자른 train_seq의 형태 :  (20000, 100)\r\n",
    "#원핫인코딩 된 train_seq, 즉 train_oh의 형태 :  (20000, 100, 500)\r\n",
    "#즉, 정수 하나마다 모두 500차원의 배열로 변경했기 때문에 (20000, 100) => (20000, 100, 500)으로 변경\r\n",
    "\r\n",
    "#val_seq => 원핫인코딩\r\n",
    "val_oh = keras.utils.to_categorical(val_seq)\r\n",
    "\r\n",
    "model.summary()"
   ],
   "outputs": [
    {
     "output_type": "stream",
     "name": "stdout",
     "text": [
      "훈련세트, 테스트 세트 크기 확인 :  (25000,) (25000,)\n",
      "첫번째 리뷰의 길이 출력 :  189\n",
      "[1, 14, 22, 16, 43, 2, 2, 2, 2, 65, 458, 2, 66, 2, 4, 173, 36, 256, 5, 25, 100, 43, 2, 112, 50, 2, 2, 9, 35, 480, 284, 5, 150, 4, 172, 112, 167, 2, 336, 385, 39, 4, 172, 2, 2, 17, 2, 38, 13, 447, 4, 192, 50, 16, 6, 147, 2, 19, 14, 22, 4, 2, 2, 469, 4, 22, 71, 87, 12, 16, 43, 2, 38, 76, 15, 13, 2, 4, 22, 17, 2, 17, 12, 16, 2, 18, 2, 5, 62, 386, 12, 8, 316, 8, 106, 5, 4, 2, 2, 16, 480, 66, 2, 33, 4, 130, 12, 16, 38, 2, 5, 25, 124, 51, 36, 135, 48, 25, 2, 33, 6, 22, 12, 215, 28, 77, 52, 5, 14, 407, 16, 82, 2, 8, 4, 107, 117, 2, 15, 256, 4, 2, 7, 2, 5, 2, 36, 71, 43, 2, 476, 26, 400, 317, 46, 7, 4, 2, 2, 13, 104, 88, 4, 381, 15, 297, 98, 32, 2, 56, 26, 141, 6, 194, 2, 18, 4, 226, 22, 21, 134, 476, 26, 480, 5, 144, 30, 2, 18, 51, 36, 28, 224, 92, 25, 104, 4, 226, 65, 16, 38, 2, 88, 12, 16, 283, 5, 16, 2, 113, 103, 32, 15, 16, 2, 19, 178, 32]\n",
      "[1 0 0 1 0 0 1 0 1 0 1 0 0 0 0 0 1 1 0 1]\n",
      "239.00925 178.0\n",
      "lengths :  [259 520 290 ... 300  70  77]\n"
     ]
    },
    {
     "output_type": "display_data",
     "data": {
      "text/plain": [
       "<Figure size 432x288 with 1 Axes>"
      ],
      "image/png": "[encoded data removed]"
     },
     "metadata": {
      "needs_background": "light"
     }
    },
    {
     "output_type": "stream",
     "name": "stdout",
     "text": [
      "토큰 100으로 자른 train_seq의 형태 :  (20000, 100)\n",
      "원핫인코딩 된 train_seq, 즉 train_oh의 형태 :  (20000, 100, 500)\n",
      "Model: \"sequential_1\"\n",
      "_________________________________________________________________\n",
      "Layer (type)                 Output Shape              Param #   \n",
      "=================================================================\n",
      "simple_rnn_1 (SimpleRNN)     (None, 8)                 4072      \n",
      "_________________________________________________________________\n",
      "dense_1 (Dense)              (None, 1)                 9         \n",
      "=================================================================\n",
      "Total params: 4,081\n",
      "Trainable params: 4,081\n",
      "Non-trainable params: 0\n",
      "_________________________________________________________________\n"
     ]
    }
   ],
   "metadata": {}
  },
  {
   "cell_type": "code",
   "execution_count": 20,
   "source": [
    "#순환신경망 훈련하기\r\n",
    "rmsprop = keras.optimizers.RMSprop(learning_rate=0.001)\r\n",
    "model.compile(optimizer=rmsprop, loss='binary_crossentropy', metrics=['accuracy'])\r\n",
    "checkpoint_cb = keras.callbacks.ModelCheckpoint('best-simple-model.h5')\r\n",
    "early_stopping_cb = keras.callbacks.EarlyStopping(patience=3, restore_best_weights=True)\r\n",
    "history = model.fit(train_oh, train_target, epochs=100, batch_size=64, validation_data=(val_oh, val_target), callbacks=[checkpoint_cb, early_stopping_cb])\r\n",
    "\r\n"
   ],
   "outputs": [
    {
     "output_type": "stream",
     "name": "stdout",
     "text": [
      "Epoch 1/100\n",
      "313/313 [==============================] - 22s 61ms/step - loss: 0.6944 - accuracy: 0.5126 - val_loss: 0.6762 - val_accuracy: 0.5768\n",
      "Epoch 2/100\n",
      "313/313 [==============================] - 18s 57ms/step - loss: 0.6335 - accuracy: 0.6502 - val_loss: 0.5661 - val_accuracy: 0.7200\n",
      "Epoch 3/100\n",
      "313/313 [==============================] - 19s 60ms/step - loss: 0.5401 - accuracy: 0.7393 - val_loss: 0.5620 - val_accuracy: 0.7194\n",
      "Epoch 4/100\n",
      "313/313 [==============================] - 18s 56ms/step - loss: 0.4870 - accuracy: 0.7752 - val_loss: 0.5427 - val_accuracy: 0.7346\n",
      "Epoch 5/100\n",
      "313/313 [==============================] - 16s 50ms/step - loss: 0.4652 - accuracy: 0.7894 - val_loss: 0.5163 - val_accuracy: 0.7512\n",
      "Epoch 6/100\n",
      "313/313 [==============================] - 16s 50ms/step - loss: 0.4494 - accuracy: 0.7986 - val_loss: 0.5150 - val_accuracy: 0.7516\n",
      "Epoch 7/100\n",
      "313/313 [==============================] - 18s 59ms/step - loss: 0.4307 - accuracy: 0.8120 - val_loss: 0.4655 - val_accuracy: 0.7876\n",
      "Epoch 8/100\n",
      "313/313 [==============================] - 19s 60ms/step - loss: 0.4238 - accuracy: 0.8131 - val_loss: 0.5329 - val_accuracy: 0.7510\n",
      "Epoch 9/100\n",
      "313/313 [==============================] - 19s 61ms/step - loss: 0.4151 - accuracy: 0.8161 - val_loss: 0.4665 - val_accuracy: 0.7852\n",
      "Epoch 10/100\n",
      "313/313 [==============================] - 18s 58ms/step - loss: 0.4056 - accuracy: 0.8232 - val_loss: 0.4831 - val_accuracy: 0.7806\n"
     ]
    }
   ],
   "metadata": {}
  },
  {
   "cell_type": "code",
   "execution_count": 21,
   "source": [
    "plt.plot(history.history['loss'])\r\n",
    "plt.plot(history.history['val_loss'])\r\n",
    "plt.xlabel('epoch')\r\n",
    "plt.ylabel('loss')\r\n",
    "plt.legend(['train', 'val'])\r\n",
    "plt.show()"
   ],
   "outputs": [
    {
     "output_type": "display_data",
     "data": {
      "text/plain": [
       "<Figure size 432x288 with 1 Axes>"
      ],
      "image/png": "[encoded data removed]"
     },
     "metadata": {
      "needs_background": "light"
     }
    }
   ],
   "metadata": {}
  },
  {
   "cell_type": "code",
   "execution_count": 24,
   "source": [
    "#원핫인코딩이 아닌, 단어 임베딩을 이용한 모델링\r\n",
    "model2 = keras.Sequential()\r\n",
    "model2.add(keras.layers.Embedding(500, 16, input_length=100))\r\n",
    "model2.add(keras.layers.SimpleRNN(8))\r\n",
    "model2.add(keras.layers.Dense(1, activation='sigmoid'))\r\n",
    "model2.summary()\r\n",
    "#500은 어휘사전의 크기. 16은 임베딩 벡터의 크기. input_length는 입력 시퀀스의 길이. \r\n",
    "\r\n",
    "rmsprop = keras.optimizers.RMSprop(learning_rate=1e-4)\r\n",
    "model2.compile(optimizer=rmsprop, loss='binary_crossentropy', metrics=['accuracy'])\r\n",
    "checkpoint_cb = keras.callbacks.ModelCheckpoint('best-embedding-model.h5')\r\n",
    "early_stopping_cb = keras.callbacks.EarlyStopping(patience=3, restore_best_weights=True)\r\n",
    "history = model2.fit(train_seq, train_target, epochs=100, batch_size=64, validation_data=(val_seq, val_target), callbacks=[checkpoint_cb, early_stopping_cb])"
   ],
   "outputs": [
    {
     "output_type": "stream",
     "name": "stdout",
     "text": [
      "Model: \"sequential_4\"\n",
      "_________________________________________________________________\n",
      "Layer (type)                 Output Shape              Param #   \n",
      "=================================================================\n",
      "embedding_2 (Embedding)      (None, 100, 16)           8000      \n",
      "_________________________________________________________________\n",
      "simple_rnn_4 (SimpleRNN)     (None, 8)                 200       \n",
      "_________________________________________________________________\n",
      "dense_4 (Dense)              (None, 1)                 9         \n",
      "=================================================================\n",
      "Total params: 8,209\n",
      "Trainable params: 8,209\n",
      "Non-trainable params: 0\n",
      "_________________________________________________________________\n"
     ]
    },
    {
     "output_type": "error",
     "ename": "RuntimeError",
     "evalue": "You must compile your model before training/testing. Use `model.compile(optimizer, loss)`.",
     "traceback": [
      "\u001b[1;31m---------------------------------------------------------------------------\u001b[0m",
      "\u001b[1;31mRuntimeError\u001b[0m                              Traceback (most recent call last)",
      "\u001b[1;32m<ipython-input-24-10825afde38a>\u001b[0m in \u001b[0;36m<module>\u001b[1;34m\u001b[0m\n\u001b[0;32m     11\u001b[0m \u001b[0mcheckpoint_cb\u001b[0m \u001b[1;33m=\u001b[0m \u001b[0mkeras\u001b[0m\u001b[1;33m.\u001b[0m\u001b[0mcallbacks\u001b[0m\u001b[1;33m.\u001b[0m\u001b[0mModelCheckpoint\u001b[0m\u001b[1;33m(\u001b[0m\u001b[1;34m'best-embedding-model.h5'\u001b[0m\u001b[1;33m)\u001b[0m\u001b[1;33m\u001b[0m\u001b[1;33m\u001b[0m\u001b[0m\n\u001b[0;32m     12\u001b[0m \u001b[0mearly_stopping_cb\u001b[0m \u001b[1;33m=\u001b[0m \u001b[0mkeras\u001b[0m\u001b[1;33m.\u001b[0m\u001b[0mcallbacks\u001b[0m\u001b[1;33m.\u001b[0m\u001b[0mEarlyStopping\u001b[0m\u001b[1;33m(\u001b[0m\u001b[0mpatience\u001b[0m\u001b[1;33m=\u001b[0m\u001b[1;36m3\u001b[0m\u001b[1;33m,\u001b[0m \u001b[0mrestore_best_weights\u001b[0m\u001b[1;33m=\u001b[0m\u001b[1;32mTrue\u001b[0m\u001b[1;33m)\u001b[0m\u001b[1;33m\u001b[0m\u001b[1;33m\u001b[0m\u001b[0m\n\u001b[1;32m---> 13\u001b[1;33m \u001b[0mhistory\u001b[0m \u001b[1;33m=\u001b[0m \u001b[0mmodel2\u001b[0m\u001b[1;33m.\u001b[0m\u001b[0mfit\u001b[0m\u001b[1;33m(\u001b[0m\u001b[0mtrain_seq\u001b[0m\u001b[1;33m,\u001b[0m \u001b[0mtrain_target\u001b[0m\u001b[1;33m,\u001b[0m \u001b[0mepochs\u001b[0m\u001b[1;33m=\u001b[0m\u001b[1;36m100\u001b[0m\u001b[1;33m,\u001b[0m \u001b[0mbatch_size\u001b[0m\u001b[1;33m=\u001b[0m\u001b[1;36m64\u001b[0m\u001b[1;33m,\u001b[0m \u001b[0mvalidation_data\u001b[0m\u001b[1;33m=\u001b[0m\u001b[1;33m(\u001b[0m\u001b[0mval_seq\u001b[0m\u001b[1;33m,\u001b[0m \u001b[0mval_target\u001b[0m\u001b[1;33m)\u001b[0m\u001b[1;33m,\u001b[0m \u001b[0mcallbacks\u001b[0m\u001b[1;33m=\u001b[0m\u001b[1;33m[\u001b[0m\u001b[0mcheckpoint_cb\u001b[0m\u001b[1;33m,\u001b[0m \u001b[0mearly_stopping_cb\u001b[0m\u001b[1;33m]\u001b[0m\u001b[1;33m)\u001b[0m\u001b[1;33m\u001b[0m\u001b[1;33m\u001b[0m\u001b[0m\n\u001b[0m",
      "\u001b[1;32m~\\anaconda3\\lib\\site-packages\\tensorflow\\python\\keras\\engine\\training.py\u001b[0m in \u001b[0;36mfit\u001b[1;34m(self, x, y, batch_size, epochs, verbose, callbacks, validation_split, validation_data, shuffle, class_weight, sample_weight, initial_epoch, steps_per_epoch, validation_steps, validation_batch_size, validation_freq, max_queue_size, workers, use_multiprocessing)\u001b[0m\n\u001b[0;32m   1030\u001b[0m     \u001b[1;31m# Legacy graph support is contained in `training_v1.Model`.\u001b[0m\u001b[1;33m\u001b[0m\u001b[1;33m\u001b[0m\u001b[1;33m\u001b[0m\u001b[0m\n\u001b[0;32m   1031\u001b[0m     \u001b[0mversion_utils\u001b[0m\u001b[1;33m.\u001b[0m\u001b[0mdisallow_legacy_graph\u001b[0m\u001b[1;33m(\u001b[0m\u001b[1;34m'Model'\u001b[0m\u001b[1;33m,\u001b[0m \u001b[1;34m'fit'\u001b[0m\u001b[1;33m)\u001b[0m\u001b[1;33m\u001b[0m\u001b[1;33m\u001b[0m\u001b[0m\n\u001b[1;32m-> 1032\u001b[1;33m     \u001b[0mself\u001b[0m\u001b[1;33m.\u001b[0m\u001b[0m_assert_compile_was_called\u001b[0m\u001b[1;33m(\u001b[0m\u001b[1;33m)\u001b[0m\u001b[1;33m\u001b[0m\u001b[1;33m\u001b[0m\u001b[0m\n\u001b[0m\u001b[0;32m   1033\u001b[0m     \u001b[0mself\u001b[0m\u001b[1;33m.\u001b[0m\u001b[0m_check_call_args\u001b[0m\u001b[1;33m(\u001b[0m\u001b[1;34m'fit'\u001b[0m\u001b[1;33m)\u001b[0m\u001b[1;33m\u001b[0m\u001b[1;33m\u001b[0m\u001b[0m\n\u001b[0;32m   1034\u001b[0m     \u001b[0m_disallow_inside_tf_function\u001b[0m\u001b[1;33m(\u001b[0m\u001b[1;34m'fit'\u001b[0m\u001b[1;33m)\u001b[0m\u001b[1;33m\u001b[0m\u001b[1;33m\u001b[0m\u001b[0m\n",
      "\u001b[1;32m~\\anaconda3\\lib\\site-packages\\tensorflow\\python\\keras\\engine\\training.py\u001b[0m in \u001b[0;36m_assert_compile_was_called\u001b[1;34m(self)\u001b[0m\n\u001b[0;32m   2590\u001b[0m     \u001b[1;31m# (i.e. whether the model is built and its inputs/outputs are set).\u001b[0m\u001b[1;33m\u001b[0m\u001b[1;33m\u001b[0m\u001b[1;33m\u001b[0m\u001b[0m\n\u001b[0;32m   2591\u001b[0m     \u001b[1;32mif\u001b[0m \u001b[1;32mnot\u001b[0m \u001b[0mself\u001b[0m\u001b[1;33m.\u001b[0m\u001b[0m_is_compiled\u001b[0m\u001b[1;33m:\u001b[0m\u001b[1;33m\u001b[0m\u001b[1;33m\u001b[0m\u001b[0m\n\u001b[1;32m-> 2592\u001b[1;33m       raise RuntimeError('You must compile your model before '\n\u001b[0m\u001b[0;32m   2593\u001b[0m                          \u001b[1;34m'training/testing. '\u001b[0m\u001b[1;33m\u001b[0m\u001b[1;33m\u001b[0m\u001b[0m\n\u001b[0;32m   2594\u001b[0m                          'Use `model.compile(optimizer, loss)`.')\n",
      "\u001b[1;31mRuntimeError\u001b[0m: You must compile your model before training/testing. Use `model.compile(optimizer, loss)`."
     ]
    }
   ],
   "metadata": {}
  },
  {
   "cell_type": "code",
   "execution_count": null,
   "source": [],
   "outputs": [],
   "metadata": {}
  }
 ],
 "metadata": {
  "orig_nbformat": 4,
  "language_info": {
   "name": "python",
   "version": "3.8.8",
   "mimetype": "text/x-python",
   "codemirror_mode": {
    "name": "ipython",
    "version": 3
   },
   "pygments_lexer": "ipython3",
   "nbconvert_exporter": "python",
   "file_extension": ".py"
  },
  "kernelspec": {
   "name": "python3",
   "display_name": "Python 3.8.8 64-bit ('base': conda)"
  },
  "interpreter": {
   "hash": "fa422f78b08b4ed23ea77d9d51ba71e035ebabb7673f323e99ba8b680a1634b6"
  }
 },
 "nbformat": 4,
 "nbformat_minor": 2
}