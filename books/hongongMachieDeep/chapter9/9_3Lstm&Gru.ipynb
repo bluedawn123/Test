{
 "cells": [
  {
   "cell_type": "code",
   "execution_count": 1,
   "source": [
    "#1. LSTM응용\r\n",
    "\r\n",
    "from tensorflow import keras\r\n",
    "from tensorflow.keras.datasets import imdb\r\n",
    "import warnings\r\n",
    "import numpy as np\r\n",
    "warnings.filterwarnings(\"ignore\", category=np.VisibleDeprecationWarning) \r\n",
    "from sklearn.model_selection import train_test_split\r\n",
    "import matplotlib.pyplot as plt\r\n",
    "from keras.layers import Dense, LSTM, Input\r\n",
    "import tensorflow as tf\r\n",
    "\r\n",
    "gpu_devices = tf.config.experimental.list_physical_devices(\"GPU\")\r\n",
    "for device in gpu_devices:\r\n",
    "    tf.config.experimental.set_memory_growth(device, True)\r\n",
    "\r\n",
    "\r\n",
    "(train_input, train_target), (test_input, test_target) = imdb.load_data(num_words=500)\r\n",
    "train_input, val_input, train_target, val_target = train_test_split(train_input, train_target, test_size=0.2, random_state=42)\r\n",
    "\r\n",
    "\r\n",
    "from tensorflow.keras.preprocessing.sequence import pad_sequences\r\n",
    "train_seq = pad_sequences(train_input, maxlen=100)\r\n",
    "val_seq = pad_sequences(val_input, maxlen=100)\r\n",
    "\r\n",
    "\r\n",
    "model = keras.Sequential()\r\n",
    "model.add(keras.layers.Embedding(500, 16, input_length=100))\r\n",
    "model.add(keras.layers.LSTM(8))\r\n",
    "model.add(keras.layers.Dense(1, activation='sigmoid'))\r\n",
    "model.summary()\r\n",
    "\r\n",
    "rmsprop = keras.optimizers.RMSprop(learning_rate=0.0001)\r\n",
    "model.compile(optimizer=rmsprop, loss='binary_crossentropy', \r\n",
    "              metrics=['accuracy'])\r\n",
    "\r\n",
    "checkpoint_cb = keras.callbacks.ModelCheckpoint('best-lstm-model1.h5', \r\n",
    "                                                save_best_only=True)\r\n",
    "early_stopping_cb = keras.callbacks.EarlyStopping(patience=3,\r\n",
    "                                                  restore_best_weights=True)\r\n",
    "\r\n",
    "history = model.fit(train_seq, train_target, epochs=10, batch_size=32,\r\n",
    "                    validation_data=(val_seq, val_target),\r\n",
    "                    callbacks=[checkpoint_cb, early_stopping_cb])\r\n",
    "\r\n",
    "plt.plot(history.history['loss'])\r\n",
    "plt.plot(history.history['val_loss'])\r\n",
    "plt.xlabel('epoch')\r\n",
    "plt.ylabel('loss')\r\n",
    "plt.legend(['train', 'val'])\r\n",
    "plt.show()"
   ],
   "outputs": [
    {
     "output_type": "stream",
     "name": "stdout",
     "text": [
      "Model: \"sequential\"\n",
      "_________________________________________________________________\n",
      "Layer (type)                 Output Shape              Param #   \n",
      "=================================================================\n",
      "embedding (Embedding)        (None, 100, 16)           8000      \n",
      "_________________________________________________________________\n",
      "lstm (LSTM)                  (None, 8)                 800       \n",
      "_________________________________________________________________\n",
      "dense (Dense)                (None, 1)                 9         \n",
      "=================================================================\n",
      "Total params: 8,809\n",
      "Trainable params: 8,809\n",
      "Non-trainable params: 0\n",
      "_________________________________________________________________\n",
      "Epoch 1/10\n",
      "625/625 [==============================] - 7s 8ms/step - loss: 0.6923 - accuracy: 0.5471 - val_loss: 0.6873 - val_accuracy: 0.6592\n",
      "Epoch 2/10\n",
      "625/625 [==============================] - 4s 7ms/step - loss: 0.6761 - accuracy: 0.6724 - val_loss: 0.6241 - val_accuracy: 0.7118\n",
      "Epoch 3/10\n",
      "625/625 [==============================] - 4s 7ms/step - loss: 0.6134 - accuracy: 0.7121 - val_loss: 0.5875 - val_accuracy: 0.7342\n",
      "Epoch 4/10\n",
      "625/625 [==============================] - 4s 7ms/step - loss: 0.5778 - accuracy: 0.7382 - val_loss: 0.5539 - val_accuracy: 0.7480\n",
      "Epoch 5/10\n",
      "625/625 [==============================] - 4s 7ms/step - loss: 0.5375 - accuracy: 0.7626 - val_loss: 0.5186 - val_accuracy: 0.7660\n",
      "Epoch 6/10\n",
      "625/625 [==============================] - 4s 7ms/step - loss: 0.5081 - accuracy: 0.7764 - val_loss: 0.4911 - val_accuracy: 0.7748\n",
      "Epoch 7/10\n",
      "625/625 [==============================] - 4s 7ms/step - loss: 0.4777 - accuracy: 0.7869 - val_loss: 0.4774 - val_accuracy: 0.7796\n",
      "Epoch 8/10\n",
      "625/625 [==============================] - 4s 7ms/step - loss: 0.4652 - accuracy: 0.7940 - val_loss: 0.4682 - val_accuracy: 0.7830\n",
      "Epoch 9/10\n",
      "625/625 [==============================] - 4s 7ms/step - loss: 0.4535 - accuracy: 0.7956 - val_loss: 0.4620 - val_accuracy: 0.7848\n",
      "Epoch 10/10\n",
      "625/625 [==============================] - 4s 7ms/step - loss: 0.4461 - accuracy: 0.8001 - val_loss: 0.4578 - val_accuracy: 0.7884\n"
     ]
    },
    {
     "output_type": "display_data",
     "data": {
      "text/plain": [
       "<Figure size 432x288 with 1 Axes>"
      ],
      "image/png": "[encoded data removed]"
     },
     "metadata": {
      "needs_background": "light"
     }
    }
   ],
   "metadata": {}
  },
  {
   "cell_type": "code",
   "execution_count": 2,
   "source": [
    "#2 순환층에 드롭아웃 적용\r\n",
    "model2 = keras.Sequential()\r\n",
    "model2.add(keras.layers.Embedding(500, 16, input_length=100))\r\n",
    "model2.add(keras.layers.LSTM(8, dropout=0.25))\r\n",
    "model2.add(keras.layers.Dense(1, activation='sigmoid'))\r\n",
    "\r\n",
    "rmsprop = keras.optimizers.RMSprop(learning_rate=0.0001)\r\n",
    "model.compile(optimizer=rmsprop, loss='binary_crossentropy', \r\n",
    "              metrics=['accuracy'])\r\n",
    "\r\n",
    "checkpoint_cb = keras.callbacks.ModelCheckpoint('best-lstmdropout-model1.h5', \r\n",
    "                                                save_best_only=True)\r\n",
    "early_stopping_cb = keras.callbacks.EarlyStopping(patience=3,\r\n",
    "                                                  restore_best_weights=True)\r\n",
    "\r\n",
    "history = model.fit(train_seq, train_target, epochs=10, batch_size=32,\r\n",
    "                    validation_data=(val_seq, val_target),\r\n",
    "                    callbacks=[checkpoint_cb, early_stopping_cb])\r\n",
    "\r\n",
    "plt.plot(history.history['loss'])\r\n",
    "plt.plot(history.history['val_loss'])\r\n",
    "plt.xlabel('epoch')\r\n",
    "plt.ylabel('loss')\r\n",
    "plt.legend(['train', 'val'])\r\n",
    "plt.show()"
   ],
   "outputs": [
    {
     "output_type": "stream",
     "name": "stdout",
     "text": [
      "Epoch 1/10\n",
      "625/625 [==============================] - 5s 7ms/step - loss: 0.4366 - accuracy: 0.8052 - val_loss: 0.4540 - val_accuracy: 0.7898\n",
      "Epoch 2/10\n",
      "625/625 [==============================] - 4s 7ms/step - loss: 0.4388 - accuracy: 0.8023 - val_loss: 0.4553 - val_accuracy: 0.7886\n",
      "Epoch 3/10\n",
      "625/625 [==============================] - 4s 7ms/step - loss: 0.4310 - accuracy: 0.8085 - val_loss: 0.4482 - val_accuracy: 0.7906\n",
      "Epoch 4/10\n",
      "625/625 [==============================] - 4s 7ms/step - loss: 0.4306 - accuracy: 0.8097 - val_loss: 0.4467 - val_accuracy: 0.7934\n",
      "Epoch 5/10\n",
      "625/625 [==============================] - 4s 7ms/step - loss: 0.4245 - accuracy: 0.8080 - val_loss: 0.4416 - val_accuracy: 0.7948\n",
      "Epoch 6/10\n",
      "625/625 [==============================] - 4s 7ms/step - loss: 0.4163 - accuracy: 0.8138 - val_loss: 0.4417 - val_accuracy: 0.7962\n",
      "Epoch 7/10\n",
      "625/625 [==============================] - 4s 6ms/step - loss: 0.4154 - accuracy: 0.8125 - val_loss: 0.4378 - val_accuracy: 0.7964\n",
      "Epoch 8/10\n",
      "625/625 [==============================] - 4s 7ms/step - loss: 0.4173 - accuracy: 0.8129 - val_loss: 0.4429 - val_accuracy: 0.7964\n",
      "Epoch 9/10\n",
      "625/625 [==============================] - 4s 7ms/step - loss: 0.4158 - accuracy: 0.8113 - val_loss: 0.4398 - val_accuracy: 0.7978\n",
      "Epoch 10/10\n",
      "625/625 [==============================] - 4s 7ms/step - loss: 0.4218 - accuracy: 0.8097 - val_loss: 0.4425 - val_accuracy: 0.7964\n"
     ]
    },
    {
     "output_type": "display_data",
     "data": {
      "text/plain": [
       "<Figure size 432x288 with 1 Axes>"
      ],
      "image/png": "[encoded data removed]"
     },
     "metadata": {
      "needs_background": "light"
     }
    }
   ],
   "metadata": {}
  },
  {
   "cell_type": "code",
   "execution_count": 5,
   "source": [
    "#다중 lstm순환층\r\n",
    "model3 = keras.Sequential()\r\n",
    "model3.add(keras.layers.Embedding(500, 16, input_length=100))\r\n",
    "model3.add(keras.layers.LSTM(8, dropout=0.3, return_sequences=True))\r\n",
    "model3.add(keras.layers.LSTM(8, dropout=0.3))\r\n",
    "model3.add(keras.layers.Dense(1, activation='sigmoid'))\r\n",
    "\r\n",
    "rmsprop = keras.optimizers.RMSprop(learning_rate=1e-4)\r\n",
    "model.compile(optimizer=rmsprop, loss='binary_crossentropy', \r\n",
    "              metrics=['accuracy'])\r\n",
    "\r\n",
    "checkpoint_cb = keras.callbacks.ModelCheckpoint('best-lstm2dropout-model1.h5', \r\n",
    "                                                save_best_only=True)\r\n",
    "early_stopping_cb = keras.callbacks.EarlyStopping(patience=3,\r\n",
    "                                                  restore_best_weights=True)\r\n",
    "\r\n",
    "history = model.fit(train_seq, train_target, epochs=50, batch_size=64,\r\n",
    "                    validation_data=(val_seq, val_target),\r\n",
    "                    callbacks=[checkpoint_cb, early_stopping_cb])\r\n",
    "\r\n",
    "plt.plot(history.history['loss'])\r\n",
    "plt.plot(history.history['val_loss'])\r\n",
    "plt.xlabel('epoch')\r\n",
    "plt.ylabel('loss')\r\n",
    "plt.legend(['train', 'val'])\r\n",
    "plt.show()\r\n"
   ],
   "outputs": [
    {
     "output_type": "stream",
     "name": "stdout",
     "text": [
      "Epoch 1/50\n",
      "313/313 [==============================] - 3s 9ms/step - loss: 0.3984 - accuracy: 0.8226 - val_loss: 0.4311 - val_accuracy: 0.7982\n",
      "Epoch 2/50\n",
      "313/313 [==============================] - 2s 8ms/step - loss: 0.3976 - accuracy: 0.8216 - val_loss: 0.4276 - val_accuracy: 0.8084\n",
      "Epoch 3/50\n",
      "313/313 [==============================] - 2s 8ms/step - loss: 0.3986 - accuracy: 0.8202 - val_loss: 0.4263 - val_accuracy: 0.8040\n",
      "Epoch 4/50\n",
      "313/313 [==============================] - 2s 8ms/step - loss: 0.3970 - accuracy: 0.8199 - val_loss: 0.4291 - val_accuracy: 0.8056\n",
      "Epoch 5/50\n",
      "313/313 [==============================] - 2s 8ms/step - loss: 0.3926 - accuracy: 0.8226 - val_loss: 0.4266 - val_accuracy: 0.8070\n",
      "Epoch 6/50\n",
      "313/313 [==============================] - 2s 8ms/step - loss: 0.3972 - accuracy: 0.8213 - val_loss: 0.4278 - val_accuracy: 0.8040\n"
     ]
    },
    {
     "output_type": "display_data",
     "data": {
      "text/plain": [
       "<Figure size 432x288 with 1 Axes>"
      ],
      "image/png": "[encoded data removed]"
     },
     "metadata": {
      "needs_background": "light"
     }
    }
   ],
   "metadata": {}
  },
  {
   "cell_type": "code",
   "execution_count": null,
   "source": [
    "#Gru\r\n",
    "model4 = keras.Sequential()\r\n",
    "model4.add(keras.layers.Embedding(500, 16, input_length=100))\r\n",
    "model4.add(keras.layers.GRU(8, dropout=0.3))\r\n",
    "model4.add(keras.layers.Dense(1, activation='sigmoid'))\r\n",
    "\r\n",
    "\r\n",
    "rmsprop = keras.optimizers.RMSprop(learning_rate=1e-4)\r\n",
    "model.compile(optimizer=rmsprop, loss='binary_crossentropy', \r\n",
    "              metrics=['accuracy'])\r\n",
    "\r\n",
    "checkpoint_cb = keras.callbacks.ModelCheckpoint('best-gru-model1.h5', \r\n",
    "                                                save_best_only=True)\r\n",
    "early_stopping_cb = keras.callbacks.EarlyStopping(patience=3,\r\n",
    "                                                  restore_best_weights=True)\r\n",
    "\r\n",
    "history = model.fit(train_seq, train_target, epochs=50, batch_size=64,\r\n",
    "                    validation_data=(val_seq, val_target),\r\n",
    "                    callbacks=[checkpoint_cb, early_stopping_cb])\r\n",
    "\r\n",
    "plt.plot(history.history['loss'])\r\n",
    "plt.plot(history.history['val_loss'])\r\n",
    "plt.xlabel('epoch')\r\n",
    "plt.ylabel('loss')\r\n",
    "plt.legend(['train', 'val'])\r\n",
    "plt.show()"
   ],
   "outputs": [],
   "metadata": {}
  }
 ],
 "metadata": {
  "orig_nbformat": 4,
  "language_info": {
   "name": "python",
   "version": "3.8.8",
   "mimetype": "text/x-python",
   "codemirror_mode": {
    "name": "ipython",
    "version": 3
   },
   "pygments_lexer": "ipython3",
   "nbconvert_exporter": "python",
   "file_extension": ".py"
  },
  "kernelspec": {
   "name": "python3",
   "display_name": "Python 3.8.8 64-bit ('base': conda)"
  },
  "interpreter": {
   "hash": "fa422f78b08b4ed23ea77d9d51ba71e035ebabb7673f323e99ba8b680a1634b6"
  }
 },
 "nbformat": 4,
 "nbformat_minor": 2
}