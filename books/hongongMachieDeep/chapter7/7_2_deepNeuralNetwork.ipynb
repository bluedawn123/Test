{
 "metadata": {
  "language_info": {
   "codemirror_mode": {
    "name": "ipython",
    "version": 3
   },
   "file_extension": ".py",
   "mimetype": "text/x-python",
   "name": "python",
   "nbconvert_exporter": "python",
   "pygments_lexer": "ipython3",
   "version": "3.7.6"
  },
  "orig_nbformat": 4,
  "kernelspec": {
   "name": "python3",
   "display_name": "Python 3.7.6 64-bit ('cpv': conda)"
  },
  "interpreter": {
   "hash": "e25e0584590c458883016a89e0cf53be7d76548718d22946ce414c44a74f5c84"
  }
 },
 "nbformat": 4,
 "nbformat_minor": 2,
 "cells": [
  {
   "cell_type": "code",
   "execution_count": 10,
   "metadata": {},
   "outputs": [
    {
     "output_type": "stream",
     "name": "stdout",
     "text": [
      "reshape 전에 train_scaled :  (60000, 28, 28)\n",
      "reshape한 train_scaled =  (60000, 784)\n",
      "Model: \"sequential_12\"\n",
      "_________________________________________________________________\n",
      "Layer (type)                 Output Shape              Param #   \n",
      "=================================================================\n",
      "dense_16 (Dense)             (None, 100)               78500     \n",
      "_________________________________________________________________\n",
      "dense_17 (Dense)             (None, 10)                1010      \n",
      "=================================================================\n",
      "Total params: 79,510\n",
      "Trainable params: 79,510\n",
      "Non-trainable params: 0\n",
      "_________________________________________________________________\n",
      "Model: \"sequential_13\"\n",
      "_________________________________________________________________\n",
      "Layer (type)                 Output Shape              Param #   \n",
      "=================================================================\n",
      "hidden (Dense)               (None, 100)               78500     \n",
      "_________________________________________________________________\n",
      "output (Dense)               (None, 10)                1010      \n",
      "=================================================================\n",
      "Total params: 79,510\n",
      "Trainable params: 79,510\n",
      "Non-trainable params: 0\n",
      "_________________________________________________________________\n",
      "Epoch 1/5\n",
      "1500/1500 [==============================] - 1s 460us/step - loss: 0.5625 - accuracy: 0.8080\n",
      "Epoch 2/5\n",
      "1500/1500 [==============================] - 1s 455us/step - loss: 0.4090 - accuracy: 0.8525\n",
      "Epoch 3/5\n",
      "1500/1500 [==============================] - 1s 456us/step - loss: 0.3736 - accuracy: 0.8652\n",
      "Epoch 4/5\n",
      "1500/1500 [==============================] - 1s 454us/step - loss: 0.3514 - accuracy: 0.8730\n",
      "Epoch 5/5\n",
      "1500/1500 [==============================] - 1s 455us/step - loss: 0.3346 - accuracy: 0.8791\n"
     ]
    },
    {
     "output_type": "execute_result",
     "data": {
      "text/plain": [
       "\"\\nmodel = keras.Sequential()\\nmodel.add(keras.layers.Flatten(input_shape=(28, 28)))\\nmodel.add(keras.layers.Dense(100, activation='relu'))\\nmodel.add(keras.layers.Dense(10, activation='softmax'))\\nmodel.summary()\\n\""
      ]
     },
     "metadata": {},
     "execution_count": 10
    }
   ],
   "source": [
    "from tensorflow import keras\n",
    "from sklearn.model_selection import train_test_split\n",
    "from sklearn.model_selection import cross_validate\n",
    "from sklearn.linear_model import SGDClassifier\n",
    "\n",
    "(train_input, train_target), (test_input, test_target) = keras.datasets.fashion_mnist.load_data()\n",
    "\n",
    "train_scaled = train_input / 255.0\n",
    "print(\"reshape 전에 train_scaled : \", train_scaled.shape)  #(60000, 28, 28)\n",
    "train_scaled = train_scaled.reshape(-1, 28*28)\n",
    "print(\"reshape한 train_scaled = \", train_scaled.shape)  #reshape한 train_scaled =  (60000, 784)\n",
    "train_scaled, val_scaled, train_target, val_target = train_test_split(train_scaled, train_target, test_size=0.2, random_state=42)\n",
    "\n",
    "#2개의 층\n",
    "dense1 = keras.layers.Dense(100, activation='sigmoid', input_shape=(28*28, ))  #첫 히든 레이어\n",
    "dense2 = keras.layers.Dense(10, activation='softmax')                          #출력층\n",
    "\n",
    "#심층 신경만 만들기 => 객체 만들기 변수를 리스트 형태로 전달\n",
    "model = keras.Sequential([dense1, dense2])   \n",
    "model.summary()\n",
    "\n",
    "#층 추가 다른 방법 => Sequential클래스에 층을 추가하는 방법\n",
    "model = keras.Sequential([keras.layers.Dense(100, activation='sigmoid', input_shape=(784, ), name='hidden'), \\\n",
    "keras.layers.Dense(10, activation='softmax', name='output')])\n",
    "model.summary()\n",
    "\n",
    "#######뭐 편한 거 골라서 하자.\n",
    "#모델 훈련 시키기\n",
    "model.compile(loss='sparse_categorical_crossentropy', metrics='accuracy')\n",
    "model.fit(train_scaled, train_target, epochs=5)                      \n",
    "##1500/1500 [==============================] - 1s 451us/step - loss: 0.3327 - accuracy: 0.8786\n",
    "\n",
    "#Flatten => 배치 차원을 제외하고 모든 입력 차원을 모두 일렬로. 하지만 입력층, 은닉층 차이에 추가하므로 이를 층이라한다.\n",
    "#1차원으로 바꿔서 해도 좋지만, flatten을 사용해도 된다.\n",
    "'''\n",
    "model = keras.Sequential()\n",
    "model.add(keras.layers.Flatten(input_shape=(28, 28)))\n",
    "model.add(keras.layers.Dense(100, activation='relu'))\n",
    "model.add(keras.layers.Dense(10, activation='softmax'))\n",
    "model.summary()\n",
    "'''\n"
   ]
  },
  {
   "cell_type": "code",
   "execution_count": 7,
   "metadata": {},
   "outputs": [
    {
     "output_type": "stream",
     "name": "stdout",
     "text": [
      "Model: \"sequential_7\"\n",
      "_________________________________________________________________\n",
      "Layer (type)                 Output Shape              Param #   \n",
      "=================================================================\n",
      "flatten_2 (Flatten)          (None, 784)               0         \n",
      "_________________________________________________________________\n",
      "dense_10 (Dense)             (None, 100)               78500     \n",
      "_________________________________________________________________\n",
      "dense_11 (Dense)             (None, 10)                1010      \n",
      "=================================================================\n",
      "Total params: 79,510\n",
      "Trainable params: 79,510\n",
      "Non-trainable params: 0\n",
      "_________________________________________________________________\n",
      "Epoch 1/5\n",
      "WARNING:tensorflow:Model was constructed with shape (None, 28, 28) for input Tensor(\"flatten_2_input:0\", shape=(None, 28, 28), dtype=float32), but it was called on an input with incompatible shape (32, 784).\n",
      "WARNING:tensorflow:Model was constructed with shape (None, 28, 28) for input Tensor(\"flatten_2_input:0\", shape=(None, 28, 28), dtype=float32), but it was called on an input with incompatible shape (32, 784).\n",
      "1500/1500 [==============================] - 1s 461us/step - loss: 0.5275 - accuracy: 0.8139\n",
      "Epoch 2/5\n",
      "1500/1500 [==============================] - 1s 442us/step - loss: 0.3930 - accuracy: 0.8589\n",
      "Epoch 3/5\n",
      "1500/1500 [==============================] - 1s 443us/step - loss: 0.3570 - accuracy: 0.8716\n",
      "Epoch 4/5\n",
      "1500/1500 [==============================] - 1s 445us/step - loss: 0.3343 - accuracy: 0.8805\n",
      "Epoch 5/5\n",
      "1500/1500 [==============================] - 1s 447us/step - loss: 0.3172 - accuracy: 0.8870\n"
     ]
    },
    {
     "output_type": "execute_result",
     "data": {
      "text/plain": [
       "<tensorflow.python.keras.callbacks.History at 0x262417f9708>"
      ]
     },
     "metadata": {},
     "execution_count": 7
    }
   ],
   "source": [
    "#flatten활용해보기\n",
    "\n",
    "from tensorflow import keras\n",
    "from sklearn.model_selection import train_test_split\n",
    "from sklearn.model_selection import cross_validate\n",
    "from sklearn.linear_model import SGDClassifier\n",
    "\n",
    "(train_input, train_target), (test_input, test_target) = keras.datasets.fashion_mnist.load_data()\n",
    "\n",
    "train_scaled = train_input / 255.0\n",
    "train_scaled = train_scaled.reshape(-1, 28*28)\n",
    "train_scaled, val_scaled, train_target, val_target = train_test_split(train_scaled, train_target, test_size=0.2, random_state=42)\n",
    "\n",
    "#Flatten => 배치 차원을 제외하고 모든 입력 차원을 모두 일렬로. 하지만 입력층, 은닉층 차이에 추가하므로 이를 층이라한다.\n",
    "#1차원으로 바꿔서 해도 좋지만, flatten을 사용해도 된다.\n",
    "\n",
    "model = keras.Sequential()\n",
    "model.add(keras.layers.Flatten(input_shape=(28, 28)))\n",
    "model.add(keras.layers.Dense(100, activation='relu'))\n",
    "model.add(keras.layers.Dense(10, activation='softmax'))\n",
    "model.summary()\n",
    "\n",
    "model.compile(loss='sparse_categorical_crossentropy', metrics='accuracy')\n",
    "model.fit(train_scaled, train_target, epochs=5)   \n",
    "\n",
    "#1s 449us/step - loss: 0.3190 - accuracy: 0.8864\n"
   ]
  },
  {
   "cell_type": "code",
   "execution_count": null,
   "metadata": {},
   "outputs": [],
   "source": [
    "#옵티마이저"
   ]
  }
 ]
}