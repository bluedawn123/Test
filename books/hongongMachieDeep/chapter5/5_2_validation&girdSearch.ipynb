{
 "metadata": {
  "language_info": {
   "codemirror_mode": {
    "name": "ipython",
    "version": 3
   },
   "file_extension": ".py",
   "mimetype": "text/x-python",
   "name": "python",
   "nbconvert_exporter": "python",
   "pygments_lexer": "ipython3",
   "version": "3.7.6"
  },
  "orig_nbformat": 4,
  "kernelspec": {
   "name": "python3",
   "display_name": "Python 3.7.6 64-bit ('cpv': conda)"
  },
  "interpreter": {
   "hash": "e25e0584590c458883016a89e0cf53be7d76548718d22946ce414c44a74f5c84"
  }
 },
 "nbformat": 4,
 "nbformat_minor": 2,
 "cells": [
  {
   "cell_type": "code",
   "execution_count": 7,
   "metadata": {},
   "outputs": [
    {
     "output_type": "stream",
     "name": "stdout",
     "text": [
      "sub_input.shape :  (4157, 3)\nval_input.shape :  (1040, 3)\nsub_input, sub_target 점수 :  0.9971133028626413\nval_input, val_target 점수 :  0.864423076923077\n"
     ]
    }
   ],
   "source": [
    "#검증 세트를 만들기\n",
    "\n",
    "import pandas as pd\n",
    "\n",
    "wine = pd.read_csv('https://bit.ly/wine_csv_data')\n",
    "data = wine[['alcohol', 'sugar', 'pH']].to_numpy()\n",
    "target = wine['class'].to_numpy()\n",
    "\n",
    "#훈련, 테스트 세트 분리\n",
    "from sklearn.model_selection import train_test_split\n",
    "train_input, test_input, train_target, test_target = train_test_split(data, target, test_size = 0.2, random_state = 42)\n",
    "\n",
    "#훈련에서 검증 세트 분리\n",
    "sub_input, val_input, sub_target, val_target = train_test_split(train_input, train_target, test_size=0.2, random_state = 42)\n",
    "\n",
    "print(\"sub_input.shape : \", sub_input.shape)   #sub_input.shape :  (4157, 3)\n",
    "print(\"val_input.shape : \", val_input.shape)   #val_input.shape :  (1040, 3)\n",
    "\n",
    "#의사결정나무로 만들기\n",
    "from sklearn.tree import DecisionTreeClassifier\n",
    "dt = DecisionTreeClassifier(random_state=42)\n",
    "dt.fit(sub_input, sub_target)\n",
    "print(\"sub_input, sub_target 점수 : \", dt.score(sub_input, sub_target))\n",
    "print(\"val_input, val_target 점수 : \", dt.score(val_input, val_target))\n",
    "\n",
    "#sub_input, sub_target 점수 :  0.9971133028626413\n",
    "#val_input, val_target 점수 :  0.864423076923077  => 과대적합인 것을 알 수 있다."
   ]
  },
  {
   "cell_type": "code",
   "execution_count": 9,
   "metadata": {},
   "outputs": [
    {
     "output_type": "stream",
     "name": "stdout",
     "text": [
      "scores :  {'fit_time': array([0.00500131, 0.00500131, 0.00500083, 0.00500131, 0.00500107]), 'score_time': array([0., 0., 0., 0., 0.]), 'test_score': array([0.86923077, 0.84615385, 0.87680462, 0.84889317, 0.83541867])}\n0.855300214703487\n"
     ]
    }
   ],
   "source": [
    "#교차 검증 만들기\n",
    "import pandas as pd\n",
    "\n",
    "wine = pd.read_csv('https://bit.ly/wine_csv_data')\n",
    "data = wine[['alcohol', 'sugar', 'pH']].to_numpy()\n",
    "target = wine['class'].to_numpy()\n",
    "\n",
    "#훈련, 테스트 세트 분리\n",
    "from sklearn.model_selection import train_test_split\n",
    "train_input, test_input, train_target, test_target = train_test_split(data, target, test_size = 0.2, random_state = 42)\n",
    "\n",
    "#훈련에서 검증 세트 분리\n",
    "sub_input, val_input, sub_target, val_target = train_test_split(train_input, train_target, test_size=0.2, random_state = 42)\n",
    "\n",
    "#교차검증\n",
    "from sklearn.model_selection import cross_validate\n",
    "scores = cross_validate(dt, train_input, train_target)\n",
    "print(\"scores : \", scores)\n",
    "\n",
    "#scores :  {'fit_time': array([0.00500154, 0.00500131, 0.00500083, 0.00500131, 0.00500083]), 'score_time': array([0., 0., 0., 0., 0.]), 'test_score': array([0.86923077, 0.84615385, 0.87680462, 0.84889317, 0.83541867])}\n",
    "#=> fit time : 훈련시간, score time : 검증시간\n",
    "#=> test_score : 각 키마다 5개의 숫자가 있다. 이것을 5개의 평균하여 최종점수를 얻어야 한다.cross_validate\n",
    "\n",
    "#최종점수\n",
    "import numpy as np\n",
    "print(np.mean(scores['test_score']))  #0.855300214703487\n",
    "\n",
    "###유의점, cross_validate() 는 훈련 세트를 섞어 폴드를 나누지 않는다. 그래서 교차 검증을 할 때 순련 세트를 섞으려면 분할기를 지정해야 한다."
   ]
  },
  {
   "cell_type": "code",
   "execution_count": 11,
   "metadata": {},
   "outputs": [
    {
     "output_type": "stream",
     "name": "stdout",
     "text": [
      "0.8574181117533719\n"
     ]
    }
   ],
   "source": [
    "#10-폴드 교차 검증\n",
    "from sklearn.model_selection import StratifiedKFold\n",
    "\n",
    "splitter = StratifiedKFold(n_splits=10, shuffle=True, random_state=42)\n",
    "scores = cross_validate(dt, train_input, train_target, cv=splitter)\n",
    "print(np.mean(scores['test_score']))   #0.8574181117533719"
   ]
  },
  {
   "cell_type": "code",
   "execution_count": null,
   "metadata": {},
   "outputs": [],
   "source": [
    "###248~262 그리드서치 추후 하기"
   ]
  }
 ]
}