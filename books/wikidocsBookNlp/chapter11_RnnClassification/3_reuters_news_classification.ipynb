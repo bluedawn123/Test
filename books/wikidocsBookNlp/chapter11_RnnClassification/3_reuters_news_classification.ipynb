{
 "cells": [
  {
   "cell_type": "markdown",
   "source": [
    "케라스에서 제공하는 로이터 뉴스 데이터를 LSTM을 이용하여 텍스트 분류를 진행해보도록 하겠습니다. \r\n",
    "로이터 뉴스 기사 데이터는 총 11,258개의 뉴스 기사가 46개의 뉴스 카테고리로 분류되는 뉴스 기사 데이터입니다. \r\n",
    "우선 데이터가 어떻게 구성되어있는지에 대해서 알아보고, 실습을 진행합니다."
   ],
   "metadata": {}
  },
  {
   "cell_type": "code",
   "execution_count": null,
   "source": [],
   "outputs": [],
   "metadata": {}
  },
  {
   "cell_type": "code",
   "execution_count": null,
   "source": [],
   "outputs": [],
   "metadata": {}
  }
 ],
 "metadata": {
  "orig_nbformat": 4,
  "language_info": {
   "name": "python"
  }
 },
 "nbformat": 4,
 "nbformat_minor": 2
}