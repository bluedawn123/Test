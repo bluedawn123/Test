{
 "cells": [
  {
   "cell_type": "markdown",
   "source": [
    "<img src=\"./123.png\" width=\"100px\" height=\"50px\" title=\"Github_Logo\"/>"
   ],
   "metadata": {}
  },
  {
   "cell_type": "markdown",
   "source": [],
   "metadata": {}
  }
 ],
 "metadata": {
  "orig_nbformat": 4,
  "language_info": {
   "name": "python"
  }
 },
 "nbformat": 4,
 "nbformat_minor": 2
}