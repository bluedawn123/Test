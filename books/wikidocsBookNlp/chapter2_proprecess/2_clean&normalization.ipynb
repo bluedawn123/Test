{
 "cells": [
  {
   "cell_type": "markdown",
   "source": [
    "정제(cleaning) : 갖고 있는 코퍼스로부터 노이즈 데이터를 제거한다.\r\n",
    "정규화(normalization) : 표현 방법이 다른 단어들을 통합시켜서 같은 단어로 만들어준다."
   ],
   "metadata": {}
  },
  {
   "cell_type": "markdown",
   "source": [
    "1. 규칙에 기반한 표기가 다른 단어들의 통합\r\n",
    "2. 대, 소문자 통합"
   ],
   "metadata": {}
  },
  {
   "cell_type": "markdown",
   "source": [
    "3. 불필요한 단어의 제거(Removing Unnecessary Words)\r\n",
    "    (1) 등장 빈도가 적은 단어(Removing Rare words)\r\n",
    "    (2) 길이가 짧은 단어(Removing words with a very short length)\r\n",
    "\r\n",
    "    import re\r\n",
    "    text = \"I was wondering if anyone out there could enlighten me on this car.\"\r\n",
    "    shortword = re.compile(r'\\W*\\b\\w{1,2}\\b')\r\n",
    "    print(shortword.sub('', text))\r\n",
    "    was wondering anyone out there could enlighten this car."
   ],
   "metadata": {}
  },
  {
   "cell_type": "markdown",
   "source": [
    "4. 정규 표현식(Regular Expression)\r\n",
    "얻어낸 코퍼스에서 노이즈 데이터의 특징을 잡아낼 수 있다면, 정규 표현식을 통해서 이를 제거할 수 있는 경우가 많습니다. \r\n",
    "가령, HTML 문서로부터 가져온 코퍼스라면 문서 여기저기에 HTML 태그가 있습니다. \r\n",
    "뉴스 기사를 크롤링 했다면, 기사마다 게재 시간이 적혀져 있을 수 있습니다. \r\n",
    "정규 표현식은 이러한 코퍼스 내에 계속해서 등장하는 글자들을 규칙에 기반하여 한 번에 제거하는 방식으로서 매우 유용합니다.\r\n",
    "\r\n",
    "이 책에서도 전처리를 위해 정규 표현식을 앞으로 종종 사용하게 될 겁니다. \r\n",
    "예를 들어 위에서 길이가 짧은 단어를 제거할 때도, 정규 표현식이 유용하게 사용되었습니다. "
   ],
   "metadata": {}
  }
 ],
 "metadata": {
  "orig_nbformat": 4,
  "language_info": {
   "name": "python"
  }
 },
 "nbformat": 4,
 "nbformat_minor": 2
}