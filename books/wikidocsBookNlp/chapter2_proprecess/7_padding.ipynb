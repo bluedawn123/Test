{
 "cells": [
  {
   "cell_type": "code",
   "execution_count": 2,
   "source": [
    "#제로패딩\r\n",
    "\r\n",
    "\r\n",
    "import numpy as np\r\n",
    "from tensorflow.keras.preprocessing.text import Tokenizer\r\n",
    "\r\n",
    "#총 11개\r\n",
    "sentences = [['barber', 'person'], ['barber', 'good', 'person'], ['barber', 'huge', 'person'], ['knew', 'secret'], ['secret', 'kept', 'huge', 'secret'], ['huge', 'secret'], ['barber', 'kept', 'word'], ['barber', 'kept', 'word'], ['barber', 'kept', 'secret'], ['keeping', 'keeping', 'huge', 'secret', 'driving', 'barber', 'crazy'], ['barber', 'went', 'huge', 'mountain']]\r\n",
    "\r\n",
    "tokenizer = Tokenizer()\r\n",
    "tokenizer.fit_on_texts(sentences) #fit_on_texts()안에 코퍼스를 입력으로 하면 빈도수를 기준으로 단어 집합을 생성한다.\r\n",
    "                                  #fit_on_texts() 메서드는 문자 데이터를 입력받아서 리스트의 형태로 변환\r\n",
    "\r\n",
    "encoded = tokenizer.texts_to_sequences(sentences)  # 단어를 숫자값, 인덱스로 변환하여 저장\r\n",
    "print(encoded)"
   ],
   "outputs": [
    {
     "output_type": "stream",
     "name": "stdout",
     "text": [
      "[[1, 5], [1, 8, 5], [1, 3, 5], [9, 2], [2, 4, 3, 2], [3, 2], [1, 4, 6], [1, 4, 6], [1, 4, 2], [7, 7, 3, 2, 10, 1, 11], [1, 12, 3, 13]]\n"
     ]
    }
   ],
   "metadata": {}
  },
  {
   "cell_type": "code",
   "execution_count": 3,
   "source": [
    "#가장 긴 문장의 길이를 계산\r\n",
    "max_len = max(len(item) for item in encoded)\r\n",
    "print(max_len)  #장 길이가 긴 문장의 길이는 7입니다. \r\n",
    "\r\n",
    "#이제 길이가 7보다 짧은 문장에는 숫자 0을 채워서 전부 길이 7로 맞춰보자.\r\n",
    "\r\n",
    "for i in encoded: # 각 문장에 대해서\r\n",
    "    while len(i) < max_len:   # max_len보다 작으면\r\n",
    "        i.append(0)\r\n",
    "\r\n",
    "padded_np = np.array(encoded)\r\n",
    "print(padded_np)\r\n",
    "print(padded_np.shape)   #(11, 7)"
   ],
   "outputs": [
    {
     "output_type": "stream",
     "name": "stdout",
     "text": [
      "7\n",
      "[[ 1  5  0  0  0  0  0]\n",
      " [ 1  8  5  0  0  0  0]\n",
      " [ 1  3  5  0  0  0  0]\n",
      " [ 9  2  0  0  0  0  0]\n",
      " [ 2  4  3  2  0  0  0]\n",
      " [ 3  2  0  0  0  0  0]\n",
      " [ 1  4  6  0  0  0  0]\n",
      " [ 1  4  6  0  0  0  0]\n",
      " [ 1  4  2  0  0  0  0]\n",
      " [ 7  7  3  2 10  1 11]\n",
      " [ 1 12  3 13  0  0  0]]\n",
      "(11, 7)\n"
     ]
    }
   ],
   "metadata": {}
  },
  {
   "cell_type": "code",
   "execution_count": 4,
   "source": [
    "#이와 같이 데이터에 특정 값을 채워서 데이터의 크기(shape)를 조정하는 것을 패딩(padding)이라고 합니다. \r\n",
    "#숫자 0을 사용하고 있다면 제로 패딩(zero padding)이라고 합니다."
   ],
   "outputs": [],
   "metadata": {}
  },
  {
   "cell_type": "code",
   "execution_count": 5,
   "source": [
    "#위처럼 안하고 간단하게 할 수 있다.  케라스에서는 위와 같은 패딩을 위한 도구 pad_sequences()를 제공하고 있습니다.\r\n",
    "\r\n",
    "from tensorflow.keras.preprocessing.sequence import pad_sequences\r\n",
    "encoded = tokenizer.texts_to_sequences(sentences)\r\n",
    "print(encoded)\r\n",
    "\r\n",
    "padded = pad_sequences(encoded)\r\n",
    "padded\r\n",
    "\r\n",
    "#Numpy로 패딩을 진행하였을 때와는 패딩 결과가 다른데 그 이유는 pad_sequences는 기본적으로 문서의 뒤에 0을 채우는 것이 아니라 앞에 0으로 채우기 때문입니다. \r\n",
    "#뒤에 0을 채우고 싶다면 인자로 padding='post'를 주면됩니다.\r\n",
    "\r\n",
    "padded = pad_sequences(encoded, padding = 'post')\r\n",
    "padded\r\n",
    "\r\n",
    "###중요###\r\n",
    "#지금까지는 가장 긴 길이를 가진 문서의 길이를 기준으로 패딩을 한다고 가정하였지만, 실제로는 꼭 가장 긴 문서의 길이를 기준으로 해야하는 것은 아닙니다.\r\n",
    "#이와 같은 경우에는 길이에 제한을 두고 패딩할 수 있습니다. max_len의 인자로 정수를 주면, 해당 정수로 모든 문서의 길이를 동일하게 합니다.\r\n",
    "\r\n",
    "padded = pad_sequences(encoded, padding = 'post', maxlen = 5)\r\n",
    "print(padded)\r\n",
    "print(padded.shape)  #(11, 5)\r\n",
    "\r\n",
    "#길이가 5보다 짧은 문서들은 0으로 패딩되고, 기존에 5보다 길었다면 데이터가 손실됩니다. \r\n",
    "#숫자 0으로 패딩하는 것은 널리 퍼진 관례이긴 하지만, 반드시 지켜야하는 규칙은 아닙니다. \r\n"
   ],
   "outputs": [
    {
     "output_type": "stream",
     "name": "stdout",
     "text": [
      "[[1, 5], [1, 8, 5], [1, 3, 5], [9, 2], [2, 4, 3, 2], [3, 2], [1, 4, 6], [1, 4, 6], [1, 4, 2], [7, 7, 3, 2, 10, 1, 11], [1, 12, 3, 13]]\n",
      "[[ 1  5  0  0  0]\n",
      " [ 1  8  5  0  0]\n",
      " [ 1  3  5  0  0]\n",
      " [ 9  2  0  0  0]\n",
      " [ 2  4  3  2  0]\n",
      " [ 3  2  0  0  0]\n",
      " [ 1  4  6  0  0]\n",
      " [ 1  4  6  0  0]\n",
      " [ 1  4  2  0  0]\n",
      " [ 3  2 10  1 11]\n",
      " [ 1 12  3 13  0]]\n",
      "(11, 5)\n"
     ]
    }
   ],
   "metadata": {}
  },
  {
   "cell_type": "code",
   "execution_count": 6,
   "source": [
    "#만약, 숫자 0이 아니라 다른 숫자를 패딩을 위한 숫자로 사용하고 싶다면 이 또한 가능. \r\n",
    "#현재 사용된 정수들과 겹치지 않도록, 단어 집합의 크기에 +1을 한 숫자로 사용해봅시다.\r\n",
    "\r\n",
    "last_value = len(tokenizer.word_index) + 1 # 단어 집합의 크기보다 1 큰 숫자를 사용\r\n",
    "\r\n",
    "print(last_value)  #14\r\n",
    "#현재 단어가 총 13개이고, 1번부터 13번까지 정수가 사용되었으므로 단어 집합의 크기에 +1을 하면 마지막 숫자인 13보다 1이 큰 14를 얻습니다. \r\n",
    "#pad_sequences의 인자로 value를 사용하면 0이 아닌 다른 숫자로 패딩이 가능합니다.\r\n",
    "\r\n",
    "padded = pad_sequences(encoded, padding = 'post', value = last_value)  #post는 뒤에다 14를 박는다. value는 박을 숫자 정의\r\n",
    "padded\r\n",
    "\r\n",
    "'''\r\n",
    "array([[ 1,  5, 14, 14, 14, 14, 14],\r\n",
    "       [ 1,  8,  5, 14, 14, 14, 14],\r\n",
    "       [ 1,  3,  5, 14, 14, 14, 14],\r\n",
    "       [ 9,  2, 14, 14, 14, 14, 14],\r\n",
    "       [ 2,  4,  3,  2, 14, 14, 14],\r\n",
    "       [ 3,  2, 14, 14, 14, 14, 14],\r\n",
    "       [ 1,  4,  6, 14, 14, 14, 14],\r\n",
    "       [ 1,  4,  6, 14, 14, 14, 14],\r\n",
    "       [ 1,  4,  2, 14, 14, 14, 14],\r\n",
    "       [ 7,  7,  3,  2, 10,  1, 11],\r\n",
    "       [ 1, 12,  3, 13, 14, 14, 14]])'''"
   ],
   "outputs": [
    {
     "output_type": "stream",
     "name": "stdout",
     "text": [
      "14\n"
     ]
    },
    {
     "output_type": "execute_result",
     "data": {
      "text/plain": [
       "array([[ 1,  5, 14, 14, 14, 14, 14],\n",
       "       [ 1,  8,  5, 14, 14, 14, 14],\n",
       "       [ 1,  3,  5, 14, 14, 14, 14],\n",
       "       [ 9,  2, 14, 14, 14, 14, 14],\n",
       "       [ 2,  4,  3,  2, 14, 14, 14],\n",
       "       [ 3,  2, 14, 14, 14, 14, 14],\n",
       "       [ 1,  4,  6, 14, 14, 14, 14],\n",
       "       [ 1,  4,  6, 14, 14, 14, 14],\n",
       "       [ 1,  4,  2, 14, 14, 14, 14],\n",
       "       [ 7,  7,  3,  2, 10,  1, 11],\n",
       "       [ 1, 12,  3, 13, 14, 14, 14]])"
      ]
     },
     "metadata": {},
     "execution_count": 6
    }
   ],
   "metadata": {}
  },
  {
   "cell_type": "code",
   "execution_count": null,
   "source": [],
   "outputs": [],
   "metadata": {}
  }
 ],
 "metadata": {
  "orig_nbformat": 4,
  "language_info": {
   "name": "python",
   "version": "3.8.8",
   "mimetype": "text/x-python",
   "codemirror_mode": {
    "name": "ipython",
    "version": 3
   },
   "pygments_lexer": "ipython3",
   "nbconvert_exporter": "python",
   "file_extension": ".py"
  },
  "kernelspec": {
   "name": "python3",
   "display_name": "Python 3.8.8 64-bit ('base': conda)"
  },
  "interpreter": {
   "hash": "fa422f78b08b4ed23ea77d9d51ba71e035ebabb7673f323e99ba8b680a1634b6"
  }
 },
 "nbformat": 4,
 "nbformat_minor": 2
}