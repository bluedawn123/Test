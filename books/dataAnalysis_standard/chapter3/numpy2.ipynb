{
 "metadata": {
  "language_info": {
   "codemirror_mode": {
    "name": "ipython",
    "version": 3
   },
   "file_extension": ".py",
   "mimetype": "text/x-python",
   "name": "python",
   "nbconvert_exporter": "python",
   "pygments_lexer": "ipython3",
   "version": "3.7.6"
  },
  "orig_nbformat": 4,
  "kernelspec": {
   "name": "python3",
   "display_name": "Python 3.7.6 64-bit ('cpv': conda)"
  },
  "interpreter": {
   "hash": "e25e0584590c458883016a89e0cf53be7d76548718d22946ce414c44a74f5c84"
  }
 },
 "nbformat": 4,
 "nbformat_minor": 2,
 "cells": [
  {
   "cell_type": "code",
   "execution_count": 1,
   "metadata": {},
   "outputs": [],
   "source": [
    "#페이지 52~65부분인데 잘 모르겠음\n",
    "#\n",
    "#\n",
    "#"
   ]
  },
  {
   "cell_type": "code",
   "execution_count": 6,
   "metadata": {},
   "outputs": [
    {
     "output_type": "stream",
     "name": "stdout",
     "text": [
      "차원확인 :  3\n모양확인 :  (2, 3, 4)\n크키확인 :  24\n"
     ]
    }
   ],
   "source": [
    "import numpy as np\n",
    "arr = np.array([[[0,1,2,3],[4,5,6,7],[8,9,10,11]], [[12,13,14,15], [16,17,18,19], [20,21,22,23]]])\n",
    "arr\n",
    "\n",
    "print(\"차원확인 : \", arr.ndim)\n",
    "print(\"모양확인 : \", arr.shape)\n",
    "print(\"크키확인 : \", arr.size)\n"
   ]
  },
  {
   "cell_type": "code",
   "execution_count": 7,
   "metadata": {},
   "outputs": [],
   "source": [
    "#54~58은 뭔말인지 잘 모르겠다"
   ]
  },
  {
   "cell_type": "code",
   "execution_count": 11,
   "metadata": {},
   "outputs": [
    {
     "output_type": "execute_result",
     "data": {
      "text/plain": [
       "array([('jin', 25, 26.), ('suho', 18, 77.)],\n",
       "      dtype=[('name', '<U10'), ('age', '<i4'), ('weight', '<f4')])"
      ]
     },
     "metadata": {},
     "execution_count": 11
    }
   ],
   "source": [
    "#페이지59\n",
    "#구조화된 배열\n",
    "import numpy as np\n",
    "arr1 = np.array([('jin', 25, 26), ('suho', 18, 77)], dtype = [('name', 'U10'), ('age', 'i4'), ('weight', 'f4')])\n",
    "\n",
    "#arr1은 필드가 3개인 데이터 타입 구조이며 1차원 구조.\n",
    "#첫 필드 = 'name' 이라는 문자열(string)\n",
    "#두 필드 = 'age', 32비트 정수\n",
    "#세 필드 = 'weight', 32비트 실수"
   ]
  },
  {
   "cell_type": "code",
   "execution_count": null,
   "metadata": {},
   "outputs": [],
   "source": []
  }
 ]
}