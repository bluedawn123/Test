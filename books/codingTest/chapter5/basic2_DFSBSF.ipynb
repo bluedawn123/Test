{
 "cells": [
  {
   "cell_type": "code",
   "execution_count": 1,
   "source": [
    "#인접 행렬 => 2차원 배열로 그래프의 연결 관계를 표현\r\n",
    "\r\n",
    "INF = 999999999 # 무한의 비용 선언\r\n",
    "\r\n",
    "# 2차원 리스트를 이용해 인접 행렬 표현\r\n",
    "graph = [\r\n",
    "    [0, 7, 5],\r\n",
    "    [7, 0, INF],\r\n",
    "    [5, INF, 0]\r\n",
    "]\r\n",
    "\r\n",
    "print(graph)"
   ],
   "outputs": [
    {
     "output_type": "stream",
     "name": "stdout",
     "text": [
      "[[0, 7, 5], [7, 0, 999999999], [5, 999999999, 0]]\n"
     ]
    }
   ],
   "metadata": {}
  },
  {
   "cell_type": "code",
   "execution_count": 2,
   "source": [
    "#인접 리스트 => 리스트로그래프의 연결 관계를 표현\r\n",
    "\r\n",
    "# 행(Row)이 3개인 2차원 리스트로 인접 리스트 표현\r\n",
    "graph = [[] for _ in range(3)]\r\n",
    "\r\n",
    "# 노드 0에 연결된 노드 정보 저장 (노드, 거리)\r\n",
    "graph[0].append((1, 7))\r\n",
    "graph[0].append((2, 5))\r\n",
    "\r\n",
    "# 노드 1에 연결된 노드 정보 저장 (노드, 거리)\r\n",
    "graph[1].append((0, 7))\r\n",
    "\r\n",
    "# 노드 2에 연결된 노드 정보 저장 (노드, 거리)\r\n",
    "graph[2].append((0, 5))\r\n",
    "\r\n",
    "print(graph)"
   ],
   "outputs": [
    {
     "output_type": "stream",
     "name": "stdout",
     "text": [
      "[[(1, 7), (2, 5)], [(0, 7)], [(0, 5)]]\n"
     ]
    }
   ],
   "metadata": {}
  },
  {
   "cell_type": "code",
   "execution_count": null,
   "source": [],
   "outputs": [],
   "metadata": {}
  }
 ],
 "metadata": {
  "orig_nbformat": 4,
  "language_info": {
   "name": "python",
   "version": "3.8.8",
   "mimetype": "text/x-python",
   "codemirror_mode": {
    "name": "ipython",
    "version": 3
   },
   "pygments_lexer": "ipython3",
   "nbconvert_exporter": "python",
   "file_extension": ".py"
  },
  "kernelspec": {
   "name": "python3",
   "display_name": "Python 3.8.8 64-bit ('base': conda)"
  },
  "interpreter": {
   "hash": "fa422f78b08b4ed23ea77d9d51ba71e035ebabb7673f323e99ba8b680a1634b6"
  }
 },
 "nbformat": 4,
 "nbformat_minor": 2
}