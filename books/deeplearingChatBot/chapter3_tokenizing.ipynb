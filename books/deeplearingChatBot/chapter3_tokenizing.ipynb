{
 "cells": [
  {
   "cell_type": "code",
   "execution_count": 2,
   "source": [
    "#koNLPy => 한국어 자연어 처리 파이썬 라이브러리\r\n",
    " \r\n",
    "#Kkma 서울대 형태소 분석기 from konlpy.tag import Kkma\r\n",
    "from konlpy.tag import Kkma\r\n",
    "\r\n",
    "#꼬꼬마 형태소 분석기 객체 생성\r\n",
    "kkma = Kkma()\r\n",
    "text = \"아버지가 방에 들어갑니다.\"\r\n",
    "\r\n",
    "#형태소 추출\r\n",
    "morphs = kkma.morphs(text)\r\n",
    "print(morphs)\r\n",
    "\r\n",
    "#형태소와 품사 태그 추출\r\n",
    "pos = kkma.pos(text)\r\n",
    "print(pos)"
   ],
   "outputs": [
    {
     "output_type": "stream",
     "name": "stdout",
     "text": [
      "['아버지', '가', '방', '에', '들어가', 'ㅂ니다', '.']\n",
      "[('아버지', 'NNG'), ('가', 'JKS'), ('방', 'NNG'), ('에', 'JKM'), ('들어가', 'VV'), ('ㅂ니다', 'EFN'), ('.', 'SF')]\n"
     ]
    }
   ],
   "metadata": {}
  },
  {
   "cell_type": "code",
   "execution_count": null,
   "source": [],
   "outputs": [],
   "metadata": {}
  }
 ],
 "metadata": {
  "orig_nbformat": 4,
  "language_info": {
   "name": "python",
   "version": "3.8.8",
   "mimetype": "text/x-python",
   "codemirror_mode": {
    "name": "ipython",
    "version": 3
   },
   "pygments_lexer": "ipython3",
   "nbconvert_exporter": "python",
   "file_extension": ".py"
  },
  "kernelspec": {
   "name": "python3",
   "display_name": "Python 3.8.8 64-bit ('base': conda)"
  },
  "interpreter": {
   "hash": "fa422f78b08b4ed23ea77d9d51ba71e035ebabb7673f323e99ba8b680a1634b6"
  }
 },
 "nbformat": 4,
 "nbformat_minor": 2
}