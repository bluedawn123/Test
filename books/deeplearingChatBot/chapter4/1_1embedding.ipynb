{
 "cells": [
  {
   "cell_type": "code",
   "execution_count": null,
   "source": [
    "#단어 임베딩 => 말뭉치에서 각각의 단어를 벡터로 변환하는 기법. 의미와 문법적 정보를 지니고 있으며 단어를 표현하는 방법에 따라 다양"
   ],
   "outputs": [],
   "metadata": {}
  },
  {
   "cell_type": "code",
   "execution_count": 1,
   "source": [
    "#원핫인코딩\r\n",
    "#오늘 날씨는 구름이 많아요 => 오늘:1,0,0, 날씨:0,1,0  구름:0,0,1\r\n",
    "from konlpy.tag import Komoran\r\n",
    "import numpy as np\r\n",
    "\r\n",
    "komoran = Komoran()\r\n",
    "text = \"오늘 날씨는 구름이 많아요\"\r\n",
    "\r\n",
    "#1. 명사만 추출\r\n",
    "nouns = komoran.nouns(text)\r\n",
    "print(\"명사만 추출 : \", nouns)   #오늘  날씨  구름\r\n",
    "\r\n",
    "#2. 단어 사전 구축 및 단어별 인덱스 부여\r\n",
    "dics = {}\r\n",
    "for i in nouns:\r\n",
    "    if i not in dics.keys():\r\n",
    "        dics[i] = len(dics)\r\n",
    "        print(dics)\r\n",
    "        print(dics[i], len(dics))\r\n",
    "       \r\n",
    "\r\n",
    "\r\n",
    "print(\"dics : \", dics)\r\n",
    "print(\"dics.values : \", dics.values)\r\n",
    "\r\n",
    "#원핫인코딩\r\n",
    "nb_classes = len(dics)\r\n",
    "targets = list(dics.values())\r\n",
    "one_hot_targets = np.eye(nb_classes)[targets]\r\n",
    "print(nb_classes)\r\n",
    "print(targets)\r\n",
    "print(\"one_hot_targets : \", one_hot_targets)\r\n",
    "\r\n",
    "\r\n",
    "\r\n"
   ],
   "outputs": [
    {
     "output_type": "stream",
     "name": "stdout",
     "text": [
      "명사만 추출 :  ['오늘', '날씨', '구름']\n",
      "{'오늘': 0}\n",
      "0 1\n",
      "{'오늘': 0, '날씨': 1}\n",
      "1 2\n",
      "{'오늘': 0, '날씨': 1, '구름': 2}\n",
      "2 3\n",
      "dics :  {'오늘': 0, '날씨': 1, '구름': 2}\n",
      "dics.values :  <built-in method values of dict object at 0x00000176E2537380>\n",
      "3\n",
      "[0, 1, 2]\n",
      "one_hot_targets :  [[1. 0. 0.]\n",
      " [0. 1. 0.]\n",
      " [0. 0. 1.]]\n"
     ]
    }
   ],
   "metadata": {}
  },
  {
   "cell_type": "code",
   "execution_count": 1,
   "source": [
    "#하 씨발 왜 안되는지 모르겠네 \r\n",
    "\r\n",
    "from gensim.models import Word2Vec\r\n",
    "from konlpy.tag import Komoran\r\n",
    "import time\r\n",
    "\r\n",
    "\r\n",
    "# 네이버 영화 리뷰 데이터 읽어옴\r\n",
    "def read_review_data(filename):\r\n",
    "    with open(filename, 'r') as f:\r\n",
    "        data = [line.split('\\t') for line in f.read().splitlines()]\r\n",
    "        data = data[1:] # header 제거\r\n",
    "    return data\r\n",
    "\r\n",
    "\r\n",
    "# 측정 시작\r\n",
    "start = time.time()\r\n",
    "\r\n",
    "# 리뷰 파일 읽어오기\r\n",
    "print('1) 말뭉치 데이터 읽기 시작')\r\n",
    "review_data = read_review_data('./ratings.txt')\r\n",
    "print(len(review_data)) # 리뷰 데이터 전체 개수\r\n",
    "print('1) 말뭉치 데이터 읽기 완료: ', time.time() - start)\r\n",
    "\r\n",
    "# 문장단위로 명사만 추출해 학습 입력 데이터로 만듬\r\n",
    "print('2) 형태소에서 명사만 추출 시작')\r\n",
    "komoran = Komoran()\r\n",
    "docs = [komoran.nouns(sentence[1]) for sentence in review_data]\r\n",
    "print('2) 형태소에서 명사만 추출 완료: ', time.time() - start)\r\n",
    "\r\n",
    "# word2vec 모델 학습\r\n",
    "print('3) word2vec 모델 학습 시작')\r\n",
    "model = Word2Vec(sentences=docs, size=200, window=4, min_count=2, sg=1)\r\n",
    "print('3) word2vec 모델 학습 완료: ', time.time() - start)\r\n",
    "\r\n",
    "# 모델 저장\r\n",
    "print('4) 학습된 모델 저장 시작')\r\n",
    "model.save('nvmc.model')\r\n",
    "print('4) 학습된 모델 저장 완료: ', time.time() - start)\r\n",
    "\r\n",
    "# 학습된 말뭉치 개수, 코퍼스 내 전체 단어 개수\r\n",
    "print(\"corpus_count : \", model.corpus_count)\r\n",
    "print(\"corpus_total_words : \", model.corpus_total_words)"
   ],
   "outputs": [
    {
     "output_type": "stream",
     "name": "stderr",
     "text": [
      "C:\\Users\\YOONJUNHO\\anaconda3\\lib\\site-packages\\gensim\\similarities\\__init__.py:15: UserWarning: The gensim.similarities.levenshtein submodule is disabled, because the optional Levenshtein package <https://pypi.org/project/python-Levenshtein/> is unavailable. Install Levenhstein (e.g. `pip install python-Levenshtein`) to suppress this warning.\n",
      "  warnings.warn(msg)\n"
     ]
    },
    {
     "output_type": "stream",
     "name": "stdout",
     "text": [
      "1) 말뭉치 데이터 읽기 시작\n"
     ]
    },
    {
     "output_type": "error",
     "ename": "UnicodeDecodeError",
     "evalue": "'cp949' codec can't decode byte 0xec in position 26: illegal multibyte sequence",
     "traceback": [
      "\u001b[1;31m---------------------------------------------------------------------------\u001b[0m",
      "\u001b[1;31mUnicodeDecodeError\u001b[0m                        Traceback (most recent call last)",
      "\u001b[1;32m<ipython-input-1-d60e08d181cb>\u001b[0m in \u001b[0;36m<module>\u001b[1;34m\u001b[0m\n\u001b[0;32m     19\u001b[0m \u001b[1;31m# 리뷰 파일 읽어오기\u001b[0m\u001b[1;33m\u001b[0m\u001b[1;33m\u001b[0m\u001b[1;33m\u001b[0m\u001b[0m\n\u001b[0;32m     20\u001b[0m \u001b[0mprint\u001b[0m\u001b[1;33m(\u001b[0m\u001b[1;34m'1) 말뭉치 데이터 읽기 시작'\u001b[0m\u001b[1;33m)\u001b[0m\u001b[1;33m\u001b[0m\u001b[1;33m\u001b[0m\u001b[0m\n\u001b[1;32m---> 21\u001b[1;33m \u001b[0mreview_data\u001b[0m \u001b[1;33m=\u001b[0m \u001b[0mread_review_data\u001b[0m\u001b[1;33m(\u001b[0m\u001b[1;34m'./ratings.txt'\u001b[0m\u001b[1;33m)\u001b[0m\u001b[1;33m\u001b[0m\u001b[1;33m\u001b[0m\u001b[0m\n\u001b[0m\u001b[0;32m     22\u001b[0m \u001b[0mprint\u001b[0m\u001b[1;33m(\u001b[0m\u001b[0mlen\u001b[0m\u001b[1;33m(\u001b[0m\u001b[0mreview_data\u001b[0m\u001b[1;33m)\u001b[0m\u001b[1;33m)\u001b[0m \u001b[1;31m# 리뷰 데이터 전체 개수\u001b[0m\u001b[1;33m\u001b[0m\u001b[1;33m\u001b[0m\u001b[0m\n\u001b[0;32m     23\u001b[0m \u001b[0mprint\u001b[0m\u001b[1;33m(\u001b[0m\u001b[1;34m'1) 말뭉치 데이터 읽기 완료: '\u001b[0m\u001b[1;33m,\u001b[0m \u001b[0mtime\u001b[0m\u001b[1;33m.\u001b[0m\u001b[0mtime\u001b[0m\u001b[1;33m(\u001b[0m\u001b[1;33m)\u001b[0m \u001b[1;33m-\u001b[0m \u001b[0mstart\u001b[0m\u001b[1;33m)\u001b[0m\u001b[1;33m\u001b[0m\u001b[1;33m\u001b[0m\u001b[0m\n",
      "\u001b[1;32m<ipython-input-1-d60e08d181cb>\u001b[0m in \u001b[0;36mread_review_data\u001b[1;34m(filename)\u001b[0m\n\u001b[0;32m      9\u001b[0m \u001b[1;32mdef\u001b[0m \u001b[0mread_review_data\u001b[0m\u001b[1;33m(\u001b[0m\u001b[0mfilename\u001b[0m\u001b[1;33m)\u001b[0m\u001b[1;33m:\u001b[0m\u001b[1;33m\u001b[0m\u001b[1;33m\u001b[0m\u001b[0m\n\u001b[0;32m     10\u001b[0m     \u001b[1;32mwith\u001b[0m \u001b[0mopen\u001b[0m\u001b[1;33m(\u001b[0m\u001b[0mfilename\u001b[0m\u001b[1;33m,\u001b[0m \u001b[1;34m'r'\u001b[0m\u001b[1;33m)\u001b[0m \u001b[1;32mas\u001b[0m \u001b[0mf\u001b[0m\u001b[1;33m:\u001b[0m\u001b[1;33m\u001b[0m\u001b[1;33m\u001b[0m\u001b[0m\n\u001b[1;32m---> 11\u001b[1;33m         \u001b[0mdata\u001b[0m \u001b[1;33m=\u001b[0m \u001b[1;33m[\u001b[0m\u001b[0mline\u001b[0m\u001b[1;33m.\u001b[0m\u001b[0msplit\u001b[0m\u001b[1;33m(\u001b[0m\u001b[1;34m'\\t'\u001b[0m\u001b[1;33m)\u001b[0m \u001b[1;32mfor\u001b[0m \u001b[0mline\u001b[0m \u001b[1;32min\u001b[0m \u001b[0mf\u001b[0m\u001b[1;33m.\u001b[0m\u001b[0mread\u001b[0m\u001b[1;33m(\u001b[0m\u001b[1;33m)\u001b[0m\u001b[1;33m.\u001b[0m\u001b[0msplitlines\u001b[0m\u001b[1;33m(\u001b[0m\u001b[1;33m)\u001b[0m\u001b[1;33m]\u001b[0m\u001b[1;33m\u001b[0m\u001b[1;33m\u001b[0m\u001b[0m\n\u001b[0m\u001b[0;32m     12\u001b[0m         \u001b[0mdata\u001b[0m \u001b[1;33m=\u001b[0m \u001b[0mdata\u001b[0m\u001b[1;33m[\u001b[0m\u001b[1;36m1\u001b[0m\u001b[1;33m:\u001b[0m\u001b[1;33m]\u001b[0m \u001b[1;31m# header 제거\u001b[0m\u001b[1;33m\u001b[0m\u001b[1;33m\u001b[0m\u001b[0m\n\u001b[0;32m     13\u001b[0m     \u001b[1;32mreturn\u001b[0m \u001b[0mdata\u001b[0m\u001b[1;33m\u001b[0m\u001b[1;33m\u001b[0m\u001b[0m\n",
      "\u001b[1;31mUnicodeDecodeError\u001b[0m: 'cp949' codec can't decode byte 0xec in position 26: illegal multibyte sequence"
     ]
    }
   ],
   "metadata": {}
  },
  {
   "cell_type": "code",
   "execution_count": null,
   "source": [],
   "outputs": [],
   "metadata": {}
  }
 ],
 "metadata": {
  "orig_nbformat": 4,
  "language_info": {
   "name": "python",
   "version": "3.8.8",
   "mimetype": "text/x-python",
   "codemirror_mode": {
    "name": "ipython",
    "version": 3
   },
   "pygments_lexer": "ipython3",
   "nbconvert_exporter": "python",
   "file_extension": ".py"
  },
  "kernelspec": {
   "name": "python3",
   "display_name": "Python 3.8.8 64-bit ('base': conda)"
  },
  "interpreter": {
   "hash": "fa422f78b08b4ed23ea77d9d51ba71e035ebabb7673f323e99ba8b680a1634b6"
  }
 },
 "nbformat": 4,
 "nbformat_minor": 2
}