{
 "cells": [
  {
   "cell_type": "code",
   "execution_count": null,
   "source": [
    "#단어 임베딩 => 말뭉치에서 각각의 단어를 벡터로 변환하는 기법. 의미와 문법적 정보를 지니고 있으며 단어를 표현하는 방법에 따라 다양"
   ],
   "outputs": [],
   "metadata": {}
  },
  {
   "cell_type": "code",
   "execution_count": 11,
   "source": [
    "#원핫인코딩\r\n",
    "#오늘 날씨는 구름이 많아요 => 오늘:1,0,0, 날씨:0,1,0  구름:0,0,1\r\n",
    "from konlpy.tag import Komoran\r\n",
    "import numpy as np\r\n",
    "\r\n",
    "komoran = Komoran()\r\n",
    "text = \"오늘 날씨는 구름이 많아요\"\r\n",
    "\r\n",
    "#1. 명사만 추출\r\n",
    "nouns = komoran.nouns(text)\r\n",
    "print(\"명사만 추출 : \", nouns)   #오늘  날씨  구름\r\n",
    "\r\n",
    "#2. 단어 사전 구축 및 단어별 인덱스 부여\r\n",
    "dics = {}\r\n",
    "for i in nouns:\r\n",
    "    if i not in dics.keys():\r\n",
    "        dics[i] = len(dics)\r\n",
    "        print(dics)\r\n",
    "        print(dics[i], len(dics))\r\n",
    "       \r\n",
    "\r\n",
    "\r\n",
    "print(\"dics : \", dics)\r\n",
    "print(\"dics.values : \", dics.values)\r\n",
    "\r\n",
    "#원핫인코딩\r\n",
    "nb_classes = len(dics)\r\n",
    "targets = list(dics.values())\r\n",
    "one_hot_targets = np.eye(nb_classes)[targets]\r\n",
    "print(nb_classes)\r\n",
    "print(targets)\r\n",
    "print(\"one_hot_targets : \", one_hot_targets)\r\n",
    "\r\n",
    "\r\n",
    "\r\n"
   ],
   "outputs": [
    {
     "output_type": "stream",
     "name": "stdout",
     "text": [
      "명사만 추출 :  ['오늘', '날씨', '구름']\n",
      "{'오늘': 0}\n",
      "0 1\n",
      "{'오늘': 0, '날씨': 1}\n",
      "1 2\n",
      "{'오늘': 0, '날씨': 1, '구름': 2}\n",
      "2 3\n",
      "dics :  {'오늘': 0, '날씨': 1, '구름': 2}\n",
      "dics.values :  <built-in method values of dict object at 0x000001C487656A80>\n",
      "3\n",
      "[0, 1, 2]\n",
      "one_hot_targets :  [[1. 0. 0.]\n",
      " [0. 1. 0.]\n",
      " [0. 0. 1.]]\n"
     ]
    }
   ],
   "metadata": {}
  },
  {
   "cell_type": "code",
   "execution_count": null,
   "source": [],
   "outputs": [],
   "metadata": {}
  }
 ],
 "metadata": {
  "orig_nbformat": 4,
  "language_info": {
   "name": "python",
   "version": "3.8.8",
   "mimetype": "text/x-python",
   "codemirror_mode": {
    "name": "ipython",
    "version": 3
   },
   "pygments_lexer": "ipython3",
   "nbconvert_exporter": "python",
   "file_extension": ".py"
  },
  "kernelspec": {
   "name": "python3",
   "display_name": "Python 3.8.8 64-bit ('cpv': conda)"
  },
  "interpreter": {
   "hash": "32bb8a0e90f82758b9678f0cede34edb3d00f3da53b058c2efc4f23dad631933"
  }
 },
 "nbformat": 4,
 "nbformat_minor": 2
}