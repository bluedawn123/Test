{
 "cells": [
  {
   "cell_type": "code",
   "execution_count": 2,
   "source": [
    "#생성된 디비에 연결하고 테이블 생성하고, 거기에 삽입해보기\r\n",
    "\r\n",
    "import pymysql"
   ],
   "outputs": [],
   "metadata": {}
  },
  {
   "cell_type": "code",
   "execution_count": 3,
   "source": [
    "db = None\r\n",
    "try:\r\n",
    "    # DB 호스트 정보에 맞게 입력해주세요\r\n",
    "    db = pymysql.connect(\r\n",
    "        host='127.0.0.1',\r\n",
    "        port=3306,\r\n",
    "        user='root',\r\n",
    "        passwd='123123',\r\n",
    "        db='chatbotchapter7',\r\n",
    "        charset='utf8'\r\n",
    "    )\r\n",
    "    print(\"DB 연결 성공\")\r\n",
    "        \r\n",
    "    # 테이블 생성 sql 정의\r\n",
    "    sql = '''\r\n",
    "    CREATE TABLE tb_student (\r\n",
    "        id int primary key auto_increment not null,\r\n",
    "        name varchar(32),\r\n",
    "        age int,\r\n",
    "        address varchar(32)\r\n",
    "    ) ENGINE=InnoDB DEFAULT CHARSET=utf8\r\n",
    "    '''\r\n",
    "\r\n",
    "    # 테이블 생성\r\n",
    "    with db.cursor() as cursor:\r\n",
    "        cursor.execute(sql)\r\n",
    "    print(\"테이블 생성 성공\")\r\n",
    "    \r\n",
    "\r\n",
    "except Exception as e:\r\n",
    "    print(e)\r\n",
    "\r\n",
    "finally:\r\n",
    "    if db is not None:\r\n",
    "        db.close()\r\n",
    "    print(\"디비 닫기 성공\")\r\n"
   ],
   "outputs": [
    {
     "output_type": "stream",
     "name": "stdout",
     "text": [
      "DB 연결 성공\n",
      "(1050, \"Table 'tb_student' already exists\")\n",
      "디비 닫기 성공\n"
     ]
    }
   ],
   "metadata": {}
  },
  {
   "cell_type": "code",
   "execution_count": 4,
   "source": [
    "#저기에 데이터 삽입\r\n",
    "db = None\r\n",
    "try:\r\n",
    "    # DB 호스트 정보에 맞게 입력해주세요\r\n",
    "    db = pymysql.connect(\r\n",
    "        host='127.0.0.1',\r\n",
    "        port=3306,\r\n",
    "        user='root',\r\n",
    "        passwd='123123',\r\n",
    "        db='chatbotchapter7',\r\n",
    "        charset='utf8'\r\n",
    "    )\r\n",
    "\r\n",
    "    # 데이터 삽입 sql 정의\r\n",
    "    sql = '''\r\n",
    "    INSERT tb_student(name, age, address) values('Kei', 35, 'Korea')\r\n",
    "    '''\r\n",
    "\r\n",
    "    # 데이터 삽입\r\n",
    "    with db.cursor() as cursor:\r\n",
    "        cursor.execute(sql)\r\n",
    "    db.commit()\r\n",
    "    print(\"데이터 삽입 성공\")\r\n",
    "\r\n",
    "except Exception as e:\r\n",
    "    print(e)\r\n",
    "\r\n",
    "finally:\r\n",
    "    if db is not None:\r\n",
    "        db.close()\r\n",
    "    print(\"디비 닫기 성공\")\r\n"
   ],
   "outputs": [
    {
     "output_type": "stream",
     "name": "stdout",
     "text": [
      "데이터 삽입 성공\n",
      "디비 닫기 성공\n"
     ]
    }
   ],
   "metadata": {}
  },
  {
   "cell_type": "code",
   "execution_count": null,
   "source": [],
   "outputs": [],
   "metadata": {}
  }
 ],
 "metadata": {
  "orig_nbformat": 4,
  "language_info": {
   "name": "python",
   "version": "3.8.8",
   "mimetype": "text/x-python",
   "codemirror_mode": {
    "name": "ipython",
    "version": 3
   },
   "pygments_lexer": "ipython3",
   "nbconvert_exporter": "python",
   "file_extension": ".py"
  },
  "kernelspec": {
   "name": "python3",
   "display_name": "Python 3.8.8 64-bit ('base': conda)"
  },
  "interpreter": {
   "hash": "fa422f78b08b4ed23ea77d9d51ba71e035ebabb7673f323e99ba8b680a1634b6"
  }
 },
 "nbformat": 4,
 "nbformat_minor": 2
}