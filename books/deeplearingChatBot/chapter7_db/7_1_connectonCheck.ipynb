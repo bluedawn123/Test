{
 "cells": [
  {
   "cell_type": "code",
   "execution_count": 3,
   "source": [
    "#생성된 db에 연결해보기\r\n",
    "\r\n",
    "import pymysql"
   ],
   "outputs": [],
   "metadata": {}
  },
  {
   "cell_type": "code",
   "execution_count": 4,
   "source": [
    "import pymysql\r\n",
    "\r\n",
    "# DB_HOST=127.0.0.1\r\n",
    "# DB_PORT=3306\r\n",
    "# DB_DATABASE=homestead\r\n",
    "# DB_USERNAME=homestead\r\n",
    "# DB_PASSWORD=secret\r\n",
    "\r\n",
    "db = None\r\n",
    "try:\r\n",
    "    # DB 호스트 정보에 맞게 입력해주세요\r\n",
    "    db = pymysql.connect(\r\n",
    "        host='127.0.0.1',\r\n",
    "        port=3306,\r\n",
    "        user='root',\r\n",
    "        passwd='123123',\r\n",
    "        db='chatbotchapter7',\r\n",
    "        charset='utf8'\r\n",
    "    )\r\n",
    "    print(\"DB 연결 성공\")\r\n",
    "\r\n",
    "\r\n",
    "except Exception as e:\r\n",
    "    print(e)\r\n",
    "\r\n",
    "finally:\r\n",
    "    if db is not None:\r\n",
    "        db.close()\r\n",
    "        print(\"DB 연결 닫기 성공\")\r\n"
   ],
   "outputs": [
    {
     "output_type": "stream",
     "name": "stdout",
     "text": [
      "DB 연결 성공\n",
      "DB 연결 닫기 성공\n"
     ]
    }
   ],
   "metadata": {}
  },
  {
   "cell_type": "code",
   "execution_count": null,
   "source": [],
   "outputs": [],
   "metadata": {}
  }
 ],
 "metadata": {
  "orig_nbformat": 4,
  "language_info": {
   "name": "python",
   "version": "3.8.8",
   "mimetype": "text/x-python",
   "codemirror_mode": {
    "name": "ipython",
    "version": 3
   },
   "pygments_lexer": "ipython3",
   "nbconvert_exporter": "python",
   "file_extension": ".py"
  },
  "kernelspec": {
   "name": "python3",
   "display_name": "Python 3.8.8 64-bit ('base': conda)"
  },
  "interpreter": {
   "hash": "fa422f78b08b4ed23ea77d9d51ba71e035ebabb7673f323e99ba8b680a1634b6"
  }
 },
 "nbformat": 4,
 "nbformat_minor": 2
}