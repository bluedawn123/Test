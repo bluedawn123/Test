{
 "cells": [
  {
   "cell_type": "code",
   "execution_count": 1,
   "source": [
    "#데이터 넣어보기 조회까지 해보기\r\n",
    "import pymysql\r\n",
    "import pandas as pd"
   ],
   "outputs": [],
   "metadata": {}
  },
  {
   "cell_type": "code",
   "execution_count": 2,
   "source": [
    "db = None\r\n",
    "try:\r\n",
    "    # DB 호스트 정보에 맞게 입력해주세요\r\n",
    "    db = pymysql.connect(\r\n",
    "        host='127.0.0.1',\r\n",
    "        port=3306,\r\n",
    "        user='root',\r\n",
    "        passwd='123123',\r\n",
    "        db='chatbotchapter7',\r\n",
    "        charset='utf8'\r\n",
    "    )\r\n",
    "    print(\"DB 연결 성공\")\r\n",
    "\r\n",
    "    # 데이터 정의\r\n",
    "    students = [\r\n",
    "        {'name': 'Kei', 'age': 36, 'address' : 'PUSAN'},\r\n",
    "        {'name': 'Tony', 'age': 34, 'address': 'PUSAN'},\r\n",
    "        {'name': 'Jaeyoo', 'age': 39, 'address': 'GWANGJU'},\r\n",
    "        {'name': 'Grace', 'age': 28, 'address': 'SEOUL'},\r\n",
    "        {'name': 'Jenny', 'age': 27, 'address': 'SEOUL'},\r\n",
    "    ]\r\n",
    "\r\n",
    "    # 데이터 db에 추가\r\n",
    "    for s in students:\r\n",
    "        with db.cursor() as cursor:\r\n",
    "            sql = '''\r\n",
    "                    insert tb_student(name, age, address) values(\"%s\",%d,\"%s\")\r\n",
    "                    ''' % (s['name'], s['age'], s['address'])\r\n",
    "            cursor.execute(sql)\r\n",
    "    db.commit() # 커밋\r\n",
    "\r\n",
    "    # 30대 학생만 조회\r\n",
    "    cond_age = 30\r\n",
    "    with db.cursor(pymysql.cursors.DictCursor) as cursor:\r\n",
    "        sql = ''' \r\n",
    "        select * from tb_student where age > %d\r\n",
    "        ''' % cond_age\r\n",
    "        cursor.execute(sql)\r\n",
    "        results = cursor.fetchall()\r\n",
    "    print(results)\r\n",
    "\r\n",
    "    # 이름 검색\r\n",
    "    cond_name = 'Grace'\r\n",
    "    with db.cursor(pymysql.cursors.DictCursor) as cursor:\r\n",
    "        sql = ''' \r\n",
    "        select * from tb_student where name=\"%s\"\r\n",
    "        ''' % cond_name\r\n",
    "        cursor.execute(sql)\r\n",
    "        result = cursor.fetchone()\r\n",
    "    print(result['name'], result['age'])\r\n",
    "\r\n",
    "    # pandas 데이터프레임으로 표현\r\n",
    "    df = pd.DataFrame(results)\r\n",
    "    print(df)\r\n",
    "\r\n",
    "\r\n",
    "except Exception as e:\r\n",
    "    print(e)\r\n",
    "\r\n",
    "finally:\r\n",
    "    if db is not None:\r\n",
    "        db.close()\r\n",
    "        print(\"DB 연결 닫기 성공\")\r\n",
    "\r\n",
    "\r\n"
   ],
   "outputs": [
    {
     "output_type": "stream",
     "name": "stdout",
     "text": [
      "DB 연결 성공\n",
      "[{'id': 2, 'name': 'Kei', 'age': 36, 'address': 'PUSAN'}, {'id': 3, 'name': 'Tony', 'age': 34, 'address': 'PUSAN'}, {'id': 4, 'name': 'Jaeyoo', 'age': 39, 'address': 'GWANGJU'}]\n",
      "Grace 28\n",
      "   id    name  age  address\n",
      "0   2     Kei   36    PUSAN\n",
      "1   3    Tony   34    PUSAN\n",
      "2   4  Jaeyoo   39  GWANGJU\n",
      "DB 연결 닫기 성공\n"
     ]
    }
   ],
   "metadata": {}
  },
  {
   "cell_type": "code",
   "execution_count": null,
   "source": [],
   "outputs": [],
   "metadata": {}
  }
 ],
 "metadata": {
  "orig_nbformat": 4,
  "language_info": {
   "name": "python",
   "version": "3.8.8",
   "mimetype": "text/x-python",
   "codemirror_mode": {
    "name": "ipython",
    "version": 3
   },
   "pygments_lexer": "ipython3",
   "nbconvert_exporter": "python",
   "file_extension": ".py"
  },
  "kernelspec": {
   "name": "python3",
   "display_name": "Python 3.8.8 64-bit ('base': conda)"
  },
  "interpreter": {
   "hash": "fa422f78b08b4ed23ea77d9d51ba71e035ebabb7673f323e99ba8b680a1634b6"
  }
 },
 "nbformat": 4,
 "nbformat_minor": 2
}