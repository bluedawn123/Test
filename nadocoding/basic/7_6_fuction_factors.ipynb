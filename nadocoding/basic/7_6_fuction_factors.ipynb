{
 "metadata": {
  "language_info": {
   "codemirror_mode": {
    "name": "ipython",
    "version": 3
   },
   "file_extension": ".py",
   "mimetype": "text/x-python",
   "name": "python",
   "nbconvert_exporter": "python",
   "pygments_lexer": "ipython3",
   "version": "3.7.6"
  },
  "orig_nbformat": 2,
  "kernelspec": {
   "name": "python3",
   "display_name": "Python 3.7.6 64-bit ('cpv': conda)",
   "metadata": {
    "interpreter": {
     "hash": "e25e0584590c458883016a89e0cf53be7d76548718d22946ce414c44a74f5c84"
    }
   }
  }
 },
 "nbformat": 4,
 "nbformat_minor": 2,
 "cells": [
  {
   "cell_type": "code",
   "execution_count": 1,
   "metadata": {},
   "outputs": [],
   "source": [
    "#지역변수 : 함수 내에서만 쓸수 있는. 함수 호출이 끝나면 사라짐\n",
    "#전역변수 : 모든 공간내에서 사용 가능."
   ]
  },
  {
   "cell_type": "code",
   "execution_count": 2,
   "metadata": {},
   "outputs": [
    {
     "output_type": "stream",
     "name": "stdout",
     "text": [
      "전체 총 : 10\n[함수 내] 남은 총 : 18\n남은 총 : 10\n"
     ]
    }
   ],
   "source": [
    "gun = 10\n",
    "\n",
    "def checkpoint(soldier):\n",
    "    gun = 20\n",
    "    gun = gun - soldier\n",
    "    print(\"[함수 내] 남은 총 : {0}\".format(gun))\n",
    "\n",
    "print(\"전체 총 : {0}\".format(gun))\n",
    "checkpoint(2)\n",
    "print(\"남은 총 : {0}\".format(gun)) \n",
    "\n",
    "#내부의 gun과 외부의 gun이 영향을 끼치는 것이 다르다. => 지역변수, 전역변수의 차이.\n",
    "\n"
   ]
  },
  {
   "cell_type": "code",
   "execution_count": 3,
   "metadata": {},
   "outputs": [
    {
     "output_type": "stream",
     "name": "stdout",
     "text": [
      "전체 총 : 10\n[함수 내] 남은 총 : 8\n남은 총 : 8\n"
     ]
    }
   ],
   "source": [
    "#전역변수. global \n",
    "#전역 공간에 있는 gun이라는 변수를 checkpoint 함수 내에서 쓰겠다. \n",
    "gun = 10\n",
    "\n",
    "def checkpoint(soldier):\n",
    "    global gun\n",
    "    gun = gun - soldier\n",
    "    print(\"[함수 내] 남은 총 : {0}\".format(gun))\n",
    "\n",
    "print(\"전체 총 : {0}\".format(gun))\n",
    "checkpoint(2)\n",
    "print(\"남은 총 : {0}\".format(gun)) \n",
    "\n"
   ]
  },
  {
   "cell_type": "code",
   "execution_count": 7,
   "metadata": {},
   "outputs": [
    {
     "output_type": "stream",
     "name": "stdout",
     "text": [
      "전체 총 : 10\n[함수 내] 남은 총 : 8\n남은 총 : 10\n"
     ]
    }
   ],
   "source": [
    "gun = 10\n",
    "\n",
    "def checkpoint(soldier):\n",
    "    global gun\n",
    "    gun = gun - soldier\n",
    "    print(\"[함수 내] 남은 총 : {0}\".format(gun))\n",
    "\n",
    "def checkpoint_return(gun, soldier): #gun, soldiers 는 함수 내에서 지역변수가 된다. \n",
    "    gun = gun - soldier\n",
    "    print(\"[함수 내] 남은 총 : {0}\".format(gun))\n",
    "    return gun\n",
    "\n",
    "\n",
    "print(\"전체 총 : {0}\".format(gun))\n",
    "gun = checkpoint_return(gun, 2)\n",
    "print(\"남은 총 : {0}\".format(gun)) \n",
    "\n",
    "#설명. gun = 10으로 설정 =>>> gun = checkpoint_return(gun, 2) 실행. 이때 gun = 10으로 들어가서 실행됨. \n",
    "#      함수 내에서 계산된 gun은 8로 리턴돼서 밖에 있는 gun에 저장. "
   ]
  },
  {
   "cell_type": "code",
   "execution_count": null,
   "metadata": {},
   "outputs": [],
   "source": []
  }
 ]
}