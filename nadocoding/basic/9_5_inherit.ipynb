{
 "metadata": {
  "language_info": {
   "codemirror_mode": {
    "name": "ipython",
    "version": 3
   },
   "file_extension": ".py",
   "mimetype": "text/x-python",
   "name": "python",
   "nbconvert_exporter": "python",
   "pygments_lexer": "ipython3",
   "version": "3.7.6"
  },
  "orig_nbformat": 2,
  "kernelspec": {
   "name": "python376jvsc74a57bd0e25e0584590c458883016a89e0cf53be7d76548718d22946ce414c44a74f5c84",
   "display_name": "Python 3.7.6 64-bit ('cpv': conda)"
  }
 },
 "nbformat": 4,
 "nbformat_minor": 2,
 "cells": [
  {
   "cell_type": "code",
   "execution_count": null,
   "metadata": {},
   "outputs": [],
   "source": [
    "'''\n",
    "#일반 유닛\n",
    "class Unit:\n",
    "    def __init__(self, name, hp, damage):\n",
    "        self.name = name\n",
    "        self.hp = hp\n",
    "       \n",
    "#공격 유닛 클래스\n",
    "#공격하는 함수와 공격받는 함수 포함\n",
    "class AttackUnit:\n",
    "    def __init__(self, name, hp, damage):\n",
    "        self.name = name\n",
    "        self.hp = hp\n",
    "        self.damage = damage\n",
    "\n",
    "    def attack(self, location):\n",
    "        print(\"{0} : {1} 시 방향으로 적군을 공격한다. [공격력 {2}]\"\\\n",
    "            .format(self.name, location, self.damage))\n",
    "                    #self를 쓰는 것은 클래스 자신의 멤버변수 값을 출력하는 것이고, location(self없는것)은 전달받은 값을 쓴다는 것을 의미\n",
    "    def damaged(self, damage):\n",
    "        print(\"{0} : {1} 데이미를 입었습니다.\".format(self.name, damage))\n",
    "        self.hp = self.hp - damage\n",
    "        print(\"{0} : 현재 체력은 {1} 입니다.\".format(self.name, self.hp))\n",
    "\n",
    "        if self.hp <= 0:\n",
    "            print(\"{0} : 파괴되었습니다.\".format(self.name))\n",
    "\n",
    "'''\n",
    "#여기서 겹치는 부분이 self.name, self.hp 가 겹친다. 이 경우 상속을 사용할 수 있다. "
   ]
  },
  {
   "cell_type": "code",
   "execution_count": 3,
   "metadata": {},
   "outputs": [
    {
     "output_type": "stream",
     "name": "stdout",
     "text": [
      "파이어뱃 : 5시 시 방향으로 적군을 공격한다. [공격력 16]\n파이어뱃 : 25 데이미를 입었습니다.\n파이어뱃 : 현재 체력은 25 입니다.\n파이어뱃 : 25 데이미를 입었습니다.\n파이어뱃 : 현재 체력은 0 입니다.\n파이어뱃 : 파괴되었습니다.\n"
     ]
    }
   ],
   "source": [
    "#상속\n",
    "\n",
    "#일반 유닛\n",
    "class Unit:\n",
    "    def __init__(self, name, hp):\n",
    "        self.name = name\n",
    "        self.hp = hp\n",
    "       \n",
    "#공격 유닛 클래스\n",
    "#공격하는 함수와 공격받는 함수 포함\n",
    "class AttackUnit(Unit):           #괄호안에 상속받고 싶은 클래스. 즉 공격유닛을 일반유닛을 상속받아 만들어짐\n",
    "                                  #생성자를 호출해 줘야한다.      \n",
    "    def __init__(self, name, hp, damage):\n",
    "        Unit.__init__(self, name, hp)   #생성자 호출\n",
    "        self.damage = damage\n",
    "\n",
    "    def attack(self, location):\n",
    "        print(\"{0} : {1} 시 방향으로 적군을 공격한다. [공격력 {2}]\"\\\n",
    "            .format(self.name, location, self.damage))\n",
    "                    #self를 쓰는 것은 클래스 자신의 멤버변수 값을 출력하는 것이고, location(self없는것)은 전달받은 값을 쓴다는 것을 의미\n",
    "    def damaged(self, damage):\n",
    "        print(\"{0} : {1} 데이미를 입었습니다.\".format(self.name, damage))\n",
    "        self.hp = self.hp - damage\n",
    "        print(\"{0} : 현재 체력은 {1} 입니다.\".format(self.name, self.hp))\n",
    "\n",
    "        if self.hp <= 0:\n",
    "            print(\"{0} : 파괴되었습니다.\".format(self.name))\n",
    "\n",
    "#파이어뱃\n",
    "firebat1 = AttackUnit(\"파이어뱃\", 50, 16)\n",
    "firebat1.attack(\"5시\") #공격하는 함수\n",
    "firebat1.damaged(25)    #공격받는 함수\n",
    "firebat1.damaged(25)    #공격받는 함수"
   ]
  }
 ]
}