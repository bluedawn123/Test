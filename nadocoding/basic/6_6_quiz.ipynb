{
 "metadata": {
  "language_info": {
   "codemirror_mode": {
    "name": "ipython",
    "version": 3
   },
   "file_extension": ".py",
   "mimetype": "text/x-python",
   "name": "python",
   "nbconvert_exporter": "python",
   "pygments_lexer": "ipython3",
   "version": "3.7.6"
  },
  "orig_nbformat": 2,
  "kernelspec": {
   "name": "python3",
   "display_name": "Python 3.7.6 64-bit ('cpv': conda)",
   "metadata": {
    "interpreter": {
     "hash": "e25e0584590c458883016a89e0cf53be7d76548718d22946ce414c44a74f5c84"
    }
   }
  }
 },
 "nbformat": 4,
 "nbformat_minor": 2,
 "cells": [
  {
   "cell_type": "code",
   "execution_count": 1,
   "metadata": {},
   "outputs": [
    {
     "output_type": "error",
     "ename": "SyntaxError",
     "evalue": "EOF while scanning triple-quoted string literal (<ipython-input-1-0ee31eebd46a>, line 1)",
     "traceback": [
      "\u001b[1;36m  File \u001b[1;32m\"<ipython-input-1-0ee31eebd46a>\"\u001b[1;36m, line \u001b[1;32m1\u001b[0m\n\u001b[1;33m    '''\u001b[0m\n\u001b[1;37m       ^\u001b[0m\n\u001b[1;31mSyntaxError\u001b[0m\u001b[1;31m:\u001b[0m EOF while scanning triple-quoted string literal\n"
     ]
    }
   ],
   "source": [
    "'''\n",
    "\n",
    "Quiz)))50명의 승객과 매칭 기회가 있을 때, 총 탑승 승객 수를 구하시오\n",
    "\n",
    "조건1: 승객별 운행 소요 시간은 5 ~ 50분으로 랜덤\n",
    "조건2: 당신은 소요시간 5 ~ 15분 사이만 매칭해야함. (그래야 돈이 되기 때문에)\n",
    "\n",
    "출력은, 아래 형식으로 하시오\n",
    "(예)\n",
    "[o] 1번째 손님 (소요시간 : 3분)\n",
    "[ ] 2번째 손님 (소요시간 : 35분)\n",
    "[o] 3번째 손님 (소요시간 : 15분)\n",
    "\n",
    "...\n",
    "\n",
    "[ ] 50번째 손님 (소요시간 : 25분)\n",
    "\n",
    "총 탑승 승객 : 2명\n",
    "\n",
    "\n",
    "\n",
    "'''\n"
   ]
  },
  {
   "cell_type": "code",
   "execution_count": 2,
   "metadata": {},
   "outputs": [
    {
     "output_type": "stream",
     "name": "stdout",
     "text": [
      "[0] 1번째 손님. (소요시간 : 7분)\n[ ] 2번째 손님. (소요시간 : 25분)\n[ ] 3번째 손님. (소요시간 : 26분)\n[ ] 4번째 손님. (소요시간 : 48분)\n[0] 5번째 손님. (소요시간 : 15분)\n[ ] 6번째 손님. (소요시간 : 42분)\n[ ] 7번째 손님. (소요시간 : 46분)\n[ ] 8번째 손님. (소요시간 : 35분)\n[ ] 9번째 손님. (소요시간 : 25분)\n[ ] 10번째 손님. (소요시간 : 21분)\n[ ] 11번째 손님. (소요시간 : 44분)\n[ ] 12번째 손님. (소요시간 : 28분)\n[ ] 13번째 손님. (소요시간 : 41분)\n[ ] 14번째 손님. (소요시간 : 27분)\n[ ] 15번째 손님. (소요시간 : 35분)\n[0] 16번째 손님. (소요시간 : 6분)\n[ ] 17번째 손님. (소요시간 : 45분)\n[0] 18번째 손님. (소요시간 : 15분)\n[ ] 19번째 손님. (소요시간 : 43분)\n[ ] 20번째 손님. (소요시간 : 46분)\n[ ] 21번째 손님. (소요시간 : 44분)\n[ ] 22번째 손님. (소요시간 : 28분)\n[ ] 23번째 손님. (소요시간 : 36분)\n[ ] 24번째 손님. (소요시간 : 38분)\n[ ] 25번째 손님. (소요시간 : 49분)\n[ ] 26번째 손님. (소요시간 : 37분)\n[ ] 27번째 손님. (소요시간 : 41분)\n[ ] 28번째 손님. (소요시간 : 19분)\n[ ] 29번째 손님. (소요시간 : 28분)\n[ ] 30번째 손님. (소요시간 : 50분)\n[ ] 31번째 손님. (소요시간 : 32분)\n[ ] 32번째 손님. (소요시간 : 20분)\n[ ] 33번째 손님. (소요시간 : 28분)\n[ ] 34번째 손님. (소요시간 : 46분)\n[ ] 35번째 손님. (소요시간 : 27분)\n[0] 36번째 손님. (소요시간 : 11분)\n[ ] 37번째 손님. (소요시간 : 45분)\n[ ] 38번째 손님. (소요시간 : 38분)\n[ ] 39번째 손님. (소요시간 : 43분)\n[ ] 40번째 손님. (소요시간 : 30분)\n[ ] 41번째 손님. (소요시간 : 24분)\n[ ] 42번째 손님. (소요시간 : 38분)\n[ ] 43번째 손님. (소요시간 : 44분)\n[ ] 44번째 손님. (소요시간 : 36분)\n[ ] 45번째 손님. (소요시간 : 31분)\n[ ] 46번째 손님. (소요시간 : 40분)\n[0] 47번째 손님. (소요시간 : 6분)\n[ ] 48번째 손님. (소요시간 : 20분)\n[ ] 49번째 손님. (소요시간 : 46분)\n[0] 50번째 손님. (소요시간 : 14분)\n총 탑승 승객 : 7 명\n"
     ]
    }
   ],
   "source": [
    "from random import *\n",
    "cnt = 0                         #총 탑승 승객의 수\n",
    "for i in range(1, 51):          #1~50명의 승객\n",
    "    time = randrange(5, 51)     #5~50분 사이 랜덤\n",
    "\n",
    "    #매칭성공\n",
    "    if 5 <= time <= 15:\n",
    "        print(\"[0] {0}번째 손님. (소요시간 : {1}분)\".format(i, time))\n",
    "        cnt = cnt + 1\n",
    "    \n",
    "    #매칭실패\n",
    "    else:\n",
    "        print(\"[ ] {0}번째 손님. (소요시간 : {1}분)\".format(i, time))\n",
    "\n",
    "print(\"총 탑승 승객 : {0} 명\".format(cnt))"
   ]
  },
  {
   "cell_type": "code",
   "execution_count": null,
   "metadata": {},
   "outputs": [],
   "source": []
  }
 ]
}