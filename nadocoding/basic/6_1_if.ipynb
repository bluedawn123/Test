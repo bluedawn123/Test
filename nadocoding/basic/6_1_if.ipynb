{
 "metadata": {
  "language_info": {
   "codemirror_mode": {
    "name": "ipython",
    "version": 3
   },
   "file_extension": ".py",
   "mimetype": "text/x-python",
   "name": "python",
   "nbconvert_exporter": "python",
   "pygments_lexer": "ipython3",
   "version": "3.7.6"
  },
  "orig_nbformat": 2,
  "kernelspec": {
   "name": "python3",
   "display_name": "Python 3.7.6 64-bit ('cpv': conda)",
   "metadata": {
    "interpreter": {
     "hash": "e25e0584590c458883016a89e0cf53be7d76548718d22946ce414c44a74f5c84"
    }
   }
  }
 },
 "nbformat": 4,
 "nbformat_minor": 2,
 "cells": [
  {
   "cell_type": "code",
   "execution_count": 3,
   "metadata": {},
   "outputs": [
    {
     "output_type": "stream",
     "name": "stdout",
     "text": [
      "우산을 챙기시오 \n"
     ]
    }
   ],
   "source": [
    "weather = \"rain\"\n",
    "if weather == \"rain\":\n",
    "    print(\"우산을 챙기시오 \")"
   ]
  },
  {
   "cell_type": "code",
   "execution_count": 9,
   "metadata": {},
   "outputs": [
    {
     "output_type": "stream",
     "name": "stdout",
     "text": [
      "준비물이 필요없어요\n"
     ]
    }
   ],
   "source": [
    "weather = \"맑고 미세먼지 없음\"\n",
    "\n",
    "if weather == \"비\":\n",
    "    print(\"우산을 챙기시오 \")\n",
    "elif weather == \"미세먼지\":\n",
    "    print(\"마스크를 챙기시오\")\n",
    "else:\n",
    "    print(\"준비물이 필요없어요\")"
   ]
  },
  {
   "cell_type": "code",
   "execution_count": 16,
   "metadata": {},
   "outputs": [
    {
     "output_type": "stream",
     "name": "stdout",
     "text": [
      "우산을 챙기시오 \n"
     ]
    }
   ],
   "source": [
    "weather = input(\"오늘 날씨는 어떤가요? : \")  #string으로 저장\n",
    "\n",
    "if weather == \"비\" or weather == \"눈\":\n",
    "    print(\"우산을 챙기시오 \")\n",
    "elif weather == \"미세먼지\":\n",
    "    print(\"마스크를 챙기시오\")\n",
    "else:\n",
    "    print(\"준비물이 필요없어요\")"
   ]
  },
  {
   "cell_type": "code",
   "execution_count": 23,
   "metadata": {},
   "outputs": [
    {
     "output_type": "stream",
     "name": "stdout",
     "text": [
      "그냥 잘 모르겠다\n"
     ]
    }
   ],
   "source": [
    "temp = int(input(\"기온은 어떤가요? : \"))\n",
    "if temp >= 30:\n",
    "    print(\"개덥다\")\n",
    "elif temp >= 10 and temp < 30:\n",
    "    print('나쁘지않다')\n",
    "elif temp >=0 and temp < 10:\n",
    "    print(\"외투를 챙기시오\")\n",
    "else:\n",
    "    print(\"개춥다.\")"
   ]
  },
  {
   "cell_type": "code",
   "execution_count": 18,
   "metadata": {},
   "outputs": [
    {
     "output_type": "error",
     "ename": "NameError",
     "evalue": "name '다' is not defined",
     "traceback": [
      "\u001b[1;31m---------------------------------------------------------------------------\u001b[0m",
      "\u001b[1;31mNameError\u001b[0m                                 Traceback (most recent call last)",
      "\u001b[1;32m<ipython-input-18-2ff35aa418f4>\u001b[0m in \u001b[0;36m<module>\u001b[1;34m\u001b[0m\n\u001b[1;32m----> 1\u001b[1;33m \u001b[0m다\u001b[0m\u001b[1;33m\u001b[0m\u001b[1;33m\u001b[0m\u001b[0m\n\u001b[0m",
      "\u001b[1;31mNameError\u001b[0m: name '다' is not defined"
     ]
    }
   ],
   "source": []
  },
  {
   "cell_type": "code",
   "execution_count": null,
   "metadata": {},
   "outputs": [],
   "source": []
  }
 ]
}