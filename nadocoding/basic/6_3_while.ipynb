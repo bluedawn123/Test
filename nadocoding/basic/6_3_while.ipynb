{
 "metadata": {
  "language_info": {
   "codemirror_mode": {
    "name": "ipython",
    "version": 3
   },
   "file_extension": ".py",
   "mimetype": "text/x-python",
   "name": "python",
   "nbconvert_exporter": "python",
   "pygments_lexer": "ipython3",
   "version": "3.7.6"
  },
  "orig_nbformat": 2,
  "kernelspec": {
   "name": "python3",
   "display_name": "Python 3.7.6 64-bit ('cpv': conda)",
   "metadata": {
    "interpreter": {
     "hash": "e25e0584590c458883016a89e0cf53be7d76548718d22946ce414c44a74f5c84"
    }
   }
  }
 },
 "nbformat": 4,
 "nbformat_minor": 2,
 "cells": [
  {
   "cell_type": "code",
   "execution_count": 2,
   "metadata": {},
   "outputs": [
    {
     "output_type": "stream",
     "name": "stdout",
     "text": [
      "토르, 커피가 준비 완료. 5번 남았어요.\n토르, 커피가 준비 완료. 4번 남았어요.\n토르, 커피가 준비 완료. 3번 남았어요.\n토르, 커피가 준비 완료. 2번 남았어요.\n토르, 커피가 준비 완료. 1번 남았어요.\n커피는 폐기처분되었다.\n"
     ]
    }
   ],
   "source": [
    "customer = \"토르\"\n",
    "index = 5\n",
    "while index >= 1:\n",
    "    print(\"{0}, 커피가 준비 완료. {1}번 남았어요.\".format(customer, index))\n",
    "    index = index - 1\n",
    "    if index == 0:\n",
    "        print(\"커피는 폐기처분되었다.\")"
   ]
  },
  {
   "cell_type": "code",
   "execution_count": null,
   "metadata": {},
   "outputs": [],
   "source": [
    "customer = \"아이언먼\"\n",
    "person = \"Unknown\"\n",
    "\n",
    "while person != customer:\n",
    "    print(\"{0}님, 커피가 준비 완료. \".format(customer))\n",
    "    person = input(\"이름이 어떻게 되시나요\")\n"
   ]
  },
  {
   "cell_type": "code",
   "execution_count": null,
   "metadata": {},
   "outputs": [],
   "source": [
    "요"
   ]
  },
  {
   "cell_type": "code",
   "execution_count": null,
   "metadata": {},
   "outputs": [],
   "source": []
  }
 ]
}