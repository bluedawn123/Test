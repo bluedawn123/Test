{
 "metadata": {
  "language_info": {
   "codemirror_mode": {
    "name": "ipython",
    "version": 3
   },
   "file_extension": ".py",
   "mimetype": "text/x-python",
   "name": "python",
   "nbconvert_exporter": "python",
   "pygments_lexer": "ipython3",
   "version": "3.7.6"
  },
  "orig_nbformat": 2,
  "kernelspec": {
   "name": "python3",
   "display_name": "Python 3.7.6 64-bit ('cpv': conda)",
   "metadata": {
    "interpreter": {
     "hash": "e25e0584590c458883016a89e0cf53be7d76548718d22946ce414c44a74f5c84"
    }
   }
  }
 },
 "nbformat": 4,
 "nbformat_minor": 2,
 "cells": [
  {
   "cell_type": "code",
   "execution_count": null,
   "metadata": {},
   "outputs": [],
   "source": [
    "#가변인자!! 별!!"
   ]
  },
  {
   "cell_type": "code",
   "execution_count": 4,
   "metadata": {},
   "outputs": [
    {
     "output_type": "stream",
     "name": "stdout",
     "text": [
      "이름 : 유재석, 나이 : 20\n인 의 예 지 신\n"
     ]
    }
   ],
   "source": [
    "def profile(name, age, lang1, lang2, lang3, lang4, lang5):\n",
    "    print(\"이름 : {0}, 나이 : {1}\".format(name, age))\n",
    "    print(lang1, lang2, lang3, lang4, lang5)\n",
    "\n",
    "profile(\"유재석\", 20, \"인\", \"의\", \"예\", \"지\", \"신\")"
   ]
  },
  {
   "cell_type": "code",
   "execution_count": 6,
   "metadata": {},
   "outputs": [
    {
     "output_type": "stream",
     "name": "stdout",
     "text": [
      "이름 : 유재석, 나이 : 20 인 의 예 지 신\n"
     ]
    },
    {
     "output_type": "error",
     "ename": "TypeError",
     "evalue": "profile() missing 3 required positional arguments: 'lang3', 'lang4', and 'lang5'",
     "traceback": [
      "\u001b[1;31m---------------------------------------------------------------------------\u001b[0m",
      "\u001b[1;31mTypeError\u001b[0m                                 Traceback (most recent call last)",
      "\u001b[1;32m<ipython-input-6-22b5e0c418f3>\u001b[0m in \u001b[0;36m<module>\u001b[1;34m\u001b[0m\n\u001b[0;32m      4\u001b[0m \u001b[1;33m\u001b[0m\u001b[0m\n\u001b[0;32m      5\u001b[0m \u001b[0mprofile\u001b[0m\u001b[1;33m(\u001b[0m\u001b[1;34m\"유재석\"\u001b[0m\u001b[1;33m,\u001b[0m \u001b[1;36m20\u001b[0m\u001b[1;33m,\u001b[0m \u001b[1;34m\"인\"\u001b[0m\u001b[1;33m,\u001b[0m \u001b[1;34m\"의\"\u001b[0m\u001b[1;33m,\u001b[0m \u001b[1;34m\"예\"\u001b[0m\u001b[1;33m,\u001b[0m \u001b[1;34m\"지\"\u001b[0m\u001b[1;33m,\u001b[0m \u001b[1;34m\"신\"\u001b[0m\u001b[1;33m)\u001b[0m\u001b[1;33m\u001b[0m\u001b[1;33m\u001b[0m\u001b[0m\n\u001b[1;32m----> 6\u001b[1;33m \u001b[0mprofile\u001b[0m\u001b[1;33m(\u001b[0m\u001b[1;34m\"김타호\"\u001b[0m\u001b[1;33m,\u001b[0m \u001b[1;36m25\u001b[0m\u001b[1;33m,\u001b[0m \u001b[1;34m\"ㅇㄹ\"\u001b[0m\u001b[1;33m,\u001b[0m \u001b[1;34m\"ㅇㅎㄴ\"\u001b[0m\u001b[1;33m)\u001b[0m\u001b[1;33m\u001b[0m\u001b[1;33m\u001b[0m\u001b[0m\n\u001b[0m",
      "\u001b[1;31mTypeError\u001b[0m: profile() missing 3 required positional arguments: 'lang3', 'lang4', and 'lang5'"
     ]
    }
   ],
   "source": [
    "def profile(name, age, lang1, lang2, lang3, lang4, lang5):\n",
    "    print(\"이름 : {0}, 나이 : {1}\".format(name, age), end=\" \")\n",
    "    print(lang1, lang2, lang3, lang4, lang5)\n",
    "\n",
    "profile(\"유재석\", 20, \"인\", \"의\", \"예\", \"지\", \"신\")             #lang이 증가하는 걸 못 맞춰줌\n",
    "profile(\"김타호\", 25, \"ㅇㄹ\", \"ㅇㅎㄴ\", \"\", \"\", \"\")             #빈칸이 없으면 에러남 ㅜㅜ\n",
    "\n",
    "#가변인자 사용"
   ]
  },
  {
   "cell_type": "code",
   "execution_count": 15,
   "metadata": {},
   "outputs": [
    {
     "output_type": "stream",
     "name": "stdout",
     "text": [
      "이름 : 유재석, 나이 : 20 인\n의\n예\n지\n신\n자바스크립트\n이름 : 김타호, 나이 : 25 워크\n스타\n\n\n\n"
     ]
    }
   ],
   "source": [
    "def profile(name, age, *language):\n",
    "    print(\"이름 : {0}, 나이 : {1}\".format(name, age), end=\" \") #줄바꿈 없애려고\n",
    "    for lang in language:\n",
    "        print(lang)\n",
    "    \n",
    "\n",
    "profile(\"유재석\", 20, \"인\", \"의\", \"예\", \"지\", \"신\", \"자바스크립트\")             #lang이 증가하는 걸 못 맞춰줌\n",
    "profile(\"김타호\", 25, \"워크\", \"스타\", \"\", \"\", \"\")             #빈칸이 없으면 에러남 ㅜㅜ\n",
    "\n",
    "#가변인자 사용"
   ]
  },
  {
   "cell_type": "code",
   "execution_count": 17,
   "metadata": {},
   "outputs": [
    {
     "output_type": "stream",
     "name": "stdout",
     "text": [
      "이름 : 유재석, 나이 : 20 인 의 예 지 신 자바스크립트 \n이름 : 김타호, 나이 : 25 워크 스타    \n"
     ]
    }
   ],
   "source": [
    "def profile(name, age, *language):\n",
    "    print(\"이름 : {0}, 나이 : {1}\".format(name, age), end=\" \") #줄바꿈 없애려고\n",
    "    for lang in language:\n",
    "        print(lang, end=\" \")\n",
    "    print()\n",
    "\n",
    "profile(\"유재석\", 20, \"인\", \"의\", \"예\", \"지\", \"신\", \"자바스크립트\")             #lang이 증가하는 걸 못 맞춰줌\n",
    "profile(\"김타호\", 25, \"워크\", \"스타\", \"\", \"\", \"\")             #빈칸이 없으면 에러남 ㅜㅜ\n",
    "\n",
    "#가변인자 사용"
   ]
  },
  {
   "cell_type": "code",
   "execution_count": null,
   "metadata": {},
   "outputs": [],
   "source": []
  }
 ]
}