{
 "metadata": {
  "language_info": {
   "codemirror_mode": {
    "name": "ipython",
    "version": 3
   },
   "file_extension": ".py",
   "mimetype": "text/x-python",
   "name": "python",
   "nbconvert_exporter": "python",
   "pygments_lexer": "ipython3",
   "version": "3.7.6"
  },
  "orig_nbformat": 2,
  "kernelspec": {
   "name": "python3",
   "display_name": "Python 3.7.6 64-bit ('cpv': conda)",
   "metadata": {
    "interpreter": {
     "hash": "e25e0584590c458883016a89e0cf53be7d76548718d22946ce414c44a74f5c84"
    }
   }
  }
 },
 "nbformat": 4,
 "nbformat_minor": 2,
 "cells": [
  {
   "cell_type": "code",
   "execution_count": 1,
   "metadata": {},
   "outputs": [
    {
     "output_type": "stream",
     "name": "stdout",
     "text": [
      "{'이름': '윤준호', '나이': 30, '취미': ['축구', '도박']}\n"
     ]
    }
   ],
   "source": [
    "#pickle? 데이터를 파일 형태로 저장하는 방법\n",
    "import pickle\n",
    "profile_file = open(\"profile.pickle\", \"wb\")   #wb. pickle을 사용하기 위해선 항상 이렇게.\n",
    "\n",
    "profile = {\"이름\":\"윤준호\", \"나이\":30, \"취미\":[\"축구\", \"도박\"]}\n",
    "print(profile)\n",
    "\n",
    "\n",
    "pickle.dump(profile, profile_file)   #파일에 쓰는 과정. profile에 있는 정보를 profile_file에 저장.\n",
    "profile_file.close()\n"
   ]
  },
  {
   "cell_type": "code",
   "execution_count": 2,
   "metadata": {},
   "outputs": [],
   "source": [
    "#가져오기\n",
    "profile_file = open(\"profile.pickle\", \"rb\")   #wb. pickle을 사용하기 위해선 항상 이렇게.\n",
    "profile = pickle.load(profile_file)    #file에 있는 정보를 profile에 불러오기. 괄호안의 파일에서 가져온다.\n",
    "\n",
    "print(profile)\n",
    "\n"
   ]
  },
  {
   "cell_type": "code",
   "execution_count": null,
   "metadata": {},
   "outputs": [],
   "source": []
  }
 ]
}