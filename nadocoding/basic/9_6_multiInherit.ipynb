{
 "metadata": {
  "language_info": {
   "codemirror_mode": {
    "name": "ipython",
    "version": 3
   },
   "file_extension": ".py",
   "mimetype": "text/x-python",
   "name": "python",
   "nbconvert_exporter": "python",
   "pygments_lexer": "ipython3",
   "version": "3.7.6"
  },
  "orig_nbformat": 2,
  "kernelspec": {
   "name": "python376jvsc74a57bd0e25e0584590c458883016a89e0cf53be7d76548718d22946ce414c44a74f5c84",
   "display_name": "Python 3.7.6 64-bit ('cpv': conda)"
  }
 },
 "nbformat": 4,
 "nbformat_minor": 2,
 "cells": [
  {
   "cell_type": "code",
   "execution_count": 6,
   "metadata": {},
   "outputs": [
    {
     "output_type": "stream",
     "name": "stdout",
     "text": [
      "<__main__.FlyableAttackUnit object at 0x0000019E24D9AEC8>\n발키리 : 3시 방향으로 날아갑니다. [속도 5]\n"
     ]
    }
   ],
   "source": [
    "#다중상속. 부모클래스를 2개 이상 상속받는 경우.\n",
    "\n",
    "#일반 유닛\n",
    "class Unit:\n",
    "    def __init__(self, name, hp):\n",
    "        self.name = name\n",
    "        self.hp = hp\n",
    "       \n",
    "#공격 유닛 클래스\n",
    "#공격하는 함수와 공격받는 함수 포함\n",
    "class AttackUnit(Unit):           #괄호안에 상속받고 싶은 클래스. 즉 공격유닛을 일반유닛을 상속받아 만들어짐\n",
    "                                  #생성자를 호출해 줘야한다.      \n",
    "    def __init__(self, name, hp, damage):\n",
    "        Unit.__init__(self, name, hp)   #생성자 호출\n",
    "        self.damage = damage\n",
    "\n",
    "    def attack(self, location):\n",
    "        print(\"{0} : {1} 시 방향으로 적군을 공격한다. [공격력 {2}]\"\\\n",
    "            .format(self.name, location, self.damage))\n",
    "                    #self를 쓰는 것은 클래스 자신의 멤버변수 값을 출력하는 것이고, location(self없는것)은 전달받은 값을 쓴다는 것을 의미\n",
    "    def damaged(self, damage):\n",
    "        print(\"{0} : {1} 데이미를 입었습니다.\".format(self.name, damage))\n",
    "        self.hp = self.hp - damage\n",
    "        print(\"{0} : 현재 체력은 {1} 입니다.\".format(self.name, self.hp))\n",
    "\n",
    "        if self.hp <= 0:\n",
    "            print(\"{0} : 파괴되었습니다.\".format(self.name))\n",
    "\n",
    "class Flyable:\n",
    "    def __init__(self, flying_speed):\n",
    "        self.flying_speed = flying_speed\n",
    "    \n",
    "    def fly(self, name, location):\n",
    "        print(\"{0} : {1} 방향으로 날아갑니다. [속도 {2}]\".format(name, location, self.flying_speed))\n",
    "\n",
    "#공중 공격 유닛 클래스\n",
    "class FlyableAttackUnit(AttackUnit, Flyable):             #공격 + 나는 유닛 상속\n",
    "    def __init__(self, name, hp, damage, flying_speed):   \n",
    "        AttackUnit.__init__(self, name, hp, damage)       #이름, 체력, 공격력은 attack class에서 상속\n",
    "        Flyable.__init__(self, flying_speed)              #나는 것은 flayble class에서 상속\n",
    "\n",
    "#발키리 : 공중 공격 유닛 \n",
    "valkyrie1 = FlyableAttackUnit(\"발키리\", 200, 6, 5)   #인스턴스 생성\n",
    "valkyrie1.fly(valkyrie1.name, \"3시\")                 #flyable에 있는 fly함수 호출"
   ]
  },
  {
   "cell_type": "code",
   "execution_count": 7,
   "metadata": {},
   "outputs": [
    {
     "output_type": "stream",
     "name": "stdout",
     "text": [
      "[지상 유닛 이동]\n벌쳐 : 11시 시 방향으로 이동합니다. [속도10]\n배틀크루져 : 9시 방향으로 날아갑니다. [속도 6]\n"
     ]
    }
   ],
   "source": [
    "#위에꺼 변형\n",
    "\n",
    "class Unit:\n",
    "    def __init__(self, name, hp, speed):\n",
    "        self.name = name\n",
    "        self.hp = hp\n",
    "        self.speed = speed\n",
    "    \n",
    "    def move(self, location):\n",
    "        print(\"[지상 유닛 이동]\")\n",
    "        print(\"{0} : {1} 시 방향으로 이동합니다. [속도{2}]\".format(self.name, location, self.speed))\n",
    "\n",
    "#공격 유닛 클래스\n",
    "#공격하는 함수와 공격받는 함수 포함\n",
    "class AttackUnit(Unit):           #괄호안에 상속받고 싶은 클래스. 즉 공격유닛을 일반유닛을 상속받아 만들어짐\n",
    "                                  #생성자를 호출해 줘야한다.      \n",
    "    def __init__(self, name, hp, speed, damage):\n",
    "        Unit.__init__(self, name, hp, speed)   #생성자 호출\n",
    "        self.damage = damage\n",
    "\n",
    "    def attack(self, location):\n",
    "        print(\"{0} : {1} 시 방향으로 적군을 공격한다. [공격력 {2}]\"\\\n",
    "            .format(self.name, location, self.damage))\n",
    "                    #self를 쓰는 것은 클래스 자신의 멤버변수 값을 출력하는 것이고, location(self없는것)은 전달받은 값을 쓴다는 것을 의미\n",
    "    def damaged(self, damage):\n",
    "        print(\"{0} : {1} 데이미를 입었습니다.\".format(self.name, damage))\n",
    "        self.hp = self.hp - damage\n",
    "        print(\"{0} : 현재 체력은 {1} 입니다.\".format(self.name, self.hp))\n",
    "\n",
    "        if self.hp <= 0:\n",
    "            print(\"{0} : 파괴되었습니다.\".format(self.name))\n",
    "\n",
    "class Flyable:\n",
    "    def __init__(self, flying_speed):\n",
    "        self.flying_speed = flying_speed\n",
    "    \n",
    "    def fly(self, name, location):\n",
    "        print(\"{0} : {1} 방향으로 날아갑니다. [속도 {2}]\".format(name, location, self.flying_speed))\n",
    "\n",
    "#공중 공격 유닛 클래스\n",
    "class FlyableAttackUnit(AttackUnit, Flyable):             #공격 + 나는 유닛 상속\n",
    "    def __init__(self, name, hp, damage, flying_speed):   \n",
    "        AttackUnit.__init__(self, name, hp, 0, damage)       #이름, 체력, 공격력은 attack class에서 상속. 0은 지상speed. \n",
    "        Flyable.__init__(self, flying_speed)              #나는 것은 flayble class에서 상속\n",
    "\n",
    "#벌쳐\n",
    "vulture1 = AttackUnit(\"벌쳐\", 80, 10, 20)\n",
    "\n",
    "#배틀크루져 \n",
    "battle1 = FlyableAttackUnit(\"배틀크루져\", 500, 25, 6)\n",
    "\n",
    "vulture1.move(\"11시\")\n",
    "battle1.fly(battle1.name, \"9시\")\n"
   ]
  },
  {
   "cell_type": "code",
   "execution_count": null,
   "metadata": {},
   "outputs": [],
   "source": []
  }
 ]
}