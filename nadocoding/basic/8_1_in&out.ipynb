{
 "metadata": {
  "language_info": {
   "codemirror_mode": {
    "name": "ipython",
    "version": 3
   },
   "file_extension": ".py",
   "mimetype": "text/x-python",
   "name": "python",
   "nbconvert_exporter": "python",
   "pygments_lexer": "ipython3",
   "version": "3.7.6"
  },
  "orig_nbformat": 2,
  "kernelspec": {
   "name": "python3",
   "display_name": "Python 3.7.6 64-bit ('cpv': conda)",
   "metadata": {
    "interpreter": {
     "hash": "e25e0584590c458883016a89e0cf53be7d76548718d22946ce414c44a74f5c84"
    }
   }
  }
 },
 "nbformat": 4,
 "nbformat_minor": 2,
 "cells": [
  {
   "cell_type": "code",
   "execution_count": 2,
   "metadata": {},
   "outputs": [
    {
     "output_type": "stream",
     "name": "stdout",
     "text": [
      "python vs java vs dfdfdf\n"
     ]
    }
   ],
   "source": [
    "print(\"python\", \"java\", \"dfdfdf\", sep=\" vs \")  #원래 기본적으로, sep은 , 이다. "
   ]
  },
  {
   "cell_type": "code",
   "execution_count": 4,
   "metadata": {},
   "outputs": [
    {
     "output_type": "stream",
     "name": "stdout",
     "text": [
      "python,java,dfdfdf?무엇이 더 재밌을까?\n"
     ]
    }
   ],
   "source": [
    "print(\"python\", \"java\", \"dfdfdf\", sep=\",\", end=\"?\") \n",
    "print(\"무엇이 더 재밌을까?\") \n",
    "\n",
    "#end => 끝 부분을 enter(줄바꿈)이 아닌, ?로 바꾸고 계속 이어지게 하는 것."
   ]
  },
  {
   "cell_type": "code",
   "execution_count": 5,
   "metadata": {},
   "outputs": [
    {
     "output_type": "stream",
     "name": "stdout",
     "text": [
      "python janva\n",
      "python janva\n"
     ]
    }
   ],
   "source": [
    "import sys\n",
    "print(\"python\", \"janva\", file=sys.stdout)\n",
    "print(\"python\", \"janva\", file=sys.stderr)\n",
    "\n",
    "#stdout => 표준출력\n",
    "#stdout => 표준에러\n"
   ]
  },
  {
   "cell_type": "code",
   "execution_count": 6,
   "metadata": {},
   "outputs": [
    {
     "output_type": "stream",
     "name": "stdout",
     "text": [
      "수학 0\n영어 100\n코딩 50\n"
     ]
    }
   ],
   "source": [
    "#시험성적\n",
    "scores = {\"수학\":0, \"영어\":100, \"코딩\":50}\n",
    "for subject, score in scores.items():     #items => 키와 밸류값 여기선 과목, 점수\n",
    "    print(subject, score)\n"
   ]
  },
  {
   "cell_type": "code",
   "execution_count": null,
   "metadata": {},
   "outputs": [],
   "source": [
    "#다 안함. 줄 정렬 관련"
   ]
  }
 ]
}