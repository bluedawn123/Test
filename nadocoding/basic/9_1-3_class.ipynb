{
 "metadata": {
  "language_info": {
   "codemirror_mode": {
    "name": "ipython",
    "version": 3
   },
   "file_extension": ".py",
   "mimetype": "text/x-python",
   "name": "python",
   "nbconvert_exporter": "python",
   "pygments_lexer": "ipython3",
   "version": "3.7.6"
  },
  "orig_nbformat": 2,
  "kernelspec": {
   "name": "python376jvsc74a57bd0e25e0584590c458883016a89e0cf53be7d76548718d22946ce414c44a74f5c84",
   "display_name": "Python 3.7.6 64-bit ('cpv': conda)"
  }
 },
 "nbformat": 4,
 "nbformat_minor": 2,
 "cells": [
  {
   "cell_type": "code",
   "execution_count": 14,
   "metadata": {},
   "outputs": [
    {
     "output_type": "stream",
     "name": "stdout",
     "text": [
      "마린 유닛이 생성되었습니다.\n체력 40, 공격력 5\n마린 유닛이 생성되었습니다.\n체력 40, 공격력 5\n탱크 유닛이 생성되었습니다.\n체력 150, 공격력 35\n<멤버변수>\n레이스 유닛이 생성되었습니다.\n체력 80, 공격력 5\n유닛 이름 : 레이스, 공격력 : 5\n레이스 유닛이 생성되었습니다.\n체력 80, 공격력 5\n레이스은 현재 클로킹 상태이다.\n"
     ]
    }
   ],
   "source": [
    "class Unit:\n",
    "    def __init__(self, name, hp, damage):\n",
    "        self.name = name\n",
    "        self.hp = hp\n",
    "        self.damage = damage\n",
    "\n",
    "        print(\"{0} 유닛이 생성되었습니다.\".format(self.name))\n",
    "        print(\"체력 {0}, 공격력 {1}\".format(self.hp, self.damage))\n",
    "\n",
    "\n",
    "marine1 = Unit(\"마린\", 40, 5)  #위의 self를 제외한 것들중 필요한 것을 적는다.\n",
    "marine2 = Unit(\"마린\", 40, 5)  #위의 self를 제외한 것들중 필요한 것을 적는다.\n",
    "tank = Unit(\"탱크\", 150, 35)\n",
    "#marine3 = Unit(\"마린\", 40, )  #위의 self를 제외한 것들중 하나라도 부족하면 에러가 난다. \n",
    "\n",
    "print(\"<멤버변수>\")\n",
    "wraith1 = Unit(\"레이스\", 80, 5) #wraith1 정의\n",
    "print(\"유닛 이름 : {0}, 공격력 : {1}\".format(wraith1.name, wraith1.damage)) #wraith1의 정보를 멤버변수로 불러오기\n",
    "\n",
    "wraith2 = Unit(\"빼앗은 레이스\", 80, 5) #wraith2 정의\n",
    "wraith2.clocking = True\n",
    "\n",
    "if wraith2.clocking == True:\n",
    "    print(\"{0}은 현재 클로킹 상태이다.\".format(wraith2.name))"
   ]
  },
  {
   "cell_type": "code",
   "execution_count": null,
   "metadata": {},
   "outputs": [],
   "source": []
  }
 ]
}