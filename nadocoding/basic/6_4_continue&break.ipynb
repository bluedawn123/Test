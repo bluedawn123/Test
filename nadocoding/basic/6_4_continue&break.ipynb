{
 "metadata": {
  "language_info": {
   "codemirror_mode": {
    "name": "ipython",
    "version": 3
   },
   "file_extension": ".py",
   "mimetype": "text/x-python",
   "name": "python",
   "nbconvert_exporter": "python",
   "pygments_lexer": "ipython3",
   "version": "3.7.6"
  },
  "orig_nbformat": 2,
  "kernelspec": {
   "name": "python3",
   "display_name": "Python 3.7.6 64-bit ('cpv': conda)",
   "metadata": {
    "interpreter": {
     "hash": "e25e0584590c458883016a89e0cf53be7d76548718d22946ce414c44a74f5c84"
    }
   }
  }
 },
 "nbformat": 4,
 "nbformat_minor": 2,
 "cells": [
  {
   "cell_type": "code",
   "execution_count": 1,
   "metadata": {},
   "outputs": [
    {
     "output_type": "stream",
     "name": "stdout",
     "text": [
      "1야, 책을 읽으렴\n3야, 책을 읽으렴\n4야, 책을 읽으렴\n6야, 책을 읽으렴\n7야, 책을 읽으렴\n8야, 책을 읽으렴\n9야, 책을 읽으렴\n10야, 책을 읽으렴\n"
     ]
    }
   ],
   "source": [
    "absent = [2, 5]  #결석\n",
    "\n",
    "for student in range(1, 11): #1부터 10까지의 출석번호\n",
    "    if student in absent:\n",
    "        continue\n",
    "    print(\"{0}야, 책을 읽으렴\".format(student))\n",
    "\n",
    "#즉 continue를 만나면 아래를 실행하지 않고 다음으로 넘어간다. \n"
   ]
  },
  {
   "cell_type": "code",
   "execution_count": 2,
   "metadata": {},
   "outputs": [
    {
     "output_type": "stream",
     "name": "stdout",
     "text": [
      "1야, 책을 읽으렴\n3야, 책을 읽으렴\n4야, 책을 읽으렴\n6야, 책을 읽으렴\n오늘 수업 끝. 7은 따라오렴.\n"
     ]
    }
   ],
   "source": [
    "absent = [2, 5]  #결석\n",
    "no_book = [7]  #책을 안 갖고옴\n",
    "\n",
    "for student in range(1, 11): #1부터 10까지의 출석번호\n",
    "    if student in absent:\n",
    "        continue\n",
    "    elif student in no_book:\n",
    "        print(\"오늘 수업 끝. {0}은 따라오렴.\".format(student))\n",
    "        break\n",
    "    print(\"{0}야, 책을 읽으렴\".format(student))\n",
    "\n",
    "#즉 continue를 만나면 아래를 실행하지 않고 다음으로 넘어간다. \n",
    "#break를 만나면, 모든 실행을 종료한다. \n"
   ]
  },
  {
   "cell_type": "code",
   "execution_count": null,
   "metadata": {},
   "outputs": [],
   "source": []
  }
 ]
}