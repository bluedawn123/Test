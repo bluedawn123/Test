{
 "metadata": {
  "language_info": {
   "codemirror_mode": {
    "name": "ipython",
    "version": 3
   },
   "file_extension": ".py",
   "mimetype": "text/x-python",
   "name": "python",
   "nbconvert_exporter": "python",
   "pygments_lexer": "ipython3",
   "version": "3.7.6"
  },
  "orig_nbformat": 4,
  "kernelspec": {
   "name": "python3",
   "display_name": "Python 3.7.6 64-bit ('cpv': conda)"
  },
  "interpreter": {
   "hash": "e25e0584590c458883016a89e0cf53be7d76548718d22946ce414c44a74f5c84"
  }
 },
 "nbformat": 4,
 "nbformat_minor": 2,
 "cells": [
  {
   "cell_type": "code",
   "execution_count": 3,
   "metadata": {},
   "outputs": [
    {
     "output_type": "stream",
     "name": "stdout",
     "text": [
      "Thailand 외부에서 모듈 호출\nC:\\Users\\YOONJUNHO\\.conda\\envs\\cpv\\lib\\random.py\nc:\\Users\\YOONJUNHO\\pythonProject\\nadocoding\\basic\\travel\\thailand.py\n"
     ]
    }
   ],
   "source": [
    "#동일한 폴더, 라이브러리에 있는 경우 모듈, 패키지 사용 가능\n",
    "from travel import *\n",
    "#위치 확인 방법\n",
    "import inspect\n",
    "import random\n",
    "print(inspect.getfile(random))  #C:\\Users\\YOONJUNHO\\.conda\\envs\\cpv\\lib\\random.py\n",
    "print(inspect.getfile(thailand)) #c:\\Users\\YOONJUNHO\\pythonProject\\nadocoding\\basic\\travel\\thailand.py"
   ]
  },
  {
   "cell_type": "code",
   "execution_count": null,
   "metadata": {},
   "outputs": [],
   "source": []
  }
 ]
}