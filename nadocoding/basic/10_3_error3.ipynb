{
 "metadata": {
  "language_info": {
   "codemirror_mode": {
    "name": "ipython",
    "version": 3
   },
   "file_extension": ".py",
   "mimetype": "text/x-python",
   "name": "python",
   "nbconvert_exporter": "python",
   "pygments_lexer": "ipython3",
   "version": "3.7.6"
  },
  "orig_nbformat": 2,
  "kernelspec": {
   "name": "python376jvsc74a57bd0e25e0584590c458883016a89e0cf53be7d76548718d22946ce414c44a74f5c84",
   "display_name": "Python 3.7.6 64-bit ('cpv': conda)"
  }
 },
 "nbformat": 4,
 "nbformat_minor": 2,
 "cells": [
  {
   "cell_type": "code",
   "execution_count": 3,
   "metadata": {},
   "outputs": [
    {
     "output_type": "stream",
     "name": "stdout",
     "text": [
      "한 자리 숫자 나누기 전용 계산기\n",
      "에러가 발생하였습니다. 한 자리 숫자만 입력하세요\n"
     ]
    }
   ],
   "source": [
    "#사용자 정의 예외처리 => 직접 정의해서 만들어보기\n",
    "\n",
    "class BigNumberError(Exception): #exception을 상속 받는다\n",
    "    pass\n",
    "\n",
    "try:\n",
    "    print(\"한 자리 숫자 나누기 전용 계산기\")\n",
    "    num1 = int(input(\"첫 번째 숫자\"))\n",
    "    num2 = int(input(\"두 번째 숫자\"))\n",
    "\n",
    "    if num1 >= 10 or num2 >= 10:\n",
    "        raise BigNumberError         #의도적으로 에러를 발생시켜 아래로 내려보내는 경우\n",
    "\n",
    "    print(\"{0} / {1} = {2}\".format(num1, num2, int(num1 / num2)))\n",
    "\n",
    "except ValueError:\n",
    "    print(\"잘못된 값을 입력하였습니다. 한 자리 숫자만 입력하시오\")\n",
    "\n",
    "except BigNumberError:\n",
    "    print(\"에러가 발생하였습니다. 한 자리 숫자만 입력하세요\")\n",
    "\n",
    "#"
   ]
  },
  {
   "cell_type": "code",
   "execution_count": 4,
   "metadata": {},
   "outputs": [
    {
     "output_type": "stream",
     "name": "stdout",
     "text": [
      "한 자리 숫자 나누기 전용 계산기\n",
      "에러가 발생하였습니다. 한 자리 숫자만 입력하세요\n",
      "입력값 : 10, 5\n"
     ]
    }
   ],
   "source": [
    "#뭔지 잘 모르겠다.\n",
    "#위 응용. 메세지를 넣고 싶은 경우\n",
    "\n",
    "#사용자 정의 예외처리 => 직접 정의해서 만들어보기\n",
    "\n",
    "class BigNumberError(Exception): #exception을 상속 받는다\n",
    "    def __init__(self, msg):\n",
    "        self.msg = msg\n",
    "    \n",
    "    def __str__(self):\n",
    "        return self.msg\n",
    "try:\n",
    "    print(\"한 자리 숫자 나누기 전용 계산기\")\n",
    "    num1 = int(input(\"첫 번째 숫자\"))\n",
    "    num2 = int(input(\"두 번째 숫자\"))\n",
    "\n",
    "    if num1 >= 10 or num2 >= 10:\n",
    "        raise BigNumberError(\"입력값 : {0}, {1}\".format(num1, num2))         #의도적으로 에러를 발생시켜 아래로 내려보내는 경우 + 우리 원하는 메세지\n",
    "\n",
    "    print(\"{0} / {1} = {2}\".format(num1, num2, int(num1 / num2)))\n",
    "\n",
    "except ValueError:\n",
    "    print(\"잘못된 값을 입력하였습니다. 한 자리 숫자만 입력하시오\")\n",
    "\n",
    "except BigNumberError as err:\n",
    "    print(\"에러가 발생하였습니다. 한 자리 숫자만 입력하세요\")\n",
    "    print(err)"
   ]
  },
  {
   "cell_type": "code",
   "execution_count": null,
   "metadata": {},
   "outputs": [],
   "source": []
  }
 ]
}