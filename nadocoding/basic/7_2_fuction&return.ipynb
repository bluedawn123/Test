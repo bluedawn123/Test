{
 "metadata": {
  "language_info": {
   "codemirror_mode": {
    "name": "ipython",
    "version": 3
   },
   "file_extension": ".py",
   "mimetype": "text/x-python",
   "name": "python",
   "nbconvert_exporter": "python",
   "pygments_lexer": "ipython3",
   "version": "3.7.6"
  },
  "orig_nbformat": 2,
  "kernelspec": {
   "name": "python3",
   "display_name": "Python 3.7.6 64-bit ('cpv': conda)",
   "metadata": {
    "interpreter": {
     "hash": "e25e0584590c458883016a89e0cf53be7d76548718d22946ce414c44a74f5c84"
    }
   }
  }
 },
 "nbformat": 4,
 "nbformat_minor": 2,
 "cells": [
  {
   "cell_type": "code",
   "execution_count": 16,
   "metadata": {},
   "outputs": [
    {
     "output_type": "stream",
     "name": "stdout",
     "text": [
      "입금이 완료되었습니다. 잔액은 0입니다.\n출금 완료. 잔액은 500 원입니다.\n출금이 가능합니다. 잔액은 0 원입니다.\n"
     ]
    }
   ],
   "source": [
    "def open_account():\n",
    "    prnit(\"새로운 계좌가 생성되었습니다.\")\n",
    "\n",
    "def deposit(balance, money):\n",
    "    print(\"입금이 완료되었습니다. 잔액은 {0}입니다.\".format(balance, money))\n",
    "    return balance + money\n",
    "\n",
    "def withdraw(balance, money): \n",
    "    if balance >= money:\n",
    "        print(\"출금 완료. 잔액은 {0} 원입니다.\".format(balance - money))\n",
    "        return balance - money\n",
    "    \n",
    "    else:\n",
    "        print(\"출금이 불가능합니다. 잔액은 {0} 원입니다.\".format(balance))\n",
    "        return balance\n",
    "\n",
    "def withdraw_night(balance, money):\n",
    "    com = 100  #수수료\n",
    "    if balance >= com + money:\n",
    "        print(\"출금이 가능합니다. 잔액은 {0} 원입니다.\".format(balance - money - com))\n",
    "        return com, balance - money - com, money   #리턴값 2개... 몇개든 상관없으니 필요한 것으로만 쓰자 여기선 굳이 money도 상관없다.\n",
    "    \n",
    "    else:\n",
    "        print(\"출금이 불가능합니다. 잔액은 {0}원 입니다.\".format(balance))\n",
    "        return balance\n",
    "\n",
    "\n",
    "\n",
    "balance = 0\n",
    "balance = deposit(balance, 1000)  #잔액 1000\n",
    "balance = withdraw(balance, 500)  #잔액 500\n",
    "balance = withdraw_night(balance, 400)"
   ]
  },
  {
   "cell_type": "code",
   "execution_count": null,
   "metadata": {},
   "outputs": [],
   "source": []
  },
  {
   "cell_type": "code",
   "execution_count": null,
   "metadata": {},
   "outputs": [],
   "source": []
  }
 ]
}