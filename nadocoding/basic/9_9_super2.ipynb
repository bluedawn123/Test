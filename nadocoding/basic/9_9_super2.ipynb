{
 "metadata": {
  "language_info": {
   "codemirror_mode": {
    "name": "ipython",
    "version": 3
   },
   "file_extension": ".py",
   "mimetype": "text/x-python",
   "name": "python",
   "nbconvert_exporter": "python",
   "pygments_lexer": "ipython3",
   "version": "3.7.6"
  },
  "orig_nbformat": 2,
  "kernelspec": {
   "name": "python376jvsc74a57bd0e25e0584590c458883016a89e0cf53be7d76548718d22946ce414c44a74f5c84",
   "display_name": "Python 3.7.6 64-bit ('cpv': conda)"
  }
 },
 "nbformat": 4,
 "nbformat_minor": 2,
 "cells": [
  {
   "cell_type": "code",
   "execution_count": 2,
   "metadata": {},
   "outputs": [
    {
     "output_type": "stream",
     "name": "stdout",
     "text": [
      "unit 생성자\n"
     ]
    }
   ],
   "source": [
    "#super의 다중상속의 경우 \n",
    "\n",
    "class Unit:\n",
    "    def __init__(self):\n",
    "        print(\"unit 생성자\")\n",
    "\n",
    "class Flyable:\n",
    "    def __init__(self):\n",
    "        print(\"Flyable 생성자\")\n",
    "\n",
    "class FlyableUnit(Unit, Flyable):   #unit와 flyable 특징 상속\n",
    "    def __init__(self):\n",
    "        super().__init__()\n",
    "\n",
    "#드랍쉽 생성\n",
    "dropship = FlyableUnit()  #unit 생성자만 생성이 된다. 즉, Flyable은 상속이 안된다. (먼저 온 것만 상속이 된다)\n",
    "\n",
    "#따라서, 다중 상속의 경우는 불가하다."
   ]
  },
  {
   "cell_type": "code",
   "execution_count": 3,
   "metadata": {},
   "outputs": [
    {
     "output_type": "stream",
     "name": "stdout",
     "text": [
      "unit 생성자\nFlyable 생성자\n"
     ]
    }
   ],
   "source": [
    "#super의 다중상속의 경우 => Unit.__init__() 사용\n",
    "\n",
    "class Unit:\n",
    "    def __init__(self):\n",
    "        print(\"unit 생성자\")\n",
    "\n",
    "class Flyable:\n",
    "    def __init__(self):\n",
    "        print(\"Flyable 생성자\")\n",
    "\n",
    "class FlyableUnit(Unit, Flyable):   #unit와 flyable 특징 상속\n",
    "    def __init__(self):\n",
    "        #super().__init__()\n",
    "        Unit.__init__(self)\n",
    "        Flyable.__init__(self)     #이런식으로 2개 다 상속\n",
    "\n",
    "\n",
    "#드랍쉽 생성\n",
    "dropship = FlyableUnit()  \n"
   ]
  },
  {
   "cell_type": "code",
   "execution_count": null,
   "metadata": {},
   "outputs": [],
   "source": []
  }
 ]
}