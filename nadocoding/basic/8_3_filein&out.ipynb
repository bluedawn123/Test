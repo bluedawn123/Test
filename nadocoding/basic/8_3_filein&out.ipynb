{
 "metadata": {
  "language_info": {
   "codemirror_mode": {
    "name": "ipython",
    "version": 3
   },
   "file_extension": ".py",
   "mimetype": "text/x-python",
   "name": "python",
   "nbconvert_exporter": "python",
   "pygments_lexer": "ipython3",
   "version": "3.7.6"
  },
  "orig_nbformat": 2,
  "kernelspec": {
   "name": "python3",
   "display_name": "Python 3.7.6 64-bit ('cpv': conda)",
   "metadata": {
    "interpreter": {
     "hash": "e25e0584590c458883016a89e0cf53be7d76548718d22946ce414c44a74f5c84"
    }
   }
  }
 },
 "nbformat": 4,
 "nbformat_minor": 2,
 "cells": [
  {
   "cell_type": "code",
   "execution_count": 1,
   "metadata": {},
   "outputs": [],
   "source": [
    "#쓰기1\n",
    "score_file = open(\"score.txt\", \"w\", encoding=\"utf8\")  #w는 write. 쓰기위한 목적. \n",
    "print(\"수학 : 0\", file=score_file)\n",
    "print(\"영어 : 50\", file=score_file)\n",
    "\n",
    "score_file.close()   #열었으면 꼭 닫아줘야 한다. \n",
    "\n",
    "#즉, score.txt란 파일을 쓰기 목적(w)으로 열어서 내용을 파일에 쓰고 닫는 과정"
   ]
  },
  {
   "cell_type": "code",
   "execution_count": 2,
   "metadata": {},
   "outputs": [],
   "source": [
    "#쓰기2\n",
    "score_file = open(\"score.txt\", \"a\", encoding=\"utf8\")  #a는 덮어 쓰기위한 목적. \n",
    "score_file.write(\"과학 : 80\")\n",
    "score_file.write(\"\\n코딩 : 110\")  #.write는 줄바꿈이 자동으로 되지 않아서.\n",
    "\n",
    "score_file.close()   #열었으면 꼭 닫아줘야 한다. \n",
    "\n",
    "#즉, score.txt란 파일을 쓰기 목적(w)으로 열어서 내용을 파일에 쓰고 닫는 과정"
   ]
  },
  {
   "cell_type": "code",
   "execution_count": 3,
   "metadata": {},
   "outputs": [
    {
     "output_type": "stream",
     "name": "stdout",
     "text": [
      "수학 : 0\n영어 : 50\n과학 : 80\n코딩 : 110\n"
     ]
    }
   ],
   "source": [
    "#읽어오기1\n",
    "score_file = open(\"score.txt\", \"r\", encoding=\"utf8\")  #r. read. 읽어오는 용도\n",
    "print(score_file.read())  #다 읽어오는 방법\n",
    "score_file.close()"
   ]
  },
  {
   "cell_type": "code",
   "execution_count": 5,
   "metadata": {},
   "outputs": [
    {
     "output_type": "stream",
     "name": "stdout",
     "text": [
      "수학 : 0\n영어 : 50\n\n과학 : 80\n\n"
     ]
    }
   ],
   "source": [
    "#한 줄 한 줄 읽어오기\n",
    "score_file = open(\"score.txt\", \"r\", encoding=\"utf8\")  #r. read. 읽어오는 용도\n",
    "#한 줄 읽어오기. 커서는 다음으로 이동.\n",
    "print(score_file.readline(), end=\"\") \n",
    "print(score_file.readline()) \n",
    "print(score_file.readline()) \n",
    "\n",
    "score_file.close()"
   ]
  },
  {
   "cell_type": "code",
   "execution_count": 6,
   "metadata": {},
   "outputs": [
    {
     "output_type": "stream",
     "name": "stdout",
     "text": [
      "수학 : 0\n\n영어 : 50\n\n과학 : 80\n\n코딩 : 110\n"
     ]
    }
   ],
   "source": [
    "#몇 줄 인지 모르는 경우.\n",
    "score_file = open(\"score.txt\", \"r\", encoding=\"utf8\")  #r. read. 읽어오는 용도\n",
    "while True:\n",
    "    line = score_file.readline()\n",
    "    if not line:\n",
    "        break\n",
    "\n",
    "    print(line)\n",
    "\n",
    "score_file.close()"
   ]
  },
  {
   "cell_type": "code",
   "execution_count": 9,
   "metadata": {},
   "outputs": [
    {
     "output_type": "stream",
     "name": "stdout",
     "text": [
      "수학 : 0\n영어 : 50\n과학 : 80\n코딩 : 110"
     ]
    }
   ],
   "source": [
    "#list사용\n",
    "score_file = open(\"score.txt\", \"r\", encoding=\"utf8\")  #r. read. 읽어오는 용도\n",
    "lines = score_file.readlines()  #모든 line을 가져와서 list형태로 저장\n",
    "for line in lines:\n",
    "    print(line, end=\"\")\n",
    "\n",
    "score_file.close()"
   ]
  },
  {
   "cell_type": "code",
   "execution_count": null,
   "metadata": {},
   "outputs": [],
   "source": []
  }
 ]
}