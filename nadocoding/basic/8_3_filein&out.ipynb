{
 "metadata": {
  "language_info": {
   "codemirror_mode": {
    "name": "ipython",
    "version": 3
   },
   "file_extension": ".py",
   "mimetype": "text/x-python",
   "name": "python",
   "nbconvert_exporter": "python",
   "pygments_lexer": "ipython3",
   "version": "3.8.8"
  },
  "orig_nbformat": 2,
  "kernelspec": {
   "name": "python3",
   "display_name": "Python 3.8.8 64-bit ('base': conda)"
  },
  "interpreter": {
   "hash": "fa422f78b08b4ed23ea77d9d51ba71e035ebabb7673f323e99ba8b680a1634b6"
  }
 },
 "nbformat": 4,
 "nbformat_minor": 2,
 "cells": [
  {
   "cell_type": "code",
   "execution_count": 1,
   "source": [
    "#쓰기1\n",
    "score_file = open(\"score.txt\", \"w\", encoding=\"utf8\")  #w는 write. 쓰기위한 목적. \n",
    "print(\"수학 : 0\", file=score_file)\n",
    "print(\"영어 : 50\", file=score_file)\n",
    "\n",
    "score_file.close()   #열었으면 꼭 닫아줘야 한다. \n",
    "\n",
    "#즉, score.txt란 파일을 쓰기 목적(w)으로 열어서 내용을 파일에 쓰고 닫는 과정"
   ],
   "outputs": [],
   "metadata": {}
  },
  {
   "cell_type": "code",
   "execution_count": 2,
   "source": [
    "#쓰기2\r\n",
    "score_file = open(\"score.txt\", \"a\", encoding=\"utf8\")  #a는 덮어 쓰기위한 목적. \r\n",
    "score_file.write(\"과학 : 80\")\r\n",
    "score_file.write(\"\\n코딩 : 110\")  #.write는 줄바꿈이 자동으로 되지 않아서.\r\n",
    "\r\n",
    "score_file.close()   #열었으면 꼭 닫아줘야 한다. \r\n",
    "\r\n",
    "#즉, score.txt란 파일을 쓰기 목적(w)으로 열어서 내용을 파일에 쓰고 닫는 과정"
   ],
   "outputs": [],
   "metadata": {}
  },
  {
   "cell_type": "code",
   "execution_count": 3,
   "source": [
    "#읽어오기1\r\n",
    "score_file = open(\"score.txt\", \"r\", encoding=\"utf8\")  #r. read. 읽어오는 용도\r\n",
    "print(score_file.read())  #다 읽어오는 방법\r\n",
    "score_file.close()"
   ],
   "outputs": [
    {
     "output_type": "stream",
     "name": "stdout",
     "text": [
      "수학 : 0\n",
      "영어 : 50\n",
      "과학 : 80\n",
      "코딩 : 110\n"
     ]
    }
   ],
   "metadata": {}
  },
  {
   "cell_type": "code",
   "execution_count": 2,
   "source": [
    "#한 줄 한 줄 읽어오기\r\n",
    "score_file = open(\"score.txt\", \"r\", encoding=\"utf8\")  #r. read. 읽어오는 용도\r\n",
    "#한 줄 읽어오기. 커서는 다음으로 이동.\r\n",
    "print(score_file.readline(), end=\"\") \r\n",
    "print(score_file.readline(), end=\"\") \r\n",
    "print(score_file.readline()) \r\n",
    "print(score_file.readline()) \r\n",
    "\r\n",
    "\r\n",
    "score_file.close()"
   ],
   "outputs": [
    {
     "output_type": "stream",
     "name": "stdout",
     "text": [
      "수학 : 0\n",
      "영어 : 50\n",
      "\n",
      "과학 : 80\n",
      "\n",
      "코딩 : 110\n"
     ]
    }
   ],
   "metadata": {}
  },
  {
   "cell_type": "code",
   "execution_count": 6,
   "source": [
    "#몇 줄 인지 모르는 경우.\r\n",
    "score_file = open(\"score.txt\", \"r\", encoding=\"utf8\")  #r. read. 읽어오는 용도\r\n",
    "while True:\r\n",
    "    line = score_file.readline()\r\n",
    "    if not line:\r\n",
    "        break\r\n",
    "\r\n",
    "    print(line)\r\n",
    "\r\n",
    "score_file.close()"
   ],
   "outputs": [
    {
     "output_type": "stream",
     "name": "stdout",
     "text": [
      "수학 : 0\n",
      "\n",
      "영어 : 50\n",
      "\n",
      "과학 : 80\n",
      "\n",
      "코딩 : 110\n"
     ]
    }
   ],
   "metadata": {}
  },
  {
   "cell_type": "code",
   "execution_count": 9,
   "source": [
    "#list사용\n",
    "score_file = open(\"score.txt\", \"r\", encoding=\"utf8\")  #r. read. 읽어오는 용도\n",
    "lines = score_file.readlines()  #모든 line을 가져와서 list형태로 저장\n",
    "for line in lines:\n",
    "    print(line, end=\"\")\n",
    "\n",
    "score_file.close()"
   ],
   "outputs": [
    {
     "output_type": "stream",
     "name": "stdout",
     "text": [
      "수학 : 0\n",
      "영어 : 50\n",
      "과학 : 80\n",
      "코딩 : 110"
     ]
    }
   ],
   "metadata": {}
  },
  {
   "cell_type": "code",
   "execution_count": null,
   "source": [],
   "outputs": [],
   "metadata": {}
  }
 ]
}