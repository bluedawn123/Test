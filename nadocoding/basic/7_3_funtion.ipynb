{
 "metadata": {
  "language_info": {
   "codemirror_mode": {
    "name": "ipython",
    "version": 3
   },
   "file_extension": ".py",
   "mimetype": "text/x-python",
   "name": "python",
   "nbconvert_exporter": "python",
   "pygments_lexer": "ipython3",
   "version": "3.7.6"
  },
  "orig_nbformat": 2,
  "kernelspec": {
   "name": "python3",
   "display_name": "Python 3.7.6 64-bit ('cpv': conda)",
   "metadata": {
    "interpreter": {
     "hash": "e25e0584590c458883016a89e0cf53be7d76548718d22946ce414c44a74f5c84"
    }
   }
  }
 },
 "nbformat": 4,
 "nbformat_minor": 2,
 "cells": [
  {
   "cell_type": "code",
   "execution_count": null,
   "metadata": {},
   "outputs": [],
   "source": [
    "#기본값"
   ]
  },
  {
   "cell_type": "code",
   "execution_count": 1,
   "metadata": {},
   "outputs": [
    {
     "output_type": "stream",
     "name": "stdout",
     "text": [
      "이름 : 유재석, 나이 : 20, 주사용언어 : 파이썬\n이름 : 김태호, 나이 : 30, 주사용언어 : 자바\n"
     ]
    }
   ],
   "source": [
    "def profile(name, age, main_lang):\n",
    "    print(\"이름 : {0}, 나이 : {1}, 주사용언어 : {2}\".format(name, age, main_lang))\n",
    "\n",
    "profile(\"유재석\", 20, \"파이썬\")\n",
    "profile(\"김태호\", 30, \"자바\")"
   ]
  },
  {
   "cell_type": "code",
   "execution_count": 6,
   "metadata": {},
   "outputs": [
    {
     "output_type": "stream",
     "name": "stdout",
     "text": [
      "이름 : 유재석, 나이 : 25, 주사용언어 : 자바\n이름 : 김태호, 나이 : 25, 주사용언어 : 자바\n"
     ]
    }
   ],
   "source": [
    "#변수값이 같은 경우 => 기본값 사용\n",
    "\n",
    "def profile(name, age=25, main_lang=\"자바\"):\n",
    "    print(\"이름 : {0}, 나이 : {1}, 주사용언어 : {2}\".format(name, age, main_lang))\n",
    "\n",
    "profile(\"유재석\")\n",
    "profile(\"김태호\")\n"
   ]
  },
  {
   "cell_type": "code",
   "execution_count": null,
   "metadata": {},
   "outputs": [],
   "source": []
  }
 ]
}