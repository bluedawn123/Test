{
 "metadata": {
  "language_info": {
   "codemirror_mode": {
    "name": "ipython",
    "version": 3
   },
   "file_extension": ".py",
   "mimetype": "text/x-python",
   "name": "python",
   "nbconvert_exporter": "python",
   "pygments_lexer": "ipython3",
   "version": 3
  },
  "orig_nbformat": 4
 },
 "nbformat": 4,
 "nbformat_minor": 2,
 "cells": [
  {
   "cell_type": "code",
   "execution_count": null,
   "metadata": {},
   "outputs": [],
   "source": [
    "#핵심 => user_agent를 통해서 403 에러를 해결 할 수 있다.\n",
    "import requests\n",
    "\n",
    "url = \"http://nadocoding.tistory.com\"\n",
    "headers ={\"User-Agent\":\"Mozilla/5.0 (Windows NT 10.0; Win64; x64) AppleWebKit/537.36 (KHTML, like Gecko) Chrome/88.0.4324.190 Safari/537.36\"}\n",
    "\n",
    "res = requests.get(url, headers=headers)  #url에 접속 할때 정의한 user agent값을 전달해준다. 형식이니 암기하도록\n",
    "res.raise_for_status()\n",
    "\n",
    "with open(\"nadocoding.html\", \"w\", encoding=\"utf8\") as f:\n",
    "    f.write(res.text)"
   ]
  },
  {
   "cell_type": "code",
   "execution_count": null,
   "metadata": {},
   "outputs": [],
   "source": [
    "#유저 에이전트 정보 => Mozilla/5.0 (Windows NT 10.0; Win64; x64) AppleWebKit/537.36 (KHTML, like Gecko) Chrome/88.0.4324.190 Safari/537.36\n",
    "\n",
    "#이 부분은 구글 검색을 통해 알 수 있다."
   ]
  }
 ]
}