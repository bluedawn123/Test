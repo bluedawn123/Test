{
 "metadata": {
  "language_info": {
   "codemirror_mode": {
    "name": "ipython",
    "version": 3
   },
   "file_extension": ".py",
   "mimetype": "text/x-python",
   "name": "python",
   "nbconvert_exporter": "python",
   "pygments_lexer": "ipython3",
   "version": "3.7.6"
  },
  "orig_nbformat": 4,
  "kernelspec": {
   "name": "python3",
   "display_name": "Python 3.7.6 64-bit ('cpv': conda)"
  },
  "interpreter": {
   "hash": "e25e0584590c458883016a89e0cf53be7d76548718d22946ce414c44a74f5c84"
  }
 },
 "nbformat": 4,
 "nbformat_minor": 2,
 "cells": [
  {
   "cell_type": "code",
   "execution_count": 1,
   "metadata": {},
   "outputs": [],
   "source": [
    "#네이버 항공권\n",
    "#해당 당월 27, 28일 선택\n",
    "from selenium import webdriver\n",
    "\n",
    "browser = webdriver.Chrome()\n",
    "browser.maximize_window()  #창 최대화\n",
    "\n",
    "url = \"https://flight.naver.com/flights/\"\n",
    "browser.get(url)   #url로 이동\n",
    "\n",
    "#가는날 선택 (글자 기준으로 찾기.)\n",
    "browser.find_element_by_link_text(\"가는날 선택\").click()\n",
    "\n",
    "#돌아 오는 날 선택\n",
    "#주의 => 날짜가 같을 수도 있으니, a태그의 첫번쨰 항목(7월 29일)선택 Or 두번째 항목(8월29일) 이런식\n",
    "#즉, 27에 해당하는 a태크를 모두 가져온 다음 첫번째 항목 선택, 그리고 다음달에 있는 29선택하려면 두번째 항목 선택! \n",
    "\n",
    "#27, 28일 선택\n",
    "browser.find_elements_by_link_text(\"27\")[0].click() #27 을 갖는 모든 글짜 선택 후 첫번째 가져오기\n",
    "browser.find_elements_by_link_text(\"28\")[0].click() #27 을 갖는 모든 글짜 선택 후 첫번째 가져오기"
   ]
  },
  {
   "cell_type": "code",
   "execution_count": 2,
   "metadata": {},
   "outputs": [],
   "source": [
    "#네이버 항공권\n",
    "#다음달 27, 28일 선택\n",
    "from selenium import webdriver\n",
    "\n",
    "browser = webdriver.Chrome()\n",
    "browser.maximize_window()  #창 최대화\n",
    "\n",
    "url = \"https://flight.naver.com/flights/\"\n",
    "browser.get(url)   #url로 이동\n",
    "\n",
    "#가는날 선택 (글자 기준으로 찾기.)\n",
    "browser.find_element_by_link_text(\"가는날 선택\").click()\n",
    "\n",
    "#돌아 오는 날 선택\n",
    "#주의 => 날짜가 같을 수도 있으니, a태그의 첫번쨰 항목(7월 29일)선택 Or 두번째 항목(8월29일) 이런식\n",
    "\n",
    "#4월 27, 28일 선택\n",
    "browser.find_elements_by_link_text(\"27\")[1].click() #27 을 갖는 모든 글짜 선택 후 첫번째 가져오기\n",
    "browser.find_elements_by_link_text(\"28\")[1].click() #27 을 갖는 모든 글짜 선택 후 첫번째 가져오기"
   ]
  },
  {
   "cell_type": "code",
   "execution_count": 8,
   "metadata": {},
   "outputs": [
    {
     "output_type": "stream",
     "name": "stdout",
     "text": [
      "에어서울\n출발지\nGMP\n06:00\n도착지\nCJU\n07:00\n총 소요시간\n01시간 00분\n할인석\n편도 63,200원\n편도 62,200원 (네이버페이 1,000원 적립)\n성인이벤트혜택\n"
     ]
    }
   ],
   "source": [
    "#날자 선택은 다 되었으니, 지역 선택\n",
    "#############################################'list' object has no attribute 'text' 로 실패 ##################################################################\n",
    "#네이버 항공권\n",
    "#3월 27 ~ 4월 28일 선택\n",
    "#xpath로 제주도 선택\n",
    "\n",
    "from selenium.webdriver.common.by import By\n",
    "from selenium.webdriver.support.ui import WebDriverWait           #엘리먼트 기다릴때 사용\n",
    "from selenium.webdriver.support import expected_conditions as EC  #엘리먼트 기다릴때 사용\n",
    "from selenium import webdriver\n",
    "\n",
    "browser = webdriver.Chrome()\n",
    "browser.maximize_window()  #창 최대화\n",
    "\n",
    "url = \"https://flight.naver.com/flights/\"\n",
    "browser.get(url)   #url로 이동\n",
    "\n",
    "#가는날 선택 (글자 기준으로 찾기.)\n",
    "browser.find_element_by_link_text(\"가는날 선택\").click()\n",
    "\n",
    "#돌아 오는 날 선택\n",
    "#주의 => 날짜가 같을 수도 있으니, a태그의 첫번쨰 항목(7월 29일)선택 Or 두번째 항목(8월29일) 이런식\n",
    "\n",
    "#3월 27일 가는 날, 4월 28일 오는 날 선택\n",
    "browser.find_elements_by_link_text(\"27\")[0].click() #27 을 갖는 모든 글짜 선택 후 첫번째 가져오기\n",
    "browser.find_elements_by_link_text(\"28\")[1].click() #27 을 갖는 모든 글짜 선택 후 첫번째 가져오기\n",
    "\n",
    "#제주도 선택 => xpath로\n",
    "#<li ng-repeat=\"city in cities\" ng-if=\"$index < 8\" ng-class=\"$index==0 || $index==6 ? 'recommendation_item_x2' : ''\" class=\"recommendation_item ng-scope recommendation_item_x2\"><!-- ngIf: city.img1 && city.img2 --><div ng-if=\"city.img1 &amp;&amp; city.img2\" ng-style=\"{'background-image': 'url(' + imgPath + ($index==0 || $index==6 ? city.img2 : city.img1) + ')'}\" class=\"lnk_recommendation ng-scope\" style=\"background-image: url(&quot;https://phinf.pstatic.net/dbscthumb/3720_000_1/20150318193402177_VV7WD6JPC.jpg/579_461x230.jpg?type=m1500&quot;);\"><!-- [D] 클릭 이벤트 <a>에 걸어주세요--><a href=\"javascript:;\" role=\"button\" ng-click=\"onSelectCity(city.airport, city.cityName, city.isDomestic); nclk(city.clickId)\" class=\"recommendation_box_anchor ng-binding\">도착지로 설정(제주)</a><dl class=\"recommendation_box\"><dt class=\"tit_airport ng-binding\">제주</dt><dd class=\"txt_airport_code ng-binding\">Jeju</dd><dd ng-show=\"displayShortest\" class=\"txt_airport_info\"><span class=\"sp_flight txt_trip ng-binding\">김포</span><!-- ngIf: city.viaCount==0 --><span ng-if=\"city.viaCount==0\" class=\"sp_flight txt_trip txt_trip_direct ng-scope\">직항</span><!-- end ngIf: city.viaCount==0 --><!-- ngIf: city.viaCount==null --><!-- ngIf: city.viaCount!=0 && city.viaCount!=null --><!-- ngIf: city.viaCount!=null --><span ng-if=\"city.viaCount!=null\" class=\"sp_flight txt_time ng-binding ng-scope\">1시간 5분</span><!-- end ngIf: city.viaCount!=null --></dd></dl><span class=\"bg_gradient\"></span><!-- [D] blur 필터 적용 썸네일--><div ng-style=\"{'background-image': 'url(' + imgPath + ($index==0 || $index==6 ? splitImageUrl(city.img2) : splitImageUrl(city.img1)) + ($index==0 || $index==6 ? '=f461_230_blur' : '=f230_230_blur') + ')'}\" class=\"recommendation_box_cover\" style=\"background-image: url(&quot;https://phinf.pstatic.net/dbscthumb/3720_000_1/20150318193402177_VV7WD6JPC.jpg/579_461x230.jpg?type=f461_230_blur&quot;);\"><dl class=\"recommendation_cover_area\"><dt class=\"tit_airport ng-binding\">제주</dt><dd class=\"txt_airport_code ng-binding\">Jeju</dd><dd class=\"txt_cover_info\"><a href=\"https://www.flickr.com/photos/dalcrose/5432458751/\" target=\"_blank\" ng-click=\"nclk('mai.imglink');\" class=\"ng-binding\">사진 : flickr</a></dd><dd ng-style=\"{'background-image': 'url(' + imgPath + ($index==0 || $index==6 ? splitImageUrl(city.img2) :splitImageUrl(city.img1)) + '=f120_120_round)'}\" class=\"cover_in\" style=\"background-image: url(&quot;https://phinf.pstatic.net/dbscthumb/3720_000_1/20150318193402177_VV7WD6JPC.jpg/579_461x230.jpg?type=f120_120_round&quot;);\"></dd></dl><span class=\"sp_flight etc_arr\"></span></div></div><!-- end ngIf: city.img1 && city.img2 --></li> 이 부분을 copy.xpath를 하면, => //*[@id=\"recommendationList\"]/ul/li[1]\n",
    "browser.find_element_by_xpath(\"//*[@id='recommendationList']/ul/li[1]\").click()   \n",
    "# recommd...list의 \"\"을 문자열이 이상하게 되기 때문에 이것을 ''로 수정 \n",
    "\n",
    "#항공권 검색 클릭\n",
    "browser.find_element_by_link_text(\"항공권 검색\").click()  #잘 나온다. 그럼 가격정보를 추출해보자\n",
    "\n",
    "#첫번째 결과 출력. xpath로. //*[@id=\"content\"]/div[2]/div/div[4]/ul/li[1] \n",
    "'''\n",
    "elem = browser.find_element_by_xpath(\"//*[@id='content']/div[2]/div/div[4]/ul/li[1]\")\n",
    "print(elem.text)  \n",
    "Message: no such element: Unable to locate element 오류가 나온다.\n",
    "로딩하는 화면 때문에 우리가 원하는 페이지 화면이 안 떠서 => 로딩처리필요\n",
    "\n",
    "방법 1. 시간 설정 후 기다리기 => 시간낭비가 아깝다. \n",
    "방법 2. 엘리먼트가 나올때까지만 기다리기 => 유용\n",
    "\n",
    "다시 해보자.\n",
    "'''\n",
    "try:   #try를 쓰는 이유 : 에러가 났을때는 그냥 종료 해버리는 게 낫기 때문에.\n",
    "    elem = WebDriverWait(browser, 10).until(EC.presence_of_all_elements_located((By.XPATH, \"//*[@id='content']/div[2]/div/div[4]/ul/li[1]\")))  \n",
    "#어떤 엘리먼트가 위치할 때까지 브라우저에 대해 최대 10초동안 기다린다. \n",
    "#괄호 안이 어떤 것에 해당된다. 여기서는, By.XPATH를 기다려준다. \n",
    "    for value in elem:\n",
    "        print(value.text)\n",
    "\n",
    "finally:\n",
    "    browser.close()\n",
    "\n",
    "#정리 : WebDriverWait를 통해서 브라우저를 10초동안 기다린다. 근데 10초 안에, Expected Contidition(여기서는 Xpath라는 조건으로, Xpath라는 값에 해당하는 element가 나올때까지) 에 맞는 조건을 기다린다. \n",
    "\n",
    "\n",
    "#-------------------------------------------------------------------------------------------------------------------------------------------------------"
   ]
  },
  {
   "cell_type": "code",
   "execution_count": null,
   "metadata": {},
   "outputs": [],
   "source": []
  }
 ]
}