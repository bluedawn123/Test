{
 "metadata": {
  "language_info": {
   "codemirror_mode": {
    "name": "ipython",
    "version": 3
   },
   "file_extension": ".py",
   "mimetype": "text/x-python",
   "name": "python",
   "nbconvert_exporter": "python",
   "pygments_lexer": "ipython3",
   "version": "3.7.6"
  },
  "orig_nbformat": 4,
  "kernelspec": {
   "name": "python3",
   "display_name": "Python 3.7.6 64-bit ('cpv': conda)"
  },
  "interpreter": {
   "hash": "e25e0584590c458883016a89e0cf53be7d76548718d22946ce414c44a74f5c84"
  }
 },
 "nbformat": 4,
 "nbformat_minor": 2,
 "cells": [
  {
   "cell_type": "code",
   "execution_count": 2,
   "metadata": {},
   "outputs": [
    {
     "output_type": "stream",
     "name": "stdout",
     "text": [
      "영화의 총 갯수 ? :  0\n"
     ]
    }
   ],
   "source": [
    "#동적 페이지 크롤링\n",
    "import requests\n",
    "from bs4 import BeautifulSoup\n",
    "\n",
    "url = \"https://play.google.com/store/movies/top\"\n",
    "res = requests.get(url)\n",
    "res.raise_for_status()\n",
    "soup = BeautifulSoup(res.text, \"lxml\")\n",
    "\n",
    "#div태그들이 각각의 영화를 의미하는 것을 알 수 있다. => div, class 정보 활용\n",
    "#모든 영화에 대한 정보를 가져와보자\n",
    "movies = soup.find_all(\"div\", attrs={\"class\":\"ImZGtf mpg5gc\"}) \n",
    "print(\"영화의 총 갯수 ? : \", len(movies))  #=> 0으로 출력된다. \n",
    "\n",
    "#왜 그럴까?? 가져온 html정보를 파일로 한번 봐보자\n",
    "with open(\"movie.html\", \"w\", encoding=\"utf8\") as f:\n",
    "    #f.write(res.text) => 보기힘듬\n",
    "    f.write(soup.prettify())  #html 문서를 이쁘게 출력\n",
    "\n",
    "    #=> 이 파일을 뒤져보니 찾는 정보가 없고, 열어보니 이상한 페이지가 열린다. => 동적페이지기 때문!\n",
    "    #접속하는 사용자의 header정보를 통해 구글movie에서는 서로 다른 페이지를 리턴해주기 때문이다. \n",
    "    #이를 해결하려면...?? ===> 유저에이전트!!\n",
    "\n",
    "    #이상한 미국 화면이 열리는 이유?? => 접속한 사용자의 user_agent정보를 통해서 google에서 서로 다른 페이지를 return\n",
    "    #우리가 접속했을땐(대한민국) 한글페이지이고, request로 접속했을때는 미국에서 접속한 값이 디폴트이기 때문에."
   ]
  },
  {
   "cell_type": "code",
   "execution_count": 3,
   "metadata": {},
   "outputs": [
    {
     "output_type": "stream",
     "name": "stdout",
     "text": [
      "영화의 총 갯수 ? :  10\n노바디\n콰이어트 플레이스 (자막판)\nCruella\n캐시트럭\n고질라 VS. 콩\n컨저링 3: 악마가 시켰다\n크루즈 패밀리: 뉴 에이지\n어벤져스 : 엔드게임 (자막판)\n라야와 마지막 드래곤\n테넷\n"
     ]
    }
   ],
   "source": [
    "#유저 에이전트를 사용\n",
    "#동적 페이지 크롤링 => 최초 10개 까지만 보여진다. => 이럴 떄 selenium이 필요하다. \n",
    "#user-agent로 한국어 페이지로 접근하기 => header 선언 필요\n",
    "#영화 제목 찍어보기\n",
    "\n",
    "import requests\n",
    "from bs4 import BeautifulSoup\n",
    "\n",
    "url = \"https://play.google.com/store/movies/top\"\n",
    "headers ={\"User-Agent\":\"Mozilla/5.0 (Windows NT 10.0; Win64; x64) AppleWebKit/537.36 (KHTML, like Gecko) Chrome/88.0.4324.190 Safari/537.36\",\n",
    "          \"Accept-Language\":\"ko-KR,ko\"\n",
    "}\n",
    "\n",
    "res = requests.get(url, headers=headers)  #url에 접근 할때 정의한 user agent값을 전달해준다.\n",
    "res.raise_for_status()\n",
    "soup = BeautifulSoup(res.text, \"lxml\")\n",
    "\n",
    "\n",
    "#div, class 정보 활용\n",
    "movies = soup.find_all(\"div\", attrs={\"class\":\"ImZGtf mpg5gc\"}) \n",
    "print(\"영화의 총 갯수 ? : \", len(movies))  #=> 10으로 출력된다. => 10개 밖에 출력이 안 되는 이유는 이것이 동적페이지 이기 때문이다. \n",
    "\n",
    "with open(\"movie.html\", \"w\", encoding=\"utf8\") as f:\n",
    "    #f.write(res.text) => 보기힘듬\n",
    "    f.write(soup.prettify())  #html 문서를 이쁘게 출력\n",
    "\n",
    "#예를들어, 콰이어트 플레이스를 찾아보니 정보가 <div class=\"WsMG1c nnK0zc\" title=\"콰이어트 플레이스 (자막판)\">\n",
    "#이렇게 나온다. 그럼, div태그에 class=\"WsMG1c nnK0zc\"가 이것들이 제목임을 말해주는 것을 알 수 있다. \n",
    "#개발자모드에서 찾아도 되고, html로 확인 후 찾아봐도 동일하다.                           \n",
    "\n",
    "for movie in movies:\n",
    "    title = movie.find(\"div\", attrs={\"class\":\"WsMG1c nnK0zc\"}).get_text()\n",
    "    print(title)\n",
    "\n"
   ]
  },
  {
   "cell_type": "code",
   "execution_count": null,
   "metadata": {},
   "outputs": [],
   "source": []
  }
 ]
}