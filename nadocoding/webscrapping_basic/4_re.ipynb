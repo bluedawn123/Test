{
 "metadata": {
  "language_info": {
   "codemirror_mode": {
    "name": "ipython",
    "version": 3
   },
   "file_extension": ".py",
   "mimetype": "text/x-python",
   "name": "python",
   "nbconvert_exporter": "python",
   "pygments_lexer": "ipython3",
   "version": "3.7.6"
  },
  "orig_nbformat": 4,
  "kernelspec": {
   "name": "python3",
   "display_name": "Python 3.7.6 64-bit ('cpv': conda)"
  },
  "interpreter": {
   "hash": "e25e0584590c458883016a89e0cf53be7d76548718d22946ce414c44a74f5c84"
  }
 },
 "nbformat": 4,
 "nbformat_minor": 2,
 "cells": [
  {
   "cell_type": "code",
   "execution_count": 4,
   "metadata": {},
   "outputs": [
    {
     "output_type": "stream",
     "name": "stdout",
     "text": [
      "매칭된 변수 m 출력해보기 : <re.Match object; span=(0, 4), match='case'>\ncase\ncase\n"
     ]
    }
   ],
   "source": [
    "#정규식 => 정규표현식 그룹은 해당 그룹과 일치하는 문자열을 얻어올 떄 사용한다.\n",
    "#상황 => ca?e에서 ?가 기억이 안나는 상황\n",
    "import re                                 #정규식 라이브러리 호출\n",
    "\n",
    "p = re.compile(\"ca.e\")    #패턴변수를 p로 설정. 어떤 정규식을 compile할 것인가? 이 경우는, ca_e \n",
    "\n",
    "#. (ca.e): 하나의 문자 의미 ex)care, cafe, case.....   caffe(x)\n",
    "#^ (^de) : 문자열의 시작     ex) de로 시작하는 모든 것 매칭. desk, desdfa,...    fade(x)\n",
    "#$ (se$) : 문자열의 끝       ex) case, base (o)....            face(x)\n",
    "\n",
    "m = p.match(\"case\")       #괄호 안은 비교하려는 값. 매칭된 값을 m이라는 변수에 저장 \n",
    "\n",
    "print(\"매칭된 변수 m 출력해보기 :\", m) #수업내용은 아님ㅋ몰라도 됌\n",
    "\n",
    "print(m.group())          #매치된 문자열(그룹정보)을 돌려준다.  ★★근데, group()의 함수는???\n",
    "\n",
    "if m:\n",
    "    print(m.group())      #매치가 된 경우, 매칭된 그룹정보 표시  \n",
    "\n",
    "else:\n",
    "    print(\"매칭 실패\")\n",
    "\n"
   ]
  },
  {
   "cell_type": "code",
   "execution_count": 5,
   "metadata": {},
   "outputs": [
    {
     "output_type": "stream",
     "name": "stdout",
     "text": [
      "care\n"
     ]
    }
   ],
   "source": [
    "#p.match => 주어진 문자열의 처음부터 일치하는 게 있는지 확인\n",
    "import re\n",
    "\n",
    "p = re.compile(\"ca.e\")  #패턴값\n",
    "\n",
    "def print_match(m):          #print_match함수만들어보기. (변수)\n",
    "    if m:\n",
    "        print(m.group())     #만약, 일치하면 그룹정보 반환\n",
    "    else:\n",
    "        print(\"매칭 실패\")    #아니며 매칭실패\n",
    "    \n",
    "m = p.match(\"good care\")     \n",
    "print_match(m)      #good care이랑 ca.e는 match()의 특성:처음부터 일치하는지 확인하는 특성에 부합하지 않으므로 \"매칭 실패\"\n",
    "\n",
    "#(careless) 라면, 일치한다. 왜냐? 처음부터 일치하는 ca_e가 존재하기 때문에. 이를 방지하기 위해 search()를 사용한다."
   ]
  },
  {
   "cell_type": "code",
   "execution_count": 1,
   "metadata": {},
   "outputs": [
    {
     "output_type": "stream",
     "name": "stdout",
     "text": [
      "care\n"
     ]
    }
   ],
   "source": [
    "#p.search()\n",
    "import re\n",
    "\n",
    "p = re.compile(\"ca.e\")  #패턴값\n",
    "\n",
    "def print_match(m):          #print_match함수만들어보기. (변수)\n",
    "    if m:\n",
    "        print(m.group())     #만약, 일치하면 그룹정보 반환\n",
    "    else:\n",
    "        print(\"매칭 실패\")    #아니며 매칭실패\n",
    "    \n",
    "m = p.search(\"good care\")    #serach()는 match()와는 다르게 주어진 문자열 중에 일치하는 게 있는지 확인하는 것\n",
    "print_match(m)      "
   ]
  },
  {
   "cell_type": "code",
   "execution_count": 4,
   "metadata": {},
   "outputs": [
    {
     "output_type": "stream",
     "name": "stdout",
     "text": [
      "m.group() :  care\nm.string :  careless\nm.start() :  0\nm.end() :  4\nm.span() :  (0, 4)\n"
     ]
    },
    {
     "output_type": "execute_result",
     "data": {
      "text/plain": [
       "'\\nm.group() :  care\\nm.string :  good care\\nm.start() :  5\\nm.end() :  9\\nm.span() :  (5, 9)\\n'"
      ]
     },
     "metadata": {},
     "execution_count": 4
    }
   ],
   "source": [
    "#p.search => 주어진 문자열 중 일치하는 게 있는지 확인. match()는 처음부터 일치하는지 확인, search()는 전체에서\n",
    "\n",
    "import re\n",
    "\n",
    "p = re.compile(\"ca.e\")  #패턴값\n",
    "\n",
    "def print_match(m):\n",
    "    if m:\n",
    "        print(\"m.group() : \", m.group())     #일치하는 문자열 반환\n",
    "        print(\"m.string : \", m.string)       #입력받은 문자열\n",
    "        print(\"m.start() : \", m.start())     #일치하는 문자열의 시작 index\n",
    "        print(\"m.end() : \", m.end())         #일치하는 문자열의 끝 index\n",
    "        print(\"m.span() : \", m.span())       #일치하는 문자열의 시작/끝 index\n",
    "\n",
    "    else:\n",
    "        print(\"매칭 실패\")\n",
    "\n",
    "m = p.search(\"careless\")    #serach()는 match()와는 다르게 주어진 문자열 중에 일치하는 게 있는지 확인하는 것\n",
    "print_match(m) \n",
    "\n",
    "'''\n",
    "m.group() :  care\n",
    "m.string :  careless\n",
    "m.start() :  0\n",
    "m.end() :  4\n",
    "m.span() :  (0, 4)\n",
    "'''"
   ]
  },
  {
   "cell_type": "code",
   "execution_count": 5,
   "metadata": {},
   "outputs": [
    {
     "output_type": "stream",
     "name": "stdout",
     "text": [
      "m.group() :  care\nm.string :  good care\nm.start() :  5\nm.end() :  9\nm.span() :  (5, 9)\n"
     ]
    }
   ],
   "source": [
    "#p.search => 주어진 문자열 중 일치하는 게 있는지 확인. match()는 처음부터 일치하는지 확인, search()는 전체에서\n",
    "\n",
    "import re\n",
    "\n",
    "p = re.compile(\"ca.e\")  #패턴값\n",
    "\n",
    "def print_match(m):\n",
    "    if m:\n",
    "        print(\"m.group() : \", m.group())     #일치하는 문자열 반환\n",
    "        print(\"m.string : \", m.string)       #입력받은 문자열\n",
    "        print(\"m.start() : \", m.start())     #일치하는 문자열의 시작 index\n",
    "        print(\"m.end() : \", m.end())         #일치하는 문자열의 끝 index\n",
    "        print(\"m.span() : \", m.span())       #일치하는 문자열의 시작/끝 index\n",
    "\n",
    "    else:\n",
    "        print(\"매칭 실패\")\n",
    "    \n",
    "m = p.search(\"good care\") #일치하는 게 있다!\n",
    "print_match(m)\n",
    "\n",
    "'''\n",
    "m.group() :  care\n",
    "m.string :  good care\n",
    "m.start() :  5\n",
    "m.end() :  9\n",
    "m.span() :  (5, 9)\n",
    "'''"
   ]
  },
  {
   "cell_type": "code",
   "execution_count": 8,
   "metadata": {},
   "outputs": [
    {
     "output_type": "stream",
     "name": "stdout",
     "text": [
      "['care', 'cafe']\n"
     ]
    }
   ],
   "source": [
    "#findall => 일치하는 모든것을 list형태로 반환. 여러 개가 일치하면 여러개를 리스트로 반환\n",
    "\n",
    "import re\n",
    "\n",
    "p = re.compile(\"ca.e\")  #패턴값\n",
    "\n",
    "def print_match(m):\n",
    "    if m:\n",
    "        print(\"m.group() : \", m.group())     #일치하는 문자열 반환\n",
    "        print(\"m.string : \", m.string)       #입력받은 문자열\n",
    "        print(\"m.start() : \", m.start())     #일치하는 문자열의 시작 index\n",
    "        print(\"m.end() : \", m.end())         #일치하는 문자열의 끝 index\n",
    "        print(\"m.span() : \", m.span())       #일치하는 문자열의 시작/끝 index\n",
    "\n",
    "    else:\n",
    "        print(\"매칭 실패\")\n",
    "\n",
    "'''   1번 예제 \n",
    "lst = p.findall(\"good care\") \n",
    "print(lst)                       출력값 => ['care']\n",
    "'''\n",
    "\n",
    "\n",
    "'''  2번 예제\n",
    "lst = p.findall(\"good care cafe\") \n",
    "print(lst)                       출력값 => ['care', 'cafe']\n",
    "'''\n"
   ]
  },
  {
   "cell_type": "code",
   "execution_count": null,
   "metadata": {},
   "outputs": [],
   "source": [
    "#정리\n",
    "#1. re.compile(\"원하는 형태\")\n",
    "#2. m = p.match(\"비교할 문자열\") : 주어진 문자열의 처음부터 일치하는지 확인\n",
    "#3. m = p.search(\"비교할 문자열\") : 주어진 문자열 중에 일치하는지 확인\n",
    "#4. lst = p.findall(\"비교할 문자열\") : 일치하는 모든 것을 리스트 형태로 반환\n",
    "\n",
    "#원하는 형태 : 정규식\n",
    "#. (ca.e): 하나의 문자 의미 ex)care, cafe, case.....   caffe(x)\n",
    "#^ (^de) : 문자열의 시작     ex) de로 시작하는 모든 것 매칭. desk, desdfa,...    fade(x)\n",
    "#$ (se$) : 문자열의 끝       ex) case, base (o)....            face(x)\n"
   ]
  }
 ]
}