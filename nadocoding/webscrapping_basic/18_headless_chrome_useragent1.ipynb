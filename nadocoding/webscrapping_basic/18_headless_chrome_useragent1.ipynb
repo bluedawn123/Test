{
 "metadata": {
  "language_info": {
   "codemirror_mode": {
    "name": "ipython",
    "version": 3
   },
   "file_extension": ".py",
   "mimetype": "text/x-python",
   "name": "python",
   "nbconvert_exporter": "python",
   "pygments_lexer": "ipython3",
   "version": 3
  },
  "orig_nbformat": 4
 },
 "nbformat": 4,
 "nbformat_minor": 2,
 "cells": [
  {
   "cell_type": "code",
   "execution_count": null,
   "metadata": {},
   "outputs": [],
   "source": [
    "#헤드리스 크롬\n",
    "#크롬에서 접속했을때 user_agent와 headlessChrome으로 접속했을 때 차이 확인.\n",
    "import requests\n",
    "from bs4 import BeautifulSoup\n",
    "from selenium import webdriver\n",
    "\n",
    "#headless chrome => 크롬 띄우기 전에 실시\n",
    "options = webdriver.ChromeOptions()\n",
    "options.headless = True\n",
    "options.add_argument(\"window-size=1920x1080\") \n",
    "#백그라운드에서 도는 브라우저의 크기를 얼만큼인지 모르게 때문에 명시적으로 표시. #1920x1080에 맞춰서 크롬을 띄워서 내부적 동작 수행\n",
    "browser = webdriver.Chrome(options=options)\n",
    "browser.maximize_window()\n",
    "\n",
    "\n",
    "url = \"https://www.whatismybrowser.com/detect/what-is-my-user-agent\"\n",
    "browser.get(url)\n",
    "\n",
    "#파란색 부분 가져오기\n",
    "detected_value = browser.find_element_by_id(\"detected_value\")\n",
    "print(detected_value.text)\n",
    "\n",
    "browser.close()\n",
    "\n",
    "#Mozilla/5.0 (Windows NT 10.0; Win64; x64) AppleWebKit/537.36 (KHTML, like Gecko) HeadlessChrome/89.0.4389.82 Safari/537.36\n",
    "#=> headless크롬이면 접속이 막힐 수 있다. => user_agent값을 설정해 줄 수 있다. 자세한 건 아래서"
   ]
  },
  {
   "cell_type": "code",
   "execution_count": null,
   "metadata": {},
   "outputs": [],
   "source": [
    "#유저 에이전트 설정 + 헤드리스 크롬\n",
    "\n",
    "import requests\n",
    "from bs4 import BeautifulSoup\n",
    "from selenium import webdriver\n",
    "\n",
    "options = webdriver.ChromeOptions()\n",
    "options.headless = True\n",
    "options.add_argument(\"window-size=1920x1080\") \n",
    "\n",
    "#유저 에이전트 추가 ★☆\n",
    "options.add_argument(\"user-agent=Mozilla/5.0 (Windows NT 10.0; Win64; x64) AppleWebKit/537.36 (KHTML, like Gecko) Chrome/89.0.4389.90 Safari/537.36\") #원래 확인한 유저 에이전트 값\n",
    "\n",
    "browser = webdriver.Chrome(options=options)\n",
    "browser.maximize_window()\n",
    "\n",
    "url = \"https://www.whatismybrowser.com/detect/what-is-my-user-agent\"\n",
    "browser.get(url)\n",
    "\n",
    "#파란색 부분 가져오기\n",
    "detected_value = browser.find_element_by_id(\"detected_value\")\n",
    "print(detected_value.text)\n",
    "#=> Mozilla/5.0 (Windows NT 10.0; Win64; x64) AppleWebKit/537.36 (KHTML, like Gecko) Chrome/89.0.4389.90 Safari/537.36. \n",
    "#==>즉, headlesschrome이 아닌 그냥 chrome으로 출력된다. \n",
    "\n",
    "browser.close()"
   ]
  }
 ]
}