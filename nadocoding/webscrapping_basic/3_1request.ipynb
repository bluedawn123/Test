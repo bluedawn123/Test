{
 "metadata": {
  "language_info": {
   "codemirror_mode": {
    "name": "ipython",
    "version": 3
   },
   "file_extension": ".py",
   "mimetype": "text/x-python",
   "name": "python",
   "nbconvert_exporter": "python",
   "pygments_lexer": "ipython3",
   "version": "3.7.6"
  },
  "orig_nbformat": 4,
  "kernelspec": {
   "name": "python3",
   "display_name": "Python 3.7.6 64-bit ('cpv': conda)"
  },
  "interpreter": {
   "hash": "e25e0584590c458883016a89e0cf53be7d76548718d22946ce414c44a74f5c84"
  }
 },
 "nbformat": 4,
 "nbformat_minor": 2,
 "cells": [
  {
   "cell_type": "code",
   "execution_count": 1,
   "metadata": {},
   "outputs": [
    {
     "output_type": "stream",
     "name": "stdout",
     "text": [
      "응답코드 :  200\n정상입니다.\n \n확인방법2 : 웹 스크래핑을 진행합니다.\n"
     ]
    }
   ],
   "source": [
    "#웹 스크래핑은 웹에서 원하는 정보를 추출하는 행위. 그러려면 문서 정보가 필요한데 그때 request library를 사용한다. => pip install requests\n",
    "\n",
    "import requests\n",
    "res = requests.get(\"http://naver.com\")  #()안에는 우리가 원하는 url정보를 입력. 그러면()안의 url에 접속 후 정보를 가져올수 있고 그것을 res변수에 저장\n",
    "print(\"응답코드 : \", res.status_code)    #실행 시 잘 출력은 된다. 그러나 상세 정보를 모르기 때문에 응답코드를 찍어본다. 200이면 정상.\n",
    "\n",
    "\n",
    "\"\"\"\n",
    "res = requests.get(\"http://nadocoding.tistory.com\")\n",
    "print(\"응답코드2 : \", res.status_code)           #403코드는 접근 권한이 없다는 것.\n",
    "\"\"\"\n",
    "\n",
    "#확인방법1 \n",
    "if res.status_code == requests.codes.ok:        #200 혹은 requests.codes.ok 는 같은 의미이다. 즉, 정상인 경우,\n",
    "    print(\"정상입니다.\")\n",
    "else :\n",
    "    print(\"문제 발생. [에러코드 \", res.status_code, \"]\")  #아닌 경우, 다른 상태코드 발생\n",
    "\n",
    "print(\" \")\n",
    "\n",
    "#확인방법2. 문제가 없으면 별말 없고 문제가 있으면 에러 발생시킴\n",
    "res.raise_for_status()\n",
    "print(\"확인방법2 : 웹 스크래핑을 진행합니다.\")              #만약 오류라면 403에러가 발생한다.\n",
    "\n",
    "\n",
    "####즉 그러므로 간단하게, \n",
    "### res = requests.get(\"http://naver.com\")\n",
    "### res.raise_for_status()                 로 확인이 가능하다. -------->> 3_2request.py로 넘어가자.\n"
   ]
  },
  {
   "cell_type": "code",
   "execution_count": null,
   "metadata": {},
   "outputs": [],
   "source": []
  }
 ]
}