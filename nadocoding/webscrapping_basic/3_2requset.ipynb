{
 "metadata": {
  "language_info": {
   "codemirror_mode": {
    "name": "ipython",
    "version": 3
   },
   "file_extension": ".py",
   "mimetype": "text/x-python",
   "name": "python",
   "nbconvert_exporter": "python",
   "pygments_lexer": "ipython3",
   "version": 3
  },
  "orig_nbformat": 4
 },
 "nbformat": 4,
 "nbformat_minor": 2,
 "cells": [
  {
   "cell_type": "code",
   "execution_count": null,
   "metadata": {},
   "outputs": [],
   "source": [
    "import requests\n",
    "res = requests.get(\"http://google.com\")\n",
    "res.raise_for_status()\n",
    "\n",
    "#텍스트 찍어보기\n",
    "print(len(res.text))    #네이버의 글자 갯수\n",
    "print(res.text)\n",
    "\n",
    "with open(\"mygoogle.html\", \"w\", encoding=\"utf8\") as f:   #mygoogle.html이란 파일로 만들고, w(쓰기모드), 인코딩은 한글을 f라고 이름짓고, \n",
    "    f.write(res.text)                                    #f에 res.text를 쓰는 것을 실행"
   ]
  }
 ]
}