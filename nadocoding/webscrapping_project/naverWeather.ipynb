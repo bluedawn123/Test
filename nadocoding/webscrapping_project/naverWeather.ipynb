{
 "metadata": {
  "language_info": {
   "codemirror_mode": {
    "name": "ipython",
    "version": 3
   },
   "file_extension": ".py",
   "mimetype": "text/x-python",
   "name": "python",
   "nbconvert_exporter": "python",
   "pygments_lexer": "ipython3",
   "version": 3
  },
  "orig_nbformat": 4
 },
 "nbformat": 4,
 "nbformat_minor": 2,
 "cells": [
  {
   "cell_type": "code",
   "execution_count": null,
   "metadata": {},
   "outputs": [],
   "source": [
    "#네이버 날씨 웹 스크래핑.\n",
    "\n",
    "#예시\n",
    "# [오늘의 날씨]\n",
    "# 흐림, 어제보다 00도 높아요\n",
    "# 현재 00도 (최저 00도 / 최고 00도)\n",
    "# 오전 강수확률 00% / 오후 강수확률 00%\n",
    "\n",
    "# 미세먼지 00 / 좋음\n",
    "# 초미세먼지 00 / 좋음"
   ]
  }
 ]
}