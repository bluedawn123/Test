{
 "cells": [
  {
   "cell_type": "code",
   "execution_count": 1,
   "source": [
    "#tolist()메서드를 사용하여 Numpy 배열을 목록으로 변환. Numpy 배열의 tolist()메소드는 numpy 배열을 목록으로 변환 할 수 있습니다.\r\n",
    "\r\n",
    "import numpy as np\r\n",
    "\r\n",
    "oned = np.array([[1,2,3]])\r\n",
    "twod = np.array([[1,2,3],[4,5,6]])\r\n",
    "\r\n",
    "print(oned.tolist())\r\n",
    "print(twod.tolist())"
   ],
   "outputs": [
    {
     "output_type": "stream",
     "name": "stdout",
     "text": [
      "[[1, 2, 3]]\n",
      "[[1, 2, 3], [4, 5, 6]]\n"
     ]
    }
   ],
   "metadata": {}
  },
  {
   "cell_type": "code",
   "execution_count": 2,
   "source": [
    "'''\r\n",
    "이 메서드는 전체 배열을 하나의 요소로 취급합니다. 그렇기 때문에 2D 배열과 함께 사용할 때 목록 목록을 반환합니다.\r\n",
    "\r\n",
    "이를 방지하기 위해 flatten() 또는 ravel()메소드와 함께 tolist()를 사용할 수 있습니다.\r\n",
    "이 메소드는 N 차원 배열을 선형 1 차원 배열로 변환 할 수 있습니다. 이 두 방법 모두 동일한 기능을 수행합니다. \r\n",
    "차이점은ravel()메소드는 배열의 참조보기를 반환하고 원래 배열에 영향을 미치는 \r\n",
    "반면flatten()메소드는 배열의 복사본에서 작동한다는 것입니다. 이로 인해ravel()함수가 더 빠른 것으로 간주되고 더 적은 메모리를 차지합니다.\r\n",
    "'''\r\n",
    "import numpy as np\r\n",
    "\r\n",
    "oned = np.array([1,2,3])\r\n",
    "twod = np.array([[1,2,3],[4,5,6]])\r\n",
    "\r\n",
    "print(oned.flatten().tolist())\r\n",
    "print(twod.flatten().tolist())\r\n",
    "\r\n",
    "\r\n",
    "print(oned.ravel().tolist())\r\n",
    "print(twod.ravel().tolist())"
   ],
   "outputs": [
    {
     "output_type": "stream",
     "name": "stdout",
     "text": [
      "[1, 2, 3]\n",
      "[1, 2, 3, 4, 5, 6]\n",
      "[1, 2, 3]\n",
      "[1, 2, 3, 4, 5, 6]\n"
     ]
    }
   ],
   "metadata": {}
  },
  {
   "cell_type": "code",
   "execution_count": null,
   "source": [],
   "outputs": [],
   "metadata": {}
  }
 ],
 "metadata": {
  "orig_nbformat": 4,
  "language_info": {
   "name": "python",
   "version": "3.8.8",
   "mimetype": "text/x-python",
   "codemirror_mode": {
    "name": "ipython",
    "version": 3
   },
   "pygments_lexer": "ipython3",
   "nbconvert_exporter": "python",
   "file_extension": ".py"
  },
  "kernelspec": {
   "name": "python3",
   "display_name": "Python 3.8.8 64-bit ('base': conda)"
  },
  "interpreter": {
   "hash": "fa422f78b08b4ed23ea77d9d51ba71e035ebabb7673f323e99ba8b680a1634b6"
  }
 },
 "nbformat": 4,
 "nbformat_minor": 2
}