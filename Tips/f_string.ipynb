{
 "cells": [
  {
   "cell_type": "markdown",
   "source": [
    "f-string 포매팅은 파이썬 버전 3.6 부터 사용할 수 있는 따끈따끈한 기능 입니다.\r\n",
    "이전에 언급했던, %포매팅과 str.format 방법보다 더 최근에 나온 것 입니다.\r\n",
    "\r\n",
    "f-string의 모양은 f와 {}만 알면 됩니다. 문자열 맨 앞에 f를 붙여주고, 중괄호 안에 직접 변수 이름이나 출력하고 싶은것을 바로 넣으면 됩니다.\r\n",
    "f'문자열 {변수} 문자열'\r\n",
    "\r\n"
   ],
   "metadata": {}
  },
  {
   "cell_type": "code",
   "execution_count": 1,
   "source": [
    "name = 'Song' \r\n",
    "sex = 'male' \r\n",
    "\r\n",
    "f'Hi, I am {name}. I am {sex}.'  #'Hi, I am Song. I am male.'\r\n",
    "\r\n"
   ],
   "outputs": [
    {
     "output_type": "execute_result",
     "data": {
      "text/plain": [
       "'Hi, I am Song. I am male.'"
      ]
     },
     "metadata": {},
     "execution_count": 1
    }
   ],
   "metadata": {}
  },
  {
   "cell_type": "code",
   "execution_count": 2,
   "source": [
    "x = 10 \r\n",
    "y = 3 \r\n",
    "f'x + y = {x+y} | x * y = {x*y}'  #'x + y = 13 | x * y = 30'"
   ],
   "outputs": [
    {
     "output_type": "execute_result",
     "data": {
      "text/plain": [
       "'x + y = 13 | x * y = 30'"
      ]
     },
     "metadata": {},
     "execution_count": 2
    }
   ],
   "metadata": {}
  },
  {
   "cell_type": "code",
   "execution_count": 4,
   "source": [
    "tuple = ('Hi, I am', 'song', 123)\r\n",
    "\r\n",
    "f'tuplesss: {tuple}' #\"tuplessss: ('Hi, I am', 'song', 123)\""
   ],
   "outputs": [
    {
     "output_type": "execute_result",
     "data": {
      "text/plain": [
       "\"tuplesss: ('Hi, I am', 'song', 123)\""
      ]
     },
     "metadata": {},
     "execution_count": 4
    }
   ],
   "metadata": {}
  },
  {
   "cell_type": "code",
   "execution_count": 6,
   "source": [
    "import datetime \r\n",
    "date = datetime.datetime.now() \r\n",
    "\r\n",
    "f'{date:%-%m-%d} is on a {date:%A}'  #'2021-08-07 is on a Saturday'\r\n",
    " "
   ],
   "outputs": [
    {
     "output_type": "execute_result",
     "data": {
      "text/plain": [
       "'-08-07 is on a Saturday'"
      ]
     },
     "metadata": {},
     "execution_count": 6
    }
   ],
   "metadata": {}
  },
  {
   "cell_type": "code",
   "execution_count": 7,
   "source": [
    "# f-string과 딕셔너리\r\n",
    "#딕셔너리와  f문자열 포맷을 함께 이용하기 위해서는 중괄호 안에서 딕셔너리를 호출해주면 됩니다.\r\n",
    "\r\n",
    "d = {'name': 'BlockDMask', 'gender': 'man', 'age': 100}\r\n",
    "result = f'my name {d[\"name\"]}, gender {d[\"gender\"]}, age {d[\"age\"]}'\r\n",
    "print(result)\r\n",
    "#my name BlockDMask, gender man, age 100"
   ],
   "outputs": [
    {
     "output_type": "stream",
     "name": "stdout",
     "text": [
      "my name BlockDMask, gender man, age 100\n"
     ]
    }
   ],
   "metadata": {}
  },
  {
   "cell_type": "code",
   "execution_count": 2,
   "source": [
    "a = 9+13+7+13+11+12+17+12+13+9 +4+ 8+ 8+ 9+ 12+ 7+ 3+ 8+ 11+ 9 +11+ 9+ 13+ 2 +15+ 10+ 3+ 10+ 10+ 12+ 3+ 8+ 3\r\n",
    "print(a)"
   ],
   "outputs": [
    {
     "output_type": "stream",
     "name": "stdout",
     "text": [
      "304\n"
     ]
    }
   ],
   "metadata": {}
  },
  {
   "cell_type": "code",
   "execution_count": null,
   "source": [],
   "outputs": [],
   "metadata": {}
  }
 ],
 "metadata": {
  "orig_nbformat": 4,
  "language_info": {
   "name": "python",
   "version": "3.8.8",
   "mimetype": "text/x-python",
   "codemirror_mode": {
    "name": "ipython",
    "version": 3
   },
   "pygments_lexer": "ipython3",
   "nbconvert_exporter": "python",
   "file_extension": ".py"
  },
  "kernelspec": {
   "name": "python3",
   "display_name": "Python 3.8.8 64-bit ('base': conda)"
  },
  "interpreter": {
   "hash": "fa422f78b08b4ed23ea77d9d51ba71e035ebabb7673f323e99ba8b680a1634b6"
  }
 },
 "nbformat": 4,
 "nbformat_minor": 2
}