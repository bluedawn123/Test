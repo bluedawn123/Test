{
 "cells": [
  {
   "cell_type": "code",
   "execution_count": 2,
   "source": [
    "def trace(func):                             # 호출할 함수를 매개변수로 받음\r\n",
    "    def wrapper():                           # 호출할 함수를 감싸는 함수\r\n",
    "        print(func.__name__, '함수 시작')     # __name__으로 함수 이름 출력\r\n",
    "        func()                               # 매개변수로 받은 함수를 호출\r\n",
    "        print(func.__name__, '함수 끝')\r\n",
    "    return wrapper                           # wrapper 함수 반환\r\n",
    " \r\n",
    "def hello():\r\n",
    "    print('hello')\r\n",
    " \r\n",
    "def world():\r\n",
    "    print('world')\r\n",
    " \r\n",
    "trace_hello = trace(hello)    # 데코레이터에 호출할 함수를 넣음\r\n",
    "trace_hello()                 # 반환된 함수를 호출\r\n",
    "\r\n",
    "print(\" \")\r\n",
    "trace_world = trace(world)    # 데코레이터에 호출할 함수를 넣음\r\n",
    "trace_world()                 # 반환된 함수를 호출"
   ],
   "outputs": [
    {
     "output_type": "stream",
     "name": "stdout",
     "text": [
      "hello 함수 시작\n",
      "hello\n",
      "hello 함수 끝\n",
      " \n",
      "world 함수 시작\n",
      "world\n",
      "world 함수 끝\n"
     ]
    }
   ],
   "metadata": {}
  },
  {
   "cell_type": "code",
   "execution_count": 3,
   "source": [
    "def trace2(func):                             # 호출할 함수를 매개변수로 받음\r\n",
    "    def wrapper():\r\n",
    "        print(func.__name__, '함수 시작')    # __name__으로 함수 이름 출력\r\n",
    "        func()                               # 매개변수로 받은 함수를 호출\r\n",
    "        print(func.__name__, '함수 끝')\r\n",
    "    return wrapper                           # wrapper 함수 반환\r\n",
    " \r\n",
    "@trace2    # @데코레이터\r\n",
    "def hello2():\r\n",
    "    print('hello')\r\n",
    " \r\n",
    "@trace2    # @데코레이터\r\n",
    "def world2():\r\n",
    "    print('world')\r\n",
    "\r\n",
    "hello2()    # 함수를 그대로 호출\r\n",
    "print(\" \")\r\n",
    "world2()    # 함수를 그대로 호출\r\n"
   ],
   "outputs": [],
   "metadata": {}
  },
  {
   "cell_type": "code",
   "execution_count": null,
   "source": [],
   "outputs": [],
   "metadata": {}
  },
  {
   "cell_type": "code",
   "execution_count": null,
   "source": [],
   "outputs": [],
   "metadata": {}
  }
 ],
 "metadata": {
  "orig_nbformat": 4,
  "language_info": {
   "name": "python",
   "version": "3.8.8",
   "mimetype": "text/x-python",
   "codemirror_mode": {
    "name": "ipython",
    "version": 3
   },
   "pygments_lexer": "ipython3",
   "nbconvert_exporter": "python",
   "file_extension": ".py"
  },
  "kernelspec": {
   "name": "python3",
   "display_name": "Python 3.8.8 64-bit ('base': conda)"
  },
  "interpreter": {
   "hash": "fa422f78b08b4ed23ea77d9d51ba71e035ebabb7673f323e99ba8b680a1634b6"
  }
 },
 "nbformat": 4,
 "nbformat_minor": 2
}