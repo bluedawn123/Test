{
 "cells": [
  {
   "cell_type": "code",
   "execution_count": null,
   "source": [
    "def trace(func):                             # 호출할 함수를 매개변수로 받음\r\n",
    "    def wrapper():                           # 호출할 함수를 감싸는 함수\r\n",
    "        print(func.__name__, '함수 시작')     # __name__으로 함수 이름 출력\r\n",
    "        func()                               # 매개변수로 받은 함수를 호출\r\n",
    "        print(func.__name__, '함수 끝')\r\n",
    "    return wrapper                           # wrapper 함수 반환\r\n",
    " \r\n",
    "def hello():\r\n",
    "    print('hello')\r\n",
    " \r\n",
    "def world():\r\n",
    "    print('world')\r\n",
    " \r\n",
    "trace_hello = trace(hello)    # 데코레이터에 호출할 함수를 넣음\r\n",
    "trace_hello()                 # 반환된 함수를 호출\r\n",
    "trace_world = trace(world)    # 데코레이터에 호출할 함수를 넣음\r\n",
    "trace_world()                 # 반환된 함수를 호출"
   ],
   "outputs": [],
   "metadata": {}
  }
 ],
 "metadata": {
  "orig_nbformat": 4,
  "language_info": {
   "name": "python"
  }
 },
 "nbformat": 4,
 "nbformat_minor": 2
}