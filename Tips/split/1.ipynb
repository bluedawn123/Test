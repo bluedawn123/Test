{
 "cells": [
  {
   "cell_type": "code",
   "execution_count": 6,
   "source": [
    "#split() : 문자열을 구분자(delimiter, separator) 기준에 따라 나누고 리스트로 반환\r\n",
    "\r\n",
    "x = 'haha, hoho, hihi'\r\n",
    "y = x.split(sep=',')\r\n",
    "print(y)\r\n",
    "#['haha', ' hoho', ' hihi']  => 구분자 ,에 따라 3개로 나뉜다.\r\n",
    "\r\n",
    "\r\n",
    "z = 'i was, really!! you??'\r\n",
    "q = z.split(sep='!')\r\n",
    "print(q)\r\n",
    "#['i was, really', '', ' you??'] => 구분자 ,와 !이 두개에 따라 나뉜다\r\n",
    "\r\n",
    "a = 'I Love Python'\r\n",
    "b = a.split(' ')     \r\n",
    "print(b)\r\n",
    "#['I', 'Love', 'Python'] => 띄어쓰기에 의해 나뉜다."
   ],
   "outputs": [
    {
     "output_type": "stream",
     "name": "stdout",
     "text": [
      "['haha', ' hoho', ' hihi']\n",
      "['i was, really', '', ' you??']\n",
      "['I', 'Love', 'Python']\n"
     ]
    }
   ],
   "metadata": {}
  },
  {
   "cell_type": "code",
   "execution_count": 8,
   "source": [
    "#splitlines() : 여러개의 줄로 이루어진 문자열을 줄 별로 구분하여 리스트 생성\r\n",
    "y = 'haha, \\nhoho, \\nhihi'\r\n",
    "print(y)\r\n",
    "\r\n",
    "h = y.splitlines()\r\n",
    "print(h)\r\n",
    "#['haha, ', 'hoho, ', 'hihi']"
   ],
   "outputs": [
    {
     "output_type": "stream",
     "name": "stdout",
     "text": [
      "haha, \n",
      "hoho, \n",
      "hihi\n",
      "['haha, ', 'hoho, ', 'hihi']\n"
     ]
    }
   ],
   "metadata": {}
  },
  {
   "cell_type": "code",
   "execution_count": 5,
   "source": [
    "i = 'i will kill you c8'\r\n",
    "\r\n",
    "a = i.split()\r\n",
    "print(\"a : \", a)  #a :  ['i', 'will', 'kill', 'you', 'c8']\r\n",
    "\r\n",
    "\r\n",
    "b = i.splitlines() \r\n",
    "print(\"b : \", b)   #AttributeError: 'str' object has no attribute 'splitline'\r\n",
    "\r\n",
    "\r\n",
    "c = i.split('\\t')\r\n",
    "print(\"c:\", c)       #c: ['i will kill you c8']"
   ],
   "outputs": [
    {
     "output_type": "stream",
     "name": "stdout",
     "text": [
      "a :  ['i', 'will', 'kill', 'you', 'c8']\n",
      "b :  ['i will kill you c8']\n",
      "c: ['i will kill you c8']\n"
     ]
    }
   ],
   "metadata": {}
  },
  {
   "cell_type": "code",
   "execution_count": null,
   "source": [],
   "outputs": [],
   "metadata": {}
  },
  {
   "cell_type": "code",
   "execution_count": null,
   "source": [],
   "outputs": [],
   "metadata": {}
  }
 ],
 "metadata": {
  "orig_nbformat": 4,
  "language_info": {
   "name": "python",
   "version": "3.8.8",
   "mimetype": "text/x-python",
   "codemirror_mode": {
    "name": "ipython",
    "version": 3
   },
   "pygments_lexer": "ipython3",
   "nbconvert_exporter": "python",
   "file_extension": ".py"
  },
  "kernelspec": {
   "name": "python3",
   "display_name": "Python 3.8.8 64-bit ('base': conda)"
  },
  "interpreter": {
   "hash": "fa422f78b08b4ed23ea77d9d51ba71e035ebabb7673f323e99ba8b680a1634b6"
  }
 },
 "nbformat": 4,
 "nbformat_minor": 2
}