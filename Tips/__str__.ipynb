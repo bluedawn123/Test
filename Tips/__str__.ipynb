{
 "cells": [
  {
   "cell_type": "code",
   "execution_count": null,
   "source": [
    "#파이썬에서 어떤 값(또는 객체)을 문자열로 변환하는데 사용하는 str()은 내장 함수가 아닌 파이썬 내장 클래스이며, \r\n",
    "#객체를 만들고 그 객체의 정보(클래스 이름, 저장 위치 등)를 알고싶을 때 \r\n",
    "#print(객체이름)를 사용하는데, 이는 object 클래스의 __str__ 메서드가 호출되어 반환된 문자열 정보이다."
   ],
   "outputs": [],
   "metadata": {}
  },
  {
   "cell_type": "code",
   "execution_count": 7,
   "source": [
    "t = (1, 2, 3, 't')\r\n",
    "print(str(t))  #(1, 2, 3, 't')\r\n",
    "\r\n",
    "t.__str__()   #\"(1, 2, 3, 't')\""
   ],
   "outputs": [
    {
     "output_type": "stream",
     "name": "stdout",
     "text": [
      "(1, 2, 3, 't')\n"
     ]
    },
    {
     "output_type": "execute_result",
     "data": {
      "text/plain": [
       "\"(1, 2, 3, 't')\""
      ]
     },
     "metadata": {},
     "execution_count": 7
    }
   ],
   "metadata": {}
  },
  {
   "cell_type": "code",
   "execution_count": 9,
   "source": [
    "class Simple:\r\n",
    "    def __init__(self):\r\n",
    "        pass\r\n",
    "\r\n",
    "s = Simple()  #객체 생성\r\n",
    "print(s)      #print(s)로 객체의 클래스이름, 저장위치를 알아보고자 한다 출력하면, <__main__.Simple object at 0x000002761CDFC970>가 나오는데,\r\n",
    "              #이는, 객체 클래스의 __str__매소드가 호출되어 반환된 문자열 정보\r\n",
    "\r\n",
    "s.__str__()   #'<__main__.Simple object at 0x000002761CDFC760>' "
   ],
   "outputs": [
    {
     "output_type": "stream",
     "name": "stdout",
     "text": [
      "<__main__.Simple object at 0x000002761CDFC760>\n"
     ]
    },
    {
     "output_type": "execute_result",
     "data": {
      "text/plain": [
       "'<__main__.Simple object at 0x000002761CDFC760>'"
      ]
     },
     "metadata": {},
     "execution_count": 9
    }
   ],
   "metadata": {}
  },
  {
   "cell_type": "code",
   "execution_count": 6,
   "source": [
    "#이러한 __str__의 문자열 반환 기능을 오버라이딩하여 쓸수 있다.(필요한 경우에 사용하면 좋음)\r\n",
    "class Person:\r\n",
    "    def __init__(self, name, age):\r\n",
    "        self.name = name\r\n",
    "        self.age = age\r\n",
    "        \r\n",
    "    def __str__(self):\r\n",
    "        return '{0}: {1}'.format(self.name, self.age)\r\n",
    "\r\n",
    "\r\n",
    "#q = Person(\"준호\", 30)\r\n",
    "\r\n",
    "\r\n",
    "\r\n",
    "def q():\r\n",
    "    p = Person('James', 23)\r\n",
    "    print(p)  # James: 23  --> __str__ 호출\r\n",
    "\r\n",
    "q()  #James: 23\r\n"
   ],
   "outputs": [
    {
     "output_type": "stream",
     "name": "stdout",
     "text": [
      "James: 23\n"
     ]
    }
   ],
   "metadata": {}
  },
  {
   "cell_type": "code",
   "execution_count": 11,
   "source": [
    "#즉, 인스턴스(객체)가 문자열로 어떻게 표현될지 결정을 해주는 역할을 합니다.\r\n",
    "\r\n",
    "class charic():\r\n",
    "    def __init__(self, name, level):\r\n",
    "        '''init을 사용해 초기화 해주자'''\r\n",
    "        self.name = name\r\n",
    "        self.level = level\r\n",
    " \r\n",
    "    def __str__(self):     #문자열화 해주는 함수 선언!\r\n",
    "        '''문자열화 해주는 함수'''\r\n",
    "        return \"닉네임: {}, 레벨: {}\".format(self.name, self.level)\r\n",
    "        #해당 값으로 return 해주겠습니다!\r\n",
    "\r\n",
    " \r\n",
    "create = charic(\"rednooby\", 1) #그대로 값을 집어넣습니다.\r\n",
    "print(create) #init에서는 create.name, create.level을 했지만\r\n",
    "              #__str__에서 이미 문자열화 해주는 함수를 사용하여\r\n",
    "              #return 했기 때문에 create 그대로 사용해도 실행이 됩니다.\r\n",
    " \r\n",
    "#닉네임: rednooby, 레벨: 1\r\n"
   ],
   "outputs": [
    {
     "output_type": "stream",
     "name": "stdout",
     "text": [
      "닉네임\n"
     ]
    }
   ],
   "metadata": {}
  },
  {
   "cell_type": "code",
   "execution_count": 12,
   "source": [
    "class charic():\r\n",
    "    def __init__(self, name, level):\r\n",
    "        '''init을 사용해 초기화 해주자'''\r\n",
    "        self.name = name\r\n",
    "        self.level = level\r\n",
    "   \r\n",
    "    def __str__(self):     #문자열화 해주는 함수 선언!\r\n",
    "        '''문자열화 해주는 함수'''\r\n",
    "        return \"닉네임:\"\r\n",
    "        #해당 값으로 return 해주겠습니다!\r\n",
    "create = charic(\"rednooby\", 1)\r\n",
    "print(create)                     #닉네임:   으로 출력. 그냥 닉네임으로 출력된다!\r\n"
   ],
   "outputs": [
    {
     "output_type": "stream",
     "name": "stdout",
     "text": [
      "닉네임:\n"
     ]
    }
   ],
   "metadata": {}
  },
  {
   "cell_type": "code",
   "execution_count": null,
   "source": [],
   "outputs": [],
   "metadata": {}
  }
 ],
 "metadata": {
  "orig_nbformat": 4,
  "language_info": {
   "name": "python",
   "version": "3.8.8",
   "mimetype": "text/x-python",
   "codemirror_mode": {
    "name": "ipython",
    "version": 3
   },
   "pygments_lexer": "ipython3",
   "nbconvert_exporter": "python",
   "file_extension": ".py"
  },
  "kernelspec": {
   "name": "python3",
   "display_name": "Python 3.8.8 64-bit ('base': conda)"
  },
  "interpreter": {
   "hash": "fa422f78b08b4ed23ea77d9d51ba71e035ebabb7673f323e99ba8b680a1634b6"
  }
 },
 "nbformat": 4,
 "nbformat_minor": 2
}