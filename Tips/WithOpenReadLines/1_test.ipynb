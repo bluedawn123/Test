{
 "cells": [
  {
   "cell_type": "code",
   "execution_count": null,
   "source": [
    "#readlines => 리스트로 저장하는 것이 중요하다\r\n",
    "score_file = open(\"score.txt\", \"r\", encoding=\"utf8\")  #r. read. 읽어오는 용도\r\n",
    "lines = score_file.readlines()  #모든 line을 가져와서 list형태로 저장\r\n",
    "print(lines)  #=> \\n도 같이 묻어 나온다.\r\n",
    "\r\n",
    "for line in lines:\r\n",
    "    print(line, end=\"\")\r\n",
    "\r\n",
    "score_file.close()"
   ],
   "outputs": [],
   "metadata": {}
  },
  {
   "cell_type": "code",
   "execution_count": null,
   "source": [
    "#124쪽 응용해보기\r\n",
    "f = open(\"score.txt\", \"r\", encoding=\"utf8\")  #r. read. 읽어오는 용도\r\n",
    "t = f.read()\r\n",
    "print(t) \r\n",
    "\r\n",
    "score_file.close()\r\n",
    "\r\n",
    "'''  => read를 썼으므로 그냥 다 불러온다. \r\n",
    "수학 : 0\r\n",
    "영어 : 50\r\n",
    "과학 : 80\r\n",
    "코딩 : 110\r\n",
    "'''"
   ],
   "outputs": [],
   "metadata": {}
  },
  {
   "cell_type": "code",
   "execution_count": 8,
   "source": [
    "f = open(\"score.txt\", \"r\", encoding=\"utf8\")  #r. read. 읽어오는 용도\r\n",
    "t = f.read().splitlines()\r\n",
    "print(\"t : \", t)  #=> read를 써서 다 불러온 것을, splitlines()를 사용해서 ['수학 : 0', '영어 : 50', '과학 : 80', '코딩 : 110']로 변경\r\n"
   ],
   "outputs": [
    {
     "output_type": "stream",
     "name": "stdout",
     "text": [
      "t :  ['수학 : 0    1', '영어 : 50   1', '과학 : 80   1', '코딩 : 110  1']\n"
     ]
    }
   ],
   "metadata": {}
  },
  {
   "cell_type": "code",
   "execution_count": 7,
   "source": [
    "f = open(\"score.txt\", \"r\", encoding=\"utf8\")  #r. read. 읽어오는 용도\r\n",
    "t = [line.split('\\t') for line in f.read().splitlines()]\r\n",
    "print(t)  #=> read를 써서 다 불러온 것을, splitlines()를 사용해서 ['수학 : 0', '영어 : 50', '과학 : 80', '코딩 : 110']로 변경"
   ],
   "outputs": [
    {
     "output_type": "stream",
     "name": "stdout",
     "text": [
      "[['수학 : 0    1'], ['영어 : 50   1'], ['과학 : 80   1'], ['코딩 : 110  1']]\n"
     ]
    }
   ],
   "metadata": {}
  },
  {
   "cell_type": "code",
   "execution_count": null,
   "source": [
    "'''\r\n",
    "from gensim.models import Word2Vec\r\n",
    "from konlpy.tag import Komoran\r\n",
    "import time\r\n",
    "\r\n",
    "\r\n",
    "# 네이버 영화 리뷰 데이터 읽어옴\r\n",
    "def read_review_data(filename):\r\n",
    "    with open(filename, 'r', encoding='UTF8') as f:\r\n",
    "        data = [line.split('\\t') for line in f.read().splitlines()]\r\n",
    "        data = data[1:] # header 제거\r\n",
    "    \r\n",
    "    return data\r\n",
    "'''"
   ],
   "outputs": [],
   "metadata": {}
  }
 ],
 "metadata": {
  "orig_nbformat": 4,
  "language_info": {
   "name": "python",
   "version": "3.8.8",
   "mimetype": "text/x-python",
   "codemirror_mode": {
    "name": "ipython",
    "version": 3
   },
   "pygments_lexer": "ipython3",
   "nbconvert_exporter": "python",
   "file_extension": ".py"
  },
  "kernelspec": {
   "name": "python3",
   "display_name": "Python 3.8.8 64-bit ('base': conda)"
  },
  "interpreter": {
   "hash": "fa422f78b08b4ed23ea77d9d51ba71e035ebabb7673f323e99ba8b680a1634b6"
  }
 },
 "nbformat": 4,
 "nbformat_minor": 2
}