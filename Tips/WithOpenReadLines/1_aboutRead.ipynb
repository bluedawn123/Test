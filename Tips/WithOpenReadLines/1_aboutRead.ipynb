{
 "metadata": {
  "language_info": {
   "codemirror_mode": {
    "name": "ipython",
    "version": 3
   },
   "file_extension": ".py",
   "mimetype": "text/x-python",
   "name": "python",
   "nbconvert_exporter": "python",
   "pygments_lexer": "ipython3",
   "version": "3.8.8"
  },
  "orig_nbformat": 2,
  "kernelspec": {
   "name": "python3",
   "display_name": "Python 3.8.8 64-bit ('base': conda)"
  },
  "interpreter": {
   "hash": "fa422f78b08b4ed23ea77d9d51ba71e035ebabb7673f323e99ba8b680a1634b6"
  }
 },
 "nbformat": 4,
 "nbformat_minor": 2,
 "cells": [
  {
   "cell_type": "code",
   "execution_count": null,
   "source": [
    "#read() : 파일 전체의 내용을 하나의 문자열로 읽어온다. Binary 파일도 읽을 수 있다. 한 글자식 읽어오는 것이 중요하다.\r\n",
    "#readline() : 한번에 하나의 라인을 읽어오는 메소드이다.\r\n",
    "#realines() : 파일 전체를 한라인씩 읽어와서 리스트를 만들어주는 메소드.그런데 개행문자인 \"\\n\"도 있기 때문에 이 부분을 제거해주는 comand가 필요할 수도.\r\n",
    "\r\n",
    "#※ 파일 전체를 읽을 때 readlines()를 주로 활용하면 된다. 아마도 가장 잘 활용하게 될 Command 예시\r\n",
    "'''\r\n",
    "fp = open('aa.txt', 'r')\r\n",
    "lines = fp.readlines()\r\n",
    "for itr in lines:\r\n",
    "   print(itr)\r\n",
    "'''"
   ],
   "outputs": [],
   "metadata": {}
  },
  {
   "cell_type": "code",
   "execution_count": 1,
   "source": [
    "#쓰기1\r\n",
    "score_file = open(\"score.txt\", \"w\", encoding=\"utf8\")  #w는 write. 쓰기위한 목적. \r\n",
    "print(\"수학 : 0\", file=score_file)\r\n",
    "print(\"영어 : 50\", file=score_file)\r\n",
    "\r\n",
    "score_file.close()   #열었으면 꼭 닫아줘야 한다. \r\n",
    "\r\n",
    "#즉, score.txt란 파일을 쓰기 목적(w)으로 열어서 내용을 파일에 쓰고 닫는 과정"
   ],
   "outputs": [],
   "metadata": {}
  },
  {
   "cell_type": "code",
   "execution_count": 2,
   "source": [
    "#쓰기2\r\n",
    "score_file = open(\"score.txt\", \"a\", encoding=\"utf8\")  #a는 덮어 쓰기위한 목적. \r\n",
    "score_file.write(\"과학 : 80\")\r\n",
    "score_file.write(\"\\n코딩 : 110\")  #.write는 줄바꿈이 자동으로 되지 않아서.\r\n",
    "\r\n",
    "score_file.close()   #열었으면 꼭 닫아줘야 한다. \r\n",
    "\r\n",
    "#즉, score.txt란 파일을 쓰기 목적(w)으로 열어서 내용을 파일에 쓰고 닫는 과정"
   ],
   "outputs": [],
   "metadata": {}
  },
  {
   "cell_type": "code",
   "execution_count": 1,
   "source": [
    "#Read()로 읽어오기1\r\n",
    "score_file = open(\"score.txt\", \"r\", encoding=\"utf8\")  #r. read. 읽어오는 용도\r\n",
    "print(score_file.read())  #다 읽어오는 방법\r\n",
    "score_file.close()"
   ],
   "outputs": [
    {
     "output_type": "stream",
     "name": "stdout",
     "text": [
      "수학 : 0\n",
      "영어 : 50\n",
      "과학 : 80\n",
      "코딩 : 110\n"
     ]
    }
   ],
   "metadata": {}
  },
  {
   "cell_type": "code",
   "execution_count": 2,
   "source": [
    "#한 줄 한 줄 읽어오기\r\n",
    "score_file = open(\"score.txt\", \"r\", encoding=\"utf8\")  #r. read. 읽어오는 용도\r\n",
    "#한 줄 읽어오기. 커서는 다음으로 이동.\r\n",
    "print(score_file.readline(), end=\"\") \r\n",
    "print(score_file.readline(), end=\"\") \r\n",
    "print(score_file.readline()) \r\n",
    "print(score_file.readline()) \r\n",
    "\r\n",
    "\r\n",
    "score_file.close()"
   ],
   "outputs": [
    {
     "output_type": "stream",
     "name": "stdout",
     "text": [
      "수학 : 0\n",
      "영어 : 50\n",
      "과학 : 80\n",
      "\n",
      "코딩 : 110\n"
     ]
    }
   ],
   "metadata": {}
  },
  {
   "cell_type": "code",
   "execution_count": 3,
   "source": [
    "#몇 줄 인지 모르는 경우.\r\n",
    "score_file = open(\"score.txt\", \"r\", encoding=\"utf8\")  #r. read. 읽어오는 용도\r\n",
    "while True:\r\n",
    "    line = score_file.readline()\r\n",
    "    if not line:\r\n",
    "        break\r\n",
    "\r\n",
    "    print(line, end=\"\")\r\n",
    "\r\n",
    "score_file.close()"
   ],
   "outputs": [
    {
     "output_type": "stream",
     "name": "stdout",
     "text": [
      "수학 : 0\n",
      "영어 : 50\n",
      "과학 : 80\n",
      "코딩 : 110"
     ]
    }
   ],
   "metadata": {}
  },
  {
   "cell_type": "code",
   "execution_count": 5,
   "source": [
    "#readlines => 리스트로 저장하는 것이 중요하다\r\n",
    "score_file = open(\"score.txt\", \"r\", encoding=\"utf8\")  #r. read. 읽어오는 용도\r\n",
    "lines = score_file.readlines()  #모든 line을 가져와서 list형태로 저장\r\n",
    "print(lines)  #=> \\n도 같이 묻어 나온다.\r\n",
    "\r\n",
    "for line in lines:\r\n",
    "    print(line, end=\"\")\r\n",
    "\r\n",
    "score_file.close()"
   ],
   "outputs": [
    {
     "output_type": "stream",
     "name": "stdout",
     "text": [
      "['수학 : 0\\n', '영어 : 50\\n', '과학 : 80\\n', '코딩 : 110']\n",
      "수학 : 0\n",
      "영어 : 50\n",
      "과학 : 80\n",
      "코딩 : 110"
     ]
    }
   ],
   "metadata": {}
  },
  {
   "cell_type": "code",
   "execution_count": 10,
   "source": [
    "#124쪽 응용해보기\r\n",
    "f = open(\"score.txt\", \"r\", encoding=\"utf8\")  #r. read. 읽어오는 용도\r\n",
    "t = f.read()\r\n",
    "print(t) \r\n",
    "\r\n",
    "score_file.close()\r\n",
    "\r\n",
    "'''  => read를 썼으므로 그냥 다 불러온다. \r\n",
    "수학 : 0\r\n",
    "영어 : 50\r\n",
    "과학 : 80\r\n",
    "코딩 : 110\r\n",
    "'''"
   ],
   "outputs": [
    {
     "output_type": "stream",
     "name": "stdout",
     "text": [
      "수학 : 0\n",
      "영어 : 50\n",
      "과학 : 80\n",
      "코딩 : 110\n"
     ]
    },
    {
     "output_type": "execute_result",
     "data": {
      "text/plain": [
       "'\\n수학 : 0\\n영어 : 50\\n과학 : 80\\n코딩 : 110'"
      ]
     },
     "metadata": {},
     "execution_count": 10
    }
   ],
   "metadata": {}
  },
  {
   "cell_type": "code",
   "execution_count": 9,
   "source": [
    "f = open(\"score.txt\", \"r\", encoding=\"utf8\")  #r. read. 읽어오는 용도\r\n",
    "t = f.read().splitlines() \r\n",
    "print(t)  #=> read를 써서 다 불러온 것을, splitlines()를 사용해서 ['수학 : 0', '영어 : 50', '과학 : 80', '코딩 : 110']로 변경"
   ],
   "outputs": [
    {
     "output_type": "stream",
     "name": "stdout",
     "text": [
      "['수학 : 0', '영어 : 50', '과학 : 80', '코딩 : 110']\n"
     ]
    }
   ],
   "metadata": {}
  },
  {
   "cell_type": "code",
   "execution_count": null,
   "source": [],
   "outputs": [],
   "metadata": {}
  }
 ]
}