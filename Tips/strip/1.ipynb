{
 "cells": [
  {
   "cell_type": "code",
   "execution_count": 4,
   "source": [
    "#lstrip() : 문자열의 왼쪽에 있는 공백을 제거\r\n",
    "# lstrip() : Removes all leading whitespace in string\r\n",
    "\r\n",
    "b = '      I Love Python'\r\n",
    "c =b.lstrip()\r\n",
    "print(c)\r\n",
    "\r\n",
    "#I Love Python"
   ],
   "outputs": [
    {
     "output_type": "stream",
     "name": "stdout",
     "text": [
      "I Love Python\n"
     ]
    }
   ],
   "metadata": {}
  },
  {
   "cell_type": "code",
   "execution_count": 2,
   "source": [
    "#rstrip() : 문자열의 오른쪽에 있는 공백을 제거\r\n",
    "# rstrip() : Removes all trailing whitespace of string\r\n",
    "\r\n",
    "c = 'I Love Python      '\r\n",
    "d = c.rstrip()\r\n",
    "print(d)\r\n",
    "\r\n",
    "#I Love Python"
   ],
   "outputs": [
    {
     "output_type": "stream",
     "name": "stdout",
     "text": [
      "I Love Python\n"
     ]
    },
    {
     "output_type": "execute_result",
     "data": {
      "text/plain": [
       "'I Love Python'"
      ]
     },
     "metadata": {},
     "execution_count": 2
    }
   ],
   "metadata": {}
  },
  {
   "cell_type": "code",
   "execution_count": 3,
   "source": [
    "#strip() : 문자열의 양쪽에 있는 공백을 제거\r\n",
    "\r\n",
    "a = '     I Love Python     '.strip()\r\n",
    "print(a)\r\n",
    "\r\n",
    "#I Love Python\r\n"
   ],
   "outputs": [
    {
     "output_type": "stream",
     "name": "stdout",
     "text": [
      "I Love Python\n"
     ]
    },
    {
     "output_type": "execute_result",
     "data": {
      "text/plain": [
       "'I Love Python'"
      ]
     },
     "metadata": {},
     "execution_count": 3
    }
   ],
   "metadata": {}
  },
  {
   "cell_type": "code",
   "execution_count": null,
   "source": [
    "'''\r\n",
    "저번에 money.txt 파일을 읽어와 출력해보는 실습을 하였는데,\r\n",
    "출력부분에 보면,\r\n",
    "한줄이 나오면, 그다음한줄은 비어있고, 다시 한줄이 나오고, 또 그아래는 비어있고..\r\n",
    "띄엄띄엄 나오는 것을 볼 수 있는데\r\n",
    "\r\n",
    "Python에서 엔터는 '\\n' 으로 인식하기 때문에 그렇다.\r\n",
    "\r\n",
    "즉, 6월1일: 10000\\n 을 입력한것이 된것.\r\n",
    "\r\n",
    "\\n은 줄바꿈 기능을 가지는데, 여기서 엔터를 한번, print문이 엔터를 한번 더 치기 때문에,\r\n",
    "\r\n",
    "사이사이에 공백이 생기는 것이다.\r\n",
    "\r\n",
    "*이 빈줄들을 없애려면 어떻게 해야하는가?\r\n",
    "\r\n",
    "설명하기전에 whitespace라는 개념을 알고 넘어가도록 하자\r\n",
    "\r\n",
    "whitespace란, 띄어쓰기(' '), 탭('\\t'), 엔터('\\n') 까지, 포괄적으로 이야기 하는것이다.\r\n",
    "\r\n",
    "이 whitespace를 제거하기 위해선, strip 함수를 사용하면 된다.\r\n",
    "\r\n",
    "문자열의 끝에 .strip()을 붙이면,\r\n",
    "\r\n",
    "문자열의 '맨앞'과, '맨뒤' 의 whitespace가 제거가 된다. 단, 중간중간의 whitespace는 제거가 되지 않는다.\r\n",
    "\r\n",
    "\r\n",
    "in_file = open('money.txt', 'r')\r\n",
    " \r\n",
    "for line in in_file:\r\n",
    "    print(line.strip())\r\n",
    " \r\n",
    "in_file.close()\r\n",
    "\r\n",
    "line.strip()으로 화이트 스페이스를 없앤 문자열을 출력하도록 수정하였다.\r\n",
    "\r\n",
    "성공적으로 whitespace가 제거되어, 출력되는것을 확인할 수 있다.\r\n",
    "\r\n",
    "\r\n",
    "출처: https://yeonkevin.tistory.com/85 [Alea iacta est]\r\n",
    "'''"
   ],
   "outputs": [],
   "metadata": {}
  }
 ],
 "metadata": {
  "orig_nbformat": 4,
  "language_info": {
   "name": "python",
   "version": "3.8.8",
   "mimetype": "text/x-python",
   "codemirror_mode": {
    "name": "ipython",
    "version": 3
   },
   "pygments_lexer": "ipython3",
   "nbconvert_exporter": "python",
   "file_extension": ".py"
  },
  "kernelspec": {
   "name": "python3",
   "display_name": "Python 3.8.8 64-bit ('base': conda)"
  },
  "interpreter": {
   "hash": "fa422f78b08b4ed23ea77d9d51ba71e035ebabb7673f323e99ba8b680a1634b6"
  }
 },
 "nbformat": 4,
 "nbformat_minor": 2
}