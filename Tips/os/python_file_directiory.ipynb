{
 "metadata": {
  "language_info": {
   "codemirror_mode": {
    "name": "ipython",
    "version": 3
   },
   "file_extension": ".py",
   "mimetype": "text/x-python",
   "name": "python",
   "nbconvert_exporter": "python",
   "pygments_lexer": "ipython3",
   "version": "3.7.6"
  },
  "orig_nbformat": 4,
  "kernelspec": {
   "name": "python3",
   "display_name": "Python 3.7.6 64-bit ('cpv': conda)"
  },
  "interpreter": {
   "hash": "e25e0584590c458883016a89e0cf53be7d76548718d22946ce414c44a74f5c84"
  }
 },
 "nbformat": 4,
 "nbformat_minor": 2,
 "cells": [
  {
   "cell_type": "code",
   "execution_count": 1,
   "metadata": {},
   "outputs": [
    {
     "output_type": "execute_result",
     "data": {
      "text/plain": [
       "'\\n\\n현재 작업 폴더 얻기\\tos.getcwd() => \"C:\\\\Temp\"\\n\\n디렉토리 변경\\tos.chdir(\"C:\\\\Tmp\")\\n\\n특정 경로에 대해 절대 경로 얻기\\tos.path.abspath(\".\\\\Scripts\")  => \"C:\\\\Python35\\\\Scripts\"\\n\\n경로 중 디렉토리명만 얻기\\tos.path.dirname(\"C:/Python35/Scripts/pip.exe\")  => \"C:/Python35/Scripts\"\\n\\n경로 중 파일명만 얻기\\tif os.path.isfile(\"C:/Python35/Scripts/pip.exe\"):\\n   print(os.path.basename(\"C:/Python35/Scripts/pip.exe\"))                 => \"pip.exe\"\\n\\n\\n경로 중 디렉토리명과 파일명을 나누어 얻기\\tdir, file = os.path.split(\"C:/Python35/Scripts/pip.exe\")\\n\\n파일 각 경로를 나눠 리스트로 리턴하기      \"C:\\\\Python35\\\\Scripts\\\\pip.exe\".split(os.path.sep)  # [\\'C:\\', \\'Python35\\', \\'Scripts\\', \\'pip.exe\\']\\nos.path.sep은 OS별 경로 분리자\\t\\n\\n경로를 병합하여 새 경로 생성\\tos.path.join(\\'C:\\\\Tmp\\', \\'a\\', \\'b\\')  # \"C:\\\\Tmp\\x07\\x08\"\\n\\n디렉토리 안의 파일/서브디렉토리 리스트\\tos.listdir(\"C:\\\\Python35\")\\n\\n파일 혹은 디렉토리 경로가 존재하는지 체크하기\\tos.path.exists(\"C:\\\\Python35\")\\n\\n디렉토리 경로가 존재하는지 체크하기\\tos.path.isdir(\"C:\\\\Python35\")\\n\\n파일 경로가 존재하는지 체크하기\\tos.path.isfile(\"C:\\\\Python35\\\\python.exe\")\\n\\n파일의 크기\\tos.path.getsize(\"C:\\\\Python35\\\\python.exe\")\\n'"
      ]
     },
     "metadata": {},
     "execution_count": 1
    }
   ],
   "source": [
    "'''\n",
    "\n",
    "현재 작업 폴더 얻기\tos.getcwd() => \"C:\\Temp\"\n",
    "\n",
    "디렉토리 변경\tos.chdir(\"C:\\Tmp\")\n",
    "\n",
    "특정 경로에 대해 절대 경로 얻기\tos.path.abspath(\".\\\\Scripts\")  => \"C:\\Python35\\Scripts\"\n",
    "\n",
    "경로 중 디렉토리명만 얻기\tos.path.dirname(\"C:/Python35/Scripts/pip.exe\")  => \"C:/Python35/Scripts\"\n",
    "\n",
    "경로 중 파일명만 얻기\tif os.path.isfile(\"C:/Python35/Scripts/pip.exe\"):\n",
    "   print(os.path.basename(\"C:/Python35/Scripts/pip.exe\"))                 => \"pip.exe\"\n",
    "\n",
    "\n",
    "경로 중 디렉토리명과 파일명을 나누어 얻기\tdir, file = os.path.split(\"C:/Python35/Scripts/pip.exe\")\n",
    "\n",
    "파일 각 경로를 나눠 리스트로 리턴하기      \"C:\\Python35\\Scripts\\pip.exe\".split(os.path.sep)  # ['C:', 'Python35', 'Scripts', 'pip.exe']\n",
    "os.path.sep은 OS별 경로 분리자\t\n",
    "\n",
    "경로를 병합하여 새 경로 생성\tos.path.join('C:\\Tmp', 'a', 'b')  # \"C:\\Tmp\\a\\b\"\n",
    "\n",
    "디렉토리 안의 파일/서브디렉토리 리스트\tos.listdir(\"C:\\Python35\")\n",
    "\n",
    "파일 혹은 디렉토리 경로가 존재하는지 체크하기\tos.path.exists(\"C:\\Python35\")\n",
    "\n",
    "디렉토리 경로가 존재하는지 체크하기\tos.path.isdir(\"C:\\Python35\")\n",
    "\n",
    "파일 경로가 존재하는지 체크하기\tos.path.isfile(\"C:\\Python35\\python.exe\")\n",
    "\n",
    "파일의 크기\tos.path.getsize(\"C:\\Python35\\python.exe\")\n",
    "'''"
   ]
  },
  {
   "cell_type": "code",
   "execution_count": null,
   "metadata": {},
   "outputs": [],
   "source": [
    "https://yganalyst.github.io/data_handling/memo_1/\n",
    "\n",
    "https://itmining.tistory.com/122\n",
    "\n",
    "http://pythonstudy.xyz/python/article/507-%ED%8C%8C%EC%9D%BC%EA%B3%BC-%EB%94%94%EB%A0%89%ED%86%A0%EB%A6%AC"
   ]
  }
 ]
}