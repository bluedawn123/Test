{
 "cells": [
  {
   "cell_type": "code",
   "execution_count": 13,
   "source": [
    "def arg(*args):\r\n",
    "    print(f\"len of args: {len(args)}\")\r\n",
    "    for item in args:\r\n",
    "        print(item)\r\n",
    "\r\n",
    "  \r\n",
    "arg(\"args1\", \"dfsf\", \"dfsfs\")  #len of args: 1\r\n",
    "\r\n"
   ],
   "outputs": [
    {
     "output_type": "stream",
     "name": "stdout",
     "text": [
      "len of args: 3\n",
      "args1\n",
      "dfsf\n",
      "dfsfs\n"
     ]
    }
   ],
   "metadata": {}
  },
  {
   "cell_type": "code",
   "execution_count": 10,
   "source": [
    "def kwarg(**kwargs):\r\n",
    "    print(f\"len of args: {len(kwargs)}\")\r\n",
    "\r\n",
    "    for key, value in kwargs.items():\r\n",
    "        print(f\"key:{key}, value : {value}\")\r\n",
    "\r\n",
    "kwarg(args1=\"good love\", args2=\"kill you\", adfsf=\"dfdf\")"
   ],
   "outputs": [
    {
     "output_type": "stream",
     "name": "stdout",
     "text": [
      "len of args: 3\n",
      "key:args1, value : good love\n",
      "key:args2, value : kill you\n",
      "key:adfsf, value : dfdf\n"
     ]
    }
   ],
   "metadata": {}
  },
  {
   "cell_type": "code",
   "execution_count": 15,
   "source": [
    "def decofunc(func):\r\n",
    "    def wap(*args, **kwargs):\r\n",
    "        print(\"my pre-process\")\r\n",
    "        print(func(*args, **kwargs))\r\n",
    "        print(\"my post-process\")\r\n",
    "    \r\n",
    "    return wap\r\n",
    "\r\n",
    "@decofunc\r\n",
    "def demo():\r\n",
    "    print(\"i am junho\")\r\n",
    "\r\n",
    "demo()\r\n"
   ],
   "outputs": [],
   "metadata": {}
  },
  {
   "cell_type": "code",
   "execution_count": null,
   "source": [],
   "outputs": [],
   "metadata": {}
  }
 ],
 "metadata": {
  "orig_nbformat": 4,
  "language_info": {
   "name": "python",
   "version": "3.8.8",
   "mimetype": "text/x-python",
   "codemirror_mode": {
    "name": "ipython",
    "version": 3
   },
   "pygments_lexer": "ipython3",
   "nbconvert_exporter": "python",
   "file_extension": ".py"
  },
  "kernelspec": {
   "name": "python3",
   "display_name": "Python 3.8.8 64-bit ('base': conda)"
  },
  "interpreter": {
   "hash": "fa422f78b08b4ed23ea77d9d51ba71e035ebabb7673f323e99ba8b680a1634b6"
  }
 },
 "nbformat": 4,
 "nbformat_minor": 2
}