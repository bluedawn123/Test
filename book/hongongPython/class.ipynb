{
 "metadata": {
  "language_info": {
   "codemirror_mode": {
    "name": "ipython",
    "version": 3
   },
   "file_extension": ".py",
   "mimetype": "text/x-python",
   "name": "python",
   "nbconvert_exporter": "python",
   "pygments_lexer": "ipython3",
   "version": "3.7.6-final"
  },
  "orig_nbformat": 2,
  "kernelspec": {
   "name": "python3",
   "display_name": "Python 3.7.6 64-bit ('cpv': conda)",
   "metadata": {
    "interpreter": {
     "hash": "e25e0584590c458883016a89e0cf53be7d76548718d22946ce414c44a74f5c84"
    }
   }
  }
 },
 "nbformat": 4,
 "nbformat_minor": 2,
 "cells": [
  {
   "cell_type": "code",
   "execution_count": 2,
   "metadata": {},
   "outputs": [
    {
     "output_type": "stream",
     "name": "stdout",
     "text": [
      "윤준호\n125\n"
     ]
    }
   ],
   "source": [
    "class Student:\n",
    "    def __init__(self, name, korean, math, english, science):\n",
    "        self.name = name\n",
    "        self.korean = korean\n",
    "        self.math = math\n",
    "        self.english = english\n",
    "        self.science = science\n",
    "\n",
    "students = [\n",
    "    Student(\"윤준호\", 88, 25, 15, 95),\n",
    "    Student(\"준호\", 18, 125, 155, 95),\n",
    "    Student(\"호\", 658, 95, 25, 95),\n",
    "\n",
    "]\n",
    "\n",
    "#인스턴스 속성에 접근\n",
    "print(students[0].name)\n",
    "print(students[1].math)"
   ]
  },
  {
   "cell_type": "code",
   "execution_count": null,
   "metadata": {},
   "outputs": [],
   "source": [
    "#방법1\n",
    "class Student:\n",
    "    def __init__(self, name, korean, math, english, science):\n",
    "        self.name = name\n",
    "        self.korean = korean\n",
    "        self.math = math\n",
    "        self.english = english\n",
    "        self.science = science\n",
    "        \n",
    "    def get_sum(self):\n",
    "        return self.korean + self.math + \\\n",
    "            self.english + self.science\n",
    "\n",
    "    def get_average(self):\n",
    "        return self.get_sum() / 4\n",
    "    \n",
    "    def to_string(self):\n",
    "        return \"{}\\t{}\\t{}\".format(\\self.name,\\self.get_sum(),\\self.get_average())\n"
   ]
  }
 ]
}