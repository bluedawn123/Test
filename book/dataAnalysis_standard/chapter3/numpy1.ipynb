{
 "metadata": {
  "language_info": {
   "codemirror_mode": {
    "name": "ipython",
    "version": 3
   },
   "file_extension": ".py",
   "mimetype": "text/x-python",
   "name": "python",
   "nbconvert_exporter": "python",
   "pygments_lexer": "ipython3",
   "version": "3.7.6"
  },
  "orig_nbformat": 4,
  "kernelspec": {
   "name": "python3",
   "display_name": "Python 3.7.6 64-bit ('cpv': conda)"
  },
  "interpreter": {
   "hash": "e25e0584590c458883016a89e0cf53be7d76548718d22946ce414c44a74f5c84"
  }
 },
 "nbformat": 4,
 "nbformat_minor": 2,
 "cells": [
  {
   "cell_type": "code",
   "execution_count": 1,
   "metadata": {},
   "outputs": [],
   "source": [
    "#1차원 배열 = 벡터, 2차원 이상 배열 = 매트릭스\n",
    "#파이썬에서는 리스트를 이용해 유사 배열을 만드는 반면 넘파이에서는 array()함수를 사용해 리스트로 배열 생성\n",
    "\n",
    "#★★리스트 데이터를 입력해 처리한 결과가 넘파이 배열이며 이것은 ndarray객체. 즉 파이썬 데이터 타입인 리스트 데이터를 입력하여 넘파이 배열을 생성하는 형태\n",
    "\n",
    "#페이지 44~51"
   ]
  },
  {
   "cell_type": "code",
   "execution_count": 3,
   "metadata": {},
   "outputs": [
    {
     "output_type": "stream",
     "name": "stdout",
     "text": [
      "[0.  2.  5.5 7. ]\n(4,)\n"
     ]
    }
   ],
   "source": [
    "import numpy as np\n",
    "\n",
    "arr1 = np.array([0, 2, 5.5, 7])  #매개변수 데이터는 리스트형\n",
    "print(arr1)                      #[0.  2.  5.5 7. ]\n",
    "print(arr1.shape)                #(4,) 1차원 배열\n",
    "#매개변수로 입력되는 데이터가 리스트형"
   ]
  },
  {
   "cell_type": "code",
   "execution_count": 6,
   "metadata": {},
   "outputs": [
    {
     "output_type": "stream",
     "name": "stdout",
     "text": [
      "[[1 2 3]\n [4 5 6]]\n(2, 3)\narr2[0,2] :  3\n"
     ]
    }
   ],
   "source": [
    "import numpy as np\n",
    "\n",
    "arr2 = np.array([[1,2,3], [4,5,6]])\n",
    "print(arr2)\n",
    "'''\n",
    "[[1 2 3]\n",
    " [4 5 6]]\n",
    " '''\n",
    " \n",
    "print(arr2.shape)                   #(2, 3) 2차원 배열. 2는 행, 3은 열 의미\n",
    "print(\"arr2[0,2] : \", arr2[0, 2])   #=>3\n",
    " \n",
    "#arr2[0,2] => 0은 리스트 데이터의 [1, 2, 3]이고, 2는 [1,2,3]중 세번째인 3의미"
   ]
  },
  {
   "cell_type": "code",
   "execution_count": 8,
   "metadata": {},
   "outputs": [
    {
     "output_type": "stream",
     "name": "stdout",
     "text": [
      "arr :  [0. 0. 0. 0. 0.]\narr.shape :  (5,)\nfloat64\n"
     ]
    }
   ],
   "source": [
    "#배열 생성 함수\n",
    "#1. numpy.zeros() 함수는 0으로 채워지는 배열 생성\n",
    "arr = np.zeros(5)\n",
    "print(\"arr : \", arr)   #[0. 0. 0. 0. 0.]\n",
    "\n",
    "#2. shape와 dtype은 ndarray 객체의 속성\n",
    "print(\"arr.shape : \", arr.shape)      #(5, )  => 1차원 배열이면서 요소가 5개 의미\n",
    "print(arr.dtype)                      #dtype('float64)  => 배열 요소의 데이터 타입이 float64의미"
   ]
  },
  {
   "cell_type": "code",
   "execution_count": 11,
   "metadata": {},
   "outputs": [
    {
     "output_type": "stream",
     "name": "stdout",
     "text": [
      "[[0. 0.]\n [0. 0.]\n [0. 0.]\n [0. 0.]\n [0. 0.]\n [0. 0.]]\n[[0. 0.]\n [1. 1.]\n [2. 2.]\n [3. 3.]\n [4. 4.]\n [5. 5.]]\n"
     ]
    }
   ],
   "source": [
    "# zero()\n",
    "# zero(), ones(), empty() 함수는 배열 초기화 하는데 유용\n",
    "arr = np.zeros(shape=(6,2 ))\n",
    "print(arr)\n",
    "'''\n",
    "[[0. 0.]\n",
    " [0. 0.]\n",
    " [0. 0.]\n",
    " [0. 0.]\n",
    " [0. 0.]\n",
    " [0. 0.]]\n",
    " '''\n",
    "\n",
    "for i in range(6):\n",
    "    arr[i] = (i, i)\n",
    "arr\n",
    "\n",
    "print(arr)\n",
    "'''\n",
    "[[0. 0.]\n",
    " [1. 1.]\n",
    " [2. 2.]\n",
    " [3. 3.]\n",
    " [4. 4.]\n",
    " [5. 5.]]\n",
    " '''"
   ]
  },
  {
   "cell_type": "code",
   "execution_count": 20,
   "metadata": {},
   "outputs": [
    {
     "output_type": "execute_result",
     "data": {
      "text/plain": [
       "array([[1., 1., 1., 1.],\n",
       "       [1., 1., 1., 1.],\n",
       "       [1., 1., 1., 1.]])"
      ]
     },
     "metadata": {},
     "execution_count": 20
    }
   ],
   "source": [
    "#one() => 값이 1로 채워지는 배열\n",
    "#튜플형, 정수 가능\n",
    "np.ones((3, 4))\n",
    "'''\n",
    "array([[1., 1., 1., 1.],\n",
    "       [1., 1., 1., 1.],\n",
    "       [1., 1., 1., 1.]])\n",
    "       '''"
   ]
  },
  {
   "cell_type": "code",
   "execution_count": 21,
   "metadata": {},
   "outputs": [
    {
     "output_type": "execute_result",
     "data": {
      "text/plain": [
       "array([[ -54638260, 1114671495],\n",
       "       [1264038849, 1325077918]])"
      ]
     },
     "metadata": {},
     "execution_count": 21
    }
   ],
   "source": [
    "#numpy.empty()   => 주어진 shape와 타입의 배열 생성\n",
    "#정수 혹은 튜플형 가능\n",
    "np.empty((2, 2), dtype=int)\n",
    "'''\n",
    "array([[ -54638260, 1114671495],\n",
    "       [1264038849, 1325077918]])\n",
    "       '''\n"
   ]
  },
  {
   "cell_type": "code",
   "execution_count": 41,
   "metadata": {},
   "outputs": [
    {
     "output_type": "execute_result",
     "data": {
      "text/plain": [
       "array([[0., 1., 0.],\n",
       "       [0., 0., 1.],\n",
       "       [0., 0., 0.]])"
      ]
     },
     "metadata": {},
     "execution_count": 41
    }
   ],
   "source": [
    "#numpy.eye()   => 대각선은 1, 그 밖은 0\n",
    "np.eye(3,2 , dtype=int)\n",
    "\n",
    "#k입력\n",
    "#k=1 이면 1단계 위로 1 배치되고 k=-2면 대각선 기준 2단계 아래로 1이 배치\n",
    "np.eye(3, k=1)\n"
   ]
  },
  {
   "cell_type": "code",
   "execution_count": 47,
   "metadata": {},
   "outputs": [
    {
     "output_type": "execute_result",
     "data": {
      "text/plain": [
       "array([2. , 2.2, 2.4, 2.6, 2.8])"
      ]
     },
     "metadata": {},
     "execution_count": 47
    }
   ],
   "source": [
    "#numpy.linspace()   => 명시된 간격으로 균등하게 분할된 값 반환\n",
    "np.linspace(2.0, 3.0, num=5)  #array([2. ,2.25,2.5 ,2.75, 3.])시작2, 끝3이면서 간격을 5개 값으로 균등분할\n",
    "\n",
    "np.linspace(2.0, 3.0, num=5, endpoint=False)    #끝 값만 포함 ㄴㄴ  array([2. , 2.2, 2.4, 2.6, 2.8])"
   ]
  },
  {
   "cell_type": "code",
   "execution_count": 52,
   "metadata": {},
   "outputs": [
    {
     "output_type": "stream",
     "name": "stdout",
     "text": [
      "[3 4 5 6 7]\n"
     ]
    }
   ],
   "source": [
    "#numpy.arange()   => 시작값 포함, 끝값 포함 x\n",
    "\n",
    "arr1 = np.arange(5)      #[0 1 2 3 4]\n",
    "arr2 = np.arange(3, 8)   #[3 4 5 6 7]\n"
   ]
  },
  {
   "cell_type": "code",
   "execution_count": 55,
   "metadata": {},
   "outputs": [
    {
     "output_type": "execute_result",
     "data": {
      "text/plain": [
       "array([[ 0.,  0.],\n",
       "       [ 1.,  1.],\n",
       "       [10., 10.],\n",
       "       [ 3.,  3.],\n",
       "       [ 4.,  4.],\n",
       "       [ 5.,  5.]])"
      ]
     },
     "metadata": {},
     "execution_count": 55
    }
   ],
   "source": [
    "arr[2] = 10\n",
    "arr"
   ]
  },
  {
   "cell_type": "code",
   "execution_count": 82,
   "metadata": {},
   "outputs": [
    {
     "output_type": "stream",
     "name": "stdout",
     "text": [
      "arr1 :  [ 0  1  2  3  4  5  6  7  8  9 10 11]\narr2 :  [[ 0  1  2  3]\n [ 4  5  6  7]\n [ 8  9 10 11]]\narr3 :  [ 0  1  2  3  4  5  6  7  8  9 10 11]\narr4 :  [[ 0]\n [ 1]\n [ 2]\n [ 3]\n [ 4]\n [ 5]\n [ 6]\n [ 7]\n [ 8]\n [ 9]\n [10]\n [11]]\narr5 :  [[ 0  1  2  3]\n [ 4  5  6  7]\n [ 8  9 10 11]]\n"
     ]
    },
    {
     "output_type": "execute_result",
     "data": {
      "text/plain": [
       "'\\narr5 :  [[ 0  1  2  3]\\n [ 4  5  6  7]\\n [ 8  9 10 11]]\\n'"
      ]
     },
     "metadata": {},
     "execution_count": 82
    }
   ],
   "source": [
    "#reshape\n",
    "arr1 = np.arange(12)\n",
    "print(\"arr1 : \", arr1)         #[ 0  1  2  3  4  5  6  7  8  9 10 11]\n",
    "\n",
    "arr2 = arr1.reshape(3, 4)\n",
    "print(\"arr2 : \", arr2)\n",
    "'''[[ 0  1  2  3]\n",
    " [ 4  5  6  7]\n",
    " [ 8  9 10 11]]\n",
    "'''\n",
    "\n",
    "#reshape()에 -1넣으면 다차원 배열을 1차원으로 변경\n",
    "arr3 = arr2.reshape(-1)\n",
    "print(\"arr3 : \", arr3)         #[ 0  1  2  3  4  5  6  7  8  9 10 11]   #ravel() 함수와 유사\n",
    "\n",
    "#reshape(, )\n",
    "arr4 = arr3.reshape(-1, 1)   # -1은 알수 없음을 의미. -1, 1은 행은 알수 없고 열은 1열로 하라는 것\n",
    "                             # 3, -1은 행을 3열로 열은 알 수 없음으로 생성하라는 의미\n",
    "'''\n",
    "array([[ 0],\n",
    "       [ 1],\n",
    "       [ 2],\n",
    "       [ 3],\n",
    "       [ 4],\n",
    "       [ 5],\n",
    "       [ 6],\n",
    "       [ 7],\n",
    "       [ 8],\n",
    "       [ 9],\n",
    "       [10],\n",
    "       [11]])\n",
    "    '''\n",
    "print(\"arr4 : \", arr4)\n",
    "\n",
    "arr5 = arr3.reshape(3, -1)   # 3, -1은 행을 3열로 열은 알 수 없음으로 생성하라는 의미\n",
    "print(\"arr5 : \", arr5)\n",
    "'''\n",
    "arr5 :  [[ 0  1  2  3]\n",
    " [ 4  5  6  7]\n",
    " [ 8  9 10 11]]\n",
    "'''"
   ]
  },
  {
   "cell_type": "code",
   "execution_count": 85,
   "metadata": {},
   "outputs": [
    {
     "output_type": "stream",
     "name": "stdout",
     "text": [
      "arr1 :  [[[ 0  1  2  3]\n  [ 4  5  6  7]\n  [ 8  9 10 11]]\n\n [[12 13 14 15]\n  [16 17 18 19]\n  [20 21 22 23]]]\n"
     ]
    },
    {
     "output_type": "execute_result",
     "data": {
      "text/plain": [
       "'[[[ 0  1  2  3]\\n  [ 4  5  6  7]\\n  [ 8  9 10 11]]\\n\\n [[12 13 14 15]\\n  [16 17 18 19]\\n  [20 21 22 23]]]'"
      ]
     },
     "metadata": {},
     "execution_count": 85
    }
   ],
   "source": [
    "###3차원 배열 생성\n",
    "###reshape(면, 행, 열)\n",
    "arr1 = np.arange(24).reshape(2, 3, 4)\n",
    "print(\"arr1 : \", arr1)\n",
    "'''[[[ 0  1  2  3]\n",
    "  [ 4  5  6  7]\n",
    "  [ 8  9 10 11]]\n",
    "\n",
    " [[12 13 14 15]\n",
    "  [16 17 18 19]\n",
    "  [20 21 22 23]]]   => 가장 바깥쪽 대괄호2면 안에 3행이 있고 각 행 안에 4개의 열이 있는 구조'''"
   ]
  },
  {
   "cell_type": "code",
   "execution_count": null,
   "metadata": {},
   "outputs": [],
   "source": []
  }
 ]
}