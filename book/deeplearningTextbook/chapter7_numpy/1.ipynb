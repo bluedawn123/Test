{
 "metadata": {
  "language_info": {
   "codemirror_mode": {
    "name": "ipython",
    "version": 3
   },
   "file_extension": ".py",
   "mimetype": "text/x-python",
   "name": "python",
   "nbconvert_exporter": "python",
   "pygments_lexer": "ipython3",
   "version": "3.7.6"
  },
  "orig_nbformat": 4,
  "kernelspec": {
   "name": "python3",
   "display_name": "Python 3.7.6 64-bit ('cpv': conda)"
  },
  "interpreter": {
   "hash": "e25e0584590c458883016a89e0cf53be7d76548718d22946ce414c44a74f5c84"
  }
 },
 "nbformat": 4,
 "nbformat_minor": 2,
 "cells": [
  {
   "cell_type": "code",
   "execution_count": 1,
   "metadata": {},
   "outputs": [],
   "source": [
    "#페이지183 - "
   ]
  },
  {
   "cell_type": "code",
   "execution_count": 2,
   "metadata": {},
   "outputs": [
    {
     "output_type": "stream",
     "name": "stdout",
     "text": [
      "[2, 4, 6, 8]\n"
     ]
    }
   ],
   "source": [
    "#7-7 넘파이를 사용하지 않고 리스트를 사용한 경우\n",
    "storages = [1,2,3,4]\n",
    "new_s = []\n",
    "\n",
    "for n in storages:\n",
    "    n = n+n\n",
    "    new_s.append(n)\n",
    "\n",
    "print(new_s)     #[2, 4, 6, 8]"
   ]
  },
  {
   "cell_type": "code",
   "execution_count": 3,
   "metadata": {},
   "outputs": [
    {
     "output_type": "stream",
     "name": "stdout",
     "text": [
      "[2 4 6 8]\n"
     ]
    }
   ],
   "source": [
    "#7-8 넘파이 사용\n",
    "import numpy as np\n",
    "\n",
    "st = np.array([1,2,3,4])\n",
    "st = st + st\n",
    "print(st)"
   ]
  },
  {
   "cell_type": "code",
   "execution_count": 6,
   "metadata": {},
   "outputs": [
    {
     "output_type": "stream",
     "name": "stdout",
     "text": [
      "[0 1 2 3 4 5 6 7 8 9]\n[0 1 2]\n[4 4 4 3 4 5 6 7 8 9]\n"
     ]
    }
   ],
   "source": [
    "#7.2.4. 인덱스 참조와 슬라이스\n",
    "#리스트 슬라이스. 리스트는 첫 시작이 0부터이고 마지막 포함 ㄴㄴ\n",
    "\n",
    "a = np.arange(10)\n",
    "print(a)     #[0 1 2 3 4 5 6 7 8 9]\n",
    "\n",
    "c = a[0:3]   #[0 1 2]\n",
    "print(c)\n",
    "\n",
    "a[0:3] = 4   #[4 4 4 3 4 5 6 7 8 9]\n",
    "print(a)"
   ]
  },
  {
   "cell_type": "code",
   "execution_count": null,
   "metadata": {},
   "outputs": [],
   "source": [
    "#192 - 201쪽 추후에 다시 볼것"
   ]
  }
 ]
}