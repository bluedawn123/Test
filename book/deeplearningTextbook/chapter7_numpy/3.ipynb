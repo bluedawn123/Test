{
 "metadata": {
  "language_info": {
   "codemirror_mode": {
    "name": "ipython",
    "version": 3
   },
   "file_extension": ".py",
   "mimetype": "text/x-python",
   "name": "python",
   "nbconvert_exporter": "python",
   "pygments_lexer": "ipython3",
   "version": "3.7.6"
  },
  "orig_nbformat": 4,
  "kernelspec": {
   "name": "python3",
   "display_name": "Python 3.7.6 64-bit ('cpv': conda)"
  },
  "interpreter": {
   "hash": "e25e0584590c458883016a89e0cf53be7d76548718d22946ce414c44a74f5c84"
  }
 },
 "nbformat": 4,
 "nbformat_minor": 2,
 "cells": [
  {
   "cell_type": "code",
   "execution_count": 1,
   "metadata": {},
   "outputs": [],
   "source": [
    "#7.3 Numpy 2차원 배열\n",
    "#page202~"
   ]
  },
  {
   "cell_type": "code",
   "execution_count": 3,
   "metadata": {},
   "outputs": [
    {
     "output_type": "stream",
     "name": "stdout",
     "text": [
      "[[1 2 3 4]\n [5 6 7 8]]\n(2, 4)\n[[1 2]\n [3 4]\n [5 6]\n [7 8]]\n"
     ]
    }
   ],
   "source": [
    "import numpy as np\n",
    "\n",
    "arr = np.array([[1,2,3,4], [5,6,7,8]])  #list를 2차원 배열로\n",
    "print(arr)\n",
    "print(arr.shape)\n",
    "\n",
    "arr2 =  arr.reshape(4,2)\n",
    "print(arr2)"
   ]
  },
  {
   "cell_type": "code",
   "execution_count": 12,
   "metadata": {},
   "outputs": [
    {
     "output_type": "stream",
     "name": "stdout",
     "text": [
      "abb 구조 :  [[1 2 3]\n [4 5 6]]\n[1 2 3]\n[4 5 6]\n6\n"
     ]
    }
   ],
   "source": [
    "abb = np.array([[1,2,3], [4,5,6]])\n",
    "print(\"abb 구조 : \", abb)\n",
    "print(abb[0])\n",
    "print(abb[1])\n",
    "print(abb[1,2])"
   ]
  },
  {
   "cell_type": "code",
   "execution_count": 19,
   "metadata": {},
   "outputs": [
    {
     "output_type": "stream",
     "name": "stdout",
     "text": [
      "[5 6]\n3\n[[4 5]\n [7 8]]\n"
     ]
    }
   ],
   "source": [
    "abb = np.array([[1,2,3], [4,5,6]])\n",
    "print(abb[1, 1:])\n",
    "\n",
    "abc = np.array([[1,2,3], [4,5,6], [7,8,9]])\n",
    "\n",
    "#3반 뽑아내기\n",
    "print(abc[0,2])\n",
    "\n",
    "#[[4 5 ]\n",
    "# # [7 9 ]] 뽑아내기\n",
    "print(abc[1:,0:2])"
   ]
  },
  {
   "cell_type": "code",
   "execution_count": 22,
   "metadata": {},
   "outputs": [
    {
     "output_type": "stream",
     "name": "stdout",
     "text": [
      "열 합 :  [5 7 9]\n행 합 :  [ 6 15]\n"
     ]
    },
    {
     "output_type": "execute_result",
     "data": {
      "text/plain": [
       "'\\n열 합 :  [5 7 9]\\n행 합 :  [ 6 15]\\n'"
      ]
     },
     "metadata": {},
     "execution_count": 22
    }
   ],
   "source": [
    "#7.3.3 Axis\n",
    "#행이 1, 열이 0\n",
    "\n",
    "abcd = np.array([[1,2,3], [4,5,6]])\n",
    "print(\"열 합 : \", abcd.sum(axis=0))\n",
    "print(\"행 합 : \", abcd.sum(axis=1))\n",
    "'''\n",
    "열 합 :  [5 7 9]\n",
    "행 합 :  [ 6 15]\n",
    "'''"
   ]
  },
  {
   "cell_type": "code",
   "execution_count": 23,
   "metadata": {},
   "outputs": [],
   "source": [
    "#7.3.4 생략"
   ]
  },
  {
   "cell_type": "code",
   "execution_count": 27,
   "metadata": {},
   "outputs": [
    {
     "output_type": "stream",
     "name": "stdout",
     "text": [
      "[[0 1 2 3 4]\n [5 6 7 8 9]]\n[[0 5]\n [1 6]\n [2 7]\n [3 8]\n [4 9]]\n"
     ]
    }
   ],
   "source": [
    "#7.3.5 전치행렬. T나 np.transpose 사용  210쪽까지.\n",
    "import numpy as np\n",
    "\n",
    "aq = np.arange(10)\n",
    "aqc = aq.reshape(2,5)\n",
    "print(aqc)\n",
    "\n",
    "aqcT = aqc.T\n",
    "print(aqcT)"
   ]
  },
  {
   "cell_type": "code",
   "execution_count": null,
   "metadata": {},
   "outputs": [],
   "source": []
  }
 ]
}