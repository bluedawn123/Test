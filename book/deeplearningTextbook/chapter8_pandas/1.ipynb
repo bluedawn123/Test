{
 "metadata": {
  "language_info": {
   "codemirror_mode": {
    "name": "ipython",
    "version": 3
   },
   "file_extension": ".py",
   "mimetype": "text/x-python",
   "name": "python",
   "nbconvert_exporter": "python",
   "pygments_lexer": "ipython3",
   "version": "3.7.6"
  },
  "orig_nbformat": 4,
  "kernelspec": {
   "name": "python3",
   "display_name": "Python 3.7.6 64-bit ('cpv': conda)"
  },
  "interpreter": {
   "hash": "e25e0584590c458883016a89e0cf53be7d76548718d22946ce414c44a74f5c84"
  }
 },
 "nbformat": 4,
 "nbformat_minor": 2,
 "cells": [
  {
   "cell_type": "code",
   "execution_count": 1,
   "metadata": {},
   "outputs": [
    {
     "output_type": "stream",
     "name": "stdout",
     "text": [
      "orange    2\nbanana    3\ndtype: int64\n"
     ]
    }
   ],
   "source": [
    "#시리즈 데이터\n",
    "import pandas as pd\n",
    "\n",
    "fruits = {\"orange\": 2, \"banana\": 3}\n",
    "print(pd.Series(fruits))"
   ]
  },
  {
   "cell_type": "code",
   "execution_count": 5,
   "metadata": {},
   "outputs": [
    {
     "output_type": "execute_result",
     "data": {
      "text/plain": [
       "'\\n   fruits  years   time \\n0   apple    2001      1\\n1  orange    2002      4\\n2  banana    2003      5\\n3      st    2004      6\\n4    kiwi    2005     10\\n'"
      ]
     },
     "metadata": {},
     "execution_count": 5
    }
   ],
   "source": [
    "#DataFrame\n",
    "import pandas as pd\n",
    "\n",
    "data = {\"fruits\" : [\"apple\", \"orange\", \"banana\", \"st\", \"kiwi\"],         \n",
    "        \"years \" : [2001, 2002, 2003, 2004, 2005],\n",
    "        \"time \"  : [1,4,5,6,10]}\n",
    "\n",
    "df = pd.DataFrame(data)\n",
    "#print(df)\n",
    "'''\n",
    "   fruits  years   time \n",
    "0   apple    2001      1\n",
    "1  orange    2002      4\n",
    "2  banana    2003      5\n",
    "3      st    2004      6\n",
    "4    kiwi    2005     10\n",
    "'''"
   ]
  },
  {
   "cell_type": "code",
   "execution_count": 6,
   "metadata": {},
   "outputs": [
    {
     "output_type": "stream",
     "name": "stdout",
     "text": [
      "series 데이터\napple     10\norange     5\nbanana     8\nst        12\nkiwi       3\ndtype: int64\n\n\ndataFrame 데이터\n   fruits  years   time \n0   apple    2001      1\n1  orange    2002      4\n2  banana    2003      5\n3      st    2004      6\n4    kiwi    2005     10\n"
     ]
    }
   ],
   "source": [
    "#8-3\n",
    "#DataFrame\n",
    "import pandas as pd\n",
    "\n",
    "index = [\"apple\", \"orange\", \"banana\", \"st\", \"kiwi\"]      \n",
    "data = [10, 5, 8, 12, 3]\n",
    "\n",
    "series = pd.Series(data, index=index)\n",
    "data = {\"fruits\" : [\"apple\", \"orange\", \"banana\", \"st\", \"kiwi\"],         \n",
    "        \"years \" : [2001, 2002, 2003, 2004, 2005],\n",
    "        \"time \"  : [1,4,5,6,10]\n",
    "        }\n",
    "    \n",
    "df = pd.DataFrame(data)\n",
    "\n",
    "print(\"Series 데이터\")\n",
    "print(series)\n",
    "print(\"\\n\")\n",
    "print(\"dataFrame 데이터\")\n",
    "print(df)"
   ]
  },
  {
   "cell_type": "code",
   "execution_count": 7,
   "metadata": {},
   "outputs": [
    {
     "output_type": "stream",
     "name": "stdout",
     "text": [
      "banana    3\norange    2\ndtype: int64\n"
     ]
    }
   ],
   "source": [
    "#Series => 1차원 배열처럼 다룰 수 있다.\n",
    "#1. pd.Series(딕셔너리 형태) 혹은 pandas.Series(딕셔너리 형태)로 사용할 수 있다.\n",
    "#2. pd.Series(데이터 배열, index = 인덱스 배열)로도 Series 생성 가능\n",
    "\n",
    "#8-5\n",
    "import pandas as pd\n",
    "\n",
    "fruits = {\"banana\" : 3, \"orange\" : 2}\n",
    "print(pd.Series(fruits))"
   ]
  },
  {
   "cell_type": "code",
   "execution_count": 8,
   "metadata": {},
   "outputs": [
    {
     "output_type": "stream",
     "name": "stdout",
     "text": [
      "apple     10\norange     5\nbanana     8\nst        12\nkiwi       3\ndtype: int64\n"
     ]
    }
   ],
   "source": [
    "#8-6\n",
    "import pandas as pd\n",
    "\n",
    "index = [\"apple\", \"orange\", \"banana\", \"st\", \"kiwi\"]      \n",
    "data = [10, 5, 8, 12, 3]\n",
    "\n",
    "series = pd.Series(data, index=index)\n",
    "print(series)"
   ]
  },
  {
   "cell_type": "code",
   "execution_count": 11,
   "metadata": {},
   "outputs": [
    {
     "output_type": "stream",
     "name": "stdout",
     "text": [
      "banana    3\norange    4\ngrape     1\npeach     5\ndtype: int64\n[1:3슬라이싱] :  orange    4\ngrape     1\ndtype: int64\n"
     ]
    }
   ],
   "source": [
    "#8-8\n",
    "import pandas as pd\n",
    "f = {\"banana\" : 3, \"orange\" : 4, \"grape\" : 1, \"peach\" : 5}\n",
    "series = pd.Series(f)\n",
    "print(series)\n",
    "print(\"[1:3슬라이싱] : \", series[1:3])"
   ]
  },
  {
   "cell_type": "code",
   "execution_count": 14,
   "metadata": {},
   "outputs": [
    {
     "output_type": "stream",
     "name": "stdout",
     "text": [
      "Index(['apple', 'orange', 'banana', 'st', 'kiwi'], dtype='object')\n[10  5  8 12  3]\n"
     ]
    }
   ],
   "source": [
    "#8.2.3 데이터와 인덱스 추출\n",
    "import pandas as pd\n",
    "index = [\"apple\", \"orange\", \"banana\", \"st\", \"kiwi\"]      \n",
    "data = [10, 5, 8, 12, 3]\n",
    "series = pd.Series(data, index=index)\n",
    "\n",
    "#series_values에 series 데이터 입력\n",
    "series_values = series.values\n",
    "\n",
    "#series_index에 series의 인덱스 입력\n",
    "series_index = series.index\n",
    "\n",
    "print(series_index)     #Index(['apple', 'orange', 'banana', 'st', 'kiwi'], dtype='object')\n",
    "print(series_values)    #[10  5  8 12  3]"
   ]
  },
  {
   "cell_type": "code",
   "execution_count": 16,
   "metadata": {},
   "outputs": [
    {
     "output_type": "stream",
     "name": "stdout",
     "text": [
      "banana    3\norange    2\ngrape     3\ndtype: int64\n"
     ]
    },
    {
     "output_type": "execute_result",
     "data": {
      "text/plain": [
       "'\\nbanana    3\\norange    2\\ngrape     3\\ndtype: int64\\n'"
      ]
     },
     "metadata": {},
     "execution_count": 16
    }
   ],
   "source": [
    "#8.2.4 요소 추가\n",
    "#Series에 요소를 추가 하려면 해당 요소도 Series형이여야 한다. \n",
    "#추가할 요소를 Series형으로 변환 후 Series형의 append()로 전달하여 추가가능\n",
    "fruits = {\"banana\" : 3, \"orange\" : 2}\n",
    "series = pd.Series(fruits)\n",
    "series = series.append(pd.Series([3], index=[\"grape\"]))   #이건 바로 한 예이지만 효율적이지 못하다.\n",
    "\n",
    "print(series)\n",
    "'''\n",
    "banana    3\n",
    "orange    2\n",
    "grape     3\n",
    "dtype: int64\n",
    "'''"
   ]
  },
  {
   "cell_type": "code",
   "execution_count": 17,
   "metadata": {},
   "outputs": [
    {
     "output_type": "stream",
     "name": "stdout",
     "text": [
      "apple        10\norange        5\nbanana        8\nst           12\nkiwi          3\npineapple    12\ndtype: int64\n"
     ]
    }
   ],
   "source": [
    "#8-15\n",
    "import pandas as pd\n",
    "\n",
    "index = [\"apple\", \"orange\", \"banana\", \"st\", \"kiwi\"]      \n",
    "data = [10, 5, 8, 12, 3]\n",
    "\n",
    "series = pd.Series(data, index=index)\n",
    "\n",
    "#pineapple 추가\n",
    "pineapple = pd.Series([12], index = [\"pineapple\"])\n",
    "series = series.append(pineapple)\n",
    "\n",
    "print(series)\n",
    "'''\n",
    "apple        10\n",
    "orange        5\n",
    "banana        8\n",
    "st           12\n",
    "kiwi          3\n",
    "pineapple    12\n",
    "dtype: int64\n",
    "'''"
   ]
  },
  {
   "cell_type": "code",
   "execution_count": null,
   "metadata": {},
   "outputs": [],
   "source": [
    "###8.2.5(요소삭제), 8.2.6(필터링) 8.2.7(차순정리)는 생략"
   ]
  }
 ]
}