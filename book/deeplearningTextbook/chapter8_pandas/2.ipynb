{
 "metadata": {
  "language_info": {
   "codemirror_mode": {
    "name": "ipython",
    "version": 3
   },
   "file_extension": ".py",
   "mimetype": "text/x-python",
   "name": "python",
   "nbconvert_exporter": "python",
   "pygments_lexer": "ipython3",
   "version": "3.7.6"
  },
  "orig_nbformat": 4,
  "kernelspec": {
   "name": "python3",
   "display_name": "Python 3.7.6 64-bit ('cpv': conda)"
  },
  "interpreter": {
   "hash": "e25e0584590c458883016a89e0cf53be7d76548718d22946ce414c44a74f5c84"
  }
 },
 "nbformat": 4,
 "nbformat_minor": 2,
 "cells": [
  {
   "cell_type": "code",
   "execution_count": 1,
   "metadata": {},
   "outputs": [],
   "source": [
    "#8.3 DataFrame\n",
    "#DataFrame은 Series를 여러 개 묶은 2차원 데이터 구조. \n",
    "#DataFrame은 pd.DataFrame() 에 Series를 전달하여 생성가능  ex)pd.DataFrame([Series, Series, ...])"
   ]
  },
  {
   "cell_type": "code",
   "execution_count": 3,
   "metadata": {},
   "outputs": [
    {
     "output_type": "stream",
     "name": "stdout",
     "text": [
      "   fruits  years  time\n0   apple   2001     1\n1  orange   2002     4\n2  banana   2003     5\n3      st   2004     6\n4    kiwi   2005     3\n"
     ]
    }
   ],
   "source": [
    "#8-25\n",
    "import pandas as pd\n",
    "data = {\"fruits\" : [\"apple\", \"orange\", \"banana\", \"st\", \"kiwi\"],\n",
    "        \"years\" : [2001, 2002, 2003, 2004, 2005],\n",
    "        \"time\" : [1, 4, 5, 6, 3]}\n",
    "    \n",
    "df = pd.DataFrame(data)\n",
    "print(df)\n",
    "'''\n",
    " fruits  years  time\n",
    "0   apple   2001     1\n",
    "1  orange   2002     4\n",
    "2  banana   2003     5\n",
    "3      st   2004     6\n",
    "4    kiwi   2005     3\n",
    "'''"
   ]
  },
  {
   "cell_type": "code",
   "execution_count": 5,
   "metadata": {},
   "outputs": [
    {
     "output_type": "stream",
     "name": "stdout",
     "text": [
      "fruits    [apple, orange, banana, st, kiwi]\nyears        [2001, 2002, 2003, 2004, 2005]\ntime                        [1, 4, 5, 6, 3]\ndtype: object\n"
     ]
    }
   ],
   "source": [
    "#Series 와 비교를 위한 예시\n",
    "import pandas as pd\n",
    "data = {\"fruits\" : [\"apple\", \"orange\", \"banana\", \"st\", \"kiwi\"],\n",
    "        \"years\" : [2001, 2002, 2003, 2004, 2005],\n",
    "        \"time\" : [1, 4, 5, 6, 3]}\n",
    "    \n",
    "df = pd.Series(data)\n",
    "print(df)\n"
   ]
  },
  {
   "cell_type": "code",
   "execution_count": 7,
   "metadata": {},
   "outputs": [
    {
     "output_type": "stream",
     "name": "stdout",
     "text": [
      "series1 :  apple     10\norange     5\nbanana    87\nst        12\nkiwi       3\ndtype: int64\nseries2 :  apple     30\norange    25\nbanana    12\nst        10\nkiwi       8\ndtype: int64\n\n\n   apple  orange  banana  st  kiwi\n0     10       5      87  12     3\n1     30      25      12  10     8\n"
     ]
    }
   ],
   "source": [
    "#8-26. series1, series2 대입\n",
    "import pandas as pd\n",
    "\n",
    "index = [\"apple\", \"orange\", \"banana\", \"st\", \"kiwi\"]\n",
    "data1 = [10, 5, 87, 12, 3]\n",
    "data2 = [30, 25, 12, 10, 8]\n",
    "series1 = pd.Series(data1, index=index)\n",
    "series2 = pd.Series(data2, index=index)\n",
    "\n",
    "print(\"series1 : \", series1)\n",
    "print(\"series2 : \", series2)\n",
    "print(\"\\n\")\n",
    "\n",
    "df = pd.DataFrame([series1, series2])\n",
    "print(df)\n"
   ]
  },
  {
   "cell_type": "code",
   "execution_count": 12,
   "metadata": {},
   "outputs": [
    {
     "output_type": "stream",
     "name": "stdout",
     "text": [
      "   apple  orange  banana  st  kiwi\n1     10       5      87  12     3\n2     30      25      12  10     8\n"
     ]
    },
    {
     "output_type": "execute_result",
     "data": {
      "text/plain": [
       "'\\n   apple  orange  banana  st  kiwi\\n1     10       5      87  12     3\\n2     30      25      12  10     8'"
      ]
     },
     "metadata": {},
     "execution_count": 12
    }
   ],
   "source": [
    "#8.3.2 인덱스와 컬럼 설정\n",
    "#DataFrame은 0부터 오름차순으로 인덱스가 할당된다. 이를 바꾸르면, df.index = [\"name1\", \"name2\", ..] 로 설정해야\n",
    "\n",
    "#8-28\n",
    "import pandas as pd\n",
    "\n",
    "index = [\"apple\", \"orange\", \"banana\", \"st\", \"kiwi\"]\n",
    "data1 = [10, 5, 87, 12, 3]\n",
    "data2 = [30, 25, 12, 10, 8]\n",
    "series1 = pd.Series(data1, index=index)\n",
    "series2 = pd.Series(data2, index=index)\n",
    "\n",
    "#print(\"series1 : \", series1)\n",
    "#print(\"series2 : \", series2)\n",
    "#print(\"\\n\")\n",
    "\n",
    "df = pd.DataFrame([series1, series2])\n",
    "\n",
    "#df의 인덱스가 1부터 시작하도록 설정\n",
    "df.index = [1, 2]\n",
    "print(df)\n",
    "\n",
    "'''\n",
    "   apple  orange  banana  st  kiwi\n",
    "1     10       5      87  12     3\n",
    "2     30      25      12  10     8'''"
   ]
  },
  {
   "cell_type": "code",
   "execution_count": 18,
   "metadata": {},
   "outputs": [
    {
     "output_type": "stream",
     "name": "stdout",
     "text": [
      "   fruits  time\n0   apple     1\n1  orange     4\n2  banana     5\n3      st     6\n4    kiwi     3\n   fruits  time   years\n0   apple     1     NaN\n1  orange     4     NaN\n2  banana     5     NaN\n3      st     6     NaN\n4    kiwi     3     NaN\n5   mango     7  2008.0\n"
     ]
    }
   ],
   "source": [
    "#8.3.3 행추가\n",
    "#append 사용\n",
    "#8-30\n",
    "import pandas as pd\n",
    "data = {\"fruits\" : [\"apple\", \"orange\", \"banana\", \"st\", \"kiwi\"],\n",
    "        \"time\" : [1, 4, 5, 6, 3]}\n",
    "    \n",
    "df = pd.DataFrame(data)\n",
    "print(df)\n",
    "'''\n",
    "   fruits  time\n",
    "0   apple     1\n",
    "1  orange     4\n",
    "2  banana     5\n",
    "3      st     6\n",
    "4    kiwi     3''' #에서 행을 추가하고자 하는 경우\n",
    "\n",
    "series = pd.Series([\"mango\", 2008, 7], index=[\"fruits\", \"years\", \"time\"])\n",
    "\n",
    "df = df.append(series, ignore_index=True)\n",
    "print(df)"
   ]
  },
  {
   "cell_type": "code",
   "execution_count": 21,
   "metadata": {},
   "outputs": [
    {
     "output_type": "stream",
     "name": "stdout",
     "text": [
      "   apple  orange  banana  st  kiwi\n0     10       5      87  12     3\n1     30      25      12  10     8\n   apple  orange  banana  st  kiwi  pineapple\n0     10       5      87  12     3        NaN\n1     30      25      12  10     8        NaN\n2     30      12      10   8    25        3.0\n"
     ]
    }
   ],
   "source": [
    "#8-31\n",
    "import pandas as pd\n",
    "\n",
    "index = [\"apple\", \"orange\", \"banana\", \"st\", \"kiwi\"]\n",
    "data1 = [10, 5, 87, 12, 3]\n",
    "data2 = [30, 25, 12, 10, 8]\n",
    "data3 = [30, 12, 10, 8, 25, 3]\n",
    "series1 = pd.Series(data1, index=index)\n",
    "series2 = pd.Series(data2, index=index)\n",
    "\n",
    "#df에series3을 추가하고 df에 다시 대입\n",
    "\n",
    "index.append(\"pineapple\")\n",
    "series3 = pd.Series(data3, index=index)\n",
    "df = pd.DataFrame([series1, series2])\n",
    "\n",
    "print(df)\n",
    "'''   apple  orange  banana  st  kiwi\n",
    "0     10       5      87  12     3\n",
    "1     30      25      12  10     8\n",
    "'''\n",
    "df = df.append(series3, ignore_index=True)\n",
    "\n",
    "print(df)\n"
   ]
  },
  {
   "cell_type": "code",
   "execution_count": 24,
   "metadata": {},
   "outputs": [
    {
     "output_type": "stream",
     "name": "stdout",
     "text": [
      "   fruits  years  time  price\n0   apple   2001     1    150\n1  orange   2002     4    120\n2  banana   2003     5    100\n3      st   2004     6    300\n4    kiwi   2005     3    150\n"
     ]
    }
   ],
   "source": [
    "#8.3.4 열추가\n",
    "#df[\"새로운 컬럼\"] 방식\n",
    "\n",
    "import pandas as pd\n",
    "data = {\"fruits\" : [\"apple\", \"orange\", \"banana\", \"st\", \"kiwi\"],\n",
    "        \"years\" : [2001, 2002, 2003, 2004, 2005],\n",
    "        \"time\" : [1, 4, 5, 6, 3]}\n",
    "    \n",
    "df = pd.DataFrame(data)\n",
    "\n",
    "#컬럼(열 추가)\n",
    "df[\"price\"] = [150, 120, 100, 300, 150]\n",
    "print(df)"
   ]
  },
  {
   "cell_type": "code",
   "execution_count": 39,
   "metadata": {},
   "outputs": [
    {
     "output_type": "stream",
     "name": "stdout",
     "text": [
      "   apple  orange  banana  st  kiwi\n1     10       5      87  12     3\n2     30      25      12  10     8\n   apple  orange  banana  st  kiwi  mango\n1     10       5      87  12     3     15\n2     30      25      12  10     8      7\n"
     ]
    }
   ],
   "source": [
    "#8-34 열추가\n",
    "#df[\"새로운 컬럼\"] 방식\n",
    "\n",
    "import pandas as pd\n",
    "\n",
    "index = [\"apple\", \"orange\", \"banana\", \"st\", \"kiwi\"]\n",
    "data1 = [10, 5, 87, 12, 3]\n",
    "data2 = [30, 25, 12, 10, 8]\n",
    "series1 = pd.Series(data1, index=index)\n",
    "series2 = pd.Series(data2, index=index)\n",
    "\n",
    "#df에series3을 추가하고 df에 다시 대입\n",
    "new_column = pd.Series([15, 7], index=[1,2])\n",
    "\n",
    "df = pd.DataFrame([series1, series2], index=[1,2])\n",
    "\n",
    "print(df)\n",
    "\n",
    "#mango 컬럼 추가\n",
    "df[\"mango\"] = new_column\n",
    "\n",
    "print(df)"
   ]
  },
  {
   "cell_type": "code",
   "execution_count": null,
   "metadata": {},
   "outputs": [],
   "source": []
  }
 ]
}