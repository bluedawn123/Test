{
 "metadata": {
  "language_info": {
   "codemirror_mode": {
    "name": "ipython",
    "version": 3
   },
   "file_extension": ".py",
   "mimetype": "text/x-python",
   "name": "python",
   "nbconvert_exporter": "python",
   "pygments_lexer": "ipython3",
   "version": "3.7.6-final"
  },
  "orig_nbformat": 2,
  "kernelspec": {
   "name": "python3",
   "display_name": "Python 3.7.6 64-bit ('cpv': conda)",
   "metadata": {
    "interpreter": {
     "hash": "e25e0584590c458883016a89e0cf53be7d76548718d22946ce414c44a74f5c84"
    }
   }
  }
 },
 "nbformat": 4,
 "nbformat_minor": 2,
 "cells": [
  {
   "cell_type": "code",
   "execution_count": 1,
   "metadata": {},
   "outputs": [],
   "source": [
    "#네이버 날씨 웹 스크래핑.\n",
    "\n",
    "#예시\n",
    "# [오늘의 날씨]\n",
    "# 흐림, 어제보다 00도 높아요\n",
    "# 현재 00도 (최저 00도 / 최고 00도)\n",
    "# 오전 강수확률 00% / 오후 강수확률 00%\n",
    "\n",
    "# 미세먼지 00 / 좋음\n",
    "# 초미세먼지 00 / 좋음"
   ]
  },
  {
   "cell_type": "code",
   "execution_count": null,
   "metadata": {},
   "outputs": [],
   "source": [
    "if __name"
   ]
  }
 ]
}