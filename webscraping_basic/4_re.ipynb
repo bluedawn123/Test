{
 "metadata": {
  "language_info": {
   "codemirror_mode": {
    "name": "ipython",
    "version": 3
   },
   "file_extension": ".py",
   "mimetype": "text/x-python",
   "name": "python",
   "nbconvert_exporter": "python",
   "pygments_lexer": "ipython3",
   "version": "3.7.6-final"
  },
  "orig_nbformat": 2,
  "kernelspec": {
   "name": "python3",
   "display_name": "Python 3.7.6 64-bit ('cpv': conda)",
   "metadata": {
    "interpreter": {
     "hash": "e25e0584590c458883016a89e0cf53be7d76548718d22946ce414c44a74f5c84"
    }
   }
  }
 },
 "nbformat": 4,
 "nbformat_minor": 2,
 "cells": [
  {
   "cell_type": "code",
   "execution_count": 1,
   "metadata": {},
   "outputs": [
    {
     "output_type": "stream",
     "name": "stdout",
     "text": [
      "case\n"
     ]
    }
   ],
   "source": [
    "#정규식 => 정규표현식 그룹은 해당 그룹과 일치하는 문자열을 얻어올 떄 사용한다.\n",
    "#상황 => ca?e에서 ?가 기억이 안나는 상황\n",
    "import re\n",
    "\n",
    "p = re.compile(\"ca.e\")  #패턴값\n",
    "\n",
    "#. (ca.e): 하나의 문자 의미 ex)care, cafe, case.....   caffe(x)\n",
    "#^ (^de) : 문자열의 시작     ex) de로 시작하는 모든 것 매칭. desk, desdfa,...    fade(x)\n",
    "#$ (se$) : 문자열의 끝       ex) case, base (o)....            face(x)\n",
    "\n",
    "m = p.match(\"case\")\n",
    "\n",
    "print(m.group()) #매치된 문자열을 돌려준다.\n",
    "\n",
    "if m:\n",
    "    print(m.group())\n",
    "\n",
    "else:\n",
    "    print(\"매칭 실패\")\n"
   ]
  },
  {
   "cell_type": "code",
   "execution_count": 4,
   "metadata": {},
   "outputs": [
    {
     "output_type": "stream",
     "name": "stdout",
     "text": [
      "care\n"
     ]
    }
   ],
   "source": [
    "#p.match => 주어진 문자열의 처음부터 일치하는 게 있는지 확인\n",
    "import re\n",
    "\n",
    "p = re.compile(\"ca.e\")  #패턴값\n",
    "\n",
    "def print_match(m):\n",
    "    if m:\n",
    "        print(m.group())\n",
    "    else:\n",
    "        print(\"매칭 실패\")\n",
    "    \n",
    "m = p.match(\"careless\")\n",
    "print_match(m)       #처음 매칭됐으므로 case"
   ]
  },
  {
   "cell_type": "code",
   "execution_count": 9,
   "metadata": {},
   "outputs": [
    {
     "output_type": "stream",
     "name": "stdout",
     "text": [
      "m.group() :  care\nm.string :  careless\nm.start() :  0\nm.end() :  4\nm.span() :  (0, 4)\n"
     ]
    }
   ],
   "source": [
    "#p.search => 주어진 문자열 중 일치하는 게 있는지 확인\n",
    "import re\n",
    "\n",
    "p = re.compile(\"ca.e\")  #패턴값\n",
    "\n",
    "def print_match(m):\n",
    "    if m:\n",
    "        print(\"m.group() : \", m.group())     #일치하는 문자열 반환\n",
    "        print(\"m.string : \", m.string)       #입력받은 문자열\n",
    "        print(\"m.start() : \", m.start())     #일치하는 문자열의 시작 index\n",
    "        print(\"m.end() : \", m.end())         #일치하는 문자열의 끝 index\n",
    "        print(\"m.span() : \", m.span())       #일치하는 문자열의 시작/끝 index\n",
    "\n",
    "    else:\n",
    "        print(\"매칭 실패\")\n",
    "    \n",
    "m = p.search(\"careless\") #일치하는 게 있다!\n",
    "print_match(m)\n",
    "\n",
    "#m.group() :  care\n",
    "#m.string :  careless\n",
    "#m.start() :  0\n",
    "#m.end() :  4        => 4이전 까지이므로...\n",
    "#m.span() :  (0, 4)  => 0,1,2,3\n",
    "\n"
   ]
  },
  {
   "cell_type": "code",
   "execution_count": 13,
   "metadata": {},
   "outputs": [
    {
     "output_type": "stream",
     "name": "stdout",
     "text": [
      "['care', 'cafe']\n"
     ]
    }
   ],
   "source": [
    "#p.findall => 일치하는 모든 것을 list형태로 반환\n",
    "import re\n",
    "\n",
    "p = re.compile(\"ca.e\")  #패턴값\n",
    "\n",
    "def print_match(m):\n",
    "    if m:\n",
    "        print(\"m.group() : \", m.group())     #일치하는 문자열 반환\n",
    "        print(\"m.string : \", m.string)       #입력받은 문자열\n",
    "        print(\"m.start() : \", m.start())     #일치하는 문자열의 시작 index\n",
    "        print(\"m.end() : \", m.end())         #일치하는 문자열의 끝 index\n",
    "        print(\"m.span() : \", m.span())       #일치하는 문자열의 시작/끝 index\n",
    "\n",
    "    else:\n",
    "        print(\"매칭 실패\")\n",
    "\n",
    "#lst = p.findall(\"careless\")  #['care']\n",
    "#print(lst)\n",
    "\n",
    "#lst = p.findall(\"goodcare\")   #['care']\n",
    "#print(lst)\n",
    "\n",
    "lst = p.findall(\"good care cafe\")   #['care', 'cafe']\n",
    "print(lst)"
   ]
  },
  {
   "cell_type": "code",
   "execution_count": null,
   "metadata": {},
   "outputs": [],
   "source": [
    "#1. p = re.compile(\"원하는 형태\")\n",
    "#2. m = p.match(\"비교할 문자열\")  : 주어진 문자열의 처음부터 일치하는 지 확인\n",
    "#3. m = p.search(\"비교할 문자열\") : 주어진 문자열 중에 일치하는 게 있는지 확인\n",
    "#4. lst = p.findall(\"비교할 문자열\") : 일치하는 모든 것을 \"리스트 형태\"로 반환\n",
    "\n",
    "#\"원하는 형태 : 정규식\"\n",
    "#. (ca.e): 하나의 문자 의미 ex)care, cafe, case.....   caffe(x)\n",
    "#^ (^de) : 문자열의 시작     ex) de로 시작하는 모든 것 매칭. desk, desdfa,...    fade(x)\n",
    "#$ (se$) : 문자열의 끝       ex) case, base (o)....            face(x)"
   ]
  }
 ]
}