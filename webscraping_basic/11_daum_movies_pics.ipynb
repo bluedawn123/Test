{
 "metadata": {
  "language_info": {
   "codemirror_mode": {
    "name": "ipython",
    "version": 3
   },
   "file_extension": ".py",
   "mimetype": "text/x-python",
   "name": "python",
   "nbconvert_exporter": "python",
   "pygments_lexer": "ipython3",
   "version": "3.7.6-final"
  },
  "orig_nbformat": 2,
  "kernelspec": {
   "name": "python3",
   "display_name": "Python 3.7.6 64-bit ('cpv': conda)",
   "metadata": {
    "interpreter": {
     "hash": "e25e0584590c458883016a89e0cf53be7d76548718d22946ce414c44a74f5c84"
    }
   }
  }
 },
 "nbformat": 4,
 "nbformat_minor": 2,
 "cells": [
  {
   "cell_type": "code",
   "execution_count": 2,
   "metadata": {},
   "outputs": [
    {
     "output_type": "stream",
     "name": "stdout",
     "text": [
      "//search1.kakaocdn.net/thumb/R232x328.q85/?fname=http%3A%2F%2Ft1.daumcdn.net%2Fmovie%2F4e00e81f2b6f4d2eb65b3387240cc3c01547608409838\n//search1.kakaocdn.net/thumb/R232x328.q85/?fname=http%3A%2F%2Ft1.daumcdn.net%2Fmovie%2F5574fb2c20c844629aa9ad1d6043ee851555464908641\n//search1.kakaocdn.net/thumb/R232x328.q85/?fname=http%3A%2F%2Ft1.daumcdn.net%2Fmovie%2F5afd212b68e34e61a964d969dd898e2f1574298873981\n//search1.kakaocdn.net/thumb/R232x328.q85/?fname=http%3A%2F%2Ft1.daumcdn.net%2Fmovie%2F3673a8a0c5ff4f5c8c25cc959fd6985b1558662957684\n//search1.kakaocdn.net/thumb/R232x328.q85/?fname=http%3A%2F%2Ft1.daumcdn.net%2Fmovie%2Fcab3b02a7b274bd6838b80a5e481fedf1559021787090\n//search1.kakaocdn.net/thumb/R232x328.q85/?fname=http%3A%2F%2Ft1.daumcdn.net%2Fmovie%2F840094b1d3714d98a3f1841cac3b82d81563931141135\n//search1.kakaocdn.net/thumb/R232x328.q85/?fname=http%3A%2F%2Ft1.daumcdn.net%2Fmovie%2F984467734d0441d9bd342456607cefe31558926997358\n//search1.kakaocdn.net/thumb/R232x328.q85/?fname=http%3A%2F%2Ft1.daumcdn.net%2Fmovie%2Fc8555d7906ba4559a1290c616e416c4c1576742973513\n//search1.kakaocdn.net/thumb/R232x328.q85/?fname=http%3A%2F%2Ft1.daumcdn.net%2Fmovie%2F9633f50f32a34df2ae91dbac1203062e1551065947586\n//search1.kakaocdn.net/thumb/R232x328.q85/?fname=http%3A%2F%2Ft1.daumcdn.net%2Fmovie%2F0357a82b7226464b87072c0b8d2246b71567986846719\n//search1.kakaocdn.net/thumb/R232x328.q85/?fname=http%3A%2F%2Ft1.daumcdn.net%2Fmovie%2Fcc2179cd2bfc46ed84d285086339f2321563514510944\n//search1.kakaocdn.net/thumb/R232x328.q85/?fname=http%3A%2F%2Ft1.daumcdn.net%2Fmovie%2F1f887bf800ac4d63be45d94bc9ddeac51563411889783\n//search1.kakaocdn.net/thumb/R232x328.q85/?fname=http%3A%2F%2Ft1.daumcdn.net%2Fmovie%2F817749999554400daebc36f51c16b2901565673492583\n//search1.kakaocdn.net/thumb/R232x328.q85/?fname=http%3A%2F%2Ft1.daumcdn.net%2Fmovie%2Fcc7165f75bb94140a95d977881cebc191571895256827\n//search1.kakaocdn.net/thumb/R232x328.q85/?fname=http%3A%2F%2Ft1.daumcdn.net%2Fmovie%2F68697a4b31e7461b8ffe3211a9cd12b31564105313046\n//search1.kakaocdn.net/thumb/R232x328.q85/?fname=http%3A%2F%2Ft1.daumcdn.net%2Fmovie%2Fda2e6f0663514ba3aaf1f003733d08831560262646934\n//search1.kakaocdn.net/thumb/R232x328.q85/?fname=http%3A%2F%2Ft1.daumcdn.net%2Fmovie%2Fdca667637a164f01b556a8d6b8277ef41551836200950\n//search1.kakaocdn.net/thumb/R232x328.q85/?fname=http%3A%2F%2Ft1.daumcdn.net%2Fmovie%2F27a31d4c5a0540ea86cd0237dccc49d51557888570172\n//search1.kakaocdn.net/thumb/R232x328.q85/?fname=http%3A%2F%2Ft1.daumcdn.net%2Fmovie%2F08603eebe4e740e9a19384f0a0f5cfed1568165443925\n//search1.kakaocdn.net/thumb/R232x328.q85/?fname=http%3A%2F%2Ft1.daumcdn.net%2Fmovie%2F02efc2364d924115880baf78fd6e9d4a1545286152910\n//search1.kakaocdn.net/thumb/R232x328.q85/?fname=http%3A%2F%2Ft1.daumcdn.net%2Fmovie%2F3e6591d23bbc4f8986f4dce958afac4d1551150359176\n//search1.kakaocdn.net/thumb/R232x328.q85/?fname=http%3A%2F%2Ft1.daumcdn.net%2Fmovie%2F33f6b51372e94272a2b802d6e1b3cc321576635274939\n//search1.kakaocdn.net/thumb/R232x328.q85/?fname=http%3A%2F%2Ft1.daumcdn.net%2Fmovie%2Ffbe0d4ccc4804448a8aacb9e98ccccfe1573614596648\n//search1.kakaocdn.net/thumb/R232x328.q85/?fname=http%3A%2F%2Ft1.daumcdn.net%2Fmovie%2F9d20cf3485cc4602ad59e418870dcd291572404771686\n//search1.kakaocdn.net/thumb/R232x328.q85/?fname=http%3A%2F%2Ft1.daumcdn.net%2Fmovie%2F400a8860f56e4ce79425c06de79c11001548636701111\n//search1.kakaocdn.net/thumb/R232x328.q85/?fname=http%3A%2F%2Ft1.daumcdn.net%2Fmovie%2Fc718986ee7284fe6899244115cdbd0211566460622237\n//search1.kakaocdn.net/thumb/R232x328.q85/?fname=http%3A%2F%2Ft1.daumcdn.net%2Fmovie%2F88c944d4893a41f4b9131a53a4320c241572311557066\n//search1.kakaocdn.net/thumb/R232x328.q85/?fname=http%3A%2F%2Ft1.daumcdn.net%2Fmovie%2F849edb91f7034d338709526e3647c2dd1548391120712\n//search1.kakaocdn.net/thumb/R232x328.q85/?fname=http%3A%2F%2Ft1.daumcdn.net%2Fmovie%2F4295e3725db4457a8c9d810416c7e7741543894164660\n//search1.kakaocdn.net/thumb/R232x328.q85/?fname=http%3A%2F%2Ft1.daumcdn.net%2Fmovie%2F492c3cf06c2c46d38eced01e54c6393b1548652221455\nhttps://search1.daumcdn.net/thumb/R120x120.q70/?fname=https://t1.daumcdn.net/clix_image_library_public/img/7bcd6ea1fd6147a281af4c2b338e08f6ce9c0f08\nhttps://search1.daumcdn.net/thumb/R120x120.q70/?fname=https://t1.daumcdn.net/clix_image_library_public/img/e41f67c29d8ec5ba81e553b58772bdfe8b361e2a\nhttps://search4.kakaocdn.net/argon/130x130_85_c/FtALVqCvmHI\nhttps://search2.kakaocdn.net/argon/130x130_85_c/HN1VZC6d6d2\nhttps://search4.kakaocdn.net/argon/130x130_85_c/7wTM2iCvJux\nhttps://search2.kakaocdn.net/argon/130x130_85_c/ED7nB6xN5WC\nhttps://search4.kakaocdn.net/argon/229x128_80_pr/2MQSgtJekjT\nhttps://search1.kakaocdn.net/argon/229x128_80_pr/19RnsyCmDpE\nhttps://search3.kakaocdn.net/argon/229x128_80_pr/Fqu8vz4nw0I\nhttps://search3.kakaocdn.net/argon/229x128_80_pr/5Klz40psEss\nhttps://search4.kakaocdn.net/argon/229x128_80_pr/FNosXyfFmeH\nhttps://search2.kakaocdn.net/argon/130x130_85_c/26PnD3FNGhN\nhttps://search3.kakaocdn.net/argon/130x130_85_c/AnxTQuKtwzx\nhttps://search4.kakaocdn.net/argon/130x130_85_c/7XSgfxPqNMd\nhttps://search1.daumcdn.net/thumb/C116x116.fjpg/?fname=http%3A%2F%2Ft1.daumcdn.net%2Fbrunch%2Fservice%2Fuser%2F3RiD%2Fimage%2FTnZYRumwTj_x7YbMuvLr-LwuuN8.jpg\nhttps://search2.daumcdn.net/thumb/C116x116.fjpg/?fname=http%3A%2F%2Ft1.daumcdn.net%2Fbrunch%2Fservice%2Fuser%2FoNv%2Fimage%2FBVjSVpIjRzq4QSZsObEXBu4h1eo.jfif\nhttps://search3.daumcdn.net/thumb/C116x116.fjpg/?fname=http%3A%2F%2Ft1.daumcdn.net%2Fbrunch%2Fservice%2Fuser%2FmW7%2Fimage%2Fp_A0mDV5UDGkgv8o18UtRME_LEo.jpg\nhttps://search2.daumcdn.net/thumb/R152x152/?fname=http%3A//shop1.daumcdn.net/shophow/p/M12136664742.jpg%3Fut%3D20210131093135\nhttps://search2.daumcdn.net/thumb/R152x152/?fname=http%3A//shop2.daumcdn.net/shophow/p/K10722162547.jpg%3Fut%3D20201008212123\nhttps://search2.daumcdn.net/thumb/R152x152/?fname=http%3A//shop2.daumcdn.net/shophow/p/H7945860841.jpg%3Fut%3D20191118121139\nhttps://search2.daumcdn.net/thumb/R152x152/?fname=http%3A//shop2.daumcdn.net/shophow/p/K7773510280.jpg%3Fut%3D20191108224653\nhttps://search4.kakaocdn.net/argon/130x130_80_c/8eB4VHCZXcp\nhttps://search2.daumcdn.net/thumb/P200x200/?fname=https%3A%2F%2Fsearch1.kakaocdn.net%2Fargon%2F200x200_85_c%2FEIvAYYNZ8kU0\nhttps://search1.daumcdn.net/thumb/P200x200/?fname=https%3A%2F%2Fsearch4.kakaocdn.net%2Fargon%2F200x200_85_c%2FKpiq8lsRqE30\nhttps://search3.daumcdn.net/thumb/P200x200/?fname=https%3A%2F%2Fsearch4.kakaocdn.net%2Fargon%2F200x200_85_c%2FB4AtCc71BN0\nhttps://search2.daumcdn.net/thumb/P200x200/?fname=https%3A%2F%2Fsearch4.kakaocdn.net%2Fargon%2F200x200_85_c%2FGnccNzagxxg0\n"
     ]
    }
   ],
   "source": [
    "#1\n",
    "import requests\n",
    "from bs4 import BeautifulSoup\n",
    "\n",
    "res = requests.get(\"https://search.daum.net/search?nil_suggest=btn&w=tot&DA=SBC&q=2019%EB%85%84%EC%98%81%ED%99%94%EC%88%9C%EC%9C%84\")\n",
    "res.raise_for_status\n",
    "soup = BeautifulSoup(res.text, \"lxml\")\n",
    "\n",
    "#사진을 갖고온다. img태크의 a클래스\n",
    "images = soup.find_all(\"img\", attrs={\"class\":\"thumb_img\"})\n",
    "\n",
    "for image in images:\n",
    "    print(image[\"src\"])             # 이 경우 http가 있는 것도 있고 http가 없는 것도 있어서 주석처리하고 http를 다 붙여주는 걸로 해본다.\n",
    "    image_url = image[\"src\"]\n",
    "    if image_url.startswith(\"//\"):\n",
    "        image_url = \"https:\" + image_url"
   ]
  },
  {
   "cell_type": "code",
   "execution_count": 8,
   "metadata": {},
   "outputs": [
    {
     "output_type": "stream",
     "name": "stdout",
     "text": [
      "http확인 :  https://search1.kakaocdn.net/thumb/R232x328.q85/?fname=http%3A%2F%2Ft1.daumcdn.net%2Fmovie%2F4e00e81f2b6f4d2eb65b3387240cc3c01547608409838\nhttp확인 :  https://search1.kakaocdn.net/thumb/R232x328.q85/?fname=http%3A%2F%2Ft1.daumcdn.net%2Fmovie%2F5574fb2c20c844629aa9ad1d6043ee851555464908641\nhttp확인 :  https://search1.kakaocdn.net/thumb/R232x328.q85/?fname=http%3A%2F%2Ft1.daumcdn.net%2Fmovie%2F5afd212b68e34e61a964d969dd898e2f1574298873981\nhttp확인 :  https://search1.kakaocdn.net/thumb/R232x328.q85/?fname=http%3A%2F%2Ft1.daumcdn.net%2Fmovie%2F3673a8a0c5ff4f5c8c25cc959fd6985b1558662957684\nhttp확인 :  https://search1.kakaocdn.net/thumb/R232x328.q85/?fname=http%3A%2F%2Ft1.daumcdn.net%2Fmovie%2Fcab3b02a7b274bd6838b80a5e481fedf1559021787090\n"
     ]
    }
   ],
   "source": [
    "#2. 한 페이지에 5개씩만 해당 사진을 불러오는 방법\n",
    "import requests\n",
    "from bs4 import BeautifulSoup\n",
    "res = requests.get(\"https://search.daum.net/search?nil_suggest=btn&w=tot&DA=SBC&q=2019%EB%85%84%EC%98%81%ED%99%94%EC%88%9C%EC%9C%84\")\n",
    "res.raise_for_status\n",
    "soup = BeautifulSoup(res.text, \"lxml\")\n",
    "\n",
    "#사진을 갖고온다. img태크의 a클래스\n",
    "images = soup.find_all(\"img\", attrs={\"class\":\"thumb_img\"})\n",
    "\n",
    "    \n",
    "for idx, image in enumerate(images): # 바꾼이유? => 파일쓰기에서 format을 좀 더 편하게 쓰기 위해서.\n",
    "    #print(image[\"src\"])             # 잘 이해가 안 된다....\n",
    "                                     # 이 경우 http가 있는 것도 있고 http가 없는 것도 있어서 주석처리하고 http를 다 붙여주는 걸로 해본다.\n",
    "    image_url = image[\"src\"]\n",
    "    if image_url.startswith(\"//\"):\n",
    "        image_url = \"https:\" + image_url\n",
    "        print(\"http확인 : \", image_url)          # => http가 다 붙어서 나온다.and\n",
    "\n",
    "    image_res = requests.get(image_url)  #페이지에 접속해서 정보를 파일로 저장하기 위해서 request를 다시 한번 접속하는것  위의 res = requests.get(\"___\") 와 같다.\n",
    "    image_res.raise_for_status()         #접근확인\n",
    "\n",
    "    #파일쓰기\n",
    "    with open(\"movie{}.jpg\".format(idx+1), \"wb\") as f:        #영화 포스터는 텍스트가 아니므로 \"wb\"     \n",
    "            f.write(image_res.content)                        #_______.content => 해당 리소스가 갖고 있는 정보를 파일로 바로 끈다. \n",
    "\n",
    "        #상위 5개의 이미지까지만 다운로드하는 조건식\n",
    "    if idx >= 4:\n",
    "        break\n",
    "\n",
    "    #이런식으로 2019년 한 페이지에서 5위만 가능하다. 이제는 2019년, 2018년 등등 해당하는 페이지에서만 가져와보자."
   ]
  },
  {
   "cell_type": "code",
   "execution_count": null,
   "metadata": {},
   "outputs": [],
   "source": [
    "#3. 한 페이지에 5개씩 가져오면서 2019년부터 2015년 까지 페이지를 다르게 하면서 가져오는 방법\n",
    "import requests\n",
    "from bs4 import BeautifulSoup\n",
    "\n",
    "\n",
    "\n",
    "for year in range(2015, 2020):\n",
    "    url = \"https://search.daum.net/search?nil_suggest=btn&w=tot&DA=SBC&q={}%EB%85%84%EC%98%81%ED%99%94%EC%88%9C%EC%9C%84\".format(year)\n",
    "    res = requests.get(ur0l)\n",
    "    res.raise_for_status\n",
    "    soup = BeautifulSoup(res.text, \"lxml\")\n",
    "    #사진을 갖고온다. img태크의 a클래스\n",
    "    images = soup.find_all(\"img\", attrs={\"class\":\"thumb_img\"})\n",
    "\n",
    "\n",
    "    for idx, image in enumerate(images): # 바꾼이유? => 파일쓰기에서 format을 좀 더 편하게 쓰기 위해서.\n",
    "        #print(image[\"src\"])             # 잘 이해가 안 된다....\n",
    "                                         # 이 경우 http가 있는 것도 있고 http가 없는 것도 있어서 주석처리하고 http를 다 붙여주는 걸로 해본다.\n",
    "        image_url = image[\"src\"]\n",
    "        if image_url.startswith(\"//\"):\n",
    "                image_url = \"https:\" + image_url\n",
    "                print(\"http확인 : \", image_url)           # => http가 다 붙어서 나온다.and\n",
    "\n",
    "        image_res = requests.get(image_url) #페이지에 접속해서 정보를 파일로 저장하기 위해서 request를 다시 한번 접속하는것  위의 res = requests.get(\"___\") 와 같다.\n",
    "        image_res.raise_for_status()        #접근확인\n",
    "\n",
    "        #파일쓰기\n",
    "        #문제는 파일이 년이 변하면 덮어써지는 것이기 때문에 이를 방지해야 한다.  \n",
    "        with open(\"movie{}.jpg\".format(idx+1), \"wb\") as f:             #영화 포스터는 텍스트가 아니므로 \"wb\"     \n",
    "                f.write(image_res.content)                             #_______.content => 해당 리소스가 갖고 있는 정보를 파일로 바로 끈다. \n",
    "\n",
    "            #상위 5개의 이미지까지만 다운로드하는 조건식\n",
    "        if idx >= 4:\n",
    "            break\n",
    "\n",
    "        #이런식으로 2019년 한 페이지에서 5위만 가능하다. 이제는 2019년, 2018년 등등 해당하는 페이지에서만 가져와보자."
   ]
  }
 ]
}