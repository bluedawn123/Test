{
 "metadata": {
  "language_info": {
   "codemirror_mode": {
    "name": "ipython",
    "version": 3
   },
   "file_extension": ".py",
   "mimetype": "text/x-python",
   "name": "python",
   "nbconvert_exporter": "python",
   "pygments_lexer": "ipython3",
   "version": "3.7.6-final"
  },
  "orig_nbformat": 2,
  "kernelspec": {
   "name": "python3",
   "display_name": "Python 3.7.6 64-bit ('cpv': conda)",
   "metadata": {
    "interpreter": {
     "hash": "e25e0584590c458883016a89e0cf53be7d76548718d22946ce414c44a74f5c84"
    }
   }
  }
 },
 "nbformat": 4,
 "nbformat_minor": 2,
 "cells": [
  {
   "cell_type": "code",
   "execution_count": 50,
   "metadata": {},
   "outputs": [
    {
     "output_type": "stream",
     "name": "stdout",
     "text": [
      "<title>네이버 만화 &gt; 요일별  웹툰 &gt; 전체웹툰</title>\n네이버 만화 > 요일별  웹툰 > 전체웹툰\n<a href=\"#menu\" onclick=\"document.getElementById('menu').tabIndex=-1;document.getElementById('menu').focus();return false;\"><span>메인 메뉴로 바로가기</span></a>\n{'href': '#menu', 'onclick': \"document.getElementById('menu').tabIndex=-1;document.getElementById('menu').focus();return false;\"}\n#menu\n\n==>웹툰 올리기 정보 가져오기\n<a class=\"Nbtn_upload\" href=\"/mypage/myActivity.nhn\" onclick=\"nclk_v2(event,'olk.upload');\">웹툰 올리기</a>\n\n==>인기 급상승 만화 1등 정보 가져오기 방법1\n<li class=\"rank01\">\n<a href=\"/webtoon/detail.nhn?titleId=703846&amp;no=152\" onclick=\"nclk_v2(event,'rnk*p.cont','703846','1')\" title=\"여신강림-147화\">여신강림-147화</a>\n<span class=\"rankBox\">\n<img alt=\"변동없음\" height=\"10\" src=\"https://ssl.pstatic.net/static/comic/images/migration/common/arrow_no.gif\" title=\"변동없음\" width=\"7\"/> 0\n\t\t\t\t\t\t\n\t\t\t\t\t\n\t\t\t\t</span>\n</li>\n\n==>인기 급상승 만화 1등 정보 가져오기 방법2\n<a href=\"/webtoon/detail.nhn?titleId=703846&amp;no=152\" onclick=\"nclk_v2(event,'rnk*p.cont','703846','1')\" title=\"여신강림-147화\">여신강림-147화</a>\n\n==> 부모, 자식관계에서 가져오기. (rank1에서 rank2를 가져오기)\nrank1의 a의 글자를 가져오기 :  여신강림-147화\n\n\nrank2의 아래를 sibling으로 가져오기 :  <li class=\"rank02\">\n<a href=\"/webtoon/detail.nhn?titleId=703852&amp;no=141\" onclick=\"nclk_v2(event,'rnk*p.cont','703852','2')\" title=\"바른연애 길잡이-141\">바른연애 길잡이-141</a>\n<span class=\"rankBox\">\n<img alt=\"변동없음\" height=\"10\" src=\"https://ssl.pstatic.net/static/comic/images/migration/common/arrow_no.gif\" title=\"변동없음\" width=\"7\"/> 0\n\t\t\t\t\t\t\n\t\t\t\t\t\n\t\t\t\t</span>\n</li>\nrank3의 text :  \n한림체육관-42화\n\n 0\n\t\t\t\t\t\t\n\t\t\t\t\t\n\t\t\t\t\n\nprevious를 활용한 전자 정보 가져오기 :  \n바른연애 길잡이-141\n\n 0\n\t\t\t\t\t\t\n\t\t\t\t\t\n\t\t\t\t\n\nrank1의 부모 :  <ol class=\"asideBoxRank\" id=\"realTimeRankFavorite\">\n<li class=\"rank01\">\n<a href=\"/webtoon/detail.nhn?titleId=703846&amp;no=152\" onclick=\"nclk_v2(event,'rnk*p.cont','703846','1')\" title=\"여신강림-147화\">여신강림-147화</a>\n<span class=\"rankBox\">\n<img alt=\"변동없음\" height=\"10\" src=\"https://ssl.pstatic.net/static/comic/images/migration/common/arrow_no.gif\" title=\"변동없음\" width=\"7\"/> 0\n\t\t\t\t\t\t\n\t\t\t\t\t\n\t\t\t\t</span>\n</li>\n<li class=\"rank02\">\n<a href=\"/webtoon/detail.nhn?titleId=703852&amp;no=141\" onclick=\"nclk_v2(event,'rnk*p.cont','703852','2')\" title=\"바른연애 길잡이-141\">바른연애 길잡이-141</a>\n<span class=\"rankBox\">\n<img alt=\"변동없음\" height=\"10\" src=\"https://ssl.pstatic.net/static/comic/images/migration/common/arrow_no.gif\" title=\"변동없음\" width=\"7\"/> 0\n\t\t\t\t\t\t\n\t\t\t\t\t\n\t\t\t\t</span>\n</li>\n<li class=\"rank03\">\n<a href=\"/webtoon/detail.nhn?titleId=743139&amp;no=42\" onclick=\"nclk_v2(event,'rnk*p.cont','743139','3')\" title=\"한림체육관-42화\">한림체육관-42화</a>\n<span class=\"rankBox\">\n<img alt=\"변동없음\" height=\"10\" src=\"https://ssl.pstatic.net/static/comic/images/migration/common/arrow_no.gif\" title=\"변동없음\" width=\"7\"/> 0\n\t\t\t\t\t\t\n\t\t\t\t\t\n\t\t\t\t</span>\n</li>\n<li class=\"rank04\">\n<a href=\"/webtoon/detail.nhn?titleId=702608&amp;no=172\" onclick=\"nclk_v2(event,'rnk*p.cont','702608','4')\" title=\"랜덤채팅의 그녀!-172. 범죄의 형태\">랜덤채팅의 그녀!-172. 범죄의 형태</a>\n<span class=\"rankBox\">\n<img alt=\"변동없음\" height=\"10\" src=\"https://ssl.pstatic.net/static/comic/images/migration/common/arrow_no.gif\" title=\"변동없음\" width=\"7\"/> 0\n\t\t\t\t\t\t\n\t\t\t\t\t\n\t\t\t\t</span>\n</li>\n<li class=\"rank05\">\n<a href=\"/webtoon/detail.nhn?titleId=759925&amp;no=3\" onclick=\"nclk_v2(event,'rnk*p.cont','759925','5')\" title=\"엽총소년-2화\">엽총소년-2화</a>\n<span class=\"rankBox\">\n<img alt=\"순위상승\" height=\"10\" src=\"https://ssl.pstatic.net/static/comic/images/migration/common/arrow_up.gif\" title=\"순위상승\" width=\"7\"/>1\n\t\t\t\t\t\t\n\t\t\t\t\t\t\n\t\t\t\t\t\n\t\t\t\t</span>\n</li>\n<li class=\"rank06\">\n<a href=\"/webtoon/detail.nhn?titleId=730656&amp;no=87\" onclick=\"nclk_v2(event,'rnk*p.cont','730656','6')\" title=\"사신소년-87화 모든 싹을 뽑아내겠어\">사신소년-87화 모든 싹을 뽑아내겠어</a>\n<span class=\"rankBox\">\n<img alt=\"순위상승\" height=\"10\" src=\"https://ssl.pstatic.net/static/comic/images/migration/common/arrow_up.gif\" title=\"순위상승\" width=\"7\"/>1\n\t\t\t\t\t\t\n\t\t\t\t\t\t\n\t\t\t\t\t\n\t\t\t\t</span>\n</li>\n<li class=\"rank07\">\n<a href=\"/webtoon/detail.nhn?titleId=738487&amp;no=63\" onclick=\"nclk_v2(event,'rnk*p.cont','738487','7')\" title=\"하루만 네가 되고 싶어-63. 피바람이 분다(2)\">하루만 네가 되고 싶어-63. 피바람이 분다(2)</a>\n<span class=\"rankBox\">\n<img alt=\"순위하락\" height=\"10\" src=\"https://ssl.pstatic.net/static/comic/images/migration/common/arrow_down.gif\" title=\"순위하락\" width=\"7\"/>2\n\t\t\t\t\t\t\n\t\t\t\t\t\t\n\t\t\t\t\t\t\n\t\t\t\t\t\n\t\t\t\t</span>\n</li>\n<li class=\"rank08\">\n<a href=\"/webtoon/detail.nhn?titleId=738174&amp;no=65\" onclick=\"nclk_v2(event,'rnk*p.cont','738174','8')\" title=\"중증외상센터 : 골든 아워-1부 후기\">중증외상센터 : 골든 아워-1부 후기</a>\n<span class=\"rankBox\">\n<img alt=\"변동없음\" height=\"10\" src=\"https://ssl.pstatic.net/static/comic/images/migration/common/arrow_no.gif\" title=\"변동없음\" width=\"7\"/> 0\n\t\t\t\t\t\t\n\t\t\t\t\t\n\t\t\t\t</span>\n</li>\n<li class=\"rank09\">\n<a href=\"/webtoon/detail.nhn?titleId=683496&amp;no=209\" onclick=\"nclk_v2(event,'rnk*p.cont','683496','9')\" title=\"신도림-시즌2 69. 용 서\">신도림-시즌2 69. 용 서</a>\n<span class=\"rankBox\">\n<img alt=\"변동없음\" height=\"10\" src=\"https://ssl.pstatic.net/static/comic/images/migration/common/arrow_no.gif\" title=\"변동없음\" width=\"7\"/> 0\n\t\t\t\t\t\t\n\t\t\t\t\t\n\t\t\t\t</span>\n</li>\n<li class=\"rank10\">\n<a href=\"/webtoon/detail.nhn?titleId=753856&amp;no=27\" onclick=\"nclk_v2(event,'rnk*p.cont','753856','10')\" title=\"달콤살벌한 부부-27화\">달콤살벌한 부부-27화</a>\n<span class=\"rankBox\">\n<img alt=\"변동없음\" height=\"10\" src=\"https://ssl.pstatic.net/static/comic/images/migration/common/arrow_no.gif\" title=\"변동없음\" width=\"7\"/> 0\n\t\t\t\t\t\t\n\t\t\t\t\t\n\t\t\t\t</span>\n</li>\n</ol>\nfind_next_sibling을 활용한 rank2 정보 가져오기 :  바른연애 길잡이-141\nfind_next_sibling을 활용한 rank3 정보 가져오기 :  한림체육관-42화\nfind_previous_sibling을 활용한 rank2 정보 가져오기 :  바른연애 길잡이-141\n\n==>한번에 원하는 정보를 가져오기\nfind_next_siblings를 활용한 형제 정보들 가져오기 :  [<li class=\"rank02\">\n<a href=\"/webtoon/detail.nhn?titleId=703852&amp;no=141\" onclick=\"nclk_v2(event,'rnk*p.cont','703852','2')\" title=\"바른연애 길잡이-141\">바른연애 길잡이-141</a>\n<span class=\"rankBox\">\n<img alt=\"변동없음\" height=\"10\" src=\"https://ssl.pstatic.net/static/comic/images/migration/common/arrow_no.gif\" title=\"변동없음\" width=\"7\"/> 0\n\t\t\t\t\t\t\n\t\t\t\t\t\n\t\t\t\t</span>\n</li>, <li class=\"rank03\">\n<a href=\"/webtoon/detail.nhn?titleId=743139&amp;no=42\" onclick=\"nclk_v2(event,'rnk*p.cont','743139','3')\" title=\"한림체육관-42화\">한림체육관-42화</a>\n<span class=\"rankBox\">\n<img alt=\"변동없음\" height=\"10\" src=\"https://ssl.pstatic.net/static/comic/images/migration/common/arrow_no.gif\" title=\"변동없음\" width=\"7\"/> 0\n\t\t\t\t\t\t\n\t\t\t\t\t\n\t\t\t\t</span>\n</li>, <li class=\"rank04\">\n<a href=\"/webtoon/detail.nhn?titleId=702608&amp;no=172\" onclick=\"nclk_v2(event,'rnk*p.cont','702608','4')\" title=\"랜덤채팅의 그녀!-172. 범죄의 형태\">랜덤채팅의 그녀!-172. 범죄의 형태</a>\n<span class=\"rankBox\">\n<img alt=\"변동없음\" height=\"10\" src=\"https://ssl.pstatic.net/static/comic/images/migration/common/arrow_no.gif\" title=\"변동없음\" width=\"7\"/> 0\n\t\t\t\t\t\t\n\t\t\t\t\t\n\t\t\t\t</span>\n</li>, <li class=\"rank05\">\n<a href=\"/webtoon/detail.nhn?titleId=759925&amp;no=3\" onclick=\"nclk_v2(event,'rnk*p.cont','759925','5')\" title=\"엽총소년-2화\">엽총소년-2화</a>\n<span class=\"rankBox\">\n<img alt=\"순위상승\" height=\"10\" src=\"https://ssl.pstatic.net/static/comic/images/migration/common/arrow_up.gif\" title=\"순위상승\" width=\"7\"/>1\n\t\t\t\t\t\t\n\t\t\t\t\t\t\n\t\t\t\t\t\n\t\t\t\t</span>\n</li>, <li class=\"rank06\">\n<a href=\"/webtoon/detail.nhn?titleId=730656&amp;no=87\" onclick=\"nclk_v2(event,'rnk*p.cont','730656','6')\" title=\"사신소년-87화 모든 싹을 뽑아내겠어\">사신소년-87화 모든 싹을 뽑아내겠어</a>\n<span class=\"rankBox\">\n<img alt=\"순위상승\" height=\"10\" src=\"https://ssl.pstatic.net/static/comic/images/migration/common/arrow_up.gif\" title=\"순위상승\" width=\"7\"/>1\n\t\t\t\t\t\t\n\t\t\t\t\t\t\n\t\t\t\t\t\n\t\t\t\t</span>\n</li>, <li class=\"rank07\">\n<a href=\"/webtoon/detail.nhn?titleId=738487&amp;no=63\" onclick=\"nclk_v2(event,'rnk*p.cont','738487','7')\" title=\"하루만 네가 되고 싶어-63. 피바람이 분다(2)\">하루만 네가 되고 싶어-63. 피바람이 분다(2)</a>\n<span class=\"rankBox\">\n<img alt=\"순위하락\" height=\"10\" src=\"https://ssl.pstatic.net/static/comic/images/migration/common/arrow_down.gif\" title=\"순위하락\" width=\"7\"/>2\n\t\t\t\t\t\t\n\t\t\t\t\t\t\n\t\t\t\t\t\t\n\t\t\t\t\t\n\t\t\t\t</span>\n</li>, <li class=\"rank08\">\n<a href=\"/webtoon/detail.nhn?titleId=738174&amp;no=65\" onclick=\"nclk_v2(event,'rnk*p.cont','738174','8')\" title=\"중증외상센터 : 골든 아워-1부 후기\">중증외상센터 : 골든 아워-1부 후기</a>\n<span class=\"rankBox\">\n<img alt=\"변동없음\" height=\"10\" src=\"https://ssl.pstatic.net/static/comic/images/migration/common/arrow_no.gif\" title=\"변동없음\" width=\"7\"/> 0\n\t\t\t\t\t\t\n\t\t\t\t\t\n\t\t\t\t</span>\n</li>, <li class=\"rank09\">\n<a href=\"/webtoon/detail.nhn?titleId=683496&amp;no=209\" onclick=\"nclk_v2(event,'rnk*p.cont','683496','9')\" title=\"신도림-시즌2 69. 용 서\">신도림-시즌2 69. 용 서</a>\n<span class=\"rankBox\">\n<img alt=\"변동없음\" height=\"10\" src=\"https://ssl.pstatic.net/static/comic/images/migration/common/arrow_no.gif\" title=\"변동없음\" width=\"7\"/> 0\n\t\t\t\t\t\t\n\t\t\t\t\t\n\t\t\t\t</span>\n</li>, <li class=\"rank10\">\n<a href=\"/webtoon/detail.nhn?titleId=753856&amp;no=27\" onclick=\"nclk_v2(event,'rnk*p.cont','753856','10')\" title=\"달콤살벌한 부부-27화\">달콤살벌한 부부-27화</a>\n<span class=\"rankBox\">\n<img alt=\"변동없음\" height=\"10\" src=\"https://ssl.pstatic.net/static/comic/images/migration/common/arrow_no.gif\" title=\"변동없음\" width=\"7\"/> 0\n\t\t\t\t\t\t\n\t\t\t\t\t\n\t\t\t\t</span>\n</li>]\n"
     ]
    }
   ],
   "source": [
    "import requests\n",
    "from bs4 import BeautifulSoup\n",
    "\n",
    "url = \"https://comic.naver.com/webtoon/weekday.nhn\"\n",
    "res = requests.get(url)\n",
    "res.raise_for_status()\n",
    "\n",
    "soup = BeautifulSoup(res.text, \"lxml\")  #html문서값. 가져온 html문서를 lxml 파서를 통해서 Beautifulsoup 객체로 만들었다. \n",
    "                                        #soup 객체를 통해서 다른 html 정보, element에 접근을 할 수 있다.\n",
    "\n",
    "print(soup.title)                       #<title>네이버 만화 &gt; 요일별  웹툰 &gt; 전체웹툰</title>\n",
    "print(soup.title.get_text())            #네이버 만화 > 요일별  웹툰 > 전체웹툰\n",
    "\n",
    "print(soup.a)                           #=> soup은 모든 html을 가지고 있다. 즉 soup객체에서 발견되는 첫 a에 대한 정보를 뿌려줘라는 의미\n",
    "#a href=\"#menu\" onclick=\"document.getElementById('menu').tabIndex=-1;document.getElementById('menu').focus();return false;\"><span>메인 메뉴로 바로가기</span></a>\n",
    "\n",
    "print(soup.a.attrs)   #a의 속성 정보 반환(출력)\n",
    "                      #{'href': '#menu', 'onclick': \"document.getElementById('menu').tabIndex=-1;document.getElementById('menu').focus();return false;\"} => 딕셔너리 형태\n",
    "\n",
    "print(soup.a[\"href\"]) #href의 속성만 보여준다\n",
    "                      #menu\n",
    "\n",
    "####--------------------------------------------------------------특정 a태그의 내용을 찾는 방법----------------------------------------------------------------------------\n",
    "#ex)웹툰 올리기\n",
    "print(\"\\n==>웹툰 올리기 정보 가져오기\")\n",
    "soup.find(\"a\", attrs={\"class\":\"Nbtn_upload\"})           #soup 객체 내에서 해당하는 첫 엘리먼트를 가져온다. , 이후는 조건의미 attrs=속성, \n",
    "                                                        #즉, soup 객체 내에서 첫 a태그에 해당하면서 클래스의 속성 정보가 \"Nbtn_upload\" 인 것을 찾아줘\n",
    "\n",
    "print(soup.find(\"a\", attrs={\"class\":\"Nbtn_upload\"})  )  #<a class=\"Nbtn_upload\" href=\"/mypage/myActivity.nhn\" onclick=\"nclk_v2(event,'olk.upload');\">웹툰 올리기</a>\n",
    "\n",
    "#soup.find(\"a\", attrs={\"class\":\"Nbtn_upload\"})  =>class\":\"Nbtn_upload\" 인 a element를 찾아줘\n",
    "#soup.find(attrs={\"class\":\"Nbtn_upload\"})       =>class\":\"Nbtn_upload\" 어떤 element를 찾아줘\n",
    "\n",
    "\n",
    "####-------------------------------------------------------인기급상승 만화 1등~10등 정보 다양하게 가져오기------------------------------------------------------------------\n",
    "####li class=\"rank01\" => li태그이고 class가 rank01인 것을 가져오면 된다.\n",
    "print(\"\\n==>인기 급상승 만화 1등 정보 가져오기 방법1\")\n",
    "print(soup.find(\"li\", attrs={\"class\":\"rank01\"}))\n",
    "\n",
    "print(\"\\n==>인기 급상승 만화 1등 정보 가져오기 방법2\")\n",
    "rank1 = soup.find(\"li\", attrs={\"class\":\"rank01\"})  #=> 이게 더 유용하다.\n",
    "print(rank1.a)\n",
    "\n",
    "#부모, 자식관계에서 가져오기. (rank1에서 rank2를 가져오기)\n",
    "print(\"\\n==> 부모, 자식관계에서 가져오기. (rank1에서 rank2를 가져오기)\")\n",
    "print(\"rank1의 a의 글자를 가져오기 : \", rank1.a.get_text())  # => rank1의 a의 글자를 가져오디\n",
    "\n",
    "print(rank1.next_sibling)                #태그 사이의 개행정보...즉...줄바꿈 때문에 안 나온다. 2번 해주면 된다.        =====>>> find_next_sibling() 을 활용하면 된다.\n",
    "print(\"rank2의 아래를 sibling으로 가져오기 : \", rank1.next_sibling.next_sibling)   #2위인 바른연애 길잡이에 대한 내용이 잘 나온다.    \n",
    "rank2 = rank1.next_sibling.next_sibling\n",
    "rank3 = rank2.next_sibling.next_sibling\n",
    "print(\"rank3의 text : \", rank3.get_text())                  #3번 랭크의 글자가 잘 나온다. 한림체육관\n",
    "\n",
    "#previous를 활용한 전자의 정보 가져오기\n",
    "rank2 = rank3.previous_sibling.previous_sibling  #한림체육관 이전의 바른연애 길잡이 가져오기\n",
    "print(\"previous를 활용한 전자 정보 가져오기 : \", rank2.get_text())\n",
    "\n",
    "#부모 정보 가져오기\n",
    "print(\"rank1의 부모 : \", rank1.parent)   #rank1이 li태그임을 알 수 있다.\n",
    "\n",
    "#★☆개행 문제 해결 방법★☆\n",
    "rank2 = rank1.find_next_sibling(\"li\")\n",
    "print(\"find_next_sibling을 활용한 rank2 정보 가져오기 : \", rank2.a.get_text())    #바른연애 길잡이-141\n",
    "rank3 = rank2.find_next_sibling(\"li\")\n",
    "print(\"find_next_sibling을 활용한 rank3 정보 가져오기 : \", rank3.a.get_text())    #한림체육관-42화\n",
    "rank2 = rank3.find_previous_sibling(\"li\")\n",
    "print(\"find_previous_sibling을 활용한 rank2 정보 가져오기 : \", rank2.a.get_text())    #바른연애 길잡이-141\n",
    "\n",
    "\n",
    "#☆★★☆★☆---------------------------번에 모든 정보 가져오기 --------------------------------- => find_next_siblings\n",
    "print(\"\\n==>한번에 원하는 정보를 가져오기\")\n",
    "#rank1.find_next_siblings\n",
    "print(\"find_next_siblings를 활용한 형제 정보들 가져오기 : \", rank1.find_next_siblings(\"li\"))\n"
   ]
  },
  {
   "cell_type": "code",
   "execution_count": 49,
   "metadata": {},
   "outputs": [
    {
     "output_type": "stream",
     "name": "stdout",
     "text": [
      "<a href=\"/webtoon/detail.nhn?titleId=703852&amp;no=141\" onclick=\"nclk_v2(event,'rnk*p.cont','703852','2')\" title=\"바른연애 길잡이-141\">바른연애 길잡이-141</a>\n"
     ]
    }
   ],
   "source": [
    "#find의 더 많은 용법\n",
    "import requests\n",
    "from bs4 import BeautifulSoup\n",
    "\n",
    "url = \"https://comic.naver.com/webtoon/weekday.nhn\"\n",
    "res = requests.get(url)\n",
    "res.raise_for_status()\n",
    "\n",
    "soup = BeautifulSoup(res.text, \"lxml\") \n",
    "\n",
    "webtoon = soup.find(\"a\", text=\"바른연애 길잡이-141\")  #전체(soup)에서 a태그를 찾을건데, text라는 값을 비교할 수 있다.\n",
    "\n",
    "#개발자 도구에서 a태그의 정보를 복붙.\n",
    "#  <a onclick=\"nclk_v2(event,'rnk*p.cont','703852','2')\" \n",
    "#  href=\"/webtoon/detail.nhn?titleId=703852&amp;no=141\" \n",
    "#  title=\"바른연애 길잡이-141\">바른연애 길잡이-141</a>     #=> 여는 태그와 닫는 태크. 텍스트는 여는 태그와 닫는 태그의 사이의 '바른연애 길잡이-141'이다. \n",
    "\n",
    "print(webtoon)  #모든 정보중에서 엘리먼트가 a이고 텍스트가 바른연애 길잡이-141인 것을 찾아란 의미\n",
    "#<a href=\"/webtoon/detail.nhn?titleId=703852&amp;no=141\" onclick=\"nclk_v2(event,'rnk*p.cont','703852','2')\" title=\"바른연애 길잡이-141\">바른연애 길잡이-141</a>"
   ]
  },
  {
   "cell_type": "code",
   "execution_count": null,
   "metadata": {},
   "outputs": [],
   "source": []
  }
 ]
}