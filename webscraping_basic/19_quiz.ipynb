{
 "metadata": {
  "language_info": {
   "codemirror_mode": {
    "name": "ipython",
    "version": 3
   },
   "file_extension": ".py",
   "mimetype": "text/x-python",
   "name": "python",
   "nbconvert_exporter": "python",
   "pygments_lexer": "ipython3",
   "version": 3
  },
  "orig_nbformat": 2
 },
 "nbformat": 4,
 "nbformat_minor": 2,
 "cells": [
  {
   "cell_type": "code",
   "execution_count": null,
   "metadata": {},
   "outputs": [],
   "source": [
    "#퀴즈. \n",
    "#부동산 매물(송파 헬리오시티) 정보를 스크래핑 하는 프로그램은 만드시오.\n",
    "\n",
    "조회조건\n",
    "1. daum.net\n",
    "2. 송파 헬리오시티 검색\n",
    "3. 다음 부동산 부분에 나오는 결과 정보\n",
    "\n",
    "출력 결과 예시\n",
    "========== 매물 1 ==========\n",
    "거래 : 매매\n",
    "면적 : 84/59 (공급/전용)\n",
    "가격 : 165,000 (만원)\n",
    "동 : 214동\n",
    "층 : 고/23\n",
    "========== 매물 2 ==========\n",
    "\n",
    " ...\n",
    "\n",
    " 주의사항 +> 실습하는 시점에 위 매물이 없다면 다른 것으로 대체 가능하나 위 조건을 만족 시켜야 한다. "
   ]
  }
 ]
}