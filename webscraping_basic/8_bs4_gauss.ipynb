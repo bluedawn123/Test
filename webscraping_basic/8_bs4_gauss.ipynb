{
 "metadata": {
  "language_info": {
   "codemirror_mode": {
    "name": "ipython",
    "version": 3
   },
   "file_extension": ".py",
   "mimetype": "text/x-python",
   "name": "python",
   "nbconvert_exporter": "python",
   "pygments_lexer": "ipython3",
   "version": "3.7.6-final"
  },
  "orig_nbformat": 2,
  "kernelspec": {
   "name": "python3",
   "display_name": "Python 3.7.6 64-bit ('cpv': conda)",
   "metadata": {
    "interpreter": {
     "hash": "e25e0584590c458883016a89e0cf53be7d76548718d22946ce414c44a74f5c84"
    }
   }
  }
 },
 "nbformat": 4,
 "nbformat_minor": 2,
 "cells": [
  {
   "cell_type": "code",
   "execution_count": 1,
   "metadata": {},
   "outputs": [
    {
     "output_type": "stream",
     "name": "stdout",
     "text": [
      "마지막 화의 제목 가져오기 :  후기 + 10년 후 가우스\n마지막화 링크 정보 :  /webtoon/detail.nhn?titleId=675554&no=911&weekday=mon\n수정한 마지막화 링크 정보 :  https://comic.naver.com/webtoon/detail.nhn?titleId=675554&no=911&weekday=mon\n"
     ]
    }
   ],
   "source": [
    "#가우스전자 실습\n",
    "import requests\n",
    "from bs4 import BeautifulSoup\n",
    "\n",
    "url = \"https://comic.naver.com/webtoon/list.nhn?titleId=675554\" #가우스 전자\n",
    "res = requests.get(url)\n",
    "res.raise_for_status()\n",
    "\n",
    "soup = BeautifulSoup(res.text, \"lxml\") \n",
    "\n",
    "#a태그만으로는 정보가 없다. td태크의 클래스가 title인 것들로 시도를 해봐야 한다.\n",
    "\n",
    "#마지막 화의 제목 가져오기\n",
    "cartoons = soup.find_all(\"td\", attrs={\"class\":\"title\"})\n",
    "title = cartoons[0].a.get_text()\n",
    "print(\"마지막 화의 제목 가져오기 : \", title)                      #후기 + 10년 후 가우스\n",
    "\n",
    "#링크 정보 가져오기 => td밑의 a태그의 href 속성이 필요하다.\n",
    "link = cartoons[0].a[\"href\"]  #속성 정보는 대괄호\n",
    "print(\"마지막화 링크 정보 : \", link)                   #/webtoon/detail.nhn?titleId=675554&no=911&weekday=mon 밖에 없으므로 수정\n",
    "print(\"수정한 마지막화 링크 정보 : \", \"https://comic.naver.com\" + link)   #https://comic.naver.com/webtoon/detail.nhn?titleId=675554&no=911&weekday=mon"
   ]
  },
  {
   "cell_type": "code",
   "execution_count": 2,
   "metadata": {},
   "outputs": [
    {
     "output_type": "stream",
     "name": "stdout",
     "text": [
      "제목 :  후기 + 10년 후 가우스         그리고 링크 :  https://comic.naver.com/webtoon/detail.nhn?titleId=675554&no=911&weekday=mon\n제목 :  시즌4 430화 내일 봐요         그리고 링크 :  https://comic.naver.com/webtoon/detail.nhn?titleId=675554&no=910&weekday=mon\n제목 :  시즌4 429화 잠행         그리고 링크 :  https://comic.naver.com/webtoon/detail.nhn?titleId=675554&no=909&weekday=mon\n제목 :  시즌4 428화 추억         그리고 링크 :  https://comic.naver.com/webtoon/detail.nhn?titleId=675554&no=908&weekday=mon\n제목 :  시즌4 427화 섬세한사람         그리고 링크 :  https://comic.naver.com/webtoon/detail.nhn?titleId=675554&no=907&weekday=mon\n제목 :  시즌4 426화 적응         그리고 링크 :  https://comic.naver.com/webtoon/detail.nhn?titleId=675554&no=906&weekday=mon\n제목 :  시즌4 425화 대견         그리고 링크 :  https://comic.naver.com/webtoon/detail.nhn?titleId=675554&no=905&weekday=mon\n제목 :  시즌4 424화 초빙강사         그리고 링크 :  https://comic.naver.com/webtoon/detail.nhn?titleId=675554&no=904&weekday=mon\n제목 :  시즌4 423화 추억의 물건         그리고 링크 :  https://comic.naver.com/webtoon/detail.nhn?titleId=675554&no=903&weekday=mon\n제목 :  시즌4 422화 아니요         그리고 링크 :  https://comic.naver.com/webtoon/detail.nhn?titleId=675554&no=902&weekday=mon\n"
     ]
    }
   ],
   "source": [
    "#한 페이지의 모든 링크, 제목 가져오기\n",
    "import requests\n",
    "from bs4 import BeautifulSoup\n",
    "\n",
    "url = \"https://comic.naver.com/webtoon/list.nhn?titleId=675554\" #가우스 전자\n",
    "res = requests.get(url)\n",
    "res.raise_for_status()\n",
    "\n",
    "soup = BeautifulSoup(res.text, \"lxml\") \n",
    "cartoons = soup.find_all(\"td\", attrs={\"class\":\"title\"})\n",
    "\n",
    "for cartoon in cartoons:\n",
    "    title = cartoon.a.get_text()\n",
    "    link = \"https://comic.naver.com\" + cartoon.a[\"href\"]\n",
    "    print(\"제목 : \", title + \"         그리고 링크 : \", link)\n",
    "\n",
    "\n"
   ]
  },
  {
   "cell_type": "code",
   "execution_count": 3,
   "metadata": {},
   "outputs": [
    {
     "output_type": "stream",
     "name": "stdout",
     "text": [
      "9.98\n9.98\n9.97\n9.97\n9.97\n9.98\n9.97\n9.97\n9.97\n9.97\n전체점수 :  99.72999999999999\n평균점수 :  9.972999999999999\n"
     ]
    }
   ],
   "source": [
    "#평균 평점 구하기\n",
    "\n",
    "#태그명이 div 클래스가 rating_type\n",
    "#우리가 필요한 것은 strong태그의 숫자값만 필요하다.\n",
    "import requests\n",
    "from bs4 import BeautifulSoup\n",
    "\n",
    "url = \"https://comic.naver.com/webtoon/list.nhn?titleId=675554\" #가우스 전자\n",
    "res = requests.get(url)\n",
    "res.raise_for_status()\n",
    "\n",
    "soup = BeautifulSoup(res.text, \"lxml\") \n",
    "cartoons = soup.find_all(\"div\", attrs={\"class\":\"rating_type\"})\n",
    "\n",
    "#평점 구하기\n",
    "total_rates = 0\n",
    "for cartoon in cartoons:\n",
    "    rate = cartoon.find(\"strong\").get_text() #우리가 필요한 것은 strong태그의 숫자값만 필요하다. 이러면 cartoon 객체에서 strong element만 가져올 것이다. \n",
    "    print(rate)\n",
    "\n",
    "    total_rates += float(rate) #9.97이므로 실수형으로 변헝\n",
    "\n",
    "print(\"전체점수 : \", total_rates)\n",
    "\n",
    "print(\"평균점수 : \", total_rates / len(cartoons))"
   ]
  },
  {
   "cell_type": "code",
   "execution_count": null,
   "metadata": {},
   "outputs": [],
   "source": [
    "#터미널에서 하는 방법 "
   ]
  },
  {
   "cell_type": "code",
   "execution_count": 4,
   "metadata": {
    "tags": []
   },
   "outputs": [
    {
     "output_type": "stream",
     "name": "stdout",
     "text": [
      "h-txt\">최대 50,000원 적립</span></div></div></div></div></dd></dl><div class=\"mask\"></div></a></li>  </ul>  <div class=\"search-pagination\"> <span class=\"btn-prev disabled\"><span>이전</span></span>   <span class=\"btn-page\">  <a href=\"/np/search?q=%EB%85%B8%ED%8A%B8%EB%B6%81&channel=user&component=&eventCategory=SRP&trcid=&traid=&sorter=scoreDesc&minPrice=&maxPrice=&priceRange=&filterType=&listSize=36&filter=&isPriceRange=false&brand=&offerCondition=&rating=0&page=1&rocketAll=false&searchIndexingToken=&backgroundColor=\" data-srp-log='{\"group\":\"PAGINATION\", \"page\":\"1\"}' class=\"selected\">1</a>  <a href=\"/np/search?q=%EB%85%B8%ED%8A%B8%EB%B6%81&channel=user&component=&eventCategory=SRP&trcid=&traid=&sorter=scoreDesc&minPrice=&maxPrice=&priceRange=&filterType=&listSize=36&filter=&isPriceRange=false&brand=&offerCondition=&rating=0&page=2&rocketAll=false&searchIndexingToken=&backgroundColor=\" data-srp-log='{\"group\":\"PAGINATION\", \"page\":\"2\"}' class=\"\">2</a>  <a href=\"/np/search?q=%EB%85%B8%ED%8A%B8%EB%B6%81&channel=user&component=&eventCategory=SRP&trcid=&traid=&sorter=scoreDesc&minPrice=&maxPrice=&priceRange=&filterType=&listSize=36&filter=&isPriceRange=false&brand=&offerCondition=&rating=0&page=3&rocketAll=false&searchIndexingToken=&backgroundColor=\" data-srp-log='{\"group\":\"PAGINATION\", \"page\":\"3\"}' class=\"\">3</a>  <a href=\"/np/search?q=%EB%85%B8%ED%8A%B8%EB%B6%81&channel=user&component=&eventCategory=SRP&trcid=&traid=&sorter=scoreDesc&minPrice=&maxPrice=&priceRange=&filterType=&listSize=36&filter=&isPriceRange=false&brand=&offerCondition=&rating=0&page=4&rocketAll=false&searchIndexingToken=&backgroundColor=\" data-srp-log='{\"group\":\"PAGINATION\", \"page\":\"4\"}' class=\"\">4</a>  <a href=\"/np/search?q=%EB%85%B8%ED%8A%B8%EB%B6%81&channel=user&component=&eventCategory=SRP&trcid=&traid=&sorter=scoreDesc&minPrice=&maxPrice=&priceRange=&filterType=&listSize=36&filter=&isPriceRange=false&brand=&offerCondition=&rating=0&page=5&rocketAll=false&searchIndexingToken=&backgroundColor=\" data-srp-log='{\"group\":\"PAGINATION\", \"page\":\"5\"}' class=\"\">5</a>  <a href=\"/np/search?q=%EB%85%B8%ED%8A%B8%EB%B6%81&channel=user&component=&eventCategory=SRP&trcid=&traid=&sorter=scoreDesc&minPrice=&maxPrice=&priceRange=&filterType=&listSize=36&filter=&isPriceRange=false&brand=&offerCondition=&rating=0&page=6&rocketAll=false&searchIndexingToken=&backgroundColor=\" data-srp-log='{\"group\":\"PAGINATION\", \"page\":\"6\"}' class=\"\">6</a>  <a href=\"/np/search?q=%EB%85%B8%ED%8A%B8%EB%B6%81&channel=user&component=&eventCategory=SRP&trcid=&traid=&sorter=scoreDesc&minPrice=&maxPrice=&priceRange=&filterType=&listSize=36&filter=&isPriceRange=false&brand=&offerCondition=&rating=0&page=7&rocketAll=false&searchIndexingToken=&backgroundColor=\" data-srp-log='{\"group\":\"PAGINATION\", \"page\":\"7\"}' class=\"\">7</a>  <a href=\"/np/search?q=%EB%85%B8%ED%8A%B8%EB%B6%81&channel=user&component=&eventCategory=SRP&trcid=&traid=&sorter=scoreDesc&minPrice=&maxPrice=&priceRange=&filterType=&listSize=36&filter=&isPriceRange=false&brand=&offerCondition=&rating=0&page=8&rocketAll=false&searchIndexingToken=&backgroundColor=\" data-srp-log='{\"group\":\"PAGINATION\", \"page\":\"8\"}' class=\"\">8</a>  <a href=\"/np/search?q=%EB%85%B8%ED%8A%B8%EB%B6%81&channel=user&component=&eventCategory=SRP&trcid=&traid=&sorter=scoreDesc&minPrice=&maxPrice=&priceRange=&filterType=&listSize=36&filter=&isPriceRange=false&brand=&offerCondition=&rating=0&page=9&rocketAll=false&searchIndexingToken=&backgroundColor=\" data-srp-log='{\"group\":\"PAGINATION\", \"page\":\"9\"}' class=\"\">9</a>  </span> <span class=\"btn-next-track\">...</span> <a class=\"btn-last disabled\">27</a>   <a href=\"/np/search?q=%EB%85%B8%ED%8A%B8%EB%B6%81&channel=user&component=&eventCategory=SRP&trcid=&traid=&sorter=scoreDesc&minPrice=&maxPrice=&priceRange=&filterType=&listSize=36&filter=&isPriceRange=false&brand=&offerCondition=&rating=0&page=2&rocketAll=false&searchIndexingToken=\" data-srp-log='{\"group\":\"PAGINATION\", \"page\":\"next\"}' class=\"btn-next\"><span>다음</span></a> </div>    </div>   <div class=\"customer-feedback-container\"><div id=\"customerFeedback-SEARCH\" class=\"customer-feedback-wrap\" data-feedback-group=\"SEARCH\"><dl class=\"feedback-steps step-feedback\" data-feedback-step=\"FEEDBACK\"><dt>현재 검색 결과에 만족하셨나요?</dt><dd><span class=\"like feedback\" data-feedback='{\"key\": \"FEEDBACK\", \"value\": \"LIKE\", \"next\": \"FEEDBACK-RESET\"}' data-srp-log='{\"group\":\"FEEDBACKLIKE\"}'></span> <span class=\"dislike feedback\" data-feedback='{\"key\": \"FEEDBACK\", \"value\": \"DISLIKE\", \"next\": \"FEEDBACK-DETAIL\"}' data-srp-log='{\"group\":\"FEEDBACKDISLIKE\"}'></span></dd></dl><dl class=\"feedback-steps step-feedback-detail\" data-feedback-step=\"FEEDBACK-DETAIL\"><dt>어떤 문제가 있었나요?</dt><dd><ul class=\"feedback-options\"><li class=\"feedback-detail\" data-feedback='{\"key\": \"FEEDBACK-DETAIL\", \"value\": \"PRODUCT\", \"next\": \"FEEDBACK-RESET\"}' data-srp-log='{\"group\":\"FEEDBACKDISLIKE\", \"feedback\":\"PRODUCT\"}'>관련 없는 상품이 있어요</li><li class=\"feedback-detail\" data-feedback='{\"key\": \"FEEDBACK-DETAIL\", \"value\": \"FILTER\", \"next\": \"FEEDBACK-RESET\"}' data-srp-log='{\"group\":\"FEEDBACKDISLIKE\", \"feedback\":\"FILTER\"}'>필터가 도움이 안 돼요</li><li class=\"feedback-detail\" data-feedback='{\"key\": \"FEEDBACK-DETAIL\", \"value\": \"IMG_INFO\", \"next\": \"FEEDBACK-RESET\"}' data-srp-log='{\"group\":\"FEEDBACKDISLIKE\", \"feedback\":\"IMG_INFO\"}'>이미지나 정보가 부정확해요</li><li class=\"feedback-detail\" data-feedback='{\"key\": \"FEEDBACK-DETAIL\", \"value\": \"REC_KEYWORD\", \"next\": \"FEEDBACK-RESET\"}' data-srp-log='{\"group\":\"FEEDBACKDISLIKE\", \"feedback\":\"REC_KEYWORD\"}'>추천해준 검색어가 도움이 안 돼요</li><li class=\"feedback-detail\" data-feedback='{\"key\": \"FEEDBACK-DETAIL\", \"value\": \"ETC\", \"next\": \"FEEDBACK-RESET\"}' data-srp-log='{\"group\":\"FEEDBACKDISLIKE\", \"feedback\":\"ETC\"}'>기타 원하는 옵션이 없어요</li></ul></dd></dl><div class=\"feedback-steps step-reset\" data-feedback-step=\"FEEDBACK-RESET\">소중한 의견 감사합니다.<br>더 좋은 쿠팡을 기대해주세요. <a class=\"feedback-reset\" data-feedback='{\"key\": \"FEEDBACK-RESET\", \"value\": \"RESET\", \"next\": \"FEEDBACK\"}' data-srp-log='{\"group\":\"FEEDBACKRESET\"}'>응답 수정하기</a></div></div></div>   </div></form>\n\n  <!-- CRITEO JS TRACKER for MARKETING TEAM -->\n  <script src=/resources/20210310141021/np/js/modules/search/utils/criteoLogHelper-min.js></script>\n  <!-- IntersectionObserver for Ads -->\n  <script src=/resources/20210310141021/np/js/modules/search/utils/intersection-observer-min.js></script>\n\n\n            \n                \n    <!-- coupang side-banner -->\n<article id=\"side-bar\" class=\"\"\n    >\n\n    \n\n    \n\n\t<ul class=\"promotion-banner\">\n        \n        \n            \n            \n        \n            \n            \n                \n                    <li><a href=\"https://www.coupang.com/np/campaigns/1440\" data-coulog='{\"logCategory\":\"event\", \"logType\":\"click\", \"logLabel\":\"rightbanner_1\",\"grp\":\"sideBar\"}'><img src=\"//image7.coupangcdn.com/image/displayitem/displayitem_8ad9b5e0-fd76-407b-b820-6494f03ffc31.jpg\" width=\"102\" height=\"150\" alt=\"\"/></a></li>\n                \n            \n        \n\t</ul>\n\n    <section id=\"my-view\" data-prefix=\"//cart.coupang.com\">\n        <div class=\"side-cart\"><a href=\"//cart.coupang.com/cartView.pang\"\n                                  data-coulog='{\"logCategory\":\"event\", \"logType\":\"click\", \"logLabel\":\"cart\",\"grp\":\"sideBar\"}'\n                                  title=\"장바구니\"><strong>장바구니</strong><em class=\"cart-count\"></em></a></div>\n        <div class=\"recently-viewed-products\">\n            <strong>최근본상품</strong>\n            <em class=\"total-element\"></em>\n        </div>\n        <div class=\"recently-viewed-list\">\n            <ul class=\"recently-viewed-page\" data-href=\"\" >\n\n            </ul>\n            <p class=\"recent-viewed-paging\">\n\t\t\t<span class=\"counter\">\n\t\t\t\t<strong class=\"pageNumber\"></strong>/<em class=\"total-pages\"></em>\n\t\t\t</span>\n\t\t\t<span class=\"recentlyViewedBtn\">\n\t\t\t\t<a href=\"이전 페이지 보기\" class=\"move prev\" title=\"이전 페이지 보기\">prev</a>\n\t\t\t\t<a href=\"다음 페이지 보기\" class=\"move next\" title=\"다음 페이지 보기\">next</a>\n\t\t\t</span>\n            </p>\n        </div>\n    </section>\n\n\t<aside class=\"side-button\">\n        \n\t\t<a href=\"javascript:;\" id=\"sideTop\" class=\"top\" title=\"맨 위로 가기\" data-coulog='{\"logCategory\":\"event\", \"logType\":\"click\", \"logLabel\":\"floatingbanner_topnavi\",\"grp\":\"sideBar\"}' data-gaclick='{\"hitType\":\"event\", \"eventCategory\":\"Floatingbanner\", \"eventAction\":\"click\", \"eventLabel\":\"floatingbanner_topnavi\", \"eventValue\":0}'>top</a>\n        \n            \n\t\t\t\t<a href=\"javascript:;\" id=\"sideUp\" class=\"up\" title=\"up\" data-gaclick='{\"hitType\":\"event\", \"eventCategory\":\"Floatingbanner\", \"eventAction\":\"click\", \"eventLabel\":\"floatingbanner_upnavi\", \"eventValue\":0}'>up</a>\n\t\t\t\t<a href=\"javascript:;\" id=\"sideDown\" class=\"down\" title=\"down\" data-gaclick='{\"hitType\":\"event\", \"eventCategory\":\"Floatingbanner\", \"eventAction\":\"click\", \"eventLabel\":\"floatingbanner_downnavi\", \"eventValue\":0}'>down</a>\n            \n        \n\n        \n\t</aside>\n</article>\n\n\n\n            \n        </section>\n\n        \n    \n        <div id=\"searchAlsoViewedProducts\">\n            \n        </div>\n    \n\n    \n\n\n        \n    <!-- coupang footer -->\n      <footer id=\"footer\" class=\"footer_new\">\n          <div class=\"footer-layer1 is-narrowed\">\n              <a href=\"https://www.aboutcoupang.com/ko/\" target=\"_blank\">회사소개</a>\n              <a href=\"https://rocketyourcareer.kr.coupang.com\" target=\"_blank\">인재채용</a>\n              <a href=\"https://wing.coupang.com/vendor/joining/welcome?inflow=WEB_FOOTER_B\">입점 / 제휴문의</a>\n              <a href=\"https://csmessenger.coupang.com/cs-center/notice/main\">공지사항</a>\n              <a href=\"https://csmessenger.coupang.com/cs-center/voc/main\">고객의 소리</a>\n              <a href=\"/np/policies/terms\">이용약관</a>\n              <a href=\"/np/policies/privacy\"><b>개인정보 처리방침</b></a>\n              <a href=\"https://rocketpay.coupang.com/rocketpay/operationTerms/coupangPcFooter\">쿠팡페이 이용약관</a>\n              <a href=\"https://rocketpay.coupang.com/rocketpay/coupangpay-terms-v2/privacy-policy\"><b>쿠팡페이 개인정보처리방침</b></a>\n              <a href=\"/np/safety\">신뢰관리센터</a>\n              <a href=\"https://partners.coupang.com/\" target=\"_blank\">제휴마케팅</a>\n              <a href=\"https://ads.coupang.com\" target=\"_blank\">광고안내</a>\n          </div>\n          <div class=\"footer-layer2\">\n              <h1><a href=\"/\" title=\"COUPANG\">COUPANG</a></h1>\n              <div class=\"footer-content\">\n                  <address>\n                      쿠팡(주) | 대표이사 : 강한승,박대준<br />\n                      서울시 송파구 송파대로 570 <br />\n                      사업자 등록번호 : 120-88-00767 <br />\n                      통신판매업신고 : 2017-서울송파-0680<br />\n                      <a href=\"http://www.ftc.go.kr/info/bizinfo/communicationViewPopup.jsp?wrkr_no=1208800767\" target=\"_blank\" class=\"licensee\" title=\"사업자정  보 확인\">사업자정보 확인 &gt;</a>\n                  </address>\n                  <div class=\"contact-info\">\n                      <a href=\"https://csmessenger.coupang.com/cs-center/chat/main\" class=\"call-center\" title=\"365 고객센터\">\n                          <strong>365고객센터</strong> | 전자금융거래분쟁처리담당<br />\n                          <em>1577-7011</em>\n                          서울시 송파구 송파대로 570<br />\n                          <span class=\"contact-fax\">email : help@coupang.com</span>\n                      </a>\n                  </div>\n                  <p class=\"safe-service\">\n                      <strong>우리은행 채무지급보증 안내</strong><br />\n              <span>\n                  당사는 고객님이 현금 결제한 금액에 대해<br />우리은행과 채무지급보증 계약을 체결하여<br />안전거래를 보장하고 있습니다.<br />\n              </span>\n                      <a href=\"javascript:;\" id=\"serviceCheck\" class=\"service-check\" title=\"서비스 가입사실 확인\">서비스 가입사실 확인 &gt;</a>\n                  </p>\n              </div>\n          </div>\n          <div class=\"footer-layer3 slide-unit\">\n              <div class=\"certification-list\" style=\"width: 968px;height: 80px; margin: 0 auto; background: url(//static.coupangcdn.com/image/coupang/common/footer_asset_v10.png) no-repeat; background-position: -44px -92px;\">\n              </div>\n          </div>\n          <div class=\"footer-layer4\">\n              <div class=\"coupang-copyright\">\n  <p class=\"info\" style=\"padding-top:9px\">사이버몰 내 판매되는 상품 중에는 쿠팡에 등록한 개별 판매자가 판매하는 마켓플레이스(오픈마켓) 상품이 포함되어 있습니다.   <br> 마켓플레이스(오픈마켓) 상품의 경우 쿠팡은 통신판매중개자이며 통신판매의 당사자가 아닙니다. <br>쿠팡은 마켓플레이스(오픈마켓) 상품, 거래정보 및 거래 등에   대하여 책임을 지지 않습니다. <br> 쿠팡은 소비자 보호와 안전거래를 위해 신뢰관리센터(CM112@coupang.com)를 운영하고 있으며, 관련 분쟁이 발생할 경우 별도의 분쟁  처리절차에 의거 분쟁이 처리됩니다.<br> Copyright © Coupang Corp. 2010-2020 All Rights Reserved.\n  </p>\n                  <ul class=\"sns-link\">\n                      <li><a href=\"https://www.facebook.com/Coupang.korea\" target=\"_blank\" class=\"facebook\" title=\"쿠팡 페이스북\">쿠팡 페이스북</a></li>\n                      <li><a href=\"https://news.coupang.com/\" target=\"_blank\" class=\"blog\" title=\"쿠팡 뉴스룸\">쿠팡 뉴스룸</a></li>\n                      <li><a href=\"https://www.instagram.com/coupang\" target=\"_blank\" class=\"instagram\" title=\"쿠팡 인스타그램\">쿠팡 인스타그램</a></li>\n                  </ul>\n              </div>\n          </div>\n      </footer>\n\n\n\n\n    </div>\n    \n    \n    \n\t\n\t<script src=\"/resources/20210310141021/np/js/lib/jslog/jslog.js\" type=\"text/javascript\"></script>\n\n\n\n\n\n\t\n\t\t<script type=\"text/javascript\">\n\t\t\tnew JsLog('coupang_web', '','','https://jslog.coupang.com').enableTrap();\n\t\t</script>\n\t\n\n\n<script>\n\n    window.logRequireTime = function(){};\n\n    try {\n        if (window.performance && window.performance.now) {\n            window.redwoodTimeLog = {\n                requirejs: {\n                    start: window.performance.now()\n                }\n            };\n            window.logRequireTime = function () {\n                window.redwoodTimeLog.requirejs.end = window.performance.now();\n                window.redwoodTimeLog.requirejs.time = window.redwoodTimeLog.requirejs.end - window.redwoodTimeLog.requirejs.start;\n            }\n        }\n    } catch(e) {}\n\n\n\n</script>\n<script src=\"/resources/20210310141021/np/js/lib/requirejs/require-2.1.14.min.js\" type=\"text/javascript\" onload=\"logRequireTime()\"></script>\n\n<script type=\"text/javascript\">\n    \n    \n    \n        define('page/search/include/searchAlsoViewedProducts.hbs', ['handlebars'], function(Handlebars) {\n  var template = Handlebars.template(function (Handlebars,depth0,helpers,partials,data) {\n  this.compilerInfo = [4,'>= 1.0.0'];\nhelpers = this.merge(helpers, Handlebars.helpers); data = data || {};\n  var buffer = \"\", stack1, helper, functionType=\"function\", escapeExpression=this.escapeExpression;\n\n\n  buffer += \"<div data-fodium-widget=\\\"desktop/widgets/srp/AlsoViewedProducts\\\" data-fodium-widget-params='{\\n         \\\"productIds\\\": \";\n  if (helper = helpers.productIndexes) { stack1 = helper.call(depth0, {hash:{},data:data}); }\n  else { helper = (depth0 && depth0.productIndexes); stack1 = typeof helper === functionType ? helper.call(depth0, {hash:{},data:data}) : helper; }\n  buffer += escapeExpression(stack1)\n    + \",\\n         \\\"widgetId\\\": \\\"WIDGET_PC_SRP_001\\\",\\n         \\\"minCount\\\": 5,\\n         \\\"maxCount\\\": 15\\n     }'></div>\";\n  return buffer;\n  });\n  var templates = Handlebars.templates = Handlebars.templates || {};\n  templates['page/search/include/searchAlsoViewedProducts.hbs'] = template;\n  var partials = Handlebars.partials = Handlebars.partials || {};\n  partials['page/search/include/searchAlsoViewedProducts.hbs'] = template;\n  return template;\n});\n    \n\n    \n    \n    \n\n    var coupangWebRequire = require.config({\n        baseUrl: '/resources/20210310141021/np/js/modules',\n        context : 'coupangWeb',\n\t    waitSeconds: 7000,\n        paths: {\n            jquery: '//asset2.coupangcdn.com/cdnjs/jquery/1.11.1/jquery.min',\n            hashchange: '../lib/jquery/jquery.ba-hashchange-1.3-browser-patch',\n            handlebars: '//asset2.coupangcdn.com/cdnjs/handlebars.js/1.3.0/handlebars.min',\n            text: '//asset2.coupangcdn.com/cdnjs/require-text/2.0.12/text.min',\n            moment: '//asset2.coupangcdn.com/cdnjs/moment.js/2.10.2/moment.min',\n            momentLocale: '//asset2.coupangcdn.com/cdnjs/moment.js/2.10.2/locales.min',\n            lodash: '//asset2.coupangcdn.com/cdnjs/lodash.js/3.10.1/lodash.min',\n            template: '/resources/20210310141021/np/html/template',\n\t\t\tfacebook: '//connect.facebook.net/ko_KR/sdk',\n            couLog: '//asset2.coupangcdn.com/customjs/cou-log/2.0.0/cou-log.min',\n            speedChecker: '//asset2.coupangcdn.com/customjs/speed-checker/0.7.3/speed-checker.min',\n            ezPlus: '//asset2.coupangcdn.com/customjs/jquery-elevatezoom-plus/1.1.11/jquery.ez-plus.min',\n            fodiumWidgetLoader: '//asset2.coupangcdn.com/customjs/fodium-widget-loader/1.0.1/fodiumWidgetLoader.min',\n            videojs: '//asset2.coupangcdn.com/cdnjs/video.js/5.16.0/video.min',\n            videohls: '//asset2.coupangcdn.com/cdnjs/videojs-contrib-hls/5.1.1/videojs-contrib-hls',\n            weblog: '//asset2.coupangcdn.com/customjs/coupang-web-log/1.3.0/web-log.umd.min',\n            incorrectInfoBundle: 'sdp/incorrectInfoReport/webpack/incorrectInfoBundle'\n        },\n        shim: {\n            handlebars: {\n                exports: 'Handlebars'\n            },\n            hashchange: {\n            \tdeps: ['jquery'],\n            \texports: 'Hashchange'\n        \t},\n\t\t\tfacebook : {\n\t\t\t\texports: 'FB'\n\t\t\t},\n\t\t\tcouLog: {\n\t\t\t\tdeps: ['jquery'],\n\t\t\t\texports: 'couLog'\n\t\t\t},\n            speedChecker: {\n                deps: ['jquery','couLog'],\n                exports: 'speedChecker'\n            }\n        }\n    });\n    \n        \n    coupangWebRequire([\n    '../modules/search/search',\n    '../modules/search/utils/searchLogHelper-min',\n    '../modules/search/utils/searchWebLogHelper-min',\n    '../modules/common/template/search/SearchFocus',\n    '../modules/search/merchandisingWidget'\n], function(search, logHelper, webLogHelper, searchFocus, merchandisingWidget) {\n    try {\n        logHelper.initialize();\n    } catch(e) {\n        console.error(e);\n    }\n    try {\n        webLogHelper.initialize();\n    } catch(e) {\n        console.error(e);\n    }\n    try {\n        new searchFocus('#headerSearchKeyword');\n    } catch(e) {\n        console.error(e);\n    }\n    try {\n        merchandisingWidget.initialize();\n    } catch(e) {\n        console.error(e);\n    }\n\n    coupangWebRequire(['searchFilter', 'searchContents', 'searchCustomizedCheckbox'], function (searchFilter, searchContents, searchCustomizedCheckbox) {\n        try {\n            searchFilter.initialize();\n        } catch(e) {\n            console.error(e);\n        }\n        try {\n            searchContents.initialize();\n        } catch(e) {\n            console.error(e);\n        }\n        try {\n            searchCustomizedCheckbox.initialize($(\"#searchOptionForm\"));\n        } catch(e) {\n            console.error(e);\n        }\n    });\n});\n\ncoupangWebRequire([\n    'handlebars',\n    'hashchange',\n    '../lib/jquery/plugin/stringify',\n    '../page-controllers/common/controller',\n    'couLog'\n]);\n\n\n    \n\n\n    \n    \n</script>\n\n\n    <!-- Facebook Pixel Code -->\n<script>\n    !function(f,b,e,v,n,t,s){if(f.fbq)return;n=f.fbq=function(){n.callMethod?n.callMethod.apply(n,arguments):n.queue.push(arguments)};if(!f._fbq)f._fbq=n;\n        n.push=n;n.loaded=!0;n.version='2.0';n.queue=[];t=b.createElement(e);t.async=!0;\n        t.src=v;s=b.getElementsByTagName(e)[0];s.parentNode.insertBefore(t,s)}(window,\n            document,'script','https://connect.facebook.net/en_US/fbevents.js');\n    fbq('init', '652323801535981');\n    fbq('track', 'PageView');\n        \n</script>\n<noscript><img height=\"1\" width=\"1\" style=\"display:none\" src=\"https://www.facebook.com/tr?id=652323801535981&ev=PageView&noscript=1\"/></noscript>\n<!-- End Facebook Pixel Code -->\n\n\t\n    <script type=\"text/javascript\" src=\"//asset2.coupangcdn.com/customjs/criteo/5.6.1/ld.min.js\" async=\"true\"></script>\n\n\n    \n    \n<script type=\"text/javascript\" >var _cf = _cf || []; _cf.push(['_setFsp', true]);  _cf.push(['_setBm', true]);  _cf.push(['_setAu', '/clientlibs/9b777518cno1971eb430c76c49992de']); </script><script type=\"text/javascript\"  src=\"/clientlibs/9b777518cno1971eb430c76c49992de\"></script></body>\n</html>\n\n\n\n"
     ]
    }
   ],
   "source": [
    "import requests\n",
    "from bs4 import BeautifulSoup\n",
    "\n",
    "url = \"https://www.coupang.com/np/search?q=%EB%85%B8%ED%8A%B8%EB%B6%81&channel=user&component=&eventCategory=SRP&trcid=&traid=&sorter=scoreDesc&minPrice=&maxPrice=&priceRange=&filterType=&listSize=36&filter=&isPriceRange=false&brand=&offerCondition=&rating=0&page=1&rocketAll=false&searchIndexingToken=1=4&backgroundColor=\"\n",
    "\n",
    "res = requests.get(url)\n",
    "res.raise_for_status()\n",
    "\n",
    "soup = BeautifulSoup(res.text, \"lxml\")\n",
    "\n",
    "print(res.text)"
   ]
  },
  {
   "cell_type": "code",
   "execution_count": null,
   "metadata": {},
   "outputs": [],
   "source": [
    "import requests\n",
    "from bs4 import BeautifulSoup\n",
    "\n",
    "url = \"https://www.coupang.com/np/search?q=%EB%85%B8%ED%8A%B8%EB%B6%81&channel=user&component=&eventCategory=SRP&trcid=&traid=&sorter=scoreDesc&minPrice=&maxPrice=&priceRange=&filterType=&listSize=36&filter=&isPriceRange=false&brand=&offerCondition=&rating=0&page=1&rocketAll=false&searchIndexingToken=1=4&backgroundColor=\"\n",
    "\n",
    "res = requests.get(url)\n",
    "res.raise_for_status()\n",
    "\n",
    "soup = BeautifulSoup(res.text, \"lxml\")\n",
    "\n",
    "print(res.text)"
   ]
  },
  {
   "cell_type": "code",
   "execution_count": null,
   "metadata": {},
   "outputs": [],
   "source": []
  }
 ]
}