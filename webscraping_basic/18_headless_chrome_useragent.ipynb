{
 "metadata": {
  "language_info": {
   "codemirror_mode": {
    "name": "ipython",
    "version": 3
   },
   "file_extension": ".py",
   "mimetype": "text/x-python",
   "name": "python",
   "nbconvert_exporter": "python",
   "pygments_lexer": "ipython3",
   "version": "3.7.6-final"
  },
  "orig_nbformat": 2,
  "kernelspec": {
   "name": "python3",
   "display_name": "Python 3.7.6 64-bit ('cpv': conda)",
   "metadata": {
    "interpreter": {
     "hash": "e25e0584590c458883016a89e0cf53be7d76548718d22946ce414c44a74f5c84"
    }
   }
  }
 },
 "nbformat": 4,
 "nbformat_minor": 2,
 "cells": [
  {
   "cell_type": "code",
   "execution_count": 2,
   "metadata": {},
   "outputs": [
    {
     "output_type": "stream",
     "name": "stdout",
     "text": [
      "Mozilla/5.0 (Windows NT 10.0; Win64; x64) AppleWebKit/537.36 (KHTML, like Gecko) HeadlessChrome/89.0.4389.82 Safari/537.36\n"
     ]
    }
   ],
   "source": [
    "#헤드리스 크롬\n",
    "\n",
    "import requests\n",
    "from bs4 import BeautifulSoup\n",
    "from selenium import webdriver\n",
    "\n",
    "#headless chrome => 크롬 띄우기 전에 실시\n",
    "options = webdriver.ChromeOptions()\n",
    "options.headless = True\n",
    "options.add_argument(\"window-size=1920x1080\") #백그라운드에서 도는 브라우저의 크기를 얼만큼인지 모르게 때문에 명시적으로 표시. 1920x1080에 맞춰서 크롬을 띄워서 내부적 동작 수행\n",
    "\n",
    "browser = webdriver.Chrome(options=options)\n",
    "browser.maximize_window()\n",
    "\n",
    "url = \"https://www.whatismybrowser.com/detect/what-is-my-user-agent\"\n",
    "browser.get(url)\n",
    "\n",
    "#파란색 부분 가져오기\n",
    "detected_value = browser.find_element_by_id(\"detected_value\")\n",
    "print(detected_value.text)\n",
    "\n",
    "browser.close()\n",
    "\n",
    "#Mozilla/5.0 (Windows NT 10.0; Win64; x64) AppleWebKit/537.36 (KHTML, like Gecko) HeadlessChrome/89.0.4389.82 Safari/537.36 => 이걸로 출력시. 따로\n",
    "#Mozilla/5.0 (Windows NT 10.0; Win64; x64) AppleWebKit/537.36 (KHTML, like Gecko) Chrome/89.0.4389.82 Safari/537.36 => 원래 사이트에서 나오는 거"
   ]
  },
  {
   "cell_type": "code",
   "execution_count": 2,
   "metadata": {},
   "outputs": [
    {
     "output_type": "stream",
     "name": "stdout",
     "text": [
      "Mozilla/5.0 (Windows NT 10.0; Win64; x64) AppleWebKit/537.36 (KHTML, like Gecko) Chrome/89.0.4389.90 Safari/537.36\n"
     ]
    }
   ],
   "source": [
    "#유저 에이전트 + 헤드리스 크롬\n",
    "\n",
    "import requests\n",
    "from bs4 import BeautifulSoup\n",
    "from selenium import webdriver\n",
    "\n",
    "#headless chrome => 크롬 띄우기 전에 실시\n",
    "options = webdriver.ChromeOptions()\n",
    "options.headless = True\n",
    "options.add_argument(\"window-size=1920x1080\") #백그라운드에서 도는 브라우저의 크기를 얼만큼인지 모르게 때문에 명시적으로 표시. 1920x1080에 맞춰서 크롬을 띄워서 내부적 동작 수행\n",
    "\n",
    "#유저 에이전트 추가 ★☆\n",
    "options.add_argument(\"user-agent=Mozilla/5.0 (Windows NT 10.0; Win64; x64) AppleWebKit/537.36 (KHTML, like Gecko) Chrome/89.0.4389.90 Safari/537.36\") #원래 갖고 있던 유저 에이전트 값\n",
    "\n",
    "browser = webdriver.Chrome(options=options)\n",
    "browser.maximize_window()\n",
    "\n",
    "url = \"https://www.whatismybrowser.com/detect/what-is-my-user-agent\"\n",
    "browser.get(url)\n",
    "\n",
    "#파란색 부분 가져오기\n",
    "detected_value = browser.find_element_by_id(\"detected_value\")\n",
    "print(detected_value.text)\n",
    "#=> Mozilla/5.0 (Windows NT 10.0; Win64; x64) AppleWebKit/537.36 (KHTML, like Gecko) Chrome/89.0.4389.90 Safari/537.36. 즉, headlesschrome이 아닌 chrome으로 출력된다. \n",
    "\n",
    "browser.close()"
   ]
  },
  {
   "cell_type": "code",
   "execution_count": null,
   "metadata": {},
   "outputs": [],
   "source": []
  }
 ]
}