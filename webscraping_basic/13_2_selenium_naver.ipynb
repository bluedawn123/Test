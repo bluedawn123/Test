{
 "metadata": {
  "language_info": {
   "codemirror_mode": {
    "name": "ipython",
    "version": 3
   },
   "file_extension": ".py",
   "mimetype": "text/x-python",
   "name": "python",
   "nbconvert_exporter": "python",
   "pygments_lexer": "ipython3",
   "version": "3.7.6-final"
  },
  "orig_nbformat": 2,
  "kernelspec": {
   "name": "python3",
   "display_name": "Python 3.7.6 64-bit ('cpv': conda)",
   "metadata": {
    "interpreter": {
     "hash": "e25e0584590c458883016a89e0cf53be7d76548718d22946ce414c44a74f5c84"
    }
   }
  }
 },
 "nbformat": 4,
 "nbformat_minor": 2,
 "cells": [
  {
   "cell_type": "code",
   "execution_count": 11,
   "metadata": {},
   "outputs": [],
   "source": [
    "import time\n",
    "from selenium import webdriver\n",
    "\n",
    "\n",
    "browser = webdriver.Chrome()\n",
    "\n",
    "#1. 네이버 이동\n",
    "browser.get(\"http://naver.com\")\n",
    "\n",
    "#2. 로그인 버튼 클릭\n",
    "elem = browser.find_element_by_class_name(\"link_login\")\n",
    "elem.click()\n",
    "\n",
    "#3. id, pw 클릭\n",
    "browser.find_element_by_id(\"id\").send_keys(\"naver_id\")\n",
    "browser.find_element_by_id(\"pw\").send_keys(\"password\")\n",
    "\n",
    "#4. 로그인 버튼 클릭\n",
    "browser.find_element_by_id(\"log.login\").click()\n",
    "\n",
    "time.sleep(5)\n",
    "\n",
    "#5. 아이디 새로 입력 => 잘못된 아이디 이므로\n",
    "browser.find_element_by_id(\"id\").clear()  #naver_id와 연속되지 않게 하기 위해서\n",
    "browser.find_element_by_id(\"id\").send_keys(\"my_id\")\n",
    "\n",
    "#6. html 정보 출력\n",
    "print(browser.page_source)\n",
    "\n",
    "#7. 브라우저 종료\n",
    "browser.close()"
   ]
  },
  {
   "cell_type": "code",
   "execution_count": null,
   "metadata": {},
   "outputs": [],
   "source": []
  }
 ]
}