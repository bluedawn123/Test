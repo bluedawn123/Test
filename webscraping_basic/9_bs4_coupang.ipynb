{
 "metadata": {
  "language_info": {
   "codemirror_mode": {
    "name": "ipython",
    "version": 3
   },
   "file_extension": ".py",
   "mimetype": "text/x-python",
   "name": "python",
   "nbconvert_exporter": "python",
   "pygments_lexer": "ipython3",
   "version": "3.7.6-final"
  },
  "orig_nbformat": 2,
  "kernelspec": {
   "name": "python3",
   "display_name": "Python 3.7.6 64-bit ('cpv': conda)",
   "metadata": {
    "interpreter": {
     "hash": "e25e0584590c458883016a89e0cf53be7d76548718d22946ce414c44a74f5c84"
    }
   }
  }
 },
 "nbformat": 4,
 "nbformat_minor": 2,
 "cells": [
  {
   "cell_type": "code",
   "execution_count": 2,
   "metadata": {},
   "outputs": [
    {
     "output_type": "error",
     "ename": "SyntaxError",
     "evalue": "invalid syntax (<ipython-input-2-db71e5475a51>, line 13)",
     "traceback": [
      "\u001b[1;36m  File \u001b[1;32m\"<ipython-input-2-db71e5475a51>\"\u001b[1;36m, line \u001b[1;32m13\u001b[0m\n\u001b[1;33m    items = soup.find_all(\"li\", attrs={\"class\":re.compile\"search-product\"})  #정규식을 쓰는 이유? search-product로 시작하는 것을 의미하기 위해서\u001b[0m\n\u001b[1;37m                                                                        ^\u001b[0m\n\u001b[1;31mSyntaxError\u001b[0m\u001b[1;31m:\u001b[0m invalid syntax\n"
     ]
    }
   ],
   "source": [
    "#User_agent 사용전.... \n",
    "\n",
    "import requests\n",
    "import re       #정규식 쓰려고\n",
    "from bs4 import BeautifulSoup\n",
    "\n",
    "url = \"https://www.coupang.com/np/search?q=%EB%85%B8%ED%8A%B8%EB%B6%81&channel=user&component=&eventCategory=SRP&trcid=&traid=&sorter=scoreDesc&minPrice=&maxPrice=&priceRange=&filterType=&listSize=36&filter=&isPriceRange=false&brand=&offerCondition=&rating=0&page=1&rocketAll=false&searchIndexingToken=1=4&backgroundColor=\"\n",
    "\n",
    "res = requests.get(url)\n",
    "res.raise_for_status()\n",
    "\n",
    "soup = BeautifulSoup(res.text, \"lxml\")\n",
    "\n",
    "#노트북에 대한 정보\n",
    "items = soup.find_all(\"li\", attrs={\"class\":re.compile(\"search-product\")})  #정규식을 쓰는 이유? search-product로 시작하는 것을 의미하기 위해서\n",
    "    #=> 자동으로 li태그중 class정보가 search-product로 시작하는 모든 element를 가져온다.\n",
    "\n",
    "#에시로 첫번째 노트북의 이름만 찾기\n",
    "print(items[0].find(\"div\", attrs={\"class\":\"name\"}).get_text()) #div태그의 class정보가 name인 것의 첫번째.의 text가 필요하므로.  (get.text())사용"
   ]
  },
  {
   "cell_type": "code",
   "execution_count": 4,
   "metadata": {},
   "outputs": [
    {
     "output_type": "stream",
     "name": "stdout",
     "text": [
      "첫 제품 이름 :  삼성전자 Plus 2 퓨어화이트 노트북 NT550XDZ-AD1AW (셀러론 6305 39.6cm), 미포함, 256GB, 8GB\n"
     ]
    }
   ],
   "source": [
    "#User_agent 사용후.... \n",
    "#1\n",
    "#첫번째 제품의 이름만 알아내기\n",
    "\n",
    "import requests\n",
    "import re       #정규식 쓰려고\n",
    "from bs4 import BeautifulSoup\n",
    "\n",
    "url = \"https://www.coupang.com/np/search?q=%EB%85%B8%ED%8A%B8%EB%B6%81&channel=user&component=&eventCategory=SRP&trcid=&traid=&sorter=scoreDesc&minPrice=&maxPrice=&priceRange=&filterType=&listSize=36&filter=&isPriceRange=false&brand=&offerCondition=&rating=0&page=1&rocketAll=false&searchIndexingToken=1=4&backgroundColor=\"\n",
    "\n",
    "headers = {\"User-Agent\":\"Mozilla/5.0 (Windows NT 10.0; Win64; x64) AppleWebKit/537.36 (KHTML, like Gecko) Chrome/88.0.4324.190 Safari/537.36\"}\n",
    "res = requests.get(url, headers=headers)\n",
    "res.raise_for_status()\n",
    "\n",
    "soup = BeautifulSoup(res.text, \"lxml\")\n",
    "\n",
    "#노트북에 대한 정보\n",
    "items = soup.find_all(\"li\", attrs={\"class\":re.compile(\"search-product\")})  #정규식을 쓰는 이유? search-product로 시작하는 것을 의미하기 위해서\n",
    "    #=> 자동으로 li태그중 class정보가 search-product로 시작하는 모든 element를 가져온다.\n",
    "\n",
    "#에시로 첫번째 노트북의 이름만 찾기\n",
    "print(\"첫 제품 이름 : \", items[0].find(\"div\", attrs={\"class\":\"name\"}).get_text()) #div태그의 class정보가 name인 것의 첫번째.의 text(이름만)가 필요하므로.  (get.text())사용"
   ]
  },
  {
   "cell_type": "code",
   "execution_count": 13,
   "metadata": {},
   "outputs": [
    {
     "output_type": "stream",
     "name": "stdout",
     "text": [
      "  <광고 상품 제외한다>  \n품명: 삼성전자 플러스2 퓨어화이트 노트북 NT550XDA-K78AW (i7-1165G7 39.6cm WIN10 Home), 포함, 256GB, 16GB    가격: 1,379,000    평점: 5.0    평가 수: (650)\n품명: 삼성전자 노트북9 METAL NT901X5L 가볍고 슬림한 1.29kg 코어i5 SSD256GB 윈10 탑재, 포함, SSD 256GB, 8GB    가격: 676,000    평점: 4.5    평가 수: (291)\n품명: Apple 2020년 맥북 에어 13 (M1 칩셋 8코어 CPU), 8GB, SSD 256GB, 7-Core GPU, 스페이스 그레이    가격: 1,223,200    평점: 5.0    평가 수: (499)\n  <광고 상품 제외한다>  \n  <광고 상품 제외한다>  \n품명: Apple 2020년 맥북 에어 13 (M1 칩셋 8코어 CPU), 8GB, SSD 256GB, 7-Core GPU, 실버    가격: 1,290,000    평점: 5.0    평가 수: (499)\n품명: Apple 2020년 맥북 프로 13 (M1 칩셋 8코어 CPU 8코어 GPU), 8GB, SSD 256GB, 스페이스 그레이    가격: 1,532,200    평점: 5.0    평가 수: (398)\n  <광고 상품 제외한다>  \n품명: 에이수스 Vivobook 14 드리미 화이트 노트북 D413DA-CP007 (라이젠7-3700U 35.5cm), 256GB, 윈도우 미포함 등, 8GB    가격: 549,000    평점: 4.5    평가 수: (26)\n품명: 삼성전자 플러스 플래티넘 티탄 노트북 NT350XCR-AD5AS (i5-10210U 39.6cm), 포함, 256GB, 16GB    가격: 1,037,000    평점: 5.0    평가 수: (226)\n품명: 삼성전자 플러스 퓨어 화이트 노트북 NT350XCR-AD3AW (i3-10110U), 포함, 256GB, 8GB, WIN10 Home, RAM 8GB + SSD 256GB    가격: 823,000    평점: 5.0    평가 수: (225)\n품명: 삼성전자 퓨어 화이트 노트북 NT350XCR-AD5WA-X16G (i5-10210U 39.6cm), 윈도우 미포함, 256GB, 16GB    가격: 863,000    평점: 5.0    평가 수: (215)\n품명: 삼성전자 Plus 2 퓨어화이트 노트북 NT550XDZ-AD1AW (셀러론 6305 39.6cm), 미포함, 256GB, 8GB    가격: 519,000    평점: 5.0    평가 수: (123)\n품명: 삼성전자 Plus 2 퓨어화이트 노트북 NT550XDZ-AD1AW (셀러론 6305 39.6cm), 포함, 256GB, 8GB    가격: 717,000    평점: 5.0    평가 수: (123)\n품명: 삼성전자 갤럭시북 S Mercury Gray 노트북 NT767XCM-K58S(i5-L16G7 33.7cm Win10 Home Wi-Fi전용), 윈도우 포함, 256GB, 8GB    가격: 1,109,000    평점: 5.0    평가 수: (54)\n품명: 삼성전자 Plus 2 미스틱그레이 노트북 NT550XDZ-AD1AG (셀러론 6305 39.6cm), 미포함, 256GB, 8GB    가격: 519,000    평점: 5.0    평가 수: (85)\n품명: LG전자 그램17 스노우 화이트 노트북 17ZD90P-GX50K (i5-1135G7 43.1cm), 미포함, 256GB, 8GB    가격: 1,629,000    평점: 5.0    평가 수: (445)\n품명: 레노버 아이디어패드 Platinum Grey 노트북 S150-11 81VT (Intel Celeron N4020 29.5cm WIN10 Home S), 윈도우 포함, 64GB, 4GB    가격: 285,960    평점: 4.5    평가 수: (74)\n품명: 삼성전자 갤럭시북 이온2 미스틱화이트 노트북 NT950XDA-X71OW (i7-1165G7 39.6cm MX450 WIN10 Home), 포함, 512GB, 32GB    가격: 2,299,000    평점: 5.0    평가 수: (73)\n품명: 삼성전자 플러스2 퓨어화이트 노트북 NT550XDZ-AD5AW (i5-1135G7), WIN10 Home, RAM 8GB + RAM 8GB + SSD 256GB    가격: 1,207,000    평점: 5.0    평가 수: (94)\n품명: Apple 2020년 맥북 프로 13 (M1 칩셋 8코어 CPU 8코어 GPU), 16GB, SSD 512GB, 스페이스 그레이    가격: 2,185,400    평점: 5.0    평가 수: (398)\n품명: 삼성전자 Plus 2 미스틱그레이 노트북 NT550XDZ-AD1AG (셀러론 6305 39.6cm), 포함, 256GB, 8GB    가격: 717,000    평점: 5.0    평가 수: (85)\n품명: LG전자 울트라PC 노트북 15U40N-GR56K (라이젠5-4500U 39.6cm WIN10 Home), 윈도우 포함, 256GB, 8GB    가격: 999,000    평점: 5.0    평가 수: (100)\n품명: 삼성전자 갤럭시북 플렉스 2 미스틱 블랙 노트북 NT950QDA-X71AB (i7-1165G7 39.6cm MX450 WIN10 Home), 포함, 1TB, 16GB    가격: 2,677,000    평점: 5.0    평가 수: (63)\n품명: 삼성전자 플러스2 퓨어화이트 노트북 NT550XDZ-AD5AW (i5-1135G7), WIN미포함, RAM 8GB + RAM 8GB + SSD 256GB    가격: 1,008,000    평점: 5.0    평가 수: (94)\n품명: 삼성전자 플러스 퓨어 화이트 노트북 NT350XCR-AD3AW (i3-10110U), 미포함, 256GB, 16GB, WIN미설치,  RAM 8GB + RAM 8GB + SSD 256GB    가격: 713,000    평점: 5.0    평가 수: (225)\n품명: 한성컴퓨터 노트북 올데이롱 블랙 TFX255S (i5-10210U 39.62cm WIN미포함), 미포함, SSD 500GB, 8GB    가격: 799,000    평점: 5.0    평가 수: (110)\n품명: 삼성전자 갤럭시북 이온2 미스틱 화이트 노트북 NT930XDZ-A38AW (i3-1115G4 33.7cm WIN10 Home), 포함, 256GB, 8GB    가격: 1,298,000    평점: 5.0    평가 수: (41)\n품명: LG전자 2021 그램17 스노우화이트 노트북 17Z90P-GA76K (i7-1165G7 43.1cm WIN10 Home), 포함, 512GB, 16GB    가격: 3,659,900    평점: 4.5    평가 수: (69)\n품명: Apple 2020년 맥북 프로 13 (M1 칩셋 8코어 CPU 8코어 GPU), 8GB, SSD 512GB, 스페이스 그레이    가격: 1,776,600    평점: 5.0    평가 수: (398)\n품명: Apple 2020년 맥북 에어 13 (M1 칩셋 8코어 CPU), 8GB, SSD 512GB, 8-Core GPU, 실버    가격: 1,536,000    평점: 5.0    평가 수: (499)\n품명: 삼성전자 퓨어 화이트 노트북 NT350XCR-AD5WA-X (i5-10210U 39.6cm), 윈도우 포함, 256GB, 16GB    가격: 1,035,000    평점: 5.0    평가 수: (215)\n품명: Apple 2020년 맥북 프로 13 (M1 칩셋 8코어 CPU 8코어 GPU), 8GB, SSD 256GB, 실버    가격: 1,532,180    평점: 5.0    평가 수: (398)\n품명: 에이수스 ROG 스트릭스 블랙 노트북 G712LU-H7021 (i7-10750H 43cm GTX 1660 Ti), 512GB, 미포함, 8GB    가격: 1,290,630    평점: 4.5    평가 수: (9)\n품명: HP 파빌리온 x360 14 Forest Teal 노트북 dw1049TU (i5-1135G7 35.56cm WIN10 Home), 윈도우 포함, 256GB, 8GB    가격: 928,900    평점: 5.0    평가 수: (14)\n"
     ]
    }
   ],
   "source": [
    "#User_agent 사용후.... \n",
    "#2\n",
    "#다양한 제품의 이름 정보 얻어오기 + 광고제품 제외하기\n",
    "\n",
    "import requests\n",
    "import re       #정규식 쓰려고\n",
    "from bs4 import BeautifulSoup\n",
    "\n",
    "url = \"https://www.coupang.com/np/search?q=%EB%85%B8%ED%8A%B8%EB%B6%81&channel=user&component=&eventCategory=SRP&trcid=&traid=&sorter=scoreDesc&minPrice=&maxPrice=&priceRange=&filterType=&listSize=36&filter=&isPriceRange=false&brand=&offerCondition=&rating=0&page=1&rocketAll=false&searchIndexingToken=1=4&backgroundColor=\"\n",
    "\n",
    "headers = {\"User-Agent\":\"Mozilla/5.0 (Windows NT 10.0; Win64; x64) AppleWebKit/537.36 (KHTML, like Gecko) Chrome/88.0.4324.190 Safari/537.36\"}\n",
    "res = requests.get(url, headers=headers)\n",
    "res.raise_for_status()\n",
    "\n",
    "soup = BeautifulSoup(res.text, \"lxml\")\n",
    "\n",
    "#노트북에 대한 정보\n",
    "items = soup.find_all(\"li\", attrs={\"class\":re.compile(\"search-product\")})  #정규식을 쓰는 이유? search-product로 시작하는 것을 의미하기 위해서\n",
    "    #=> 자동으로 li태그중 class정보가 search-product로 시작하는 모든 element를 가져온다.\n",
    "\n",
    "#이름, 가격, 평점, 평점 수 가져오기 + 광고제품 제외\n",
    "for item in items:\n",
    "    \n",
    "    #광고제품제외\n",
    "    ad_badge = item.find(\"span\", attrs={\"class\":\"ad-badge-text\"})\n",
    "    if ad_badge:\n",
    "        print(\"  <광고 상품 제외한다>  \")\n",
    "        continue                        #만약 광고 제품이면 제외하고 continue를 한다.\n",
    "   \n",
    "    \n",
    "    name = item.find(\"div\", attrs={\"class\":\"name\"}).get_text()   #div태그의 class정보가 name인 것의 첫번째.의 text(이름만)가 필요하므로.  (get.text())사용\n",
    "    price =  item.find(\"strong\", attrs={\"class\":\"price-value\"}).get_text()  #strong태그의 class가 price-value인 것.의 text가 필요\n",
    "   \n",
    "    rate = item.find(\"em\", attrs={\"class\":\"rating\"})    #평점이 없는 제품도 있기 때문에!!!\n",
    "    if rate: #만약 rate가 있다면\n",
    "        rate = rate.get_text()\n",
    "    else:\n",
    "         rate = \"평점 없음\"           #=>해석하자면, em태그에서 class가 rating인 녀석을 찾아오는데 있다면 평점을 불러오고 없다면 \"평점 없음\"으로 불로온다.\n",
    "\n",
    "    rate_cnt = item.find(\"span\", attrs={\"class\":\"rating-total-count\"})\n",
    "    if rate_cnt:\n",
    "        rate_cnt = rate_cnt.get_text()\n",
    "    else:\n",
    "        rate_cnt = \"평가 수 없음\"\n",
    "\n",
    "    print(\"품명:\", name + \"    가격:\",price + \"    평점:\",rate + \"    평가 수:\",rate_cnt)"
   ]
  },
  {
   "cell_type": "code",
   "execution_count": 15,
   "metadata": {},
   "outputs": [
    {
     "output_type": "stream",
     "name": "stdout",
     "text": [
      "  <광고 상품 제외한다>  \n품명: 삼성전자 플러스2 퓨어화이트 노트북 NT550XDA-K78AW (i7-1165G7 39.6cm WIN10 Home), 포함, 256GB, 16GB    가격: 1,379,000    평점: 5.0    평가 수: 650\n품명: 삼성전자 노트북9 METAL NT901X5L 가볍고 슬림한 1.29kg 코어i5 SSD256GB 윈10 탑재, 포함, SSD 256GB, 8GB    가격: 676,000    평점: 4.5    평가 수: 291\n품명: Apple 2020년 맥북 에어 13 (M1 칩셋 8코어 CPU), 8GB, SSD 256GB, 7-Core GPU, 스페이스 그레이    가격: 1,223,200    평점: 5.0    평가 수: 499\n  <광고 상품 제외한다>  \n  <광고 상품 제외한다>  \n품명: Apple 2020년 맥북 에어 13 (M1 칩셋 8코어 CPU), 8GB, SSD 256GB, 7-Core GPU, 실버    가격: 1,290,000    평점: 5.0    평가 수: 499\n품명: Apple 2020년 맥북 프로 13 (M1 칩셋 8코어 CPU 8코어 GPU), 8GB, SSD 256GB, 스페이스 그레이    가격: 1,532,200    평점: 5.0    평가 수: 398\n  <광고 상품 제외한다>  \n품명: 삼성전자 플러스 플래티넘 티탄 노트북 NT350XCR-AD5AS (i5-10210U 39.6cm), 포함, 256GB, 16GB    가격: 1,037,000    평점: 5.0    평가 수: 226\n품명: 삼성전자 플러스 퓨어 화이트 노트북 NT350XCR-AD3AW (i3-10110U), 포함, 256GB, 8GB, WIN10 Home, RAM 8GB + SSD 256GB    가격: 823,000    평점: 5.0    평가 수: 225\n품명: 삼성전자 퓨어 화이트 노트북 NT350XCR-AD5WA-X16G (i5-10210U 39.6cm), 윈도우 미포함, 256GB, 16GB    가격: 863,000    평점: 5.0    평가 수: 215\n품명: 삼성전자 Plus 2 퓨어화이트 노트북 NT550XDZ-AD1AW (셀러론 6305 39.6cm), 미포함, 256GB, 8GB    가격: 519,000    평점: 5.0    평가 수: 123\n품명: 삼성전자 Plus 2 퓨어화이트 노트북 NT550XDZ-AD1AW (셀러론 6305 39.6cm), 포함, 256GB, 8GB    가격: 717,000    평점: 5.0    평가 수: 123\n품명: LG전자 그램17 스노우 화이트 노트북 17ZD90P-GX50K (i5-1135G7 43.1cm), 미포함, 256GB, 8GB    가격: 1,629,000    평점: 5.0    평가 수: 445\n품명: Apple 2020년 맥북 프로 13 (M1 칩셋 8코어 CPU 8코어 GPU), 16GB, SSD 512GB, 스페이스 그레이    가격: 2,185,400    평점: 5.0    평가 수: 398\n품명: LG전자 울트라PC 노트북 15U40N-GR56K (라이젠5-4500U 39.6cm WIN10 Home), 윈도우 포함, 256GB, 8GB    가격: 999,000    평점: 5.0    평가 수: 100\n품명: 삼성전자 플러스 퓨어 화이트 노트북 NT350XCR-AD3AW (i3-10110U), 미포함, 256GB, 16GB, WIN미설치,  RAM 8GB + RAM 8GB + SSD 256GB    가격: 713,000    평점: 5.0    평가 수: 225\n품명: 한성컴퓨터 노트북 올데이롱 블랙 TFX255S (i5-10210U 39.62cm WIN미포함), 미포함, SSD 500GB, 8GB    가격: 799,000    평점: 5.0    평가 수: 110\n품명: Apple 2020년 맥북 프로 13 (M1 칩셋 8코어 CPU 8코어 GPU), 8GB, SSD 512GB, 스페이스 그레이    가격: 1,776,600    평점: 5.0    평가 수: 398\n품명: Apple 2020년 맥북 에어 13 (M1 칩셋 8코어 CPU), 8GB, SSD 512GB, 8-Core GPU, 실버    가격: 1,536,000    평점: 5.0    평가 수: 499\n품명: 삼성전자 퓨어 화이트 노트북 NT350XCR-AD5WA-X (i5-10210U 39.6cm), 윈도우 포함, 256GB, 16GB    가격: 1,035,000    평점: 5.0    평가 수: 215\n품명: Apple 2020년 맥북 프로 13 (M1 칩셋 8코어 CPU 8코어 GPU), 8GB, SSD 256GB, 실버    가격: 1,532,180    평점: 5.0    평가 수: 398\n"
     ]
    }
   ],
   "source": [
    "#User_agent 사용후.... \n",
    "#3\n",
    "#다양한 제품의 이름 정보 얻어오기 + 광고제품 제외하기\n",
    "#+++ 리뷰 50개 이상 이면서 평점 4.5 이상 되는 것만 조회하기\n",
    "\n",
    "import requests\n",
    "import re       #정규식 쓰려고\n",
    "from bs4 import BeautifulSoup\n",
    "\n",
    "url = \"https://www.coupang.com/np/search?q=%EB%85%B8%ED%8A%B8%EB%B6%81&channel=user&component=&eventCategory=SRP&trcid=&traid=&sorter=scoreDesc&minPrice=&maxPrice=&priceRange=&filterType=&listSize=36&filter=&isPriceRange=false&brand=&offerCondition=&rating=0&page=1&rocketAll=false&searchIndexingToken=1=4&backgroundColor=\"\n",
    "\n",
    "headers = {\"User-Agent\":\"Mozilla/5.0 (Windows NT 10.0; Win64; x64) AppleWebKit/537.36 (KHTML, like Gecko) Chrome/88.0.4324.190 Safari/537.36\"}\n",
    "res = requests.get(url, headers=headers)\n",
    "res.raise_for_status()\n",
    "\n",
    "soup = BeautifulSoup(res.text, \"lxml\")\n",
    "\n",
    "#노트북에 대한 정보\n",
    "items = soup.find_all(\"li\", attrs={\"class\":re.compile(\"search-product\")})  #정규식을 쓰는 이유? search-product로 시작하는 것을 의미하기 위해서\n",
    "    #=> 자동으로 li태그중 class정보가 search-product로 시작하는 모든 element를 가져온다.\n",
    "\n",
    "#이름, 가격, 평점, 평점 수 가져오기 + 광고제품 제외\n",
    "#  +++\n",
    "#리뷰 100개 이상이면서 평점 4.5인 이상 인 것만 조회\n",
    "for item in items:\n",
    "    \n",
    "    #광고제품제외\n",
    "    ad_badge = item.find(\"span\", attrs={\"class\":\"ad-badge-text\"})\n",
    "    if ad_badge:\n",
    "        print(\"  <광고 상품 제외한다>  \")\n",
    "        continue                        #만약 광고 제품이면 제외하고 continue를 한다.\n",
    "   \n",
    "    #이름\n",
    "    name = item.find(\"div\", attrs={\"class\":\"name\"}).get_text()   #div태그의 class정보가 name인 것의 첫번째.의 text(이름만)가 필요하므로.  (get.text())사용\n",
    "    \n",
    "  \n",
    "    #가격\n",
    "    price =  item.find(\"strong\", attrs={\"class\":\"price-value\"}).get_text()  #strong태그의 class가 price-value인 것.의 text가 필요\n",
    "\n",
    " \n",
    "    #평점\n",
    "    rate = item.find(\"em\", attrs={\"class\":\"rating\"})    #평점이 없는 제품도 있기 때문에!!!\n",
    "    if rate: #만약 rate가 있다면\n",
    "        rate = rate.get_text()\n",
    "    else:\n",
    "         print(\" <평점 없는 상품 제외 > \")\n",
    "         continue     \n",
    "    \n",
    "    \n",
    "    #평가 수\n",
    "    rate_cnt = item.find(\"span\", attrs={\"class\":\"rating-total-count\"})\n",
    "    if rate_cnt:\n",
    "        rate_cnt = rate_cnt.get_text()  #(int)로 출력된다. 괄호를 없애야 한다.\n",
    "        rate_cnt = rate_cnt[1:-1]       #예를들어, (245)인 경우, 첫 인덱스부터 마지막 인덱스 전이니깐. 마지막 꺼는 포함 시키지 않으므로\n",
    "      \n",
    "    else:\n",
    "        print(\" <평가 수 없는 상품 제외 > \")\n",
    "        continue\n",
    "\n",
    "    #평점 4.5 이상인 경우,     \n",
    "    if float(rate) >= 4.5 and int(rate_cnt) >= 50:\n",
    "        print(\"품명:\", name + \"    가격:\",price + \"    평점:\",rate + \"    평가 수:\",rate_cnt)"
   ]
  },
  {
   "cell_type": "code",
   "execution_count": 17,
   "metadata": {},
   "outputs": [
    {
     "output_type": "stream",
     "name": "stdout",
     "text": [
      "  <광고 상품 제외한다>  \n품명: 삼성전자 플러스2 퓨어화이트 노트북 NT550XDA-K78AW (i7-1165G7 39.6cm WIN10 Home), 포함, 256GB, 16GB    가격: 1,379,000    평점: 5.0    평가 수: 650\n품명: 삼성전자 노트북9 METAL NT901X5L 가볍고 슬림한 1.29kg 코어i5 SSD256GB 윈10 탑재, 포함, SSD 256GB, 8GB    가격: 676,000    평점: 4.5    평가 수: 291\n <apple 상품 제외 >\n  <광고 상품 제외한다>  \n  <광고 상품 제외한다>  \n <apple 상품 제외 >\n <apple 상품 제외 >\n  <광고 상품 제외한다>  \n품명: 삼성전자 플러스 플래티넘 티탄 노트북 NT350XCR-AD5AS (i5-10210U 39.6cm), 포함, 256GB, 16GB    가격: 1,037,000    평점: 5.0    평가 수: 226\n품명: 삼성전자 플러스 퓨어 화이트 노트북 NT350XCR-AD3AW (i3-10110U), 포함, 256GB, 8GB, WIN10 Home, RAM 8GB + SSD 256GB    가격: 823,000    평점: 5.0    평가 수: 225\n품명: 삼성전자 퓨어 화이트 노트북 NT350XCR-AD5WA-X16G (i5-10210U 39.6cm), 윈도우 미포함, 256GB, 16GB    가격: 863,000    평점: 5.0    평가 수: 215\n품명: 삼성전자 Plus 2 퓨어화이트 노트북 NT550XDZ-AD1AW (셀러론 6305 39.6cm), 미포함, 256GB, 8GB    가격: 519,000    평점: 5.0    평가 수: 123\n품명: 삼성전자 Plus 2 퓨어화이트 노트북 NT550XDZ-AD1AW (셀러론 6305 39.6cm), 포함, 256GB, 8GB    가격: 717,000    평점: 5.0    평가 수: 123\n품명: LG전자 그램17 스노우 화이트 노트북 17ZD90P-GX50K (i5-1135G7 43.1cm), 미포함, 256GB, 8GB    가격: 1,629,000    평점: 5.0    평가 수: 445\n <apple 상품 제외 >\n품명: LG전자 울트라PC 노트북 15U40N-GR56K (라이젠5-4500U 39.6cm WIN10 Home), 윈도우 포함, 256GB, 8GB    가격: 999,000    평점: 5.0    평가 수: 100\n품명: 삼성전자 플러스 퓨어 화이트 노트북 NT350XCR-AD3AW (i3-10110U), 미포함, 256GB, 16GB, WIN미설치,  RAM 8GB + RAM 8GB + SSD 256GB    가격: 713,000    평점: 5.0    평가 수: 225\n품명: 한성컴퓨터 노트북 올데이롱 블랙 TFX255S (i5-10210U 39.62cm WIN미포함), 미포함, SSD 500GB, 8GB    가격: 799,000    평점: 5.0    평가 수: 110\n <apple 상품 제외 >\n <apple 상품 제외 >\n품명: 삼성전자 퓨어 화이트 노트북 NT350XCR-AD5WA-X (i5-10210U 39.6cm), 윈도우 포함, 256GB, 16GB    가격: 1,035,000    평점: 5.0    평가 수: 215\n <apple 상품 제외 >\n"
     ]
    }
   ],
   "source": [
    "#User_agent 사용후.... \n",
    "#4\n",
    "#다양한 제품의 이름 정보 얻어오기 + 광고제품 제외하기\n",
    "#+++ 리뷰 100개 이상 이면서 평점 4.5 이상 되는 것만 조회하기\n",
    "#애플 제품도 제외\n",
    "#1번 페이지로만 실습했는데 5개 페이스를 다 조회해서 조건에 맞는 정보를 출력하는 방법\n",
    "\n",
    "import requests\n",
    "import re       #정규식 쓰려고\n",
    "from bs4 import BeautifulSoup\n",
    "\n",
    "url = \"https://www.coupang.com/np/search?q=%EB%85%B8%ED%8A%B8%EB%B6%81&channel=user&component=&eventCategory=SRP&trcid=&traid=&sorter=scoreDesc&minPrice=&maxPrice=&priceRange=&filterType=&listSize=36&filter=&isPriceRange=false&brand=&offerCondition=&rating=0&page=1&rocketAll=false&searchIndexingToken=1=4&backgroundColor=\"\n",
    "\n",
    "headers = {\"User-Agent\":\"Mozilla/5.0 (Windows NT 10.0; Win64; x64) AppleWebKit/537.36 (KHTML, like Gecko) Chrome/88.0.4324.190 Safari/537.36\"}\n",
    "res = requests.get(url, headers=headers)\n",
    "res.raise_for_status()\n",
    "\n",
    "soup = BeautifulSoup(res.text, \"lxml\")\n",
    "\n",
    "#노트북에 대한 정보\n",
    "items = soup.find_all(\"li\", attrs={\"class\":re.compile(\"search-product\")})  #정규식을 쓰는 이유? search-product로 시작하는 것을 의미하기 위해서\n",
    "    #=> 자동으로 li태그중 class정보가 search-product로 시작하는 모든 element를 가져온다.\n",
    "\n",
    "#이름, 가격, 평점, 평점 수 가져오기 + 광고제품 제외\n",
    "#  +++\n",
    "#리뷰 100개 이상이면서 평점 4.5인 이상 인 것만 조회\n",
    "for item in items:\n",
    "    \n",
    "    #광고제품제외\n",
    "    ad_badge = item.find(\"span\", attrs={\"class\":\"ad-badge-text\"})\n",
    "    if ad_badge:\n",
    "        print(\"  <광고 상품 제외한다>  \")\n",
    "        continue                        #만약 광고 제품이면 제외하고 continue를 한다.\n",
    "   \n",
    "    #이름에서 애플 제품 제외\n",
    "    name = item.find(\"div\", attrs={\"class\":\"name\"}).get_text()   #div태그의 class정보가 name인 것의 첫번째.의 text(이름만)가 필요하므로.  (get.text())사용\n",
    "    if \"Apple\" in name:\n",
    "        print(\" <apple 상품 제외 >\")\n",
    "        continue\n",
    "\n",
    "    #가격\n",
    "    price =  item.find(\"strong\", attrs={\"class\":\"price-value\"}).get_text()  #strong태그의 class가 price-value인 것.의 text가 필요\n",
    "\n",
    " \n",
    "    #평점\n",
    "    rate = item.find(\"em\", attrs={\"class\":\"rating\"})    #평점이 없는 제품도 있기 때문에!!!\n",
    "    if rate: #만약 rate가 있다면\n",
    "        rate = rate.get_text()\n",
    "    else:\n",
    "         print(\" <평점 없는 상품 제외 > \")\n",
    "         continue     \n",
    "    \n",
    "    \n",
    "    #평가 수\n",
    "    rate_cnt = item.find(\"span\", attrs={\"class\":\"rating-total-count\"})\n",
    "    if rate_cnt:\n",
    "        rate_cnt = rate_cnt.get_text()  #(int)로 출력된다. 괄호를 없애야 한다.\n",
    "        rate_cnt = rate_cnt[1:-1]       #예를들어, (245)인 경우, 첫 인덱스부터 마지막 인덱스 전이니깐. 마지막 꺼는 포함 시키지 않으므로\n",
    "      \n",
    "    else:\n",
    "        print(\" <평가 수 없는 상품 제외 > \")\n",
    "        continue\n",
    "\n",
    "    #평점 4.5 이상인 경우,     \n",
    "    if float(rate) >= 4.5 and int(rate_cnt) >= 100:\n",
    "        print(\"품명:\", name + \"    가격:\",price + \"    평점:\",rate + \"    평가 수:\",rate_cnt)"
   ]
  },
  {
   "cell_type": "code",
   "execution_count": null,
   "metadata": {},
   "outputs": [],
   "source": []
  }
 ]
}