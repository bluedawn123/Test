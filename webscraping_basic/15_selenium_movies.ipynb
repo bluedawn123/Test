{
 "metadata": {
  "language_info": {
   "codemirror_mode": {
    "name": "ipython",
    "version": 3
   },
   "file_extension": ".py",
   "mimetype": "text/x-python",
   "name": "python",
   "nbconvert_exporter": "python",
   "pygments_lexer": "ipython3",
   "version": "3.7.6-final"
  },
  "orig_nbformat": 2,
  "kernelspec": {
   "name": "python3",
   "display_name": "Python 3.7.6 64-bit ('cpv': conda)",
   "metadata": {
    "interpreter": {
     "hash": "e25e0584590c458883016a89e0cf53be7d76548718d22946ce414c44a74f5c84"
    }
   }
  }
 },
 "nbformat": 4,
 "nbformat_minor": 2,
 "cells": [
  {
   "cell_type": "code",
   "execution_count": 3,
   "metadata": {},
   "outputs": [
    {
     "output_type": "stream",
     "name": "stdout",
     "text": [
      "영화의 총 갯수 ? :  0\n"
     ]
    }
   ],
   "source": [
    "#동적 페이지 크롤링\n",
    "import requests\n",
    "from bs4 import BeautifulSoup\n",
    "\n",
    "url = \"https://play.google.com/store/movies/top\"\n",
    "res = requests.get(url)\n",
    "res.raise_for_status()\n",
    "soup = BeautifulSoup(res.text, \"lxml\")\n",
    "\n",
    "#div, class 정보 활용\n",
    "movies = soup.find_all(\"div\", attrs={\"class\":\"ImZGtf mpg5gc\"}) \n",
    "print(\"영화의 총 갯수 ? : \", len(movies))  #=> 0으로 출력된다. \n",
    "\n",
    "with open(\"movie.html\", \"w\", encoding=\"utf8\") as f:\n",
    "    #f.write(res.text) => 보기힘듬\n",
    "    f.write(soup.prettify())  #html 문서를 이쁘게 출력"
   ]
  },
  {
   "cell_type": "code",
   "execution_count": 6,
   "metadata": {},
   "outputs": [
    {
     "output_type": "stream",
     "name": "stdout",
     "text": [
      "영화의 총 갯수 ? :  10\n원더우먼 1984\n테넷\n어벤져스 : 엔드게임 (자막판)\n해리포터와 마법사의 돌\n날씨의 아이 (자막)\n너의 이름은. (자막판)\n미션 파서블\n조커\n겨울왕국 2 (더빙판)\n스파이더맨: 파 프롬 홈 (자막판)\n"
     ]
    }
   ],
   "source": [
    "#동적 페이지 크롤링 => 최초 10개 까지만 보여진다. => 이럴 떄 selenium이 필요하다. \n",
    "#user-agent로 한국어 페이지로 접근하기 => header 선언 필요\n",
    "#영화 제목 찍어보기\n",
    "\n",
    "import requests\n",
    "from bs4 import BeautifulSoup\n",
    "\n",
    "url = \"https://play.google.com/store/movies/top\"\n",
    "headers ={\"User-Agent\":\"Mozilla/5.0 (Windows NT 10.0; Win64; x64) AppleWebKit/537.36 (KHTML, like Gecko) Chrome/88.0.4324.190 Safari/537.36\",\n",
    "          \"Accept-Language\":\"ko-KR,ko\"\n",
    "}\n",
    "\n",
    "res = requests.get(url, headers=headers)  #url에 접근 할때 정의한 user agent값을 전달해준다.\n",
    "res.raise_for_status()\n",
    "soup = BeautifulSoup(res.text, \"lxml\")\n",
    "\n",
    "\n",
    "#div, class 정보 활용\n",
    "movies = soup.find_all(\"div\", attrs={\"class\":\"ImZGtf mpg5gc\"}) \n",
    "print(\"영화의 총 갯수 ? : \", len(movies))  #=> 10으로 출력된다. => 10개 밖에 출력이 안 되는 이유는 이것이 동적페이지 이기 때문이다. \n",
    "\n",
    "with open(\"movie.html\", \"w\", encoding=\"utf8\") as f:\n",
    "    #f.write(res.text) => 보기힘듬\n",
    "    f.write(soup.prettify())  #html 문서를 이쁘게 출력\n",
    "\n",
    "for movie in movies:\n",
    "    title = movie.find(\"div\", attrs={\"class\":\"WsMG1c nnK0zc\"}).get_text()\n",
    "    print(title)\n"
   ]
  },
  {
   "cell_type": "code",
   "execution_count": null,
   "metadata": {},
   "outputs": [],
   "source": []
  }
 ]
}