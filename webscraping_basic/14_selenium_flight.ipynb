{
 "metadata": {
  "language_info": {
   "codemirror_mode": {
    "name": "ipython",
    "version": 3
   },
   "file_extension": ".py",
   "mimetype": "text/x-python",
   "name": "python",
   "nbconvert_exporter": "python",
   "pygments_lexer": "ipython3",
   "version": "3.7.6-final"
  },
  "orig_nbformat": 2,
  "kernelspec": {
   "name": "python3",
   "display_name": "Python 3.7.6 64-bit ('cpv': conda)",
   "metadata": {
    "interpreter": {
     "hash": "e25e0584590c458883016a89e0cf53be7d76548718d22946ce414c44a74f5c84"
    }
   }
  }
 },
 "nbformat": 4,
 "nbformat_minor": 2,
 "cells": [
  {
   "cell_type": "code",
   "execution_count": 1,
   "metadata": {},
   "outputs": [],
   "source": [
    "#네이버 항공권\n",
    "#3월 27, 28일 선택\n",
    "from selenium import webdriver\n",
    "\n",
    "browser = webdriver.Chrome()\n",
    "browser.maximize_window()  #창 최대화\n",
    "\n",
    "url = \"https://flight.naver.com/flights/\"\n",
    "browser.get(url)   #url로 이동\n",
    "\n",
    "#가는날 선택 (글자 기준으로 찾기.)\n",
    "browser.find_element_by_link_text(\"가는날 선택\").click()\n",
    "\n",
    "#돌아 오는 날 선택\n",
    "#주의 => 날짜가 같을 수도 있으니, a태그의 첫번쨰 항목(7월 29일)선택 Or 두번째 항목(8월29일) 이런식\n",
    "\n",
    "#3월 27, 28일 선택\n",
    "browser.find_elements_by_link_text(\"27\")[0].click() #27 을 갖는 모든 글짜 선택 후 첫번째 가져오기\n",
    "browser.find_elements_by_link_text(\"28\")[0].click() #27 을 갖는 모든 글짜 선택 후 첫번째 가져오기\n"
   ]
  },
  {
   "cell_type": "code",
   "execution_count": 2,
   "metadata": {},
   "outputs": [],
   "source": [
    "#네이버 항공권\n",
    "#4월 27, 28일 선택\n",
    "from selenium import webdriver\n",
    "\n",
    "browser = webdriver.Chrome()\n",
    "browser.maximize_window()  #창 최대화\n",
    "\n",
    "url = \"https://flight.naver.com/flights/\"\n",
    "browser.get(url)   #url로 이동\n",
    "\n",
    "#가는날 선택 (글자 기준으로 찾기.)\n",
    "browser.find_element_by_link_text(\"가는날 선택\").click()\n",
    "\n",
    "#돌아 오는 날 선택\n",
    "#주의 => 날짜가 같을 수도 있으니, a태그의 첫번쨰 항목(7월 29일)선택 Or 두번째 항목(8월29일) 이런식\n",
    "\n",
    "#4월 27, 28일 선택\n",
    "browser.find_elements_by_link_text(\"27\")[1].click() #27 을 갖는 모든 글짜 선택 후 첫번째 가져오기\n",
    "browser.find_elements_by_link_text(\"28\")[1].click() #27 을 갖는 모든 글짜 선택 후 첫번째 가져오기"
   ]
  },
  {
   "cell_type": "code",
   "execution_count": 8,
   "metadata": {},
   "outputs": [
    {
     "output_type": "error",
     "ename": "AttributeError",
     "evalue": "'list' object has no attribute 'text'",
     "traceback": [
      "\u001b[1;31m---------------------------------------------------------------------------\u001b[0m",
      "\u001b[1;31mAttributeError\u001b[0m                            Traceback (most recent call last)",
      "\u001b[1;32m<ipython-input-8-e6c6ff800570>\u001b[0m in \u001b[0;36m<module>\u001b[1;34m\u001b[0m\n\u001b[0;32m     35\u001b[0m \u001b[1;31m#어떤 엘리먼트가 위치할 때까지 브라우저에 대해 최대 10초동안 기다린다.\u001b[0m\u001b[1;33m\u001b[0m\u001b[1;33m\u001b[0m\u001b[1;33m\u001b[0m\u001b[0m\n\u001b[0;32m     36\u001b[0m \u001b[1;31m#괄호 안이 어떤 것에 해당된다. 여기서는, By.XPATH를 기다려준다.\u001b[0m\u001b[1;33m\u001b[0m\u001b[1;33m\u001b[0m\u001b[1;33m\u001b[0m\u001b[0m\n\u001b[1;32m---> 37\u001b[1;33m     \u001b[0mprint\u001b[0m\u001b[1;33m(\u001b[0m\u001b[0melem\u001b[0m\u001b[1;33m.\u001b[0m\u001b[0mtext\u001b[0m\u001b[1;33m(\u001b[0m\u001b[1;33m)\u001b[0m\u001b[1;33m)\u001b[0m\u001b[1;33m\u001b[0m\u001b[1;33m\u001b[0m\u001b[0m\n\u001b[0m\u001b[0;32m     38\u001b[0m \u001b[1;33m\u001b[0m\u001b[0m\n\u001b[0;32m     39\u001b[0m \u001b[1;32mfinally\u001b[0m\u001b[1;33m:\u001b[0m\u001b[1;33m\u001b[0m\u001b[1;33m\u001b[0m\u001b[0m\n",
      "\u001b[1;31mAttributeError\u001b[0m: 'list' object has no attribute 'text'"
     ]
    }
   ],
   "source": [
    "#############################################'list' object has no attribute 'text' 로 실패 ##################################################################\n",
    "#네이버 항공권\n",
    "#3월 27 ~ 4월 28일 선택\n",
    "#xpath로 제주도 선택\n",
    "\n",
    "from selenium.webdriver.common.by import By\n",
    "from selenium.webdriver.support.ui import WebDriverWait\n",
    "from selenium.webdriver.support import expected_conditions as EC\n",
    "from selenium import webdriver\n",
    "\n",
    "browser = webdriver.Chrome()\n",
    "browser.maximize_window()  #창 최대화\n",
    "\n",
    "url = \"https://flight.naver.com/flights/\"\n",
    "browser.get(url)   #url로 이동\n",
    "\n",
    "#가는날 선택 (글자 기준으로 찾기.)\n",
    "browser.find_element_by_link_text(\"가는날 선택\").click()\n",
    "\n",
    "#돌아 오는 날 선택\n",
    "#주의 => 날짜가 같을 수도 있으니, a태그의 첫번쨰 항목(7월 29일)선택 Or 두번째 항목(8월29일) 이런식\n",
    "\n",
    "#3월 27일 가는 날, 4월 28일 오는 날 선택\n",
    "browser.find_elements_by_link_text(\"27\")[0].click() #27 을 갖는 모든 글짜 선택 후 첫번째 가져오기\n",
    "browser.find_elements_by_link_text(\"28\")[1].click() #27 을 갖는 모든 글짜 선택 후 첫번째 가져오기\n",
    "\n",
    "#제주도 선택 => xpath로\n",
    "browser.find_element_by_xpath(\"//*[@id='recommendationList']/ul/li[1]\").click()   # \"\" 을 ''로 수정\n",
    "\n",
    "#항공권 검색 클릭\n",
    "browser.find_element_by_link_text(\"항공권 검색\").click()\n",
    "\n",
    "#--------------------------------------------------------기다리는 시간 존재하므로 검색이 끝날때까지 기다려주는 방법----------------------------------------\n",
    "try:\n",
    "    elem = WebDriverWait(browser, 10).until(EC.presence_of_all_elements_located((By.XPATH, \"//*[@id='content']/div[2]/div/div[4]/ul/li[1]\")))  \n",
    "#어떤 엘리먼트가 위치할 때까지 브라우저에 대해 최대 10초동안 기다린다. \n",
    "#괄호 안이 어떤 것에 해당된다. 여기서는, By.XPATH를 기다려준다. \n",
    "    print(elem.text)\n",
    "\n",
    "finally:\n",
    "    browser.close()\n",
    "\n",
    "#정리 : WebDriverWait를 통해서 브라우저를 10초동안 기다린다. 근데 10초 안에, Expected Contidition(여기서는 Xpath라는 조건으로, Xpath라는 값에 해당하는\n",
    "#       element가 나올때 까지) 에 맞는 조건을 기다린다. \n",
    "\n",
    "\n",
    "#-------------------------------------------------------------------------------------------------------------------------------------------------------\n",
    "\n",
    "\n",
    "#첫 번째 결과 출력 (cf. 모든 엘리먼트 xpath로 선택)\n",
    "#elem = browser.find_element_by_xpath(\"//*[@id='content']/div[2]/div/div[4]/ul/li[1]\")  # => 로딩이 길어서 화면이 뜨기 전에 끝난다. 이럴때 안됌..\n",
    "                                                                                       # => 이럴때,element가 나올때까지 기다리는 방법 => 위의 기다리는 시간 존재하므로로 이동\n",
    "#print(\"첫번째 elem : \", elem.text)   #엘리먼트의 첫 text 출력\n",
    "\n",
    "\n",
    "#############################################'list' object has no attribute 'text' 로 실패 ##################################################################"
   ]
  },
  {
   "cell_type": "code",
   "execution_count": null,
   "metadata": {},
   "outputs": [],
   "source": []
  }
 ]
}