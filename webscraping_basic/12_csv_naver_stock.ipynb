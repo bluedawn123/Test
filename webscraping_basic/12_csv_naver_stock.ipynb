{
 "metadata": {
  "language_info": {
   "codemirror_mode": {
    "name": "ipython",
    "version": 3
   },
   "file_extension": ".py",
   "mimetype": "text/x-python",
   "name": "python",
   "nbconvert_exporter": "python",
   "pygments_lexer": "ipython3",
   "version": "3.7.6-final"
  },
  "orig_nbformat": 2,
  "kernelspec": {
   "name": "python3",
   "display_name": "Python 3.7.6 64-bit ('cpv': conda)",
   "metadata": {
    "interpreter": {
     "hash": "e25e0584590c458883016a89e0cf53be7d76548718d22946ce414c44a74f5c84"
    }
   }
  }
 },
 "nbformat": 4,
 "nbformat_minor": 2,
 "cells": [
  {
   "cell_type": "code",
   "execution_count": 7,
   "metadata": {
    "tags": []
   },
   "outputs": [
    {
     "output_type": "stream",
     "name": "stdout",
     "text": [
      "title의 형태 :  <class 'list'>\n"
     ]
    }
   ],
   "source": [
    "#전과는 다른 방식 => 개발자 도구 확인하니 table 전체를 가져오는 방식. 그 이후 tbody가져오기\n",
    "#csv 저장\n",
    "#타이틀 넣기\n",
    "\n",
    "import csv\n",
    "import requests\n",
    "from bs4 import BeautifulSoup\n",
    "\n",
    "url = \"https://finance.naver.com/sise/sise_market_sum.nhn?sosok=0&page=\"\n",
    "\n",
    "#csv저장 방법\n",
    "filename = \"시가총액1-200.csv\"\n",
    "f = open(filename, \"w\", encoding=\"utf-8-sig\", newline=\"\")  #newline => 이어져서 해주기 위해서\n",
    "writer = csv.writer(f) #writer을 이용해서 파일을 쓸 수 있다. \n",
    "\n",
    "#타이틀 넣기. => N\t종목명\t현재가\t전일비\t등락률\t액면가\t시가총액\t상장주식수\t외국인비율\t거래량\tPER\tROE\t토론실 ==> spilt(\"\\t\")을 사용해서 list형태로 변경\n",
    "title = \"N\t종목명\t현재가\t전일비\t등락률\t액면가\t시가총액\t상장주식수\t외국인비율\t거래량\tPER\tROE\t토론실\".split(\"\\t\")\n",
    "print(\"title의 형태 : \", type(title))\n",
    "writer.writerow(title)\n",
    "\n",
    "for page in range(1, 5): #1페이지부터 4페이지\n",
    "    res = requests.get(url + str(page))\n",
    "    res.raise_for_status()\n",
    "    soup = BeautifulSoup(res.text, \"lxml\")\n",
    "\n",
    "    data_rows = soup.find(\"table\", attrs={\"class\":\"type_2\"}).find(\"tbody\").find_all(\"tr\")\n",
    "                                       #테이블 가져오기      #tbdby가져오기    #tr가져오기\n",
    "\n",
    "    for row in data_rows:\n",
    "        columns = row.find_all(\"td\")   #td정보 가져오기 => 우리가 필요한 정보는 현재가, 시가총액, 종목명 등등 이므로 get_text()를 사용해 가져올 수 있다.\n",
    "        if len(columns) <= 1: #=> 줄바꿈의 경우, 하나의 tr이 하나의 td를 갖는 경우 스킵을 하면 된다.. 의미없는 줄바꿈은 생략\n",
    "            continue\n",
    "        data = [column.get_text().strip() for column in columns]  #=> columns에 있는 것들을 가져와서 column이라고 하고 그것의 get_text()를 뽑아 td들이 가지고 있는 정보를 저장한다. \n",
    "        #print(data)\n",
    "        writer.writerow(data)  #괄호안은 리스트 형태\n",
    "\n",
    "        #=> 출력해서 보면, '\\n\\n\\t\\t\\t\\t105\\n\\t\\t\\t\\t\\n', '\\n\\n\\t\\t\\t\\t+0.62%\\n\\t\\t\\t\\t\\n', [''][''][''] 등과 같이 줄바꿈, 빈공간이 있기 때문에 이것을 없애야 한다.\n",
    "        #=> 줄바꿈의 경우, 하나의 tr이 하나의 td를 갖는 경우 스킵을 하면 된다.\n",
    "        #=> strip() => 문자열 양쪽에 있는 한 칸 이상의 연속된 공백을 모두 지운다."
   ]
  },
  {
   "cell_type": "code",
   "execution_count": null,
   "metadata": {},
   "outputs": [],
   "source": []
  }
 ]
}