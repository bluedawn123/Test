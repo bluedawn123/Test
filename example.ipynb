{
 "metadata": {
  "language_info": {
   "codemirror_mode": {
    "name": "ipython",
    "version": 3
   },
   "file_extension": ".py",
   "mimetype": "text/x-python",
   "name": "python",
   "nbconvert_exporter": "python",
   "pygments_lexer": "ipython3",
   "version": 3
  },
  "orig_nbformat": 2
 },
 "nbformat": 4,
 "nbformat_minor": 2,
 "cells": [
  {
   "cell_type": "code",
   "execution_count": null,
   "metadata": {},
   "outputs": [],
   "source": [
    "#크롤링\n",
    "import requests\n",
    "from bs4 import BeautifulSoup\n",
    "\n",
    "res = requests.get('http://corners.gmarket.co.kr/Bestsellers')  #best부분의 메인주소\n",
    "soup = BeautifulSoup(res.content, 'html.parser')\n",
    "\n",
    "categories = soup.select('div.gbest-cate ul.by-group li a')\n",
    "for category in categories:\n",
    "    print ('http://corners.gmarket.co.kr/' + category['href'], category.get_text())"
   ]
  }
 ]
}