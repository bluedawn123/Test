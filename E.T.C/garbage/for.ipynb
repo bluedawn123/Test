{
 "cells": [
  {
   "cell_type": "code",
   "execution_count": 3,
   "source": [
    "#합격 불합격1 \r\n",
    "score_list = [90, 80, 65, 75, 80]\r\n",
    "number = 1\r\n",
    "\r\n",
    "for score in score_list:\r\n",
    "    if score >= 80:\r\n",
    "        print(\"{}번 학생은 합격입니다.\".format(number))\r\n",
    "    else:\r\n",
    "        print(\"{}번 학생은 합격입니다.\".format(number))\r\n",
    "\r\n",
    "    number += 1"
   ],
   "outputs": [
    {
     "output_type": "stream",
     "name": "stdout",
     "text": [
      "1번 학생은 합격입니다.\n",
      "2번 학생은 합격입니다.\n",
      "3번 학생은 합격입니다.\n",
      "4번 학생은 합격입니다.\n",
      "5번 학생은 합격입니다.\n"
     ]
    }
   ],
   "metadata": {}
  },
  {
   "cell_type": "code",
   "execution_count": 4,
   "source": [
    "#합격 불합격1-2 => 변수 생성 후 응용\r\n",
    "score_list = [90, 80, 65, 75, 80]\r\n",
    "number = 1\r\n",
    "\r\n",
    "for score in score_list:\r\n",
    "    if score >= 80:\r\n",
    "        result = \"합격\"\r\n",
    "    else:\r\n",
    "        result = \"불합격\"\r\n",
    "\r\n",
    "    print(\"{}번 학생은 {}입니다.\".format(number, result))\r\n",
    "    number += 1"
   ],
   "outputs": [
    {
     "output_type": "stream",
     "name": "stdout",
     "text": [
      "1번 학생은 합격입니다.\n",
      "2번 학생은 합격입니다.\n",
      "3번 학생은 불합격입니다.\n",
      "4번 학생은 불합격입니다.\n",
      "5번 학생은 합격입니다.\n"
     ]
    }
   ],
   "metadata": {}
  },
  {
   "cell_type": "code",
   "execution_count": 12,
   "source": [
    "#합격 불합격1-3 => 리스트 사용해서\r\n",
    "score_list = [90, 85, 77, 65, 97]\r\n",
    " \r\n",
    "for i in range(5):\r\n",
    "    if score_list[i] >= 80:\r\n",
    "        result = \"합격\"\r\n",
    "    else:\r\n",
    "        result = \"불합격\"\r\n",
    "    print(\"{}번 학생은 {}입니다.\".format(i+1, result))\r\n"
   ],
   "outputs": [
    {
     "output_type": "stream",
     "name": "stdout",
     "text": [
      "1번 학생은 합격입니다.\n",
      "2번 학생은 합격입니다.\n",
      "3번 학생은 불합격입니다.\n",
      "4번 학생은 불합격입니다.\n",
      "5번 학생은 합격입니다.\n"
     ]
    }
   ],
   "metadata": {}
  },
  {
   "cell_type": "code",
   "execution_count": 13,
   "source": [
    "#합격 불합격 + 컨닝\r\n",
    "score_list = [90, 85, 77, 65, 97]\r\n",
    "cheating_number = {2, 4}\r\n",
    "\r\n",
    "for i in range(5):\r\n",
    "    if i + 1 in cheating_number:\r\n",
    "        print(\"{}번 학생은 컨닝으로 불합격입니다.\".format(i+1))\r\n",
    "        continue\r\n",
    "\r\n",
    "    if score_list[i] >= 80:\r\n",
    "        result = \"합격\"\r\n",
    "    else:\r\n",
    "        result = \"불합격\"\r\n",
    "    print(\"{}번 학생은 {}입니다.\".format(i+1, result))\r\n"
   ],
   "outputs": [
    {
     "output_type": "stream",
     "name": "stdout",
     "text": [
      "1번 학생은 합격입니다.\n",
      "2번 학생은 컨닝으로 불합격입니다.\n",
      "3번 학생은 불합격입니다.\n",
      "4번 학생은 컨닝으로 불합격입니다.\n",
      "5번 학생은 합격입니다.\n"
     ]
    }
   ],
   "metadata": {}
  },
  {
   "cell_type": "code",
   "execution_count": null,
   "source": [],
   "outputs": [],
   "metadata": {}
  }
 ],
 "metadata": {
  "orig_nbformat": 4,
  "language_info": {
   "name": "python",
   "version": "3.8.8",
   "mimetype": "text/x-python",
   "codemirror_mode": {
    "name": "ipython",
    "version": 3
   },
   "pygments_lexer": "ipython3",
   "nbconvert_exporter": "python",
   "file_extension": ".py"
  },
  "kernelspec": {
   "name": "python3",
   "display_name": "Python 3.8.8 64-bit ('base': conda)"
  },
  "interpreter": {
   "hash": "fa422f78b08b4ed23ea77d9d51ba71e035ebabb7673f323e99ba8b680a1634b6"
  }
 },
 "nbformat": 4,
 "nbformat_minor": 2
}