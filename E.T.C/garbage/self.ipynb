{
 "cells": [
  {
   "cell_type": "code",
   "execution_count": 2,
   "metadata": {},
   "outputs": [
    {
     "name": "stdout",
     "output_type": "stream",
     "text": [
      "고양이 이름은 : 나비 색깔은 black\n"
     ]
    }
   ],
   "source": [
    "class Cat:\n",
    "    def info(self): \n",
    "        self.name = '나비'           #인스턴스 변수 생성\n",
    "        self.color = 'black'         #인스턴스 변수 생성\n",
    "        print('고양이 이름은 :', self.name, '색깔은', self.color)\n",
    "\n",
    "cat = Cat()  #인스턴스 생성\n",
    "cat.info()   #인스턴스 메소드 실행\n",
    "\n",
    "###즉 self는 클래스의 인스턴스를 지징하며, self 키워드를 통해 클래스의 메소드와 속성에 접근할 수 있다."
   ]
  },
  {
   "cell_type": "code",
   "execution_count": 5,
   "metadata": {},
   "outputs": [
    {
     "name": "stdout",
     "output_type": "stream",
     "text": [
      "고양이 이름은 : 네로 색깔은 똥색\n",
      "고양이 이름은 : 미로 색깔은 갈색\n"
     ]
    }
   ],
   "source": [
    "class Cat:\n",
    "    #초기화 메소드\n",
    "    def __init__(self, name, color):\n",
    "        self.name = name\n",
    "        self.color = color\n",
    "    \n",
    "    #Cat 클래스의 정보를 출력하는 info메소드\n",
    "    def info(self): \n",
    "        print('고양이 이름은 :', self.name, '색깔은', self.color)\n",
    "\n",
    "cat1 = Cat(\"네로\", \"똥색\")    #cat1인스턴스 생성\n",
    "cat2 = Cat(\"미로\", \"갈색\")    #cat2인스턴스 생성\n",
    "\n",
    "cat1.info()\n",
    "cat2.info()\n"
   ]
  },
  {
   "cell_type": "code",
   "execution_count": null,
   "metadata": {},
   "outputs": [],
   "source": []
  }
 ],
 "metadata": {
  "interpreter": {
   "hash": "fa422f78b08b4ed23ea77d9d51ba71e035ebabb7673f323e99ba8b680a1634b6"
  },
  "kernelspec": {
   "display_name": "Python 3.8.8 64-bit ('base': conda)",
   "name": "python3"
  },
  "language_info": {
   "codemirror_mode": {
    "name": "ipython",
    "version": 3
   },
   "file_extension": ".py",
   "mimetype": "text/x-python",
   "name": "python",
   "nbconvert_exporter": "python",
   "pygments_lexer": "ipython3",
   "version": "3.8.8"
  },
  "orig_nbformat": 4
 },
 "nbformat": 4,
 "nbformat_minor": 2
}
