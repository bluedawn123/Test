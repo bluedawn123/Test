{
 "cells": [
  {
   "cell_type": "code",
   "execution_count": 2,
   "metadata": {},
   "outputs": [
    {
     "name": "stdout",
     "output_type": "stream",
     "text": [
      "x 의 값은 50\n",
      "지역변수 x의 값은 2\n",
      "그렇다면 x의 값은? :  여전히 50\n"
     ]
    }
   ],
   "source": [
    "x = 50\n",
    "def func(x):\n",
    "    print('x 의 값은', x)\n",
    "    x = 2\n",
    "    print('지역변수 x의 값은', x)\n",
    "\n",
    "func(x)\n",
    "print(\"그렇다면 x의 값은? :  여전히\", x)"
   ]
  },
  {
   "cell_type": "code",
   "execution_count": 4,
   "metadata": {},
   "outputs": [
    {
     "name": "stdout",
     "output_type": "stream",
     "text": [
      "x 의 값은 50\n",
      "변경된 전역변수 x의 값은 2\n",
      "그렇다면 x의 값은? :  여전히 2\n"
     ]
    }
   ],
   "source": [
    "#전역변수 : 소스코드 전체에서 사용가능 한 변수\n",
    "#지역변수 : 특정한 함수 안에서만\n",
    "\n",
    "x = 50\n",
    "def func():\n",
    "    global x                #위에서 만든 변수를 쓰겠다.\n",
    "    print('x 의 값은', x)\n",
    "    x = 2\n",
    "    print('변경된 전역변수 x의 값은', x)\n",
    "\n",
    "func()\n",
    "print(\"그렇다면 x의 값은? :  여전히\", x)      #2인 이유는 변경돼서"
   ]
  },
  {
   "cell_type": "code",
   "execution_count": 17,
   "metadata": {},
   "outputs": [
    {
     "name": "stdout",
     "output_type": "stream",
     "text": [
      "7\n",
      "2\n",
      "----------\n",
      "a : 7\n"
     ]
    }
   ],
   "source": [
    "def add(a):\n",
    "    a = a + 5\n",
    "    print(a)\n",
    "\n",
    "a = 2          #전역변수\n",
    "add(2)         #지역변수\n",
    "print(a)       #그대로 2인 전역변수 출력\n",
    "print(\"----------\")\n",
    "\n",
    "def add2():\n",
    "    global a   #전역변수 a를 \n",
    "    a  = a + 5\n",
    "\n",
    "add2()\n",
    "print(\"a :\",a)\n"
   ]
  },
  {
   "cell_type": "code",
   "execution_count": null,
   "metadata": {},
   "outputs": [],
   "source": []
  }
 ],
 "metadata": {
  "interpreter": {
   "hash": "fa422f78b08b4ed23ea77d9d51ba71e035ebabb7673f323e99ba8b680a1634b6"
  },
  "kernelspec": {
   "display_name": "Python 3.8.8 64-bit ('base': conda)",
   "name": "python3"
  },
  "language_info": {
   "codemirror_mode": {
    "name": "ipython",
    "version": 3
   },
   "file_extension": ".py",
   "mimetype": "text/x-python",
   "name": "python",
   "nbconvert_exporter": "python",
   "pygments_lexer": "ipython3",
   "version": "3.8.8"
  },
  "orig_nbformat": 4
 },
 "nbformat": 4,
 "nbformat_minor": 2
}
