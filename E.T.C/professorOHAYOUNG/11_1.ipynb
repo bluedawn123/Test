{
 "cells": [
  {
   "cell_type": "code",
   "execution_count": 14,
   "source": [
    "class Vehicle:\r\n",
    "    def __init__(self, make, model, color, price):\r\n",
    "        self.make = make\r\n",
    "        self.model = model\r\n",
    "        self.color = color\r\n",
    "        self.price =price\r\n",
    "\r\n",
    "    def setMake(self, make):\r\n",
    "        self.make = make\r\n",
    "    \r\n",
    "    def getMake(self):\r\n",
    "        return self.make\r\n",
    "    \r\n",
    "    def getDesc(self):\r\n",
    "        return \"챠량=(\" +str(self.make)+ \",\"+\\\r\n",
    "                str(self.model)+\",\"+\\\r\n",
    "                str(self.color)+\",\"+\\\r\n",
    "                str(self.price)+\")\"\r\n",
    "a = Vehicle(\"현대\", \"hv2\", \"빨강\", 2700)\r\n",
    "a.getDesc()  #'챠량=(현대,hv2,빨강,2700)'\r\n",
    "\r\n",
    "class Truck(Vehicle):\r\n",
    "    def __init__(self, make, model, color, price, payload):\r\n",
    "        super().__init__(make, model, color, price)\r\n",
    "        self.payload = payload\r\n",
    "    \r\n",
    "    def setPayload(self, payload):\r\n",
    "        self.payload = payload\r\n",
    "\r\n",
    "    def getPayload(self):\r\n",
    "        return self.payload\r\n",
    "\r\n"
   ],
   "outputs": [
    {
     "output_type": "execute_result",
     "data": {
      "text/plain": [
       "'챠량=(현대,hv2,빨강,2700)'"
      ]
     },
     "metadata": {},
     "execution_count": 14
    }
   ],
   "metadata": {}
  },
  {
   "cell_type": "code",
   "execution_count": null,
   "source": [],
   "outputs": [],
   "metadata": {}
  }
 ],
 "metadata": {
  "orig_nbformat": 4,
  "language_info": {
   "name": "python",
   "version": "3.8.8",
   "mimetype": "text/x-python",
   "codemirror_mode": {
    "name": "ipython",
    "version": 3
   },
   "pygments_lexer": "ipython3",
   "nbconvert_exporter": "python",
   "file_extension": ".py"
  },
  "kernelspec": {
   "name": "python3",
   "display_name": "Python 3.8.8 64-bit ('base': conda)"
  },
  "interpreter": {
   "hash": "fa422f78b08b4ed23ea77d9d51ba71e035ebabb7673f323e99ba8b680a1634b6"
  }
 },
 "nbformat": 4,
 "nbformat_minor": 2
}