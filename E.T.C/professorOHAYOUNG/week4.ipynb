{
 "cells": [
  {
   "cell_type": "code",
   "execution_count": 18,
   "metadata": {},
   "outputs": [
    {
     "name": "stdout",
     "output_type": "stream",
     "text": [
      "제품 가격은 :  500\n",
      "1번 시행\n"
     ]
    },
    {
     "ename": "ValueError",
     "evalue": "invalid literal for int() with base 10: 'dd'",
     "output_type": "error",
     "traceback": [
      "\u001b[1;31m---------------------------------------------------------------------------\u001b[0m",
      "\u001b[1;31mValueError\u001b[0m                                Traceback (most recent call last)",
      "\u001b[1;32m<ipython-input-18-86bfe24f9072>\u001b[0m in \u001b[0;36m<module>\u001b[1;34m\u001b[0m\n\u001b[0;32m      7\u001b[0m \u001b[1;32mwhile\u001b[0m \u001b[1;36m4\u001b[0m\u001b[1;33m:\u001b[0m\u001b[1;33m\u001b[0m\u001b[1;33m\u001b[0m\u001b[0m\n\u001b[0;32m      8\u001b[0m     \u001b[0mcustGrade\u001b[0m \u001b[1;33m=\u001b[0m \u001b[0minput\u001b[0m\u001b[1;33m(\u001b[0m\u001b[1;34m\"등급을 입력하시오 : \"\u001b[0m\u001b[1;33m)\u001b[0m\u001b[1;33m\u001b[0m\u001b[1;33m\u001b[0m\u001b[0m\n\u001b[1;32m----> 9\u001b[1;33m     \u001b[0morgPrice\u001b[0m \u001b[1;33m=\u001b[0m \u001b[0mint\u001b[0m\u001b[1;33m(\u001b[0m\u001b[0minput\u001b[0m\u001b[1;33m(\u001b[0m\u001b[1;34m'제품의 가격을 입력하시오 : '\u001b[0m\u001b[1;33m)\u001b[0m\u001b[1;33m)\u001b[0m\u001b[1;33m\u001b[0m\u001b[1;33m\u001b[0m\u001b[0m\n\u001b[0m\u001b[0;32m     10\u001b[0m \u001b[1;33m\u001b[0m\u001b[0m\n\u001b[0;32m     11\u001b[0m     \u001b[1;32mif\u001b[0m \u001b[0mcustGrade\u001b[0m \u001b[1;33m==\u001b[0m \u001b[1;34m\"diamond\"\u001b[0m\u001b[1;33m:\u001b[0m\u001b[1;33m\u001b[0m\u001b[1;33m\u001b[0m\u001b[0m\n",
      "\u001b[1;31mValueError\u001b[0m: invalid literal for int() with base 10: 'dd'"
     ]
    }
   ],
   "source": [
    "#회원 등급이 diamond, gold로 구분 할인한다. 회원 등급과 가격을 입력 받아 할인된 가격을 출력하는 프로그램을 만드시오.\n",
    "#단, 사용자에게 계속 할것인지 물어보고 반복하는 기능을 넣는다.(yes or no 로 대답)\n",
    "\n",
    "repeat = 1\n",
    "q = 0\n",
    "\n",
    "while repeat:\n",
    "    custGrade = input(\"등급을 입력하시오 : \")\n",
    "    orgPrice = int(input('제품의 가격을 입력하시오 : '))\n",
    "\n",
    "    if custGrade == \"diamond\":\n",
    "        discRate = 0.4\n",
    "    \n",
    "    elif custGrade == \"gold\":\n",
    "        discRate = 0.3\n",
    "    \n",
    "    else:\n",
    "        discRate = 0\n",
    "\n",
    "    price = orgPrice - (orgPrice * discRate)\n",
    "    print('제품 가격은 : ', price)\n",
    "    q += 1\n",
    "    print(\"{}번 시행\".format(q))\n",
    "\n",
    "    while repeat:\n",
    "        repeatCheck = input(\"계속 하시겠습니까? yes or no 로 대답하시오 : \")\n",
    "        if repeatCheck == \"yes\":\n",
    "            break\n",
    "\n",
    "        elif repeatCheck == \"no\":\n",
    "            repeat = 0\n",
    "            break    \n",
    "        \n",
    "        else:\n",
    "            continue\n"
   ]
  },
  {
   "cell_type": "code",
   "execution_count": 19,
   "metadata": {},
   "outputs": [
    {
     "name": "stdout",
     "output_type": "stream",
     "text": [
      "10번째 반복문\n",
      "9번째 반복문\n",
      "8번째 반복문\n",
      "7번째 반복문\n",
      "6번째 반복문\n",
      "5번째 반복문\n",
      "4번째 반복문\n",
      "3번째 반복문\n",
      "2번째 반복문\n",
      "1번째 반복문\n"
     ]
    }
   ],
   "source": [
    "#while 실행횟수\n",
    "i = 10\n",
    "while i:\n",
    "    print(\"{}번째 반복문\".format(i))\n",
    "    i -= 1"
   ]
  },
  {
   "cell_type": "code",
   "execution_count": 4,
   "metadata": {},
   "outputs": [
    {
     "name": "stdout",
     "output_type": "stream",
     "text": [
      "번호\t성적\n",
      "-------------------\n",
      "1\t39\n",
      "2\t7\n",
      "3\t16\n",
      "4\t84\n",
      "5\t96\n",
      "6\t47\n",
      "7\t75\n",
      "8\t92\n",
      "9\t16\n",
      "10\t15\n",
      "11\t65\n",
      "12\t95\n",
      "13\t67\n",
      "14\t44\n",
      "15\t4\n",
      "===============\n",
      "총점\t762\n",
      "평균\t50.80\n"
     ]
    }
   ],
   "source": [
    "#반복문응용\n",
    "#15명의 학생의 점수의 총점과 평균을 구하려나. 단 개별 학생들의 성적은 난수 생성기로 100이하의 정수로 정정\n",
    "\n",
    "from random import randint\n",
    "\n",
    "score = 0\n",
    "totScore = 0\n",
    "average = 0\n",
    "numStu = 15\n",
    "\n",
    "print(\"번호\\t성적\")\n",
    "print(\"-------------------\")\n",
    "\n",
    "for number in range(1, numStu + 1):         #학생 numStu만큼 반복\n",
    "    score = randint(1, 100)                 #=> 1~100사이의 점수\n",
    "    totScore = score + totScore             #총점구하기\n",
    "\n",
    "    print(\"{}\\t{}\".format(number, score))   #학생번호와 취득점수\n",
    "\n",
    "print(\"===============\")\n",
    "print(\"총점\\t{}\".format(totScore))\n",
    "print(\"평균\\t{:.2f}\".format(totScore/numStu))"
   ]
  },
  {
   "cell_type": "code",
   "execution_count": 8,
   "metadata": {},
   "outputs": [
    {
     "name": "stdout",
     "output_type": "stream",
     "text": [
      "81\n"
     ]
    }
   ],
   "source": [
    "from random import randint\n",
    "\n",
    "score = randint(1, 100)\n",
    "\n",
    "print(score)"
   ]
  },
  {
   "cell_type": "code",
   "execution_count": null,
   "metadata": {},
   "outputs": [],
   "source": [
    "\n",
    "\n"
   ]
  }
 ],
 "metadata": {
  "interpreter": {
   "hash": "fa422f78b08b4ed23ea77d9d51ba71e035ebabb7673f323e99ba8b680a1634b6"
  },
  "kernelspec": {
   "display_name": "Python 3.8.8 64-bit ('base': conda)",
   "name": "python3"
  },
  "language_info": {
   "codemirror_mode": {
    "name": "ipython",
    "version": 3
   },
   "file_extension": ".py",
   "mimetype": "text/x-python",
   "name": "python",
   "nbconvert_exporter": "python",
   "pygments_lexer": "ipython3",
   "version": "3.8.8"
  },
  "orig_nbformat": 4
 },
 "nbformat": 4,
 "nbformat_minor": 2
}
